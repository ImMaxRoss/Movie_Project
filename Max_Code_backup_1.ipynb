{
 "cells": [
  {
   "cell_type": "markdown",
   "metadata": {},
   "source": [
    "# 1. Loading im.db as pd.df"
   ]
  },
  {
   "cell_type": "code",
   "execution_count": 1,
   "metadata": {},
   "outputs": [],
   "source": [
    "import pandas as pd\n",
    "import sqlite3"
   ]
  },
  {
   "cell_type": "code",
   "execution_count": 2,
   "metadata": {},
   "outputs": [],
   "source": [
    "conn = sqlite3.connect('data/im.db')\n",
    "cursor = conn.cursor()"
   ]
  },
  {
   "cell_type": "code",
   "execution_count": 3,
   "metadata": {},
   "outputs": [],
   "source": [
    "movie_basics_imdb = pd.read_sql('''\n",
    "SELECT *\n",
    "FROM movie_basics\n",
    "''', conn)\n",
    "\n",
    "movie_akas_imdb = pd.read_sql('''\n",
    "SELECT *\n",
    "FROM movie_akas\n",
    "''', conn)\n",
    "\n",
    "movie_rat_imdb = pd.read_sql('''\n",
    "SELECT *\n",
    "FROM movie_ratings\n",
    "''', conn)\n",
    "\n",
    "principals_imdb = pd.read_sql('''\n",
    "SELECT *\n",
    "FROM principals\n",
    "''', conn)\n",
    "\n",
    "known_4_imdb = pd.read_sql('''\n",
    "SELECT *\n",
    "FROM known_for\n",
    "''', conn)\n",
    "\n",
    "directors_imdb = pd.read_sql('''\n",
    "SELECT *\n",
    "FROM directors\n",
    "''', conn)\n",
    "\n",
    "writers_imdb = pd.read_sql('''\n",
    "SELECT *\n",
    "FROM writers\n",
    "''', conn)\n",
    "\n",
    "persons_imdb = pd.read_sql('''\n",
    "SELECT *\n",
    "FROM persons\n",
    "''', conn)"
   ]
  },
  {
   "cell_type": "markdown",
   "metadata": {},
   "source": [
    "# 2. Name of df Variables:\n",
    "\n",
    "### imdb Variables (each variable is an individual table):\n",
    "- persons_imdb\n",
    "- principals_imdb\n",
    "- known_4_imdb\n",
    "- directors_imdb\n",
    "- writers_imdb\n",
    "- movie_basics_imdb\n",
    "- movie_rat_imdb\n",
    "- movie_akas_imdb"
   ]
  },
  {
   "cell_type": "markdown",
   "metadata": {},
   "source": [
    "# 3. Exploring IMDB df's:"
   ]
  },
  {
   "cell_type": "markdown",
   "metadata": {},
   "source": [
    "### 3a. Exploring: movie_akas_imdb"
   ]
  },
  {
   "cell_type": "code",
   "execution_count": 4,
   "metadata": {
    "scrolled": true
   },
   "outputs": [],
   "source": [
    "#movie_akas_imdb.info()"
   ]
  },
  {
   "cell_type": "code",
   "execution_count": 5,
   "metadata": {
    "scrolled": true
   },
   "outputs": [],
   "source": [
    "#movie_akas_imdb['ordering'].value_counts().tail(20)"
   ]
  },
  {
   "cell_type": "code",
   "execution_count": 6,
   "metadata": {
    "scrolled": false
   },
   "outputs": [],
   "source": [
    "#movie_akas_imdb[\"movie_id\"].value_counts()"
   ]
  },
  {
   "cell_type": "markdown",
   "metadata": {},
   "source": [
    "#### ordering = 1 has the same length as indivitual movie_id's be the same length as unique movie_id"
   ]
  },
  {
   "cell_type": "code",
   "execution_count": 7,
   "metadata": {
    "scrolled": false
   },
   "outputs": [],
   "source": [
    "#movie_akas_imdb['region'].value_counts()"
   ]
  },
  {
   "cell_type": "code",
   "execution_count": 8,
   "metadata": {
    "scrolled": true
   },
   "outputs": [
    {
     "data": {
      "text/plain": [
       "(47433, 8)"
      ]
     },
     "execution_count": 8,
     "metadata": {},
     "output_type": "execute_result"
    }
   ],
   "source": [
    "m_akas_us = pd.read_sql('''\n",
    "SELECT *\n",
    "FROM movie_akas\n",
    "WHERE region = 'US' \n",
    "GROUP BY movie_id\n",
    "''', conn)\n",
    "m_akas_us.shape"
   ]
  },
  {
   "cell_type": "code",
   "execution_count": 9,
   "metadata": {
    "scrolled": true
   },
   "outputs": [],
   "source": [
    "#m_akas_us['movie_id'].value_counts()"
   ]
  },
  {
   "cell_type": "code",
   "execution_count": 10,
   "metadata": {},
   "outputs": [
    {
     "data": {
      "text/plain": [
       "47433"
      ]
     },
     "execution_count": 10,
     "metadata": {},
     "output_type": "execute_result"
    }
   ],
   "source": [
    "len(m_akas_us['movie_id'].unique())"
   ]
  },
  {
   "cell_type": "code",
   "execution_count": 11,
   "metadata": {
    "scrolled": true
   },
   "outputs": [],
   "source": [
    "#m_akas_us.loc[m_akas_us['movie_id'] == 'tt2488496']"
   ]
  },
  {
   "cell_type": "markdown",
   "metadata": {},
   "source": [
    "### 3b. Exploring: movie_akas_imdb"
   ]
  },
  {
   "cell_type": "code",
   "execution_count": 12,
   "metadata": {
    "scrolled": true
   },
   "outputs": [],
   "source": [
    "#movie_basics_imdb.info()"
   ]
  },
  {
   "cell_type": "code",
   "execution_count": 13,
   "metadata": {
    "scrolled": false
   },
   "outputs": [],
   "source": [
    "#movie_basics_imdb['movie_id'].value_counts()"
   ]
  },
  {
   "cell_type": "code",
   "execution_count": 14,
   "metadata": {
    "scrolled": true
   },
   "outputs": [],
   "source": [
    "m_basics = pd.read_sql('''\n",
    "SELECT *\n",
    "FROM movie_basics\n",
    "WHERE length(movie_id) = 9\n",
    "''', conn)\n",
    "#m_basics"
   ]
  },
  {
   "cell_type": "code",
   "execution_count": 15,
   "metadata": {
    "scrolled": true
   },
   "outputs": [],
   "source": [
    "akas_basics_merge = m_akas_us.merge(m_basics, on='movie_id',\n",
    "                                        how='inner')\n",
    "#akas_basics_merge.info()"
   ]
  },
  {
   "cell_type": "markdown",
   "metadata": {},
   "source": [
    "### 3c. Explored: movie_rat_imdb"
   ]
  },
  {
   "cell_type": "code",
   "execution_count": 16,
   "metadata": {
    "scrolled": true
   },
   "outputs": [],
   "source": [
    "#movie_rat_imdb.info()"
   ]
  },
  {
   "cell_type": "markdown",
   "metadata": {},
   "source": [
    " # 3d. Combining IMDB database"
   ]
  },
  {
   "cell_type": "code",
   "execution_count": 34,
   "metadata": {
    "scrolled": false
   },
   "outputs": [],
   "source": [
    "imdb_merged = akas_basics_merge.merge(movie_rat_imdb, on='movie_id',\n",
    "                                       how='left')\n",
    "#imdb_merged"
   ]
  },
  {
   "cell_type": "code",
   "execution_count": 35,
   "metadata": {
    "scrolled": true
   },
   "outputs": [],
   "source": [
    "#imdb_merged.info()"
   ]
  },
  {
   "cell_type": "code",
   "execution_count": 36,
   "metadata": {
    "scrolled": true
   },
   "outputs": [],
   "source": [
    "imdb_merged.drop(['language', 'attributes', 'types'], axis=1, inplace=True)"
   ]
  },
  {
   "cell_type": "code",
   "execution_count": 20,
   "metadata": {
    "scrolled": true
   },
   "outputs": [],
   "source": [
    "#imdb_merged.info()"
   ]
  },
  {
   "cell_type": "markdown",
   "metadata": {},
   "source": [
    "# 4. Loading tn.movie_budgets as pd.df"
   ]
  },
  {
   "cell_type": "code",
   "execution_count": 21,
   "metadata": {},
   "outputs": [],
   "source": [
    "tn_budgets = pd.read_csv('data/tn.movie_budgets.csv.gz')"
   ]
  },
  {
   "cell_type": "code",
   "execution_count": 22,
   "metadata": {},
   "outputs": [
    {
     "data": {
      "text/plain": [
       "\"\\nSELECT customerName, state, country\\nFROM \\nWHERE country != 'USA' AND customerName LIKE '%collect%'\\n\""
      ]
     },
     "execution_count": 22,
     "metadata": {},
     "output_type": "execute_result"
    }
   ],
   "source": [
    "#going to need this after I get movie id list onto budget list\n",
    "\"\"\"\n",
    "SELECT customerName, state, country\n",
    "FROM \n",
    "WHERE country != 'USA' AND customerName LIKE '%collect%'\n",
    "\"\"\""
   ]
  },
  {
   "cell_type": "markdown",
   "metadata": {},
   "source": [
    "# 6. Exploring tn_budgets"
   ]
  },
  {
   "cell_type": "code",
   "execution_count": 23,
   "metadata": {},
   "outputs": [],
   "source": [
    "tn_budgets.drop_duplicates(subset = ['movie'], inplace=True)"
   ]
  },
  {
   "cell_type": "code",
   "execution_count": 24,
   "metadata": {},
   "outputs": [],
   "source": [
    "tn_budgets.rename(columns = {'movie':'primary_title'}, inplace=True)"
   ]
  },
  {
   "cell_type": "code",
   "execution_count": 25,
   "metadata": {},
   "outputs": [
    {
     "data": {
      "text/plain": [
       "Wes Craven Presents: They    1\n",
       "Pulse                        1\n",
       "Tombstone                    1\n",
       "Braveheart                   1\n",
       "Cold Pursuit                 1\n",
       "                            ..\n",
       "Skin Trade                   1\n",
       "Just Like Heaven             1\n",
       "My Baby's Daddy              1\n",
       "Bad Company                  1\n",
       "Slacker                      1\n",
       "Name: primary_title, Length: 5698, dtype: int64"
      ]
     },
     "execution_count": 25,
     "metadata": {},
     "output_type": "execute_result"
    }
   ],
   "source": [
    "tn_budgets['primary_title'].value_counts()"
   ]
  },
  {
   "cell_type": "markdown",
   "metadata": {},
   "source": [
    "# 7: MERGE Merging Budgets to IMDB"
   ]
  },
  {
   "cell_type": "markdown",
   "metadata": {},
   "source": [
    "#### follow link: https://www.geeksforgeeks.org/how-to-convert-pandas-dataframe-into-sql-in-python/"
   ]
  },
  {
   "cell_type": "code",
   "execution_count": 26,
   "metadata": {},
   "outputs": [],
   "source": [
    "imdb_df_copy = imdb_merged.copy()"
   ]
  },
  {
   "cell_type": "code",
   "execution_count": 27,
   "metadata": {
    "scrolled": true
   },
   "outputs": [
    {
     "name": "stdout",
     "output_type": "stream",
     "text": [
      "<class 'pandas.core.frame.DataFrame'>\n",
      "Int64Index: 47378 entries, 0 to 47377\n",
      "Data columns (total 12 columns):\n",
      " #   Column             Non-Null Count  Dtype  \n",
      "---  ------             --------------  -----  \n",
      " 0   movie_id           47378 non-null  object \n",
      " 1   ordering           47378 non-null  int64  \n",
      " 2   title              47378 non-null  object \n",
      " 3   region             47378 non-null  object \n",
      " 4   is_original_title  47373 non-null  float64\n",
      " 5   primary_title      47378 non-null  object \n",
      " 6   original_title     47377 non-null  object \n",
      " 7   start_year         47378 non-null  int64  \n",
      " 8   runtime_minutes    39642 non-null  float64\n",
      " 9   genres             46788 non-null  object \n",
      " 10  averagerating      26637 non-null  float64\n",
      " 11  numvotes           26637 non-null  float64\n",
      "dtypes: float64(4), int64(2), object(6)\n",
      "memory usage: 4.7+ MB\n"
     ]
    }
   ],
   "source": [
    "imdb_df_copy.info()"
   ]
  },
  {
   "cell_type": "code",
   "execution_count": 28,
   "metadata": {},
   "outputs": [],
   "source": [
    "#imdb_db = pd.merge_ordered(imdb_df_copy, tn_budgets, on='primary_title')\n",
    "#imdb_db.drop_duplicates(subset='primary_title', inplace=True)"
   ]
  },
  {
   "cell_type": "code",
   "execution_count": 29,
   "metadata": {},
   "outputs": [],
   "source": [
    "imdb_db = imdb_df_copy.merge(tn_budgets, how='inner', on='primary_title')"
   ]
  },
  {
   "cell_type": "code",
   "execution_count": 30,
   "metadata": {},
   "outputs": [
    {
     "data": {
      "text/html": [
       "<div>\n",
       "<style scoped>\n",
       "    .dataframe tbody tr th:only-of-type {\n",
       "        vertical-align: middle;\n",
       "    }\n",
       "\n",
       "    .dataframe tbody tr th {\n",
       "        vertical-align: top;\n",
       "    }\n",
       "\n",
       "    .dataframe thead th {\n",
       "        text-align: right;\n",
       "    }\n",
       "</style>\n",
       "<table border=\"1\" class=\"dataframe\">\n",
       "  <thead>\n",
       "    <tr style=\"text-align: right;\">\n",
       "      <th></th>\n",
       "      <th>movie_id</th>\n",
       "      <th>ordering</th>\n",
       "      <th>title</th>\n",
       "      <th>region</th>\n",
       "      <th>is_original_title</th>\n",
       "      <th>primary_title</th>\n",
       "      <th>original_title</th>\n",
       "      <th>start_year</th>\n",
       "      <th>runtime_minutes</th>\n",
       "      <th>genres</th>\n",
       "      <th>averagerating</th>\n",
       "      <th>numvotes</th>\n",
       "      <th>id</th>\n",
       "      <th>release_date</th>\n",
       "      <th>production_budget</th>\n",
       "      <th>domestic_gross</th>\n",
       "      <th>worldwide_gross</th>\n",
       "    </tr>\n",
       "  </thead>\n",
       "  <tbody>\n",
       "    <tr>\n",
       "      <th>0</th>\n",
       "      <td>tt0249516</td>\n",
       "      <td>2</td>\n",
       "      <td>Foodfight!</td>\n",
       "      <td>US</td>\n",
       "      <td>0.0</td>\n",
       "      <td>Foodfight!</td>\n",
       "      <td>Foodfight!</td>\n",
       "      <td>2012</td>\n",
       "      <td>91.0</td>\n",
       "      <td>Action,Animation,Comedy</td>\n",
       "      <td>1.9</td>\n",
       "      <td>8248.0</td>\n",
       "      <td>26</td>\n",
       "      <td>Dec 31, 2012</td>\n",
       "      <td>$45,000,000</td>\n",
       "      <td>$0</td>\n",
       "      <td>$73,706</td>\n",
       "    </tr>\n",
       "    <tr>\n",
       "      <th>1</th>\n",
       "      <td>tt0293429</td>\n",
       "      <td>5</td>\n",
       "      <td>Mortal Kombat: Devastation</td>\n",
       "      <td>US</td>\n",
       "      <td>0.0</td>\n",
       "      <td>Mortal Kombat</td>\n",
       "      <td>Mortal Kombat</td>\n",
       "      <td>2021</td>\n",
       "      <td>NaN</td>\n",
       "      <td>Action,Adventure,Fantasy</td>\n",
       "      <td>NaN</td>\n",
       "      <td>NaN</td>\n",
       "      <td>10</td>\n",
       "      <td>Aug 18, 1995</td>\n",
       "      <td>$20,000,000</td>\n",
       "      <td>$70,433,227</td>\n",
       "      <td>$122,133,227</td>\n",
       "    </tr>\n",
       "    <tr>\n",
       "      <th>2</th>\n",
       "      <td>tt0326592</td>\n",
       "      <td>1</td>\n",
       "      <td>A Bellman, a Hooker, and a Rabbi...</td>\n",
       "      <td>US</td>\n",
       "      <td>0.0</td>\n",
       "      <td>The Overnight</td>\n",
       "      <td>The Overnight</td>\n",
       "      <td>2010</td>\n",
       "      <td>88.0</td>\n",
       "      <td>None</td>\n",
       "      <td>7.5</td>\n",
       "      <td>24.0</td>\n",
       "      <td>21</td>\n",
       "      <td>Jun 19, 2015</td>\n",
       "      <td>$200,000</td>\n",
       "      <td>$1,109,808</td>\n",
       "      <td>$1,165,996</td>\n",
       "    </tr>\n",
       "    <tr>\n",
       "      <th>3</th>\n",
       "      <td>tt3844362</td>\n",
       "      <td>6</td>\n",
       "      <td>The Overnight</td>\n",
       "      <td>US</td>\n",
       "      <td>0.0</td>\n",
       "      <td>The Overnight</td>\n",
       "      <td>The Overnight</td>\n",
       "      <td>2015</td>\n",
       "      <td>79.0</td>\n",
       "      <td>Comedy,Mystery</td>\n",
       "      <td>6.1</td>\n",
       "      <td>14828.0</td>\n",
       "      <td>21</td>\n",
       "      <td>Jun 19, 2015</td>\n",
       "      <td>$200,000</td>\n",
       "      <td>$1,109,808</td>\n",
       "      <td>$1,165,996</td>\n",
       "    </tr>\n",
       "    <tr>\n",
       "      <th>4</th>\n",
       "      <td>tt0359950</td>\n",
       "      <td>25</td>\n",
       "      <td>The Secret Life of Walter Mitty</td>\n",
       "      <td>US</td>\n",
       "      <td>0.0</td>\n",
       "      <td>The Secret Life of Walter Mitty</td>\n",
       "      <td>The Secret Life of Walter Mitty</td>\n",
       "      <td>2013</td>\n",
       "      <td>114.0</td>\n",
       "      <td>Adventure,Comedy,Drama</td>\n",
       "      <td>7.3</td>\n",
       "      <td>275300.0</td>\n",
       "      <td>37</td>\n",
       "      <td>Dec 25, 2013</td>\n",
       "      <td>$91,000,000</td>\n",
       "      <td>$58,236,838</td>\n",
       "      <td>$187,861,183</td>\n",
       "    </tr>\n",
       "    <tr>\n",
       "      <th>...</th>\n",
       "      <td>...</td>\n",
       "      <td>...</td>\n",
       "      <td>...</td>\n",
       "      <td>...</td>\n",
       "      <td>...</td>\n",
       "      <td>...</td>\n",
       "      <td>...</td>\n",
       "      <td>...</td>\n",
       "      <td>...</td>\n",
       "      <td>...</td>\n",
       "      <td>...</td>\n",
       "      <td>...</td>\n",
       "      <td>...</td>\n",
       "      <td>...</td>\n",
       "      <td>...</td>\n",
       "      <td>...</td>\n",
       "      <td>...</td>\n",
       "    </tr>\n",
       "    <tr>\n",
       "      <th>2138</th>\n",
       "      <td>tt8575408</td>\n",
       "      <td>4</td>\n",
       "      <td>Hide and Seek</td>\n",
       "      <td>US</td>\n",
       "      <td>0.0</td>\n",
       "      <td>Hide and Seek</td>\n",
       "      <td>Amur senza fin</td>\n",
       "      <td>2018</td>\n",
       "      <td>91.0</td>\n",
       "      <td>Comedy</td>\n",
       "      <td>6.6</td>\n",
       "      <td>31.0</td>\n",
       "      <td>96</td>\n",
       "      <td>Jan 28, 2005</td>\n",
       "      <td>$25,000,000</td>\n",
       "      <td>$51,100,486</td>\n",
       "      <td>$123,696,741</td>\n",
       "    </tr>\n",
       "    <tr>\n",
       "      <th>2139</th>\n",
       "      <td>tt8632862</td>\n",
       "      <td>6</td>\n",
       "      <td>Fahrenheit 11/9</td>\n",
       "      <td>US</td>\n",
       "      <td>0.0</td>\n",
       "      <td>Fahrenheit 11/9</td>\n",
       "      <td>Fahrenheit 11/9</td>\n",
       "      <td>2018</td>\n",
       "      <td>128.0</td>\n",
       "      <td>Documentary</td>\n",
       "      <td>6.7</td>\n",
       "      <td>11628.0</td>\n",
       "      <td>29</td>\n",
       "      <td>Sep 21, 2018</td>\n",
       "      <td>$5,000,000</td>\n",
       "      <td>$6,352,306</td>\n",
       "      <td>$6,653,715</td>\n",
       "    </tr>\n",
       "    <tr>\n",
       "      <th>2140</th>\n",
       "      <td>tt8663516</td>\n",
       "      <td>8</td>\n",
       "      <td>Child's Play</td>\n",
       "      <td>US</td>\n",
       "      <td>0.0</td>\n",
       "      <td>Child's Play</td>\n",
       "      <td>Child's Play</td>\n",
       "      <td>2019</td>\n",
       "      <td>120.0</td>\n",
       "      <td>Horror</td>\n",
       "      <td>NaN</td>\n",
       "      <td>NaN</td>\n",
       "      <td>77</td>\n",
       "      <td>Nov 9, 1988</td>\n",
       "      <td>$9,000,000</td>\n",
       "      <td>$33,244,684</td>\n",
       "      <td>$44,196,684</td>\n",
       "    </tr>\n",
       "    <tr>\n",
       "      <th>2141</th>\n",
       "      <td>tt9024106</td>\n",
       "      <td>3</td>\n",
       "      <td>Unplanned</td>\n",
       "      <td>US</td>\n",
       "      <td>0.0</td>\n",
       "      <td>Unplanned</td>\n",
       "      <td>Unplanned</td>\n",
       "      <td>2019</td>\n",
       "      <td>106.0</td>\n",
       "      <td>Biography,Drama</td>\n",
       "      <td>6.3</td>\n",
       "      <td>5945.0</td>\n",
       "      <td>33</td>\n",
       "      <td>Mar 29, 2019</td>\n",
       "      <td>$6,000,000</td>\n",
       "      <td>$18,107,621</td>\n",
       "      <td>$18,107,621</td>\n",
       "    </tr>\n",
       "    <tr>\n",
       "      <th>2142</th>\n",
       "      <td>tt9411866</td>\n",
       "      <td>1</td>\n",
       "      <td>Untitled Sally Potter Project</td>\n",
       "      <td>US</td>\n",
       "      <td>0.0</td>\n",
       "      <td>Molly</td>\n",
       "      <td>Molly</td>\n",
       "      <td>2020</td>\n",
       "      <td>NaN</td>\n",
       "      <td>Drama</td>\n",
       "      <td>NaN</td>\n",
       "      <td>NaN</td>\n",
       "      <td>81</td>\n",
       "      <td>Oct 22, 1999</td>\n",
       "      <td>$21,000,000</td>\n",
       "      <td>$17,396</td>\n",
       "      <td>$17,396</td>\n",
       "    </tr>\n",
       "  </tbody>\n",
       "</table>\n",
       "<p>2143 rows × 17 columns</p>\n",
       "</div>"
      ],
      "text/plain": [
       "       movie_id  ordering                                title region  \\\n",
       "0     tt0249516         2                           Foodfight!     US   \n",
       "1     tt0293429         5           Mortal Kombat: Devastation     US   \n",
       "2     tt0326592         1  A Bellman, a Hooker, and a Rabbi...     US   \n",
       "3     tt3844362         6                        The Overnight     US   \n",
       "4     tt0359950        25      The Secret Life of Walter Mitty     US   \n",
       "...         ...       ...                                  ...    ...   \n",
       "2138  tt8575408         4                        Hide and Seek     US   \n",
       "2139  tt8632862         6                      Fahrenheit 11/9     US   \n",
       "2140  tt8663516         8                         Child's Play     US   \n",
       "2141  tt9024106         3                            Unplanned     US   \n",
       "2142  tt9411866         1        Untitled Sally Potter Project     US   \n",
       "\n",
       "      is_original_title                    primary_title  \\\n",
       "0                   0.0                       Foodfight!   \n",
       "1                   0.0                    Mortal Kombat   \n",
       "2                   0.0                    The Overnight   \n",
       "3                   0.0                    The Overnight   \n",
       "4                   0.0  The Secret Life of Walter Mitty   \n",
       "...                 ...                              ...   \n",
       "2138                0.0                    Hide and Seek   \n",
       "2139                0.0                  Fahrenheit 11/9   \n",
       "2140                0.0                     Child's Play   \n",
       "2141                0.0                        Unplanned   \n",
       "2142                0.0                            Molly   \n",
       "\n",
       "                       original_title  start_year  runtime_minutes  \\\n",
       "0                          Foodfight!        2012             91.0   \n",
       "1                       Mortal Kombat        2021              NaN   \n",
       "2                       The Overnight        2010             88.0   \n",
       "3                       The Overnight        2015             79.0   \n",
       "4     The Secret Life of Walter Mitty        2013            114.0   \n",
       "...                               ...         ...              ...   \n",
       "2138                   Amur senza fin        2018             91.0   \n",
       "2139                  Fahrenheit 11/9        2018            128.0   \n",
       "2140                     Child's Play        2019            120.0   \n",
       "2141                        Unplanned        2019            106.0   \n",
       "2142                            Molly        2020              NaN   \n",
       "\n",
       "                        genres  averagerating  numvotes  id  release_date  \\\n",
       "0      Action,Animation,Comedy            1.9    8248.0  26  Dec 31, 2012   \n",
       "1     Action,Adventure,Fantasy            NaN       NaN  10  Aug 18, 1995   \n",
       "2                         None            7.5      24.0  21  Jun 19, 2015   \n",
       "3               Comedy,Mystery            6.1   14828.0  21  Jun 19, 2015   \n",
       "4       Adventure,Comedy,Drama            7.3  275300.0  37  Dec 25, 2013   \n",
       "...                        ...            ...       ...  ..           ...   \n",
       "2138                    Comedy            6.6      31.0  96  Jan 28, 2005   \n",
       "2139               Documentary            6.7   11628.0  29  Sep 21, 2018   \n",
       "2140                    Horror            NaN       NaN  77   Nov 9, 1988   \n",
       "2141           Biography,Drama            6.3    5945.0  33  Mar 29, 2019   \n",
       "2142                     Drama            NaN       NaN  81  Oct 22, 1999   \n",
       "\n",
       "     production_budget domestic_gross worldwide_gross  \n",
       "0          $45,000,000             $0         $73,706  \n",
       "1          $20,000,000    $70,433,227    $122,133,227  \n",
       "2             $200,000     $1,109,808      $1,165,996  \n",
       "3             $200,000     $1,109,808      $1,165,996  \n",
       "4          $91,000,000    $58,236,838    $187,861,183  \n",
       "...                ...            ...             ...  \n",
       "2138       $25,000,000    $51,100,486    $123,696,741  \n",
       "2139        $5,000,000     $6,352,306      $6,653,715  \n",
       "2140        $9,000,000    $33,244,684     $44,196,684  \n",
       "2141        $6,000,000    $18,107,621     $18,107,621  \n",
       "2142       $21,000,000        $17,396         $17,396  \n",
       "\n",
       "[2143 rows x 17 columns]"
      ]
     },
     "execution_count": 30,
     "metadata": {},
     "output_type": "execute_result"
    }
   ],
   "source": [
    "imdb_db"
   ]
  },
  {
   "cell_type": "markdown",
   "metadata": {},
   "source": [
    "# Sorted by Genre"
   ]
  },
  {
   "cell_type": "code",
   "execution_count": 31,
   "metadata": {},
   "outputs": [],
   "source": [
    "import pandas as pd\n",
    "import numpy as np\n",
    "\n",
    "import matplotlib.pyplot as plt\n",
    "# same as \n",
    "# from matplotlib import pyplot as plt\n",
    "\n",
    "import seaborn as sns\n",
    "\n",
    "from scipy import stats\n",
    "from sklearn.datasets import load_iris"
   ]
  },
  {
   "cell_type": "code",
   "execution_count": 32,
   "metadata": {},
   "outputs": [],
   "source": [
    "imdb_db['worldwide_gross'] = imdb_db['worldwide_gross'].str.replace('$','').str.replace(',','').astype(float)\n",
    "imdb_db['production_budget'] = imdb_db['production_budget'].str.replace('$','').str.replace(',','').astype(float)\n",
    "imdb_db['domestic_gross'] = imdb_db['domestic_gross'].str.replace('$','').str.replace(',','').astype(float)\n",
    "\n",
    "imdb_db['profit'] = imdb_db['worldwide_gross'] - imdb_db['production_budget']"
   ]
  },
  {
   "cell_type": "code",
   "execution_count": 33,
   "metadata": {},
   "outputs": [
    {
     "name": "stdout",
     "output_type": "stream",
     "text": [
      "<class 'pandas.core.frame.DataFrame'>\n",
      "Int64Index: 2143 entries, 0 to 2142\n",
      "Data columns (total 18 columns):\n",
      " #   Column             Non-Null Count  Dtype  \n",
      "---  ------             --------------  -----  \n",
      " 0   movie_id           2143 non-null   object \n",
      " 1   ordering           2143 non-null   int64  \n",
      " 2   title              2143 non-null   object \n",
      " 3   region             2143 non-null   object \n",
      " 4   is_original_title  2143 non-null   float64\n",
      " 5   primary_title      2143 non-null   object \n",
      " 6   original_title     2143 non-null   object \n",
      " 7   start_year         2143 non-null   int64  \n",
      " 8   runtime_minutes    1999 non-null   float64\n",
      " 9   genres             2136 non-null   object \n",
      " 10  averagerating      1857 non-null   float64\n",
      " 11  numvotes           1857 non-null   float64\n",
      " 12  id                 2143 non-null   int64  \n",
      " 13  release_date       2143 non-null   object \n",
      " 14  production_budget  2143 non-null   float64\n",
      " 15  domestic_gross     2143 non-null   float64\n",
      " 16  worldwide_gross    2143 non-null   float64\n",
      " 17  profit             2143 non-null   float64\n",
      "dtypes: float64(8), int64(3), object(7)\n",
      "memory usage: 318.1+ KB\n"
     ]
    }
   ],
   "source": [
    "imdb_db.info()"
   ]
  },
  {
   "cell_type": "code",
   "execution_count": 18,
   "metadata": {
    "scrolled": true
   },
   "outputs": [],
   "source": [
    "imdb_db['genres'].dropna(inplace=True)"
   ]
  },
  {
   "cell_type": "code",
   "execution_count": 19,
   "metadata": {},
   "outputs": [],
   "source": [
    "imdb_db['profit'].dropna(inplace=True)"
   ]
  },
  {
   "cell_type": "code",
   "execution_count": 20,
   "metadata": {},
   "outputs": [],
   "source": [
    "genre_profit = imdb_db.loc[:,['genres','profit']]"
   ]
  },
  {
   "cell_type": "code",
   "execution_count": 21,
   "metadata": {},
   "outputs": [],
   "source": [
    "genre_profit.dropna(axis = 0, inplace=True)"
   ]
  },
  {
   "cell_type": "code",
   "execution_count": 29,
   "metadata": {},
   "outputs": [],
   "source": [
    "gen_pro = genre_profit.sort_values('profit', ascending=False).head(30)"
   ]
  },
  {
   "cell_type": "code",
   "execution_count": 33,
   "metadata": {},
   "outputs": [],
   "source": [
    "#gen_pro"
   ]
  },
  {
   "cell_type": "code",
   "execution_count": 32,
   "metadata": {
    "scrolled": true
   },
   "outputs": [
    {
     "data": {
      "image/png": "[encoded data removed]",
      "text/plain": [
       "<Figure size 432x288 with 1 Axes>"
      ]
     },
     "metadata": {
      "needs_background": "light"
     },
     "output_type": "display_data"
    }
   ],
   "source": [
    "gen_pro.plot(kind = 'bar',\n",
    "        x = 'genres',\n",
    "        y = 'profit',\n",
    "        color = 'blue')\n",
    "  \n",
    "# set the title\n",
    "plt.title('Top Performing Genres')\n",
    "  \n",
    "# show the plot\n",
    "plt.show()"
   ]
  },
  {
   "cell_type": "markdown",
   "metadata": {},
   "source": [
    "# EXTRA CREDIT STUFF (ORDERING BY CAST)"
   ]
  },
  {
   "cell_type": "code",
   "execution_count": 51,
   "metadata": {
    "scrolled": true
   },
   "outputs": [],
   "source": [
    "#movie_akas_imdb.loc[movie_akas_imdb['ordering'] == 1]"
   ]
  },
  {
   "cell_type": "code",
   "execution_count": 10,
   "metadata": {},
   "outputs": [],
   "source": [
    "ordering_df = movie_akas_imdb.loc[movie_akas_imdb['ordering'] == 1]"
   ]
  },
  {
   "cell_type": "code",
   "execution_count": 52,
   "metadata": {
    "scrolled": true
   },
   "outputs": [],
   "source": [
    "#ordering_df.info()"
   ]
  },
  {
   "cell_type": "code",
   "execution_count": 53,
   "metadata": {
    "scrolled": false
   },
   "outputs": [],
   "source": [
    "#principals_imdb['category']"
   ]
  },
  {
   "cell_type": "code",
   "execution_count": null,
   "metadata": {},
   "outputs": [],
   "source": [
    "principals_imdb = pd.read_sql(''' SELECT * FROM principals ''', conn) principals_imdb.loc[principals_imdb['movie_id'] == 'tt0323808']"
   ]
  },
  {
   "cell_type": "code",
   "execution_count": null,
   "metadata": {},
   "outputs": [],
   "source": [
    "# Ordering = IMDB Top Cast order"
   ]
  },
  {
   "cell_type": "markdown",
   "metadata": {},
   "source": [
    "I figured it out! It's the order that the 'top cast' shows up on the IMDB page. \n",
    "\n",
    "I'm going to stash this for after I make a visualization for Genre. \n",
    "Going to see if the 'top cast' \n",
    "\n",
    "search google for id = 'tt0323808'\n",
    "\n",
    "https://www.imdb.com/title/tt0323808/fullcredits?ref_=tt_cl_sm\n",
    "    \n",
    "principals_imdb = pd.read_sql('''\n",
    "SELECT *\n",
    "FROM principals\n",
    "''', conn)\n",
    "principals_imdb.loc[principals_imdb['movie_id'] == 'tt0323808']"
   ]
  },
  {
   "cell_type": "code",
   "execution_count": 44,
   "metadata": {},
   "outputs": [
    {
     "data": {
      "text/html": [
       "<div>\n",
       "<style scoped>\n",
       "    .dataframe tbody tr th:only-of-type {\n",
       "        vertical-align: middle;\n",
       "    }\n",
       "\n",
       "    .dataframe tbody tr th {\n",
       "        vertical-align: top;\n",
       "    }\n",
       "\n",
       "    .dataframe thead th {\n",
       "        text-align: right;\n",
       "    }\n",
       "</style>\n",
       "<table border=\"1\" class=\"dataframe\">\n",
       "  <thead>\n",
       "    <tr style=\"text-align: right;\">\n",
       "      <th></th>\n",
       "      <th>movie_id</th>\n",
       "      <th>ordering</th>\n",
       "      <th>person_id</th>\n",
       "      <th>category</th>\n",
       "      <th>job</th>\n",
       "      <th>characters</th>\n",
       "      <th>sum(ordering)</th>\n",
       "    </tr>\n",
       "  </thead>\n",
       "  <tbody>\n",
       "    <tr>\n",
       "      <th>0</th>\n",
       "      <td>tt9916754</td>\n",
       "      <td>10</td>\n",
       "      <td>nm9275317</td>\n",
       "      <td>cinematographer</td>\n",
       "      <td>None</td>\n",
       "      <td>None</td>\n",
       "      <td>55</td>\n",
       "    </tr>\n",
       "    <tr>\n",
       "      <th>1</th>\n",
       "      <td>tt9916706</td>\n",
       "      <td>10</td>\n",
       "      <td>nm1432957</td>\n",
       "      <td>actor</td>\n",
       "      <td>None</td>\n",
       "      <td>None</td>\n",
       "      <td>55</td>\n",
       "    </tr>\n",
       "    <tr>\n",
       "      <th>2</th>\n",
       "      <td>tt9916622</td>\n",
       "      <td>10</td>\n",
       "      <td>nm9272492</td>\n",
       "      <td>cinematographer</td>\n",
       "      <td>None</td>\n",
       "      <td>None</td>\n",
       "      <td>55</td>\n",
       "    </tr>\n",
       "    <tr>\n",
       "      <th>3</th>\n",
       "      <td>tt9916538</td>\n",
       "      <td>10</td>\n",
       "      <td>nm4700236</td>\n",
       "      <td>composer</td>\n",
       "      <td>music director</td>\n",
       "      <td>None</td>\n",
       "      <td>55</td>\n",
       "    </tr>\n",
       "    <tr>\n",
       "      <th>4</th>\n",
       "      <td>tt9914828</td>\n",
       "      <td>10</td>\n",
       "      <td>nm10537598</td>\n",
       "      <td>writer</td>\n",
       "      <td>english adaptation</td>\n",
       "      <td>None</td>\n",
       "      <td>55</td>\n",
       "    </tr>\n",
       "    <tr>\n",
       "      <th>...</th>\n",
       "      <td>...</td>\n",
       "      <td>...</td>\n",
       "      <td>...</td>\n",
       "      <td>...</td>\n",
       "      <td>...</td>\n",
       "      <td>...</td>\n",
       "      <td>...</td>\n",
       "    </tr>\n",
       "    <tr>\n",
       "      <th>143449</th>\n",
       "      <td>tt10007268</td>\n",
       "      <td>1</td>\n",
       "      <td>nm10541649</td>\n",
       "      <td>director</td>\n",
       "      <td>None</td>\n",
       "      <td>None</td>\n",
       "      <td>1</td>\n",
       "    </tr>\n",
       "    <tr>\n",
       "      <th>143450</th>\n",
       "      <td>tt10006874</td>\n",
       "      <td>1</td>\n",
       "      <td>nm10211155</td>\n",
       "      <td>director</td>\n",
       "      <td>None</td>\n",
       "      <td>None</td>\n",
       "      <td>1</td>\n",
       "    </tr>\n",
       "    <tr>\n",
       "      <th>143451</th>\n",
       "      <td>tt10003990</td>\n",
       "      <td>1</td>\n",
       "      <td>nm9033305</td>\n",
       "      <td>director</td>\n",
       "      <td>None</td>\n",
       "      <td>None</td>\n",
       "      <td>1</td>\n",
       "    </tr>\n",
       "    <tr>\n",
       "      <th>143452</th>\n",
       "      <td>tt0187902</td>\n",
       "      <td>1</td>\n",
       "      <td>nm0156955</td>\n",
       "      <td>actor</td>\n",
       "      <td>None</td>\n",
       "      <td>[\"Wong Fei Hung\"]</td>\n",
       "      <td>1</td>\n",
       "    </tr>\n",
       "    <tr>\n",
       "      <th>143453</th>\n",
       "      <td>tt0170651</td>\n",
       "      <td>1</td>\n",
       "      <td>nm0161615</td>\n",
       "      <td>director</td>\n",
       "      <td>None</td>\n",
       "      <td>None</td>\n",
       "      <td>1</td>\n",
       "    </tr>\n",
       "  </tbody>\n",
       "</table>\n",
       "<p>143454 rows × 7 columns</p>\n",
       "</div>"
      ],
      "text/plain": [
       "          movie_id  ordering   person_id         category                 job  \\\n",
       "0        tt9916754        10   nm9275317  cinematographer                None   \n",
       "1        tt9916706        10   nm1432957            actor                None   \n",
       "2        tt9916622        10   nm9272492  cinematographer                None   \n",
       "3        tt9916538        10   nm4700236         composer      music director   \n",
       "4        tt9914828        10  nm10537598           writer  english adaptation   \n",
       "...            ...       ...         ...              ...                 ...   \n",
       "143449  tt10007268         1  nm10541649         director                None   \n",
       "143450  tt10006874         1  nm10211155         director                None   \n",
       "143451  tt10003990         1   nm9033305         director                None   \n",
       "143452   tt0187902         1   nm0156955            actor                None   \n",
       "143453   tt0170651         1   nm0161615         director                None   \n",
       "\n",
       "               characters  sum(ordering)  \n",
       "0                    None             55  \n",
       "1                    None             55  \n",
       "2                    None             55  \n",
       "3                    None             55  \n",
       "4                    None             55  \n",
       "...                   ...            ...  \n",
       "143449               None              1  \n",
       "143450               None              1  \n",
       "143451               None              1  \n",
       "143452  [\"Wong Fei Hung\"]              1  \n",
       "143453               None              1  \n",
       "\n",
       "[143454 rows x 7 columns]"
      ]
     },
     "execution_count": 44,
     "metadata": {},
     "output_type": "execute_result"
    }
   ],
   "source": [
    "imdb_order =pd.read_sql('''\n",
    "SELECT *, sum(ordering)\n",
    "FROM principals\n",
    "WHERE ordering <= \n",
    "GROUP BY movie_id\n",
    "ORDER BY sum(ordering) desc\n",
    "''', conn)\n",
    "imdb_order"
   ]
  },
  {
   "cell_type": "code",
   "execution_count": 54,
   "metadata": {
    "scrolled": true
   },
   "outputs": [],
   "source": [
    "#principals_imdb.loc[principals_imdb['ordering'] == 10]"
   ]
  },
  {
   "cell_type": "code",
   "execution_count": 55,
   "metadata": {},
   "outputs": [],
   "source": [
    "#principals_imdb.loc[principals_imdb['movie_id'] == 'tt0323808']"
   ]
  },
  {
   "cell_type": "code",
   "execution_count": 56,
   "metadata": {
    "scrolled": false
   },
   "outputs": [],
   "source": [
    "#principals_imdb['movie_id'].value_counts()"
   ]
  }
 ],
 "metadata": {
  "kernelspec": {
   "display_name": "Python (learn-env)",
   "language": "python",
   "name": "learn-env"
  },
  "language_info": {
   "codemirror_mode": {
    "name": "ipython",
    "version": 3
   },
   "file_extension": ".py",
   "mimetype": "text/x-python",
   "name": "python",
   "nbconvert_exporter": "python",
   "pygments_lexer": "ipython3",
   "version": "3.8.5"
  }
 },
 "nbformat": 4,
 "nbformat_minor": 4
}
