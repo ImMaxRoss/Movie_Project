{
 "cells": [
  {
   "cell_type": "markdown",
   "metadata": {},
   "source": [
    "# 1. Loading im.db as pd.df"
   ]
  },
  {
   "cell_type": "code",
   "execution_count": 1,
   "metadata": {},
   "outputs": [],
   "source": [
    "import pandas as pd\n",
    "import sqlite3"
   ]
  },
  {
   "cell_type": "code",
   "execution_count": 2,
   "metadata": {},
   "outputs": [],
   "source": [
    "conn = sqlite3.connect('data/im.db')\n",
    "cursor = conn.cursor()"
   ]
  },
  {
   "cell_type": "code",
   "execution_count": 7,
   "metadata": {},
   "outputs": [],
   "source": [
    "movie_basics_imdb = pd.read_sql('''\n",
    "SELECT *\n",
    "FROM movie_basics\n",
    "''', conn)\n",
    "\n",
    "movie_akas_imdb = pd.read_sql('''\n",
    "SELECT *\n",
    "FROM movie_akas\n",
    "''', conn)\n",
    "\n",
    "movie_rat_imdb = pd.read_sql('''\n",
    "SELECT *\n",
    "FROM movie_ratings\n",
    "''', conn)\n",
    "\n",
    "principals_imdb = pd.read_sql('''\n",
    "SELECT *\n",
    "FROM principals\n",
    "''', conn)\n",
    "\n",
    "known_4_imdb = pd.read_sql('''\n",
    "SELECT *\n",
    "FROM known_for\n",
    "''', conn)\n",
    "\n",
    "directors_imdb = pd.read_sql('''\n",
    "SELECT *\n",
    "FROM directors\n",
    "''', conn)\n",
    "\n",
    "writers_imdb = pd.read_sql('''\n",
    "SELECT *\n",
    "FROM writers\n",
    "''', conn)\n",
    "\n",
    "persons_imdb = pd.read_sql('''\n",
    "SELECT *\n",
    "FROM persons\n",
    "''', conn)"
   ]
  },
  {
   "cell_type": "markdown",
   "metadata": {},
   "source": [
    "# 2. Loading tn.movie_budgets as pd.df"
   ]
  },
  {
   "cell_type": "code",
   "execution_count": 8,
   "metadata": {},
   "outputs": [],
   "source": [
    "tn_budgets = pd.read_csv('data/tn.movie_budgets.csv.gz')"
   ]
  },
  {
   "cell_type": "markdown",
   "metadata": {},
   "source": [
    "# 3. Name of df Variables:\n",
    "\n",
    "### imdb Variables (each variable is an individual table):\n",
    "- persons_imdb\n",
    "- principals_imdb\n",
    "- known_4_imdb\n",
    "- directors_imdb\n",
    "- writers_imdb\n",
    "- movie_basics_imdb\n",
    "- movie_rat_imdb\n",
    "- movie_akas_imdb\n",
    "\n",
    "### tn.movie_budgets Variable:\n",
    "- tn_budgets"
   ]
  },
  {
   "cell_type": "markdown",
   "metadata": {},
   "source": [
    "# 4. .info() for all variables"
   ]
  },
  {
   "cell_type": "code",
   "execution_count": 96,
   "metadata": {
    "scrolled": true
   },
   "outputs": [],
   "source": [
    "#un-comment to look at info (can do one or multiple):\n",
    "\n",
    "\n",
    "#persons_imdb.info()\n",
    "#principals_imdb.info()\n",
    "#known_4_imdb.info()\n",
    "#directors_imdb.info()\n",
    "#writers_imdb.info()\n",
    "#movie_basics_imdb.info()\n",
    "#movie_rat_imdb.info()\n",
    "#movie_akas_imdb.info()\n",
    "\n",
    "#tn_budgets.info()"
   ]
  },
  {
   "cell_type": "markdown",
   "metadata": {},
   "source": [
    "# 5. Exploring individual df's:"
   ]
  },
  {
   "cell_type": "markdown",
   "metadata": {},
   "source": [
    "### 5a. Exploring: movie_akas_imdb"
   ]
  },
  {
   "cell_type": "code",
   "execution_count": 27,
   "metadata": {
    "scrolled": true
   },
   "outputs": [
    {
     "name": "stdout",
     "output_type": "stream",
     "text": [
      "<class 'pandas.core.frame.DataFrame'>\n",
      "RangeIndex: 331703 entries, 0 to 331702\n",
      "Data columns (total 8 columns):\n",
      " #   Column             Non-Null Count   Dtype  \n",
      "---  ------             --------------   -----  \n",
      " 0   movie_id           331703 non-null  object \n",
      " 1   ordering           331703 non-null  int64  \n",
      " 2   title              331703 non-null  object \n",
      " 3   region             278410 non-null  object \n",
      " 4   language           41715 non-null   object \n",
      " 5   types              168447 non-null  object \n",
      " 6   attributes         14925 non-null   object \n",
      " 7   is_original_title  331678 non-null  float64\n",
      "dtypes: float64(1), int64(1), object(6)\n",
      "memory usage: 20.2+ MB\n"
     ]
    }
   ],
   "source": [
    "movie_akas_imdb.info()"
   ]
  },
  {
   "cell_type": "code",
   "execution_count": 66,
   "metadata": {
    "scrolled": true
   },
   "outputs": [
    {
     "data": {
      "text/plain": [
       "1     122302\n",
       "2      44686\n",
       "3      41608\n",
       "4      22586\n",
       "5      15084\n",
       "       ...  \n",
       "59         1\n",
       "60         1\n",
       "57         1\n",
       "56         1\n",
       "61         1\n",
       "Name: ordering, Length: 61, dtype: int64"
      ]
     },
     "execution_count": 66,
     "metadata": {},
     "output_type": "execute_result"
    }
   ],
   "source": [
    "movie_akas_imdb['ordering'].value_counts()"
   ]
  },
  {
   "cell_type": "code",
   "execution_count": 69,
   "metadata": {
    "scrolled": false
   },
   "outputs": [
    {
     "data": {
      "text/plain": [
       "tt2488496    61\n",
       "tt1201607    55\n",
       "tt2310332    55\n",
       "tt1790809    53\n",
       "tt2278871    53\n",
       "             ..\n",
       "tt7039430     1\n",
       "tt3684370     1\n",
       "tt3893826     1\n",
       "tt5859070     1\n",
       "tt6151578     1\n",
       "Name: movie_id, Length: 122302, dtype: int64"
      ]
     },
     "execution_count": 69,
     "metadata": {},
     "output_type": "execute_result"
    }
   ],
   "source": [
    "movie_akas_imdb[\"movie_id\"].value_counts()"
   ]
  },
  {
   "cell_type": "code",
   "execution_count": null,
   "metadata": {},
   "outputs": [],
   "source": [
    "#### ordering = 1 has the same length as indivitual movie_id's be the same length as unique movie_id"
   ]
  },
  {
   "cell_type": "code",
   "execution_count": null,
   "metadata": {},
   "outputs": [],
   "source": [
    "movie['title']"
   ]
  },
  {
   "cell_type": "code",
   "execution_count": 30,
   "metadata": {},
   "outputs": [
    {
     "data": {
      "text/plain": [
       "US      51490\n",
       "XWW     18467\n",
       "RU      13817\n",
       "DE      11634\n",
       "FR      10990\n",
       "        ...  \n",
       "TM          1\n",
       "CSHH        1\n",
       "EH          1\n",
       "SUHH        1\n",
       "AI          1\n",
       "Name: region, Length: 213, dtype: int64"
      ]
     },
     "execution_count": 30,
     "metadata": {},
     "output_type": "execute_result"
    }
   ],
   "source": [
    "movie_akas_imdb['region'].value_counts()"
   ]
  },
  {
   "cell_type": "code",
   "execution_count": 87,
   "metadata": {},
   "outputs": [
    {
     "data": {
      "text/plain": [
       "(36453, 8)"
      ]
     },
     "execution_count": 87,
     "metadata": {},
     "output_type": "execute_result"
    }
   ],
   "source": [
    "m_akas_us = pd.read_sql('''\n",
    "SELECT *\n",
    "FROM movie_akas\n",
    "WHERE region = 'US' AND ordering = 1\n",
    "GROUP BY movie_id\n",
    "''', conn)\n",
    "m_akas_us.shape"
   ]
  },
  {
   "cell_type": "code",
   "execution_count": 83,
   "metadata": {},
   "outputs": [
    {
     "data": {
      "text/plain": [
       "36453"
      ]
     },
     "execution_count": 83,
     "metadata": {},
     "output_type": "execute_result"
    }
   ],
   "source": [
    "len(m_akas_us['movie_id'].unique())"
   ]
  },
  {
   "cell_type": "markdown",
   "metadata": {},
   "source": [
    "### 5b. Exploring: movie_akas_imdb"
   ]
  },
  {
   "cell_type": "code",
   "execution_count": 71,
   "metadata": {
    "scrolled": true
   },
   "outputs": [
    {
     "name": "stdout",
     "output_type": "stream",
     "text": [
      "<class 'pandas.core.frame.DataFrame'>\n",
      "RangeIndex: 146144 entries, 0 to 146143\n",
      "Data columns (total 6 columns):\n",
      " #   Column           Non-Null Count   Dtype  \n",
      "---  ------           --------------   -----  \n",
      " 0   movie_id         146144 non-null  object \n",
      " 1   primary_title    146144 non-null  object \n",
      " 2   original_title   146123 non-null  object \n",
      " 3   start_year       146144 non-null  int64  \n",
      " 4   runtime_minutes  114405 non-null  float64\n",
      " 5   genres           140736 non-null  object \n",
      "dtypes: float64(1), int64(1), object(4)\n",
      "memory usage: 6.7+ MB\n"
     ]
    }
   ],
   "source": [
    "movie_basics_imdb.info()"
   ]
  },
  {
   "cell_type": "code",
   "execution_count": 75,
   "metadata": {
    "scrolled": false
   },
   "outputs": [
    {
     "data": {
      "text/plain": [
       "tt1753511    1\n",
       "tt3412702    1\n",
       "tt8743340    1\n",
       "tt6515342    1\n",
       "tt1737630    1\n",
       "            ..\n",
       "tt1876400    1\n",
       "tt1629320    1\n",
       "tt2631596    1\n",
       "tt2072137    1\n",
       "tt5050876    1\n",
       "Name: movie_id, Length: 146144, dtype: int64"
      ]
     },
     "execution_count": 75,
     "metadata": {},
     "output_type": "execute_result"
    }
   ],
   "source": [
    "movie_basics_imdb['movie_id'].value_counts()"
   ]
  },
  {
   "cell_type": "code",
   "execution_count": 85,
   "metadata": {
    "scrolled": false
   },
   "outputs": [
    {
     "data": {
      "text/html": [
       "<div>\n",
       "<style scoped>\n",
       "    .dataframe tbody tr th:only-of-type {\n",
       "        vertical-align: middle;\n",
       "    }\n",
       "\n",
       "    .dataframe tbody tr th {\n",
       "        vertical-align: top;\n",
       "    }\n",
       "\n",
       "    .dataframe thead th {\n",
       "        text-align: right;\n",
       "    }\n",
       "</style>\n",
       "<table border=\"1\" class=\"dataframe\">\n",
       "  <thead>\n",
       "    <tr style=\"text-align: right;\">\n",
       "      <th></th>\n",
       "      <th>movie_id</th>\n",
       "      <th>ordering</th>\n",
       "      <th>title</th>\n",
       "      <th>region</th>\n",
       "      <th>language</th>\n",
       "      <th>types</th>\n",
       "      <th>attributes</th>\n",
       "      <th>is_original_title</th>\n",
       "    </tr>\n",
       "  </thead>\n",
       "  <tbody>\n",
       "    <tr>\n",
       "      <th>0</th>\n",
       "      <td>tt1180174</td>\n",
       "      <td>1</td>\n",
       "      <td>Liberty</td>\n",
       "      <td>US</td>\n",
       "      <td>None</td>\n",
       "      <td>None</td>\n",
       "      <td>None</td>\n",
       "      <td>0.0</td>\n",
       "    </tr>\n",
       "    <tr>\n",
       "      <th>1</th>\n",
       "      <td>tt1189904</td>\n",
       "      <td>1</td>\n",
       "      <td>Small Town Hero</td>\n",
       "      <td>US</td>\n",
       "      <td>None</td>\n",
       "      <td>None</td>\n",
       "      <td>None</td>\n",
       "      <td>0.0</td>\n",
       "    </tr>\n",
       "    <tr>\n",
       "      <th>2</th>\n",
       "      <td>tt1210047</td>\n",
       "      <td>1</td>\n",
       "      <td>Snatched! Curse of the Pink Panties 2</td>\n",
       "      <td>US</td>\n",
       "      <td>None</td>\n",
       "      <td>alternative</td>\n",
       "      <td>None</td>\n",
       "      <td>0.0</td>\n",
       "    </tr>\n",
       "    <tr>\n",
       "      <th>3</th>\n",
       "      <td>tt1220221</td>\n",
       "      <td>1</td>\n",
       "      <td>Motherland</td>\n",
       "      <td>US</td>\n",
       "      <td>None</td>\n",
       "      <td>None</td>\n",
       "      <td>None</td>\n",
       "      <td>0.0</td>\n",
       "    </tr>\n",
       "    <tr>\n",
       "      <th>4</th>\n",
       "      <td>tt1226831</td>\n",
       "      <td>1</td>\n",
       "      <td>Spark Riders</td>\n",
       "      <td>US</td>\n",
       "      <td>None</td>\n",
       "      <td>None</td>\n",
       "      <td>None</td>\n",
       "      <td>0.0</td>\n",
       "    </tr>\n",
       "    <tr>\n",
       "      <th>...</th>\n",
       "      <td>...</td>\n",
       "      <td>...</td>\n",
       "      <td>...</td>\n",
       "      <td>...</td>\n",
       "      <td>...</td>\n",
       "      <td>...</td>\n",
       "      <td>...</td>\n",
       "      <td>...</td>\n",
       "    </tr>\n",
       "    <tr>\n",
       "      <th>36427</th>\n",
       "      <td>tt7385718</td>\n",
       "      <td>1</td>\n",
       "      <td>Conway Pride</td>\n",
       "      <td>US</td>\n",
       "      <td>None</td>\n",
       "      <td>None</td>\n",
       "      <td>None</td>\n",
       "      <td>0.0</td>\n",
       "    </tr>\n",
       "    <tr>\n",
       "      <th>36428</th>\n",
       "      <td>tt8855960</td>\n",
       "      <td>1</td>\n",
       "      <td>Straight Up</td>\n",
       "      <td>US</td>\n",
       "      <td>None</td>\n",
       "      <td>None</td>\n",
       "      <td>None</td>\n",
       "      <td>0.0</td>\n",
       "    </tr>\n",
       "    <tr>\n",
       "      <th>36429</th>\n",
       "      <td>tt8901666</td>\n",
       "      <td>1</td>\n",
       "      <td>The Journey Ahead</td>\n",
       "      <td>US</td>\n",
       "      <td>None</td>\n",
       "      <td>imdbDisplay</td>\n",
       "      <td>None</td>\n",
       "      <td>0.0</td>\n",
       "    </tr>\n",
       "    <tr>\n",
       "      <th>36430</th>\n",
       "      <td>tt9705860</td>\n",
       "      <td>1</td>\n",
       "      <td>Dusan Vukotic Croatian Oscar Winner</td>\n",
       "      <td>US</td>\n",
       "      <td>None</td>\n",
       "      <td>imdbDisplay</td>\n",
       "      <td>None</td>\n",
       "      <td>0.0</td>\n",
       "    </tr>\n",
       "    <tr>\n",
       "      <th>36431</th>\n",
       "      <td>tt9755806</td>\n",
       "      <td>1</td>\n",
       "      <td>Big Shark</td>\n",
       "      <td>US</td>\n",
       "      <td>None</td>\n",
       "      <td>None</td>\n",
       "      <td>None</td>\n",
       "      <td>0.0</td>\n",
       "    </tr>\n",
       "  </tbody>\n",
       "</table>\n",
       "<p>36432 rows × 8 columns</p>\n",
       "</div>"
      ],
      "text/plain": [
       "        movie_id  ordering                                  title region  \\\n",
       "0      tt1180174         1                                Liberty     US   \n",
       "1      tt1189904         1                        Small Town Hero     US   \n",
       "2      tt1210047         1  Snatched! Curse of the Pink Panties 2     US   \n",
       "3      tt1220221         1                             Motherland     US   \n",
       "4      tt1226831         1                           Spark Riders     US   \n",
       "...          ...       ...                                    ...    ...   \n",
       "36427  tt7385718         1                           Conway Pride     US   \n",
       "36428  tt8855960         1                            Straight Up     US   \n",
       "36429  tt8901666         1                      The Journey Ahead     US   \n",
       "36430  tt9705860         1    Dusan Vukotic Croatian Oscar Winner     US   \n",
       "36431  tt9755806         1                              Big Shark     US   \n",
       "\n",
       "      language        types attributes  is_original_title  \n",
       "0         None         None       None                0.0  \n",
       "1         None         None       None                0.0  \n",
       "2         None  alternative       None                0.0  \n",
       "3         None         None       None                0.0  \n",
       "4         None         None       None                0.0  \n",
       "...        ...          ...        ...                ...  \n",
       "36427     None         None       None                0.0  \n",
       "36428     None         None       None                0.0  \n",
       "36429     None  imdbDisplay       None                0.0  \n",
       "36430     None  imdbDisplay       None                0.0  \n",
       "36431     None         None       None                0.0  \n",
       "\n",
       "[36432 rows x 8 columns]"
      ]
     },
     "execution_count": 85,
     "metadata": {},
     "output_type": "execute_result"
    }
   ],
   "source": [
    "m_basics = pd.read_sql('''\n",
    "SELECT *\n",
    "FROM movie_basics\n",
    "WHERE length(movie_id) = 9\n",
    "''', conn)\n",
    "m_basics_us"
   ]
  },
  {
   "cell_type": "code",
   "execution_count": 97,
   "metadata": {},
   "outputs": [
    {
     "name": "stdout",
     "output_type": "stream",
     "text": [
      "<class 'pandas.core.frame.DataFrame'>\n",
      "Int64Index: 36432 entries, 0 to 36431\n",
      "Data columns (total 13 columns):\n",
      " #   Column             Non-Null Count  Dtype  \n",
      "---  ------             --------------  -----  \n",
      " 0   movie_id           36432 non-null  object \n",
      " 1   ordering           36432 non-null  int64  \n",
      " 2   title              36432 non-null  object \n",
      " 3   region             36432 non-null  object \n",
      " 4   language           75 non-null     object \n",
      " 5   types              1130 non-null   object \n",
      " 6   attributes         499 non-null    object \n",
      " 7   is_original_title  36428 non-null  float64\n",
      " 8   primary_title      36432 non-null  object \n",
      " 9   original_title     36432 non-null  object \n",
      " 10  start_year         36432 non-null  int64  \n",
      " 11  runtime_minutes    29415 non-null  float64\n",
      " 12  genres             35886 non-null  object \n",
      "dtypes: float64(2), int64(2), object(9)\n",
      "memory usage: 3.9+ MB\n"
     ]
    }
   ],
   "source": [
    "akas_basics_merge = m_akas_us.merge(m_basics, on='movie_id',\n",
    "                                        how='inner')\n",
    "akas_basics_merge.info()"
   ]
  },
  {
   "cell_type": "markdown",
   "metadata": {},
   "source": [
    "### 5c. Explored: movie_rat_imdb"
   ]
  },
  {
   "cell_type": "code",
   "execution_count": 95,
   "metadata": {
    "scrolled": true
   },
   "outputs": [
    {
     "name": "stdout",
     "output_type": "stream",
     "text": [
      "<class 'pandas.core.frame.DataFrame'>\n",
      "RangeIndex: 73856 entries, 0 to 73855\n",
      "Data columns (total 3 columns):\n",
      " #   Column         Non-Null Count  Dtype  \n",
      "---  ------         --------------  -----  \n",
      " 0   movie_id       73856 non-null  object \n",
      " 1   averagerating  73856 non-null  float64\n",
      " 2   numvotes       73856 non-null  int64  \n",
      "dtypes: float64(1), int64(1), object(1)\n",
      "memory usage: 1.7+ MB\n"
     ]
    }
   ],
   "source": [
    "movie_rat_imdb.info()"
   ]
  },
  {
   "cell_type": "markdown",
   "metadata": {},
   "source": [
    " # Combining IMDB database"
   ]
  },
  {
   "cell_type": "code",
   "execution_count": 101,
   "metadata": {
    "scrolled": true
   },
   "outputs": [
    {
     "data": {
      "text/html": [
       "<div>\n",
       "<style scoped>\n",
       "    .dataframe tbody tr th:only-of-type {\n",
       "        vertical-align: middle;\n",
       "    }\n",
       "\n",
       "    .dataframe tbody tr th {\n",
       "        vertical-align: top;\n",
       "    }\n",
       "\n",
       "    .dataframe thead th {\n",
       "        text-align: right;\n",
       "    }\n",
       "</style>\n",
       "<table border=\"1\" class=\"dataframe\">\n",
       "  <thead>\n",
       "    <tr style=\"text-align: right;\">\n",
       "      <th></th>\n",
       "      <th>movie_id</th>\n",
       "      <th>ordering</th>\n",
       "      <th>title</th>\n",
       "      <th>region</th>\n",
       "      <th>language</th>\n",
       "      <th>types</th>\n",
       "      <th>attributes</th>\n",
       "      <th>is_original_title</th>\n",
       "      <th>primary_title</th>\n",
       "      <th>original_title</th>\n",
       "      <th>start_year</th>\n",
       "      <th>runtime_minutes</th>\n",
       "      <th>genres</th>\n",
       "      <th>averagerating</th>\n",
       "      <th>numvotes</th>\n",
       "    </tr>\n",
       "  </thead>\n",
       "  <tbody>\n",
       "    <tr>\n",
       "      <th>0</th>\n",
       "      <td>tt0112502</td>\n",
       "      <td>1</td>\n",
       "      <td>Bigfoot</td>\n",
       "      <td>US</td>\n",
       "      <td>None</td>\n",
       "      <td>None</td>\n",
       "      <td>None</td>\n",
       "      <td>0.0</td>\n",
       "      <td>Bigfoot</td>\n",
       "      <td>Bigfoot</td>\n",
       "      <td>2017</td>\n",
       "      <td>NaN</td>\n",
       "      <td>Horror,Thriller</td>\n",
       "      <td>4.1</td>\n",
       "      <td>32.0</td>\n",
       "    </tr>\n",
       "    <tr>\n",
       "      <th>1</th>\n",
       "      <td>tt0192528</td>\n",
       "      <td>1</td>\n",
       "      <td>Heaven &amp; Hell</td>\n",
       "      <td>US</td>\n",
       "      <td>None</td>\n",
       "      <td>imdbDisplay</td>\n",
       "      <td>None</td>\n",
       "      <td>0.0</td>\n",
       "      <td>Heaven &amp; Hell</td>\n",
       "      <td>Reverse Heaven</td>\n",
       "      <td>2018</td>\n",
       "      <td>104.0</td>\n",
       "      <td>Drama</td>\n",
       "      <td>4.0</td>\n",
       "      <td>72.0</td>\n",
       "    </tr>\n",
       "    <tr>\n",
       "      <th>2</th>\n",
       "      <td>tt0230212</td>\n",
       "      <td>1</td>\n",
       "      <td>The Final Journey</td>\n",
       "      <td>US</td>\n",
       "      <td>None</td>\n",
       "      <td>None</td>\n",
       "      <td>None</td>\n",
       "      <td>0.0</td>\n",
       "      <td>The Final Journey</td>\n",
       "      <td>The Final Journey</td>\n",
       "      <td>2010</td>\n",
       "      <td>120.0</td>\n",
       "      <td>Drama</td>\n",
       "      <td>8.8</td>\n",
       "      <td>8.0</td>\n",
       "    </tr>\n",
       "    <tr>\n",
       "      <th>3</th>\n",
       "      <td>tt0255820</td>\n",
       "      <td>1</td>\n",
       "      <td>Return to Babylon</td>\n",
       "      <td>US</td>\n",
       "      <td>None</td>\n",
       "      <td>None</td>\n",
       "      <td>None</td>\n",
       "      <td>0.0</td>\n",
       "      <td>Return to Babylon</td>\n",
       "      <td>Return to Babylon</td>\n",
       "      <td>2013</td>\n",
       "      <td>75.0</td>\n",
       "      <td>Biography,Comedy,Drama</td>\n",
       "      <td>5.9</td>\n",
       "      <td>123.0</td>\n",
       "    </tr>\n",
       "    <tr>\n",
       "      <th>4</th>\n",
       "      <td>tt0297400</td>\n",
       "      <td>1</td>\n",
       "      <td>Snowblind</td>\n",
       "      <td>US</td>\n",
       "      <td>None</td>\n",
       "      <td>None</td>\n",
       "      <td>None</td>\n",
       "      <td>0.0</td>\n",
       "      <td>Snowblind</td>\n",
       "      <td>Snowblind</td>\n",
       "      <td>2015</td>\n",
       "      <td>NaN</td>\n",
       "      <td>Crime,Drama</td>\n",
       "      <td>6.7</td>\n",
       "      <td>77.0</td>\n",
       "    </tr>\n",
       "    <tr>\n",
       "      <th>...</th>\n",
       "      <td>...</td>\n",
       "      <td>...</td>\n",
       "      <td>...</td>\n",
       "      <td>...</td>\n",
       "      <td>...</td>\n",
       "      <td>...</td>\n",
       "      <td>...</td>\n",
       "      <td>...</td>\n",
       "      <td>...</td>\n",
       "      <td>...</td>\n",
       "      <td>...</td>\n",
       "      <td>...</td>\n",
       "      <td>...</td>\n",
       "      <td>...</td>\n",
       "      <td>...</td>\n",
       "    </tr>\n",
       "    <tr>\n",
       "      <th>36427</th>\n",
       "      <td>tt9814242</td>\n",
       "      <td>1</td>\n",
       "      <td>Homeless at 17</td>\n",
       "      <td>US</td>\n",
       "      <td>None</td>\n",
       "      <td>None</td>\n",
       "      <td>None</td>\n",
       "      <td>0.0</td>\n",
       "      <td>Homeless at 17</td>\n",
       "      <td>Homeless at 17</td>\n",
       "      <td>2019</td>\n",
       "      <td>NaN</td>\n",
       "      <td>Drama</td>\n",
       "      <td>NaN</td>\n",
       "      <td>NaN</td>\n",
       "    </tr>\n",
       "    <tr>\n",
       "      <th>36428</th>\n",
       "      <td>tt9815714</td>\n",
       "      <td>1</td>\n",
       "      <td>The Hard Way</td>\n",
       "      <td>US</td>\n",
       "      <td>None</td>\n",
       "      <td>None</td>\n",
       "      <td>None</td>\n",
       "      <td>0.0</td>\n",
       "      <td>The Hard Way</td>\n",
       "      <td>The Hard Way</td>\n",
       "      <td>2019</td>\n",
       "      <td>92.0</td>\n",
       "      <td>Action</td>\n",
       "      <td>4.7</td>\n",
       "      <td>1214.0</td>\n",
       "    </tr>\n",
       "    <tr>\n",
       "      <th>36429</th>\n",
       "      <td>tt9820914</td>\n",
       "      <td>1</td>\n",
       "      <td>Look Closer: The Rise and Fall of Robert Benfer</td>\n",
       "      <td>US</td>\n",
       "      <td>None</td>\n",
       "      <td>None</td>\n",
       "      <td>None</td>\n",
       "      <td>0.0</td>\n",
       "      <td>Look Closer: The Rise and Fall of Robert Benfer</td>\n",
       "      <td>Look Closer: The Rise and Fall of Robert Benfer</td>\n",
       "      <td>2018</td>\n",
       "      <td>46.0</td>\n",
       "      <td>Documentary</td>\n",
       "      <td>NaN</td>\n",
       "      <td>NaN</td>\n",
       "    </tr>\n",
       "    <tr>\n",
       "      <th>36430</th>\n",
       "      <td>tt9824512</td>\n",
       "      <td>1</td>\n",
       "      <td>A Wolf's Journey</td>\n",
       "      <td>US</td>\n",
       "      <td>None</td>\n",
       "      <td>alternative</td>\n",
       "      <td>None</td>\n",
       "      <td>0.0</td>\n",
       "      <td>L'Odyssée du Loup</td>\n",
       "      <td>L'Odyssée du Loup</td>\n",
       "      <td>2019</td>\n",
       "      <td>NaN</td>\n",
       "      <td>Documentary</td>\n",
       "      <td>NaN</td>\n",
       "      <td>NaN</td>\n",
       "    </tr>\n",
       "    <tr>\n",
       "      <th>36431</th>\n",
       "      <td>tt9915436</td>\n",
       "      <td>1</td>\n",
       "      <td>Life in Movement</td>\n",
       "      <td>US</td>\n",
       "      <td>None</td>\n",
       "      <td>alternative</td>\n",
       "      <td>None</td>\n",
       "      <td>0.0</td>\n",
       "      <td>Vida em Movimento</td>\n",
       "      <td>Vida em Movimento</td>\n",
       "      <td>2019</td>\n",
       "      <td>70.0</td>\n",
       "      <td>Documentary</td>\n",
       "      <td>NaN</td>\n",
       "      <td>NaN</td>\n",
       "    </tr>\n",
       "  </tbody>\n",
       "</table>\n",
       "<p>36432 rows × 15 columns</p>\n",
       "</div>"
      ],
      "text/plain": [
       "        movie_id  ordering                                            title  \\\n",
       "0      tt0112502         1                                          Bigfoot   \n",
       "1      tt0192528         1                                    Heaven & Hell   \n",
       "2      tt0230212         1                                The Final Journey   \n",
       "3      tt0255820         1                                Return to Babylon   \n",
       "4      tt0297400         1                                        Snowblind   \n",
       "...          ...       ...                                              ...   \n",
       "36427  tt9814242         1                                   Homeless at 17   \n",
       "36428  tt9815714         1                                     The Hard Way   \n",
       "36429  tt9820914         1  Look Closer: The Rise and Fall of Robert Benfer   \n",
       "36430  tt9824512         1                                 A Wolf's Journey   \n",
       "36431  tt9915436         1                                 Life in Movement   \n",
       "\n",
       "      region language        types attributes  is_original_title  \\\n",
       "0         US     None         None       None                0.0   \n",
       "1         US     None  imdbDisplay       None                0.0   \n",
       "2         US     None         None       None                0.0   \n",
       "3         US     None         None       None                0.0   \n",
       "4         US     None         None       None                0.0   \n",
       "...      ...      ...          ...        ...                ...   \n",
       "36427     US     None         None       None                0.0   \n",
       "36428     US     None         None       None                0.0   \n",
       "36429     US     None         None       None                0.0   \n",
       "36430     US     None  alternative       None                0.0   \n",
       "36431     US     None  alternative       None                0.0   \n",
       "\n",
       "                                         primary_title  \\\n",
       "0                                              Bigfoot   \n",
       "1                                        Heaven & Hell   \n",
       "2                                    The Final Journey   \n",
       "3                                    Return to Babylon   \n",
       "4                                            Snowblind   \n",
       "...                                                ...   \n",
       "36427                                   Homeless at 17   \n",
       "36428                                     The Hard Way   \n",
       "36429  Look Closer: The Rise and Fall of Robert Benfer   \n",
       "36430                                L'Odyssée du Loup   \n",
       "36431                                Vida em Movimento   \n",
       "\n",
       "                                        original_title  start_year  \\\n",
       "0                                              Bigfoot        2017   \n",
       "1                                       Reverse Heaven        2018   \n",
       "2                                    The Final Journey        2010   \n",
       "3                                    Return to Babylon        2013   \n",
       "4                                            Snowblind        2015   \n",
       "...                                                ...         ...   \n",
       "36427                                   Homeless at 17        2019   \n",
       "36428                                     The Hard Way        2019   \n",
       "36429  Look Closer: The Rise and Fall of Robert Benfer        2018   \n",
       "36430                                L'Odyssée du Loup        2019   \n",
       "36431                                Vida em Movimento        2019   \n",
       "\n",
       "       runtime_minutes                  genres  averagerating  numvotes  \n",
       "0                  NaN         Horror,Thriller            4.1      32.0  \n",
       "1                104.0                   Drama            4.0      72.0  \n",
       "2                120.0                   Drama            8.8       8.0  \n",
       "3                 75.0  Biography,Comedy,Drama            5.9     123.0  \n",
       "4                  NaN             Crime,Drama            6.7      77.0  \n",
       "...                ...                     ...            ...       ...  \n",
       "36427              NaN                   Drama            NaN       NaN  \n",
       "36428             92.0                  Action            4.7    1214.0  \n",
       "36429             46.0             Documentary            NaN       NaN  \n",
       "36430              NaN             Documentary            NaN       NaN  \n",
       "36431             70.0             Documentary            NaN       NaN  \n",
       "\n",
       "[36432 rows x 15 columns]"
      ]
     },
     "execution_count": 101,
     "metadata": {},
     "output_type": "execute_result"
    }
   ],
   "source": [
    "imdb_merged = akas_basics_merge.merge(movie_rat_imdb, on='movie_id',\n",
    "                                       how='left')\n",
    "imdb_merged"
   ]
  },
  {
   "cell_type": "code",
   "execution_count": 103,
   "metadata": {
    "scrolled": true
   },
   "outputs": [
    {
     "name": "stdout",
     "output_type": "stream",
     "text": [
      "<class 'pandas.core.frame.DataFrame'>\n",
      "Int64Index: 36432 entries, 0 to 36431\n",
      "Data columns (total 15 columns):\n",
      " #   Column             Non-Null Count  Dtype  \n",
      "---  ------             --------------  -----  \n",
      " 0   movie_id           36432 non-null  object \n",
      " 1   ordering           36432 non-null  int64  \n",
      " 2   title              36432 non-null  object \n",
      " 3   region             36432 non-null  object \n",
      " 4   language           75 non-null     object \n",
      " 5   types              1130 non-null   object \n",
      " 6   attributes         499 non-null    object \n",
      " 7   is_original_title  36428 non-null  float64\n",
      " 8   primary_title      36432 non-null  object \n",
      " 9   original_title     36432 non-null  object \n",
      " 10  start_year         36432 non-null  int64  \n",
      " 11  runtime_minutes    29415 non-null  float64\n",
      " 12  genres             35886 non-null  object \n",
      " 13  averagerating      16840 non-null  float64\n",
      " 14  numvotes           16840 non-null  float64\n",
      "dtypes: float64(4), int64(2), object(9)\n",
      "memory usage: 4.4+ MB\n"
     ]
    }
   ],
   "source": [
    "imdb_merged.info()"
   ]
  },
  {
   "cell_type": "code",
   "execution_count": 110,
   "metadata": {
    "scrolled": true
   },
   "outputs": [],
   "source": [
    "imdb_merged.drop(['language', 'attributes', 'types'], axis=1, inplace=True)"
   ]
  },
  {
   "cell_type": "code",
   "execution_count": 111,
   "metadata": {},
   "outputs": [
    {
     "name": "stdout",
     "output_type": "stream",
     "text": [
      "<class 'pandas.core.frame.DataFrame'>\n",
      "Int64Index: 36432 entries, 0 to 36431\n",
      "Data columns (total 12 columns):\n",
      " #   Column             Non-Null Count  Dtype  \n",
      "---  ------             --------------  -----  \n",
      " 0   movie_id           36432 non-null  object \n",
      " 1   ordering           36432 non-null  int64  \n",
      " 2   title              36432 non-null  object \n",
      " 3   region             36432 non-null  object \n",
      " 4   is_original_title  36428 non-null  float64\n",
      " 5   primary_title      36432 non-null  object \n",
      " 6   original_title     36432 non-null  object \n",
      " 7   start_year         36432 non-null  int64  \n",
      " 8   runtime_minutes    29415 non-null  float64\n",
      " 9   genres             35886 non-null  object \n",
      " 10  averagerating      16840 non-null  float64\n",
      " 11  numvotes           16840 non-null  float64\n",
      "dtypes: float64(4), int64(2), object(6)\n",
      "memory usage: 3.6+ MB\n"
     ]
    }
   ],
   "source": [
    "imdb_merged.info()"
   ]
  },
  {
   "cell_type": "markdown",
   "metadata": {},
   "source": [
    "# 7 Exploring tn_budgets"
   ]
  },
  {
   "cell_type": "code",
   "execution_count": 105,
   "metadata": {
    "scrolled": true
   },
   "outputs": [
    {
     "name": "stdout",
     "output_type": "stream",
     "text": [
      "<class 'pandas.core.frame.DataFrame'>\n",
      "RangeIndex: 5782 entries, 0 to 5781\n",
      "Data columns (total 6 columns):\n",
      " #   Column             Non-Null Count  Dtype \n",
      "---  ------             --------------  ----- \n",
      " 0   id                 5782 non-null   int64 \n",
      " 1   release_date       5782 non-null   object\n",
      " 2   movie              5782 non-null   object\n",
      " 3   production_budget  5782 non-null   object\n",
      " 4   domestic_gross     5782 non-null   object\n",
      " 5   worldwide_gross    5782 non-null   object\n",
      "dtypes: int64(1), object(5)\n",
      "memory usage: 271.2+ KB\n"
     ]
    }
   ],
   "source": [
    "tn_budgets.info()"
   ]
  },
  {
   "cell_type": "code",
   "execution_count": 108,
   "metadata": {},
   "outputs": [
    {
     "data": {
      "text/html": [
       "<div>\n",
       "<style scoped>\n",
       "    .dataframe tbody tr th:only-of-type {\n",
       "        vertical-align: middle;\n",
       "    }\n",
       "\n",
       "    .dataframe tbody tr th {\n",
       "        vertical-align: top;\n",
       "    }\n",
       "\n",
       "    .dataframe thead th {\n",
       "        text-align: right;\n",
       "    }\n",
       "</style>\n",
       "<table border=\"1\" class=\"dataframe\">\n",
       "  <thead>\n",
       "    <tr style=\"text-align: right;\">\n",
       "      <th></th>\n",
       "      <th>id</th>\n",
       "      <th>release_date</th>\n",
       "      <th>movie</th>\n",
       "      <th>production_budget</th>\n",
       "      <th>domestic_gross</th>\n",
       "      <th>worldwide_gross</th>\n",
       "    </tr>\n",
       "  </thead>\n",
       "  <tbody>\n",
       "    <tr>\n",
       "      <th>0</th>\n",
       "      <td>1</td>\n",
       "      <td>Dec 18, 2009</td>\n",
       "      <td>Avatar</td>\n",
       "      <td>$425,000,000</td>\n",
       "      <td>$760,507,625</td>\n",
       "      <td>$2,776,345,279</td>\n",
       "    </tr>\n",
       "    <tr>\n",
       "      <th>1</th>\n",
       "      <td>2</td>\n",
       "      <td>May 20, 2011</td>\n",
       "      <td>Pirates of the Caribbean: On Stranger Tides</td>\n",
       "      <td>$410,600,000</td>\n",
       "      <td>$241,063,875</td>\n",
       "      <td>$1,045,663,875</td>\n",
       "    </tr>\n",
       "    <tr>\n",
       "      <th>2</th>\n",
       "      <td>3</td>\n",
       "      <td>Jun 7, 2019</td>\n",
       "      <td>Dark Phoenix</td>\n",
       "      <td>$350,000,000</td>\n",
       "      <td>$42,762,350</td>\n",
       "      <td>$149,762,350</td>\n",
       "    </tr>\n",
       "    <tr>\n",
       "      <th>3</th>\n",
       "      <td>4</td>\n",
       "      <td>May 1, 2015</td>\n",
       "      <td>Avengers: Age of Ultron</td>\n",
       "      <td>$330,600,000</td>\n",
       "      <td>$459,005,868</td>\n",
       "      <td>$1,403,013,963</td>\n",
       "    </tr>\n",
       "    <tr>\n",
       "      <th>4</th>\n",
       "      <td>5</td>\n",
       "      <td>Dec 15, 2017</td>\n",
       "      <td>Star Wars Ep. VIII: The Last Jedi</td>\n",
       "      <td>$317,000,000</td>\n",
       "      <td>$620,181,382</td>\n",
       "      <td>$1,316,721,747</td>\n",
       "    </tr>\n",
       "    <tr>\n",
       "      <th>...</th>\n",
       "      <td>...</td>\n",
       "      <td>...</td>\n",
       "      <td>...</td>\n",
       "      <td>...</td>\n",
       "      <td>...</td>\n",
       "      <td>...</td>\n",
       "    </tr>\n",
       "    <tr>\n",
       "      <th>5777</th>\n",
       "      <td>78</td>\n",
       "      <td>Dec 31, 2018</td>\n",
       "      <td>Red 11</td>\n",
       "      <td>$7,000</td>\n",
       "      <td>$0</td>\n",
       "      <td>$0</td>\n",
       "    </tr>\n",
       "    <tr>\n",
       "      <th>5778</th>\n",
       "      <td>79</td>\n",
       "      <td>Apr 2, 1999</td>\n",
       "      <td>Following</td>\n",
       "      <td>$6,000</td>\n",
       "      <td>$48,482</td>\n",
       "      <td>$240,495</td>\n",
       "    </tr>\n",
       "    <tr>\n",
       "      <th>5779</th>\n",
       "      <td>80</td>\n",
       "      <td>Jul 13, 2005</td>\n",
       "      <td>Return to the Land of Wonders</td>\n",
       "      <td>$5,000</td>\n",
       "      <td>$1,338</td>\n",
       "      <td>$1,338</td>\n",
       "    </tr>\n",
       "    <tr>\n",
       "      <th>5780</th>\n",
       "      <td>81</td>\n",
       "      <td>Sep 29, 2015</td>\n",
       "      <td>A Plague So Pleasant</td>\n",
       "      <td>$1,400</td>\n",
       "      <td>$0</td>\n",
       "      <td>$0</td>\n",
       "    </tr>\n",
       "    <tr>\n",
       "      <th>5781</th>\n",
       "      <td>82</td>\n",
       "      <td>Aug 5, 2005</td>\n",
       "      <td>My Date With Drew</td>\n",
       "      <td>$1,100</td>\n",
       "      <td>$181,041</td>\n",
       "      <td>$181,041</td>\n",
       "    </tr>\n",
       "  </tbody>\n",
       "</table>\n",
       "<p>5782 rows × 6 columns</p>\n",
       "</div>"
      ],
      "text/plain": [
       "      id  release_date                                        movie  \\\n",
       "0      1  Dec 18, 2009                                       Avatar   \n",
       "1      2  May 20, 2011  Pirates of the Caribbean: On Stranger Tides   \n",
       "2      3   Jun 7, 2019                                 Dark Phoenix   \n",
       "3      4   May 1, 2015                      Avengers: Age of Ultron   \n",
       "4      5  Dec 15, 2017            Star Wars Ep. VIII: The Last Jedi   \n",
       "...   ..           ...                                          ...   \n",
       "5777  78  Dec 31, 2018                                       Red 11   \n",
       "5778  79   Apr 2, 1999                                    Following   \n",
       "5779  80  Jul 13, 2005                Return to the Land of Wonders   \n",
       "5780  81  Sep 29, 2015                         A Plague So Pleasant   \n",
       "5781  82   Aug 5, 2005                            My Date With Drew   \n",
       "\n",
       "     production_budget domestic_gross worldwide_gross  \n",
       "0         $425,000,000   $760,507,625  $2,776,345,279  \n",
       "1         $410,600,000   $241,063,875  $1,045,663,875  \n",
       "2         $350,000,000    $42,762,350    $149,762,350  \n",
       "3         $330,600,000   $459,005,868  $1,403,013,963  \n",
       "4         $317,000,000   $620,181,382  $1,316,721,747  \n",
       "...                ...            ...             ...  \n",
       "5777            $7,000             $0              $0  \n",
       "5778            $6,000        $48,482        $240,495  \n",
       "5779            $5,000         $1,338          $1,338  \n",
       "5780            $1,400             $0              $0  \n",
       "5781            $1,100       $181,041        $181,041  \n",
       "\n",
       "[5782 rows x 6 columns]"
      ]
     },
     "execution_count": 108,
     "metadata": {},
     "output_type": "execute_result"
    }
   ],
   "source": [
    "tn_budgets"
   ]
  },
  {
   "cell_type": "code",
   "execution_count": 107,
   "metadata": {},
   "outputs": [
    {
     "data": {
      "text/plain": [
       "Halloween                        3\n",
       "King Kong                        3\n",
       "Home                             3\n",
       "RoboCop                          2\n",
       "Lolita                           2\n",
       "                                ..\n",
       "Lovely, Still                    1\n",
       "Blue Like Jazz                   1\n",
       "Standing Ovation                 1\n",
       "Clay Pigeons                     1\n",
       "The Texas Chainsaw Massacre 2    1\n",
       "Name: movie, Length: 5698, dtype: int64"
      ]
     },
     "execution_count": 107,
     "metadata": {},
     "output_type": "execute_result"
    }
   ],
   "source": [
    "tn_budgets['movie'].value_counts()"
   ]
  },
  {
   "cell_type": "code",
   "execution_count": null,
   "metadata": {},
   "outputs": [],
   "source": []
  }
 ],
 "metadata": {
  "kernelspec": {
   "display_name": "Python (learn-env)",
   "language": "python",
   "name": "learn-env"
  },
  "language_info": {
   "codemirror_mode": {
    "name": "ipython",
    "version": 3
   },
   "file_extension": ".py",
   "mimetype": "text/x-python",
   "name": "python",
   "nbconvert_exporter": "python",
   "pygments_lexer": "ipython3",
   "version": "3.8.5"
  }
 },
 "nbformat": 4,
 "nbformat_minor": 4
}
