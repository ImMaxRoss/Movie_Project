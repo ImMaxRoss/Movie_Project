{
 "cells": [
  {
   "cell_type": "markdown",
   "metadata": {},
   "source": [
    "# 1. Loading im.db as pd.df"
   ]
  },
  {
   "cell_type": "code",
   "execution_count": 1,
   "metadata": {},
   "outputs": [],
   "source": [
    "import pandas as pd\n",
    "import sqlite3"
   ]
  },
  {
   "cell_type": "code",
   "execution_count": 2,
   "metadata": {},
   "outputs": [],
   "source": [
    "conn = sqlite3.connect('data/im.db')\n",
    "cursor = conn.cursor()"
   ]
  },
  {
   "cell_type": "code",
   "execution_count": 3,
   "metadata": {},
   "outputs": [],
   "source": [
    "movie_basics_imdb = pd.read_sql('''\n",
    "SELECT *\n",
    "FROM movie_basics\n",
    "''', conn)\n",
    "\n",
    "movie_akas_imdb = pd.read_sql('''\n",
    "SELECT *\n",
    "FROM movie_akas\n",
    "''', conn)\n",
    "\n",
    "movie_rat_imdb = pd.read_sql('''\n",
    "SELECT *\n",
    "FROM movie_ratings\n",
    "''', conn)\n",
    "\n",
    "principals_imdb = pd.read_sql('''\n",
    "SELECT *\n",
    "FROM principals\n",
    "''', conn)\n",
    "\n",
    "known_4_imdb = pd.read_sql('''\n",
    "SELECT *\n",
    "FROM known_for\n",
    "''', conn)\n",
    "\n",
    "directors_imdb = pd.read_sql('''\n",
    "SELECT *\n",
    "FROM directors\n",
    "''', conn)\n",
    "\n",
    "writers_imdb = pd.read_sql('''\n",
    "SELECT *\n",
    "FROM writers\n",
    "''', conn)\n",
    "\n",
    "persons_imdb = pd.read_sql('''\n",
    "SELECT *\n",
    "FROM persons\n",
    "''', conn)"
   ]
  },
  {
   "cell_type": "markdown",
   "metadata": {},
   "source": [
    "# 2. Name of df Variables:\n",
    "\n",
    "### imdb Variables (each variable is an individual table):\n",
    "- persons_imdb\n",
    "- principals_imdb\n",
    "- known_4_imdb\n",
    "- directors_imdb\n",
    "- writers_imdb\n",
    "- movie_basics_imdb\n",
    "- movie_rat_imdb\n",
    "- movie_akas_imdb"
   ]
  },
  {
   "cell_type": "markdown",
   "metadata": {},
   "source": [
    "# 3. Exploring IMDB df's:"
   ]
  },
  {
   "cell_type": "markdown",
   "metadata": {},
   "source": [
    "### 3a. Exploring: movie_akas_imdb"
   ]
  },
  {
   "cell_type": "code",
   "execution_count": 5,
   "metadata": {
    "scrolled": true
   },
   "outputs": [],
   "source": [
    "#movie_akas_imdb.info()"
   ]
  },
  {
   "cell_type": "code",
   "execution_count": 29,
   "metadata": {
    "scrolled": true
   },
   "outputs": [],
   "source": [
    "#movie_akas_imdb['ordering'].value_counts().tail(20)"
   ]
  },
  {
   "cell_type": "code",
   "execution_count": 30,
   "metadata": {
    "scrolled": false
   },
   "outputs": [],
   "source": [
    "#movie_akas_imdb[\"movie_id\"].value_counts()"
   ]
  },
  {
   "cell_type": "markdown",
   "metadata": {},
   "source": [
    "#### ordering = 1 has the same length as indivitual movie_id's be the same length as unique movie_id"
   ]
  },
  {
   "cell_type": "code",
   "execution_count": 31,
   "metadata": {
    "scrolled": false
   },
   "outputs": [],
   "source": [
    "#movie_akas_imdb['region'].value_counts()"
   ]
  },
  {
   "cell_type": "code",
   "execution_count": 4,
   "metadata": {
    "scrolled": true
   },
   "outputs": [
    {
     "data": {
      "text/plain": [
       "(47433, 8)"
      ]
     },
     "execution_count": 4,
     "metadata": {},
     "output_type": "execute_result"
    }
   ],
   "source": [
    "m_akas_us = pd.read_sql('''\n",
    "SELECT *\n",
    "FROM movie_akas\n",
    "WHERE region = 'US' \n",
    "GROUP BY movie_id\n",
    "''', conn)\n",
    "m_akas_us.shape"
   ]
  },
  {
   "cell_type": "code",
   "execution_count": 33,
   "metadata": {
    "scrolled": true
   },
   "outputs": [],
   "source": [
    "#m_akas_us['movie_id'].value_counts()"
   ]
  },
  {
   "cell_type": "code",
   "execution_count": 17,
   "metadata": {},
   "outputs": [
    {
     "data": {
      "text/plain": [
       "47433"
      ]
     },
     "execution_count": 17,
     "metadata": {},
     "output_type": "execute_result"
    }
   ],
   "source": [
    "len(m_akas_us['movie_id'].unique())"
   ]
  },
  {
   "cell_type": "code",
   "execution_count": 34,
   "metadata": {
    "scrolled": true
   },
   "outputs": [],
   "source": [
    "#m_akas_us.loc[m_akas_us['movie_id'] == 'tt2488496']"
   ]
  },
  {
   "cell_type": "markdown",
   "metadata": {},
   "source": [
    "### 3b. Exploring: movie_akas_imdb"
   ]
  },
  {
   "cell_type": "code",
   "execution_count": 35,
   "metadata": {
    "scrolled": true
   },
   "outputs": [],
   "source": [
    "#movie_basics_imdb.info()"
   ]
  },
  {
   "cell_type": "code",
   "execution_count": 36,
   "metadata": {
    "scrolled": false
   },
   "outputs": [],
   "source": [
    "#movie_basics_imdb['movie_id'].value_counts()"
   ]
  },
  {
   "cell_type": "code",
   "execution_count": 5,
   "metadata": {
    "scrolled": true
   },
   "outputs": [],
   "source": [
    "m_basics = pd.read_sql('''\n",
    "SELECT *\n",
    "FROM movie_basics\n",
    "WHERE length(movie_id) = 9\n",
    "''', conn)\n",
    "#m_basics"
   ]
  },
  {
   "cell_type": "code",
   "execution_count": 6,
   "metadata": {
    "scrolled": true
   },
   "outputs": [],
   "source": [
    "akas_basics_merge = m_akas_us.merge(m_basics, on='movie_id',\n",
    "                                        how='inner')\n",
    "#akas_basics_merge.info()"
   ]
  },
  {
   "cell_type": "markdown",
   "metadata": {},
   "source": [
    "### 3c. Explored: movie_rat_imdb"
   ]
  },
  {
   "cell_type": "code",
   "execution_count": 39,
   "metadata": {
    "scrolled": true
   },
   "outputs": [],
   "source": [
    "#movie_rat_imdb.info()"
   ]
  },
  {
   "cell_type": "markdown",
   "metadata": {},
   "source": [
    " # 3d. Combining IMDB database"
   ]
  },
  {
   "cell_type": "code",
   "execution_count": 7,
   "metadata": {
    "scrolled": false
   },
   "outputs": [],
   "source": [
    "imdb_merged = akas_basics_merge.merge(movie_rat_imdb, on='movie_id',\n",
    "                                       how='left')\n",
    "#imdb_merged"
   ]
  },
  {
   "cell_type": "code",
   "execution_count": 42,
   "metadata": {
    "scrolled": true
   },
   "outputs": [],
   "source": [
    "#imdb_merged.info()"
   ]
  },
  {
   "cell_type": "code",
   "execution_count": 8,
   "metadata": {
    "scrolled": true
   },
   "outputs": [],
   "source": [
    "imdb_merged.drop(['language', 'attributes', 'types'], axis=1, inplace=True)"
   ]
  },
  {
   "cell_type": "code",
   "execution_count": 44,
   "metadata": {
    "scrolled": true
   },
   "outputs": [],
   "source": [
    "#imdb_merged.info()"
   ]
  },
  {
   "cell_type": "markdown",
   "metadata": {},
   "source": [
    "# 5. Loading tn.movie_budgets as pd.df"
   ]
  },
  {
   "cell_type": "code",
   "execution_count": 9,
   "metadata": {},
   "outputs": [],
   "source": [
    "tn_budgets = pd.read_csv('data/tn.movie_budgets.csv.gz')"
   ]
  },
  {
   "cell_type": "code",
   "execution_count": 10,
   "metadata": {},
   "outputs": [
    {
     "data": {
      "text/plain": [
       "\"\\nSELECT customerName, state, country\\nFROM \\nWHERE country != 'USA' AND customerName LIKE '%collect%'\\n\""
      ]
     },
     "execution_count": 10,
     "metadata": {},
     "output_type": "execute_result"
    }
   ],
   "source": [
    "#going to need this after I get movie id list onto budget list\n",
    "\"\"\"\n",
    "SELECT customerName, state, country\n",
    "FROM \n",
    "WHERE country != 'USA' AND customerName LIKE '%collect%'\n",
    "\"\"\""
   ]
  },
  {
   "cell_type": "markdown",
   "metadata": {},
   "source": [
    "# 6. Exploring tn_budgets"
   ]
  },
  {
   "cell_type": "code",
   "execution_count": 11,
   "metadata": {},
   "outputs": [],
   "source": [
    "tn_budgets.drop_duplicates(subset = ['movie'], inplace=True)"
   ]
  },
  {
   "cell_type": "code",
   "execution_count": 12,
   "metadata": {},
   "outputs": [],
   "source": [
    "tn_budgets.rename(columns = {'movie':'primary_title'}, inplace=True)"
   ]
  },
  {
   "cell_type": "code",
   "execution_count": 13,
   "metadata": {},
   "outputs": [
    {
     "data": {
      "text/plain": [
       "Hot Rod                              1\n",
       "The Big Bounce                       1\n",
       "Jem and the Holograms                1\n",
       "Ant-Man and the Wasp                 1\n",
       "Dragon Ball Super: Broly             1\n",
       "                                    ..\n",
       "Atlas Shrugged: Who Is John Galt?    1\n",
       "Wah-Wah                              1\n",
       "The Hunger Games: Catching Fire      1\n",
       "Arachnophobia                        1\n",
       "Green Room                           1\n",
       "Name: primary_title, Length: 5698, dtype: int64"
      ]
     },
     "execution_count": 13,
     "metadata": {},
     "output_type": "execute_result"
    }
   ],
   "source": [
    "tn_budgets['primary_title'].value_counts()"
   ]
  },
  {
   "cell_type": "markdown",
   "metadata": {},
   "source": [
    "# 7: MERGE Merging Budgets to IMDB"
   ]
  },
  {
   "cell_type": "markdown",
   "metadata": {},
   "source": [
    "#### follow link: https://www.geeksforgeeks.org/how-to-convert-pandas-dataframe-into-sql-in-python/"
   ]
  },
  {
   "cell_type": "code",
   "execution_count": 14,
   "metadata": {},
   "outputs": [],
   "source": [
    "imdb_df_copy = imdb_merged.copy()"
   ]
  },
  {
   "cell_type": "code",
   "execution_count": 400,
   "metadata": {
    "scrolled": true
   },
   "outputs": [
    {
     "name": "stdout",
     "output_type": "stream",
     "text": [
      "<class 'pandas.core.frame.DataFrame'>\n",
      "Int64Index: 47378 entries, 0 to 47377\n",
      "Data columns (total 12 columns):\n",
      " #   Column             Non-Null Count  Dtype  \n",
      "---  ------             --------------  -----  \n",
      " 0   movie_id           47378 non-null  object \n",
      " 1   ordering           47378 non-null  int64  \n",
      " 2   title              47378 non-null  object \n",
      " 3   region             47378 non-null  object \n",
      " 4   is_original_title  47373 non-null  float64\n",
      " 5   primary_title      47378 non-null  object \n",
      " 6   original_title     47377 non-null  object \n",
      " 7   start_year         47378 non-null  int64  \n",
      " 8   runtime_minutes    39642 non-null  float64\n",
      " 9   genres             46788 non-null  object \n",
      " 10  averagerating      26637 non-null  float64\n",
      " 11  numvotes           26637 non-null  float64\n",
      "dtypes: float64(4), int64(2), object(6)\n",
      "memory usage: 4.7+ MB\n"
     ]
    }
   ],
   "source": [
    "imdb_df_copy.info()"
   ]
  },
  {
   "cell_type": "code",
   "execution_count": 513,
   "metadata": {},
   "outputs": [],
   "source": [
    "#imdb_db = pd.merge_ordered(imdb_df_copy, tn_budgets, on='primary_title')\n",
    "#imdb_db.drop_duplicates(subset='primary_title', inplace=True)"
   ]
  },
  {
   "cell_type": "code",
   "execution_count": 15,
   "metadata": {},
   "outputs": [],
   "source": [
    "imdb_db = imdb_df_copy.merge(tn_budgets, how='inner', on='primary_title')"
   ]
  },
  {
   "cell_type": "code",
   "execution_count": 16,
   "metadata": {},
   "outputs": [
    {
     "data": {
      "text/html": [
       "<div>\n",
       "<style scoped>\n",
       "    .dataframe tbody tr th:only-of-type {\n",
       "        vertical-align: middle;\n",
       "    }\n",
       "\n",
       "    .dataframe tbody tr th {\n",
       "        vertical-align: top;\n",
       "    }\n",
       "\n",
       "    .dataframe thead th {\n",
       "        text-align: right;\n",
       "    }\n",
       "</style>\n",
       "<table border=\"1\" class=\"dataframe\">\n",
       "  <thead>\n",
       "    <tr style=\"text-align: right;\">\n",
       "      <th></th>\n",
       "      <th>movie_id</th>\n",
       "      <th>ordering</th>\n",
       "      <th>title</th>\n",
       "      <th>region</th>\n",
       "      <th>is_original_title</th>\n",
       "      <th>primary_title</th>\n",
       "      <th>original_title</th>\n",
       "      <th>start_year</th>\n",
       "      <th>runtime_minutes</th>\n",
       "      <th>genres</th>\n",
       "      <th>averagerating</th>\n",
       "      <th>numvotes</th>\n",
       "      <th>id</th>\n",
       "      <th>release_date</th>\n",
       "      <th>production_budget</th>\n",
       "      <th>domestic_gross</th>\n",
       "      <th>worldwide_gross</th>\n",
       "    </tr>\n",
       "  </thead>\n",
       "  <tbody>\n",
       "    <tr>\n",
       "      <th>0</th>\n",
       "      <td>tt0249516</td>\n",
       "      <td>2</td>\n",
       "      <td>Foodfight!</td>\n",
       "      <td>US</td>\n",
       "      <td>0.0</td>\n",
       "      <td>Foodfight!</td>\n",
       "      <td>Foodfight!</td>\n",
       "      <td>2012</td>\n",
       "      <td>91.0</td>\n",
       "      <td>Action,Animation,Comedy</td>\n",
       "      <td>1.9</td>\n",
       "      <td>8248.0</td>\n",
       "      <td>26</td>\n",
       "      <td>Dec 31, 2012</td>\n",
       "      <td>$45,000,000</td>\n",
       "      <td>$0</td>\n",
       "      <td>$73,706</td>\n",
       "    </tr>\n",
       "    <tr>\n",
       "      <th>1</th>\n",
       "      <td>tt0293429</td>\n",
       "      <td>5</td>\n",
       "      <td>Mortal Kombat: Devastation</td>\n",
       "      <td>US</td>\n",
       "      <td>0.0</td>\n",
       "      <td>Mortal Kombat</td>\n",
       "      <td>Mortal Kombat</td>\n",
       "      <td>2021</td>\n",
       "      <td>NaN</td>\n",
       "      <td>Action,Adventure,Fantasy</td>\n",
       "      <td>NaN</td>\n",
       "      <td>NaN</td>\n",
       "      <td>10</td>\n",
       "      <td>Aug 18, 1995</td>\n",
       "      <td>$20,000,000</td>\n",
       "      <td>$70,433,227</td>\n",
       "      <td>$122,133,227</td>\n",
       "    </tr>\n",
       "    <tr>\n",
       "      <th>2</th>\n",
       "      <td>tt0326592</td>\n",
       "      <td>1</td>\n",
       "      <td>A Bellman, a Hooker, and a Rabbi...</td>\n",
       "      <td>US</td>\n",
       "      <td>0.0</td>\n",
       "      <td>The Overnight</td>\n",
       "      <td>The Overnight</td>\n",
       "      <td>2010</td>\n",
       "      <td>88.0</td>\n",
       "      <td>None</td>\n",
       "      <td>7.5</td>\n",
       "      <td>24.0</td>\n",
       "      <td>21</td>\n",
       "      <td>Jun 19, 2015</td>\n",
       "      <td>$200,000</td>\n",
       "      <td>$1,109,808</td>\n",
       "      <td>$1,165,996</td>\n",
       "    </tr>\n",
       "    <tr>\n",
       "      <th>3</th>\n",
       "      <td>tt3844362</td>\n",
       "      <td>6</td>\n",
       "      <td>The Overnight</td>\n",
       "      <td>US</td>\n",
       "      <td>0.0</td>\n",
       "      <td>The Overnight</td>\n",
       "      <td>The Overnight</td>\n",
       "      <td>2015</td>\n",
       "      <td>79.0</td>\n",
       "      <td>Comedy,Mystery</td>\n",
       "      <td>6.1</td>\n",
       "      <td>14828.0</td>\n",
       "      <td>21</td>\n",
       "      <td>Jun 19, 2015</td>\n",
       "      <td>$200,000</td>\n",
       "      <td>$1,109,808</td>\n",
       "      <td>$1,165,996</td>\n",
       "    </tr>\n",
       "    <tr>\n",
       "      <th>4</th>\n",
       "      <td>tt0359950</td>\n",
       "      <td>25</td>\n",
       "      <td>The Secret Life of Walter Mitty</td>\n",
       "      <td>US</td>\n",
       "      <td>0.0</td>\n",
       "      <td>The Secret Life of Walter Mitty</td>\n",
       "      <td>The Secret Life of Walter Mitty</td>\n",
       "      <td>2013</td>\n",
       "      <td>114.0</td>\n",
       "      <td>Adventure,Comedy,Drama</td>\n",
       "      <td>7.3</td>\n",
       "      <td>275300.0</td>\n",
       "      <td>37</td>\n",
       "      <td>Dec 25, 2013</td>\n",
       "      <td>$91,000,000</td>\n",
       "      <td>$58,236,838</td>\n",
       "      <td>$187,861,183</td>\n",
       "    </tr>\n",
       "    <tr>\n",
       "      <th>...</th>\n",
       "      <td>...</td>\n",
       "      <td>...</td>\n",
       "      <td>...</td>\n",
       "      <td>...</td>\n",
       "      <td>...</td>\n",
       "      <td>...</td>\n",
       "      <td>...</td>\n",
       "      <td>...</td>\n",
       "      <td>...</td>\n",
       "      <td>...</td>\n",
       "      <td>...</td>\n",
       "      <td>...</td>\n",
       "      <td>...</td>\n",
       "      <td>...</td>\n",
       "      <td>...</td>\n",
       "      <td>...</td>\n",
       "      <td>...</td>\n",
       "    </tr>\n",
       "    <tr>\n",
       "      <th>2138</th>\n",
       "      <td>tt8575408</td>\n",
       "      <td>4</td>\n",
       "      <td>Hide and Seek</td>\n",
       "      <td>US</td>\n",
       "      <td>0.0</td>\n",
       "      <td>Hide and Seek</td>\n",
       "      <td>Amur senza fin</td>\n",
       "      <td>2018</td>\n",
       "      <td>91.0</td>\n",
       "      <td>Comedy</td>\n",
       "      <td>6.6</td>\n",
       "      <td>31.0</td>\n",
       "      <td>96</td>\n",
       "      <td>Jan 28, 2005</td>\n",
       "      <td>$25,000,000</td>\n",
       "      <td>$51,100,486</td>\n",
       "      <td>$123,696,741</td>\n",
       "    </tr>\n",
       "    <tr>\n",
       "      <th>2139</th>\n",
       "      <td>tt8632862</td>\n",
       "      <td>6</td>\n",
       "      <td>Fahrenheit 11/9</td>\n",
       "      <td>US</td>\n",
       "      <td>0.0</td>\n",
       "      <td>Fahrenheit 11/9</td>\n",
       "      <td>Fahrenheit 11/9</td>\n",
       "      <td>2018</td>\n",
       "      <td>128.0</td>\n",
       "      <td>Documentary</td>\n",
       "      <td>6.7</td>\n",
       "      <td>11628.0</td>\n",
       "      <td>29</td>\n",
       "      <td>Sep 21, 2018</td>\n",
       "      <td>$5,000,000</td>\n",
       "      <td>$6,352,306</td>\n",
       "      <td>$6,653,715</td>\n",
       "    </tr>\n",
       "    <tr>\n",
       "      <th>2140</th>\n",
       "      <td>tt8663516</td>\n",
       "      <td>8</td>\n",
       "      <td>Child's Play</td>\n",
       "      <td>US</td>\n",
       "      <td>0.0</td>\n",
       "      <td>Child's Play</td>\n",
       "      <td>Child's Play</td>\n",
       "      <td>2019</td>\n",
       "      <td>120.0</td>\n",
       "      <td>Horror</td>\n",
       "      <td>NaN</td>\n",
       "      <td>NaN</td>\n",
       "      <td>77</td>\n",
       "      <td>Nov 9, 1988</td>\n",
       "      <td>$9,000,000</td>\n",
       "      <td>$33,244,684</td>\n",
       "      <td>$44,196,684</td>\n",
       "    </tr>\n",
       "    <tr>\n",
       "      <th>2141</th>\n",
       "      <td>tt9024106</td>\n",
       "      <td>3</td>\n",
       "      <td>Unplanned</td>\n",
       "      <td>US</td>\n",
       "      <td>0.0</td>\n",
       "      <td>Unplanned</td>\n",
       "      <td>Unplanned</td>\n",
       "      <td>2019</td>\n",
       "      <td>106.0</td>\n",
       "      <td>Biography,Drama</td>\n",
       "      <td>6.3</td>\n",
       "      <td>5945.0</td>\n",
       "      <td>33</td>\n",
       "      <td>Mar 29, 2019</td>\n",
       "      <td>$6,000,000</td>\n",
       "      <td>$18,107,621</td>\n",
       "      <td>$18,107,621</td>\n",
       "    </tr>\n",
       "    <tr>\n",
       "      <th>2142</th>\n",
       "      <td>tt9411866</td>\n",
       "      <td>1</td>\n",
       "      <td>Untitled Sally Potter Project</td>\n",
       "      <td>US</td>\n",
       "      <td>0.0</td>\n",
       "      <td>Molly</td>\n",
       "      <td>Molly</td>\n",
       "      <td>2020</td>\n",
       "      <td>NaN</td>\n",
       "      <td>Drama</td>\n",
       "      <td>NaN</td>\n",
       "      <td>NaN</td>\n",
       "      <td>81</td>\n",
       "      <td>Oct 22, 1999</td>\n",
       "      <td>$21,000,000</td>\n",
       "      <td>$17,396</td>\n",
       "      <td>$17,396</td>\n",
       "    </tr>\n",
       "  </tbody>\n",
       "</table>\n",
       "<p>2143 rows × 17 columns</p>\n",
       "</div>"
      ],
      "text/plain": [
       "       movie_id  ordering                                title region  \\\n",
       "0     tt0249516         2                           Foodfight!     US   \n",
       "1     tt0293429         5           Mortal Kombat: Devastation     US   \n",
       "2     tt0326592         1  A Bellman, a Hooker, and a Rabbi...     US   \n",
       "3     tt3844362         6                        The Overnight     US   \n",
       "4     tt0359950        25      The Secret Life of Walter Mitty     US   \n",
       "...         ...       ...                                  ...    ...   \n",
       "2138  tt8575408         4                        Hide and Seek     US   \n",
       "2139  tt8632862         6                      Fahrenheit 11/9     US   \n",
       "2140  tt8663516         8                         Child's Play     US   \n",
       "2141  tt9024106         3                            Unplanned     US   \n",
       "2142  tt9411866         1        Untitled Sally Potter Project     US   \n",
       "\n",
       "      is_original_title                    primary_title  \\\n",
       "0                   0.0                       Foodfight!   \n",
       "1                   0.0                    Mortal Kombat   \n",
       "2                   0.0                    The Overnight   \n",
       "3                   0.0                    The Overnight   \n",
       "4                   0.0  The Secret Life of Walter Mitty   \n",
       "...                 ...                              ...   \n",
       "2138                0.0                    Hide and Seek   \n",
       "2139                0.0                  Fahrenheit 11/9   \n",
       "2140                0.0                     Child's Play   \n",
       "2141                0.0                        Unplanned   \n",
       "2142                0.0                            Molly   \n",
       "\n",
       "                       original_title  start_year  runtime_minutes  \\\n",
       "0                          Foodfight!        2012             91.0   \n",
       "1                       Mortal Kombat        2021              NaN   \n",
       "2                       The Overnight        2010             88.0   \n",
       "3                       The Overnight        2015             79.0   \n",
       "4     The Secret Life of Walter Mitty        2013            114.0   \n",
       "...                               ...         ...              ...   \n",
       "2138                   Amur senza fin        2018             91.0   \n",
       "2139                  Fahrenheit 11/9        2018            128.0   \n",
       "2140                     Child's Play        2019            120.0   \n",
       "2141                        Unplanned        2019            106.0   \n",
       "2142                            Molly        2020              NaN   \n",
       "\n",
       "                        genres  averagerating  numvotes  id  release_date  \\\n",
       "0      Action,Animation,Comedy            1.9    8248.0  26  Dec 31, 2012   \n",
       "1     Action,Adventure,Fantasy            NaN       NaN  10  Aug 18, 1995   \n",
       "2                         None            7.5      24.0  21  Jun 19, 2015   \n",
       "3               Comedy,Mystery            6.1   14828.0  21  Jun 19, 2015   \n",
       "4       Adventure,Comedy,Drama            7.3  275300.0  37  Dec 25, 2013   \n",
       "...                        ...            ...       ...  ..           ...   \n",
       "2138                    Comedy            6.6      31.0  96  Jan 28, 2005   \n",
       "2139               Documentary            6.7   11628.0  29  Sep 21, 2018   \n",
       "2140                    Horror            NaN       NaN  77   Nov 9, 1988   \n",
       "2141           Biography,Drama            6.3    5945.0  33  Mar 29, 2019   \n",
       "2142                     Drama            NaN       NaN  81  Oct 22, 1999   \n",
       "\n",
       "     production_budget domestic_gross worldwide_gross  \n",
       "0          $45,000,000             $0         $73,706  \n",
       "1          $20,000,000    $70,433,227    $122,133,227  \n",
       "2             $200,000     $1,109,808      $1,165,996  \n",
       "3             $200,000     $1,109,808      $1,165,996  \n",
       "4          $91,000,000    $58,236,838    $187,861,183  \n",
       "...                ...            ...             ...  \n",
       "2138       $25,000,000    $51,100,486    $123,696,741  \n",
       "2139        $5,000,000     $6,352,306      $6,653,715  \n",
       "2140        $9,000,000    $33,244,684     $44,196,684  \n",
       "2141        $6,000,000    $18,107,621     $18,107,621  \n",
       "2142       $21,000,000        $17,396         $17,396  \n",
       "\n",
       "[2143 rows x 17 columns]"
      ]
     },
     "execution_count": 16,
     "metadata": {},
     "output_type": "execute_result"
    }
   ],
   "source": [
    "imdb_db"
   ]
  },
  {
   "cell_type": "markdown",
   "metadata": {},
   "source": [
    "# Sorted by Genre"
   ]
  },
  {
   "cell_type": "code",
   "execution_count": 27,
   "metadata": {},
   "outputs": [],
   "source": [
    "import pandas as pd\n",
    "import numpy as np\n",
    "\n",
    "import matplotlib.pyplot as plt\n",
    "# same as \n",
    "# from matplotlib import pyplot as plt\n",
    "\n",
    "import seaborn as sns\n",
    "\n",
    "from scipy import stats\n",
    "from sklearn.datasets import load_iris"
   ]
  },
  {
   "cell_type": "code",
   "execution_count": 17,
   "metadata": {},
   "outputs": [],
   "source": [
    "imdb_db['worldwide_gross'] = imdb_db['worldwide_gross'].str.replace('$','').str.replace(',','').astype(float)\n",
    "imdb_db['production_budget'] = imdb_db['production_budget'].str.replace('$','').str.replace(',','').astype(float)\n",
    "imdb_db['domestic_gross'] = imdb_db['domestic_gross'].str.replace('$','').str.replace(',','').astype(float)\n",
    "\n",
    "imdb_db['profit'] = imdb_db['worldwide_gross'] - imdb_db['production_budget']"
   ]
  },
  {
   "cell_type": "code",
   "execution_count": 409,
   "metadata": {},
   "outputs": [
    {
     "name": "stdout",
     "output_type": "stream",
     "text": [
      "<class 'pandas.core.frame.DataFrame'>\n",
      "Int64Index: 49168 entries, 0 to 51256\n",
      "Data columns (total 18 columns):\n",
      " #   Column             Non-Null Count  Dtype  \n",
      "---  ------             --------------  -----  \n",
      " 0   movie_id           45289 non-null  object \n",
      " 1   ordering           45289 non-null  float64\n",
      " 2   title              45289 non-null  object \n",
      " 3   region             45289 non-null  object \n",
      " 4   is_original_title  45284 non-null  float64\n",
      " 5   primary_title      49168 non-null  object \n",
      " 6   original_title     45288 non-null  object \n",
      " 7   start_year         45289 non-null  float64\n",
      " 8   runtime_minutes    37972 non-null  float64\n",
      " 9   genres             44732 non-null  object \n",
      " 10  averagerating      25579 non-null  float64\n",
      " 11  numvotes           25579 non-null  float64\n",
      " 12  id                 5698 non-null   float64\n",
      " 13  release_date       5698 non-null   object \n",
      " 14  production_budget  5698 non-null   float64\n",
      " 15  domestic_gross     5698 non-null   float64\n",
      " 16  worldwide_gross    5698 non-null   float64\n",
      " 17  profit             5698 non-null   float64\n",
      "dtypes: float64(11), object(7)\n",
      "memory usage: 7.1+ MB\n"
     ]
    }
   ],
   "source": [
    "imdb_db.info()"
   ]
  },
  {
   "cell_type": "code",
   "execution_count": 18,
   "metadata": {
    "scrolled": true
   },
   "outputs": [],
   "source": [
    "imdb_db['genres'].dropna(inplace=True)"
   ]
  },
  {
   "cell_type": "code",
   "execution_count": 19,
   "metadata": {},
   "outputs": [],
   "source": [
    "imdb_db['profit'].dropna(inplace=True)"
   ]
  },
  {
   "cell_type": "code",
   "execution_count": 20,
   "metadata": {},
   "outputs": [],
   "source": [
    "genre_profit = imdb_db.loc[:,['genres','profit']]"
   ]
  },
  {
   "cell_type": "code",
   "execution_count": 21,
   "metadata": {},
   "outputs": [],
   "source": [
    "genre_profit.dropna(axis = 0, inplace=True)"
   ]
  },
  {
   "cell_type": "code",
   "execution_count": 29,
   "metadata": {},
   "outputs": [],
   "source": [
    "gen_pro = genre_profit.sort_values('profit', ascending=False).head(30)"
   ]
  },
  {
   "cell_type": "code",
   "execution_count": 33,
   "metadata": {},
   "outputs": [],
   "source": [
    "#gen_pro"
   ]
  },
  {
   "cell_type": "code",
   "execution_count": 32,
   "metadata": {},
   "outputs": [
    {
     "data": {
      "image/png": "[encoded data removed]",
      "text/plain": [
       "<Figure size 432x288 with 1 Axes>"
      ]
     },
     "metadata": {
      "needs_background": "light"
     },
     "output_type": "display_data"
    }
   ],
   "source": [
    "gen_pro.plot(kind = 'bar',\n",
    "        x = 'genres',\n",
    "        y = 'profit',\n",
    "        color = 'blue')\n",
    "  \n",
    "# set the title\n",
    "plt.title('Top Performing Genres')\n",
    "  \n",
    "# show the plot\n",
    "plt.show()"
   ]
  },
  {
   "cell_type": "markdown",
   "metadata": {},
   "source": [
    "#  Sorted by popularity"
   ]
  },
  {
   "cell_type": "code",
   "execution_count": 245,
   "metadata": {},
   "outputs": [],
   "source": [
    "tmdb_votes = pd.read_csv('data/tmdb.movies.csv.gz')"
   ]
  },
  {
   "cell_type": "code",
   "execution_count": 246,
   "metadata": {
    "scrolled": false
   },
   "outputs": [
    {
     "name": "stdout",
     "output_type": "stream",
     "text": [
      "<class 'pandas.core.frame.DataFrame'>\n",
      "RangeIndex: 26517 entries, 0 to 26516\n",
      "Data columns (total 10 columns):\n",
      " #   Column             Non-Null Count  Dtype  \n",
      "---  ------             --------------  -----  \n",
      " 0   Unnamed: 0         26517 non-null  int64  \n",
      " 1   genre_ids          26517 non-null  object \n",
      " 2   id                 26517 non-null  int64  \n",
      " 3   original_language  26517 non-null  object \n",
      " 4   original_title     26517 non-null  object \n",
      " 5   popularity         26517 non-null  float64\n",
      " 6   release_date       26517 non-null  object \n",
      " 7   title              26517 non-null  object \n",
      " 8   vote_average       26517 non-null  float64\n",
      " 9   vote_count         26517 non-null  int64  \n",
      "dtypes: float64(2), int64(3), object(5)\n",
      "memory usage: 2.0+ MB\n"
     ]
    }
   ],
   "source": [
    "tmdb_votes.info()"
   ]
  },
  {
   "cell_type": "code",
   "execution_count": 241,
   "metadata": {
    "scrolled": true
   },
   "outputs": [],
   "source": [
    "#tmdb_votes.rename(columns={'original_title':'primary_title'}, inplace=True)"
   ]
  },
  {
   "cell_type": "code",
   "execution_count": 247,
   "metadata": {},
   "outputs": [],
   "source": [
    "tmdb_votes.drop_duplicates(subset='original_title', inplace=True)"
   ]
  },
  {
   "cell_type": "code",
   "execution_count": 256,
   "metadata": {},
   "outputs": [],
   "source": [
    "tmdb_votes.drop_duplicates(subset='title', inplace=True)"
   ]
  },
  {
   "cell_type": "code",
   "execution_count": null,
   "metadata": {},
   "outputs": [],
   "source": [
    "#not a big difference between taking out one 'title' column\n",
    "#dupe over the other. Better safe than sorry?"
   ]
  },
  {
   "cell_type": "code",
   "execution_count": 257,
   "metadata": {
    "scrolled": true
   },
   "outputs": [
    {
     "name": "stdout",
     "output_type": "stream",
     "text": [
      "<class 'pandas.core.frame.DataFrame'>\n",
      "Int64Index: 11970 entries, 0 to 11969\n",
      "Data columns (total 21 columns):\n",
      " #   Column             Non-Null Count  Dtype  \n",
      "---  ------             --------------  -----  \n",
      " 0   movie_id           11970 non-null  object \n",
      " 1   ordering           11970 non-null  int64  \n",
      " 2   title_x            11970 non-null  object \n",
      " 3   region             11970 non-null  object \n",
      " 4   is_original_title  11969 non-null  float64\n",
      " 5   primary_title      11970 non-null  object \n",
      " 6   original_title     11970 non-null  object \n",
      " 7   start_year         11970 non-null  int64  \n",
      " 8   runtime_minutes    11463 non-null  float64\n",
      " 9   genres             11922 non-null  object \n",
      " 10  averagerating      11075 non-null  float64\n",
      " 11  numvotes           11075 non-null  float64\n",
      " 12  Unnamed: 0         11970 non-null  int64  \n",
      " 13  genre_ids          11970 non-null  object \n",
      " 14  id                 11970 non-null  int64  \n",
      " 15  original_language  11970 non-null  object \n",
      " 16  popularity         11970 non-null  float64\n",
      " 17  release_date       11970 non-null  object \n",
      " 18  title_y            11970 non-null  object \n",
      " 19  vote_average       11970 non-null  float64\n",
      " 20  vote_count         11970 non-null  int64  \n",
      "dtypes: float64(6), int64(5), object(10)\n",
      "memory usage: 2.0+ MB\n"
     ]
    }
   ],
   "source": [
    "imdb_votes = imdb_df_copy.merge(tmdb_votes, on='original_title')\n",
    "imdb_votes.info()"
   ]
  },
  {
   "cell_type": "markdown",
   "metadata": {},
   "source": [
    "### Can we show that popularity == net profits?"
   ]
  },
  {
   "cell_type": "code",
   "execution_count": 266,
   "metadata": {
    "scrolled": true
   },
   "outputs": [
    {
     "data": {
      "text/html": [
       "<div>\n",
       "<style scoped>\n",
       "    .dataframe tbody tr th:only-of-type {\n",
       "        vertical-align: middle;\n",
       "    }\n",
       "\n",
       "    .dataframe tbody tr th {\n",
       "        vertical-align: top;\n",
       "    }\n",
       "\n",
       "    .dataframe thead th {\n",
       "        text-align: right;\n",
       "    }\n",
       "</style>\n",
       "<table border=\"1\" class=\"dataframe\">\n",
       "  <thead>\n",
       "    <tr style=\"text-align: right;\">\n",
       "      <th></th>\n",
       "      <th>Unnamed: 0</th>\n",
       "      <th>genre_ids</th>\n",
       "      <th>id</th>\n",
       "      <th>original_language</th>\n",
       "      <th>original_title</th>\n",
       "      <th>popularity</th>\n",
       "      <th>release_date</th>\n",
       "      <th>title</th>\n",
       "      <th>vote_average</th>\n",
       "      <th>vote_count</th>\n",
       "    </tr>\n",
       "  </thead>\n",
       "  <tbody>\n",
       "    <tr>\n",
       "      <th>0</th>\n",
       "      <td>0</td>\n",
       "      <td>[12, 14, 10751]</td>\n",
       "      <td>12444</td>\n",
       "      <td>en</td>\n",
       "      <td>Harry Potter and the Deathly Hallows: Part 1</td>\n",
       "      <td>33.533</td>\n",
       "      <td>2010-11-19</td>\n",
       "      <td>Harry Potter and the Deathly Hallows: Part 1</td>\n",
       "      <td>7.7</td>\n",
       "      <td>10788</td>\n",
       "    </tr>\n",
       "    <tr>\n",
       "      <th>1</th>\n",
       "      <td>1</td>\n",
       "      <td>[14, 12, 16, 10751]</td>\n",
       "      <td>10191</td>\n",
       "      <td>en</td>\n",
       "      <td>How to Train Your Dragon</td>\n",
       "      <td>28.734</td>\n",
       "      <td>2010-03-26</td>\n",
       "      <td>How to Train Your Dragon</td>\n",
       "      <td>7.7</td>\n",
       "      <td>7610</td>\n",
       "    </tr>\n",
       "    <tr>\n",
       "      <th>2</th>\n",
       "      <td>2</td>\n",
       "      <td>[12, 28, 878]</td>\n",
       "      <td>10138</td>\n",
       "      <td>en</td>\n",
       "      <td>Iron Man 2</td>\n",
       "      <td>28.515</td>\n",
       "      <td>2010-05-07</td>\n",
       "      <td>Iron Man 2</td>\n",
       "      <td>6.8</td>\n",
       "      <td>12368</td>\n",
       "    </tr>\n",
       "    <tr>\n",
       "      <th>3</th>\n",
       "      <td>3</td>\n",
       "      <td>[16, 35, 10751]</td>\n",
       "      <td>862</td>\n",
       "      <td>en</td>\n",
       "      <td>Toy Story</td>\n",
       "      <td>28.005</td>\n",
       "      <td>1995-11-22</td>\n",
       "      <td>Toy Story</td>\n",
       "      <td>7.9</td>\n",
       "      <td>10174</td>\n",
       "    </tr>\n",
       "    <tr>\n",
       "      <th>4</th>\n",
       "      <td>4</td>\n",
       "      <td>[28, 878, 12]</td>\n",
       "      <td>27205</td>\n",
       "      <td>en</td>\n",
       "      <td>Inception</td>\n",
       "      <td>27.920</td>\n",
       "      <td>2010-07-16</td>\n",
       "      <td>Inception</td>\n",
       "      <td>8.3</td>\n",
       "      <td>22186</td>\n",
       "    </tr>\n",
       "    <tr>\n",
       "      <th>5</th>\n",
       "      <td>5</td>\n",
       "      <td>[12, 14, 10751]</td>\n",
       "      <td>32657</td>\n",
       "      <td>en</td>\n",
       "      <td>Percy Jackson &amp; the Olympians: The Lightning T...</td>\n",
       "      <td>26.691</td>\n",
       "      <td>2010-02-11</td>\n",
       "      <td>Percy Jackson &amp; the Olympians: The Lightning T...</td>\n",
       "      <td>6.1</td>\n",
       "      <td>4229</td>\n",
       "    </tr>\n",
       "    <tr>\n",
       "      <th>6</th>\n",
       "      <td>6</td>\n",
       "      <td>[28, 12, 14, 878]</td>\n",
       "      <td>19995</td>\n",
       "      <td>en</td>\n",
       "      <td>Avatar</td>\n",
       "      <td>26.526</td>\n",
       "      <td>2009-12-18</td>\n",
       "      <td>Avatar</td>\n",
       "      <td>7.4</td>\n",
       "      <td>18676</td>\n",
       "    </tr>\n",
       "    <tr>\n",
       "      <th>7</th>\n",
       "      <td>7</td>\n",
       "      <td>[16, 10751, 35]</td>\n",
       "      <td>10193</td>\n",
       "      <td>en</td>\n",
       "      <td>Toy Story 3</td>\n",
       "      <td>24.445</td>\n",
       "      <td>2010-06-17</td>\n",
       "      <td>Toy Story 3</td>\n",
       "      <td>7.7</td>\n",
       "      <td>8340</td>\n",
       "    </tr>\n",
       "    <tr>\n",
       "      <th>8</th>\n",
       "      <td>8</td>\n",
       "      <td>[16, 10751, 35]</td>\n",
       "      <td>20352</td>\n",
       "      <td>en</td>\n",
       "      <td>Despicable Me</td>\n",
       "      <td>23.673</td>\n",
       "      <td>2010-07-09</td>\n",
       "      <td>Despicable Me</td>\n",
       "      <td>7.2</td>\n",
       "      <td>10057</td>\n",
       "    </tr>\n",
       "    <tr>\n",
       "      <th>9</th>\n",
       "      <td>9</td>\n",
       "      <td>[16, 28, 35, 10751, 878]</td>\n",
       "      <td>38055</td>\n",
       "      <td>en</td>\n",
       "      <td>Megamind</td>\n",
       "      <td>22.855</td>\n",
       "      <td>2010-11-04</td>\n",
       "      <td>Megamind</td>\n",
       "      <td>6.8</td>\n",
       "      <td>3635</td>\n",
       "    </tr>\n",
       "    <tr>\n",
       "      <th>10</th>\n",
       "      <td>10</td>\n",
       "      <td>[16, 35, 10751]</td>\n",
       "      <td>863</td>\n",
       "      <td>en</td>\n",
       "      <td>Toy Story 2</td>\n",
       "      <td>22.698</td>\n",
       "      <td>1999-11-24</td>\n",
       "      <td>Toy Story 2</td>\n",
       "      <td>7.5</td>\n",
       "      <td>7553</td>\n",
       "    </tr>\n",
       "    <tr>\n",
       "      <th>11</th>\n",
       "      <td>11</td>\n",
       "      <td>[10751, 14, 12]</td>\n",
       "      <td>12155</td>\n",
       "      <td>en</td>\n",
       "      <td>Alice in Wonderland</td>\n",
       "      <td>22.020</td>\n",
       "      <td>2010-03-05</td>\n",
       "      <td>Alice in Wonderland</td>\n",
       "      <td>6.6</td>\n",
       "      <td>8713</td>\n",
       "    </tr>\n",
       "    <tr>\n",
       "      <th>12</th>\n",
       "      <td>12</td>\n",
       "      <td>[53, 12, 28]</td>\n",
       "      <td>27578</td>\n",
       "      <td>en</td>\n",
       "      <td>The Expendables</td>\n",
       "      <td>21.517</td>\n",
       "      <td>2010-08-03</td>\n",
       "      <td>The Expendables</td>\n",
       "      <td>6.1</td>\n",
       "      <td>4647</td>\n",
       "    </tr>\n",
       "    <tr>\n",
       "      <th>13</th>\n",
       "      <td>13</td>\n",
       "      <td>[16, 10751]</td>\n",
       "      <td>38757</td>\n",
       "      <td>en</td>\n",
       "      <td>Tangled</td>\n",
       "      <td>21.511</td>\n",
       "      <td>2010-11-24</td>\n",
       "      <td>Tangled</td>\n",
       "      <td>7.5</td>\n",
       "      <td>6407</td>\n",
       "    </tr>\n",
       "    <tr>\n",
       "      <th>14</th>\n",
       "      <td>14</td>\n",
       "      <td>[27, 80]</td>\n",
       "      <td>41439</td>\n",
       "      <td>en</td>\n",
       "      <td>Saw 3D</td>\n",
       "      <td>20.370</td>\n",
       "      <td>2010-10-28</td>\n",
       "      <td>Saw: The Final Chapter</td>\n",
       "      <td>6.0</td>\n",
       "      <td>1488</td>\n",
       "    </tr>\n",
       "    <tr>\n",
       "      <th>15</th>\n",
       "      <td>15</td>\n",
       "      <td>[12, 14, 18, 10749]</td>\n",
       "      <td>24021</td>\n",
       "      <td>en</td>\n",
       "      <td>The Twilight Saga: Eclipse</td>\n",
       "      <td>20.340</td>\n",
       "      <td>2010-06-23</td>\n",
       "      <td>The Twilight Saga: Eclipse</td>\n",
       "      <td>6.0</td>\n",
       "      <td>4909</td>\n",
       "    </tr>\n",
       "    <tr>\n",
       "      <th>16</th>\n",
       "      <td>16</td>\n",
       "      <td>[28, 53, 878]</td>\n",
       "      <td>20504</td>\n",
       "      <td>en</td>\n",
       "      <td>The Book of Eli</td>\n",
       "      <td>18.985</td>\n",
       "      <td>2010-01-11</td>\n",
       "      <td>The Book of Eli</td>\n",
       "      <td>6.7</td>\n",
       "      <td>3495</td>\n",
       "    </tr>\n",
       "    <tr>\n",
       "      <th>17</th>\n",
       "      <td>17</td>\n",
       "      <td>[10402, 10749]</td>\n",
       "      <td>52371</td>\n",
       "      <td>nl</td>\n",
       "      <td>LelleBelle</td>\n",
       "      <td>18.586</td>\n",
       "      <td>2010-10-09</td>\n",
       "      <td>LelleBelle</td>\n",
       "      <td>4.5</td>\n",
       "      <td>36</td>\n",
       "    </tr>\n",
       "    <tr>\n",
       "      <th>18</th>\n",
       "      <td>18</td>\n",
       "      <td>[28, 18, 53]</td>\n",
       "      <td>2502</td>\n",
       "      <td>en</td>\n",
       "      <td>The Bourne Supremacy</td>\n",
       "      <td>18.199</td>\n",
       "      <td>2004-07-23</td>\n",
       "      <td>The Bourne Supremacy</td>\n",
       "      <td>7.3</td>\n",
       "      <td>4367</td>\n",
       "    </tr>\n",
       "    <tr>\n",
       "      <th>19</th>\n",
       "      <td>19</td>\n",
       "      <td>[18, 53, 9648]</td>\n",
       "      <td>11324</td>\n",
       "      <td>en</td>\n",
       "      <td>Shutter Island</td>\n",
       "      <td>18.060</td>\n",
       "      <td>2010-02-18</td>\n",
       "      <td>Shutter Island</td>\n",
       "      <td>8.1</td>\n",
       "      <td>12625</td>\n",
       "    </tr>\n",
       "  </tbody>\n",
       "</table>\n",
       "</div>"
      ],
      "text/plain": [
       "    Unnamed: 0                 genre_ids     id original_language  \\\n",
       "0            0           [12, 14, 10751]  12444                en   \n",
       "1            1       [14, 12, 16, 10751]  10191                en   \n",
       "2            2             [12, 28, 878]  10138                en   \n",
       "3            3           [16, 35, 10751]    862                en   \n",
       "4            4             [28, 878, 12]  27205                en   \n",
       "5            5           [12, 14, 10751]  32657                en   \n",
       "6            6         [28, 12, 14, 878]  19995                en   \n",
       "7            7           [16, 10751, 35]  10193                en   \n",
       "8            8           [16, 10751, 35]  20352                en   \n",
       "9            9  [16, 28, 35, 10751, 878]  38055                en   \n",
       "10          10           [16, 35, 10751]    863                en   \n",
       "11          11           [10751, 14, 12]  12155                en   \n",
       "12          12              [53, 12, 28]  27578                en   \n",
       "13          13               [16, 10751]  38757                en   \n",
       "14          14                  [27, 80]  41439                en   \n",
       "15          15       [12, 14, 18, 10749]  24021                en   \n",
       "16          16             [28, 53, 878]  20504                en   \n",
       "17          17            [10402, 10749]  52371                nl   \n",
       "18          18              [28, 18, 53]   2502                en   \n",
       "19          19            [18, 53, 9648]  11324                en   \n",
       "\n",
       "                                       original_title  popularity  \\\n",
       "0        Harry Potter and the Deathly Hallows: Part 1      33.533   \n",
       "1                            How to Train Your Dragon      28.734   \n",
       "2                                          Iron Man 2      28.515   \n",
       "3                                           Toy Story      28.005   \n",
       "4                                           Inception      27.920   \n",
       "5   Percy Jackson & the Olympians: The Lightning T...      26.691   \n",
       "6                                              Avatar      26.526   \n",
       "7                                         Toy Story 3      24.445   \n",
       "8                                       Despicable Me      23.673   \n",
       "9                                            Megamind      22.855   \n",
       "10                                        Toy Story 2      22.698   \n",
       "11                                Alice in Wonderland      22.020   \n",
       "12                                    The Expendables      21.517   \n",
       "13                                            Tangled      21.511   \n",
       "14                                             Saw 3D      20.370   \n",
       "15                         The Twilight Saga: Eclipse      20.340   \n",
       "16                                    The Book of Eli      18.985   \n",
       "17                                         LelleBelle      18.586   \n",
       "18                               The Bourne Supremacy      18.199   \n",
       "19                                     Shutter Island      18.060   \n",
       "\n",
       "   release_date                                              title  \\\n",
       "0    2010-11-19       Harry Potter and the Deathly Hallows: Part 1   \n",
       "1    2010-03-26                           How to Train Your Dragon   \n",
       "2    2010-05-07                                         Iron Man 2   \n",
       "3    1995-11-22                                          Toy Story   \n",
       "4    2010-07-16                                          Inception   \n",
       "5    2010-02-11  Percy Jackson & the Olympians: The Lightning T...   \n",
       "6    2009-12-18                                             Avatar   \n",
       "7    2010-06-17                                        Toy Story 3   \n",
       "8    2010-07-09                                      Despicable Me   \n",
       "9    2010-11-04                                           Megamind   \n",
       "10   1999-11-24                                        Toy Story 2   \n",
       "11   2010-03-05                                Alice in Wonderland   \n",
       "12   2010-08-03                                    The Expendables   \n",
       "13   2010-11-24                                            Tangled   \n",
       "14   2010-10-28                             Saw: The Final Chapter   \n",
       "15   2010-06-23                         The Twilight Saga: Eclipse   \n",
       "16   2010-01-11                                    The Book of Eli   \n",
       "17   2010-10-09                                         LelleBelle   \n",
       "18   2004-07-23                               The Bourne Supremacy   \n",
       "19   2010-02-18                                     Shutter Island   \n",
       "\n",
       "    vote_average  vote_count  \n",
       "0            7.7       10788  \n",
       "1            7.7        7610  \n",
       "2            6.8       12368  \n",
       "3            7.9       10174  \n",
       "4            8.3       22186  \n",
       "5            6.1        4229  \n",
       "6            7.4       18676  \n",
       "7            7.7        8340  \n",
       "8            7.2       10057  \n",
       "9            6.8        3635  \n",
       "10           7.5        7553  \n",
       "11           6.6        8713  \n",
       "12           6.1        4647  \n",
       "13           7.5        6407  \n",
       "14           6.0        1488  \n",
       "15           6.0        4909  \n",
       "16           6.7        3495  \n",
       "17           4.5          36  \n",
       "18           7.3        4367  \n",
       "19           8.1       12625  "
      ]
     },
     "execution_count": 266,
     "metadata": {},
     "output_type": "execute_result"
    }
   ],
   "source": [
    "tmdb_votes.head(20)"
   ]
  },
  {
   "cell_type": "code",
   "execution_count": 261,
   "metadata": {
    "scrolled": true
   },
   "outputs": [
    {
     "name": "stdout",
     "output_type": "stream",
     "text": [
      "<class 'pandas.core.frame.DataFrame'>\n",
      "Int64Index: 5698 entries, 0 to 5781\n",
      "Data columns (total 6 columns):\n",
      " #   Column             Non-Null Count  Dtype \n",
      "---  ------             --------------  ----- \n",
      " 0   id                 5698 non-null   int64 \n",
      " 1   release_date       5698 non-null   object\n",
      " 2   primary_title      5698 non-null   object\n",
      " 3   production_budget  5698 non-null   object\n",
      " 4   domestic_gross     5698 non-null   object\n",
      " 5   worldwide_gross    5698 non-null   object\n",
      "dtypes: int64(1), object(5)\n",
      "memory usage: 311.6+ KB\n"
     ]
    }
   ],
   "source": [
    "tn_budgets.info()"
   ]
  },
  {
   "cell_type": "code",
   "execution_count": 267,
   "metadata": {},
   "outputs": [],
   "source": [
    "tmdb_votes.rename(columns={'title': 'primary_title'}, inplace=True)"
   ]
  },
  {
   "cell_type": "code",
   "execution_count": 269,
   "metadata": {
    "scrolled": true
   },
   "outputs": [],
   "source": [
    "pop_prof = tn_budgets.merge(tmdb_votes, on='primary_title')"
   ]
  },
  {
   "cell_type": "code",
   "execution_count": 270,
   "metadata": {},
   "outputs": [
    {
     "name": "stdout",
     "output_type": "stream",
     "text": [
      "<class 'pandas.core.frame.DataFrame'>\n",
      "Int64Index: 1923 entries, 0 to 1922\n",
      "Data columns (total 15 columns):\n",
      " #   Column             Non-Null Count  Dtype  \n",
      "---  ------             --------------  -----  \n",
      " 0   id_x               1923 non-null   int64  \n",
      " 1   release_date_x     1923 non-null   object \n",
      " 2   primary_title      1923 non-null   object \n",
      " 3   production_budget  1923 non-null   object \n",
      " 4   domestic_gross     1923 non-null   object \n",
      " 5   worldwide_gross    1923 non-null   object \n",
      " 6   Unnamed: 0         1923 non-null   int64  \n",
      " 7   genre_ids          1923 non-null   object \n",
      " 8   id_y               1923 non-null   int64  \n",
      " 9   original_language  1923 non-null   object \n",
      " 10  original_title     1923 non-null   object \n",
      " 11  popularity         1923 non-null   float64\n",
      " 12  release_date_y     1923 non-null   object \n",
      " 13  vote_average       1923 non-null   float64\n",
      " 14  vote_count         1923 non-null   int64  \n",
      "dtypes: float64(2), int64(4), object(9)\n",
      "memory usage: 240.4+ KB\n"
     ]
    }
   ],
   "source": [
    "pop_prof.info()"
   ]
  },
  {
   "cell_type": "code",
   "execution_count": 273,
   "metadata": {},
   "outputs": [],
   "source": [
    "pop_prof['worldwide_gross'] = pop_prof['worldwide_gross'].str.replace('$','').str.replace(',','').astype(float)\n",
    "pop_prof['production_budget'] = pop_prof['production_budget'].str.replace('$','').str.replace(',','').astype(float)\n",
    "pop_prof['domestic_gross'] = pop_prof['domestic_gross'].str.replace('$','').str.replace(',','').astype(float)"
   ]
  },
  {
   "cell_type": "code",
   "execution_count": null,
   "metadata": {},
   "outputs": [],
   "source": [
    "pop_prof['profit'] = pop_prof['worldwide_gross'] - pop_prof['production_budget']"
   ]
  },
  {
   "cell_type": "code",
   "execution_count": 287,
   "metadata": {},
   "outputs": [],
   "source": [
    "pop_prof['profit'].dropna(inplace=True)"
   ]
  },
  {
   "cell_type": "code",
   "execution_count": 288,
   "metadata": {},
   "outputs": [],
   "source": [
    "pop_prof['popularity'].dropna(inplace=True)"
   ]
  },
  {
   "cell_type": "code",
   "execution_count": 291,
   "metadata": {},
   "outputs": [],
   "source": [
    "import numpy as np"
   ]
  },
  {
   "cell_type": "code",
   "execution_count": 294,
   "metadata": {
    "scrolled": true
   },
   "outputs": [
    {
     "data": {
      "text/plain": [
       "count    1923.000000\n",
       "mean       10.559513\n",
       "std         8.013401\n",
       "min         0.600000\n",
       "25%         5.599000\n",
       "50%         9.394000\n",
       "75%        14.225500\n",
       "max        80.773000\n",
       "Name: popularity, dtype: float64"
      ]
     },
     "execution_count": 294,
     "metadata": {},
     "output_type": "execute_result"
    }
   ],
   "source": [
    "pop_prof['popularity'].describe()"
   ]
  },
  {
   "cell_type": "code",
   "execution_count": 295,
   "metadata": {
    "scrolled": false
   },
   "outputs": [
    {
     "data": {
      "text/plain": [
       "count    1.923000e+03\n",
       "mean     8.166380e+07\n",
       "std      1.842203e+08\n",
       "min     -1.104502e+08\n",
       "25%     -1.804854e+06\n",
       "50%      1.360958e+07\n",
       "75%      7.795270e+07\n",
       "max      2.351345e+09\n",
       "Name: profit, dtype: float64"
      ]
     },
     "execution_count": 295,
     "metadata": {},
     "output_type": "execute_result"
    }
   ],
   "source": [
    "pop_prof['profit'].describe()"
   ]
  },
  {
   "cell_type": "code",
   "execution_count": 300,
   "metadata": {},
   "outputs": [
    {
     "name": "stdout",
     "output_type": "stream",
     "text": [
      "<class 'pandas.core.frame.DataFrame'>\n",
      "Int64Index: 1923 entries, 0 to 1922\n",
      "Data columns (total 16 columns):\n",
      " #   Column             Non-Null Count  Dtype  \n",
      "---  ------             --------------  -----  \n",
      " 0   id_x               1923 non-null   int64  \n",
      " 1   release_date_x     1923 non-null   object \n",
      " 2   primary_title      1923 non-null   object \n",
      " 3   production_budget  1923 non-null   float64\n",
      " 4   domestic_gross     1923 non-null   float64\n",
      " 5   worldwide_gross    1923 non-null   float64\n",
      " 6   Unnamed: 0         1923 non-null   int64  \n",
      " 7   genre_ids          1923 non-null   object \n",
      " 8   id_y               1923 non-null   int64  \n",
      " 9   original_language  1923 non-null   object \n",
      " 10  original_title     1923 non-null   object \n",
      " 11  popularity         1923 non-null   float64\n",
      " 12  release_date_y     1923 non-null   object \n",
      " 13  vote_average       1923 non-null   float64\n",
      " 14  vote_count         1923 non-null   int64  \n",
      " 15  profit             1923 non-null   float64\n",
      "dtypes: float64(6), int64(4), object(6)\n",
      "memory usage: 255.4+ KB\n"
     ]
    }
   ],
   "source": [
    "pop_prof.info()"
   ]
  },
  {
   "cell_type": "code",
   "execution_count": 299,
   "metadata": {},
   "outputs": [
    {
     "data": {
      "text/html": [
       "<div>\n",
       "<style scoped>\n",
       "    .dataframe tbody tr th:only-of-type {\n",
       "        vertical-align: middle;\n",
       "    }\n",
       "\n",
       "    .dataframe tbody tr th {\n",
       "        vertical-align: top;\n",
       "    }\n",
       "\n",
       "    .dataframe thead th {\n",
       "        text-align: right;\n",
       "    }\n",
       "</style>\n",
       "<table border=\"1\" class=\"dataframe\">\n",
       "  <thead>\n",
       "    <tr style=\"text-align: right;\">\n",
       "      <th></th>\n",
       "      <th>id_x</th>\n",
       "      <th>release_date_x</th>\n",
       "      <th>primary_title</th>\n",
       "      <th>production_budget</th>\n",
       "      <th>domestic_gross</th>\n",
       "      <th>worldwide_gross</th>\n",
       "      <th>Unnamed: 0</th>\n",
       "      <th>genre_ids</th>\n",
       "      <th>id_y</th>\n",
       "      <th>original_language</th>\n",
       "      <th>original_title</th>\n",
       "      <th>popularity</th>\n",
       "      <th>release_date_y</th>\n",
       "      <th>vote_average</th>\n",
       "      <th>vote_count</th>\n",
       "      <th>profit</th>\n",
       "    </tr>\n",
       "  </thead>\n",
       "  <tbody>\n",
       "    <tr>\n",
       "      <th>0</th>\n",
       "      <td>1</td>\n",
       "      <td>Dec 18, 2009</td>\n",
       "      <td>Avatar</td>\n",
       "      <td>425000000.0</td>\n",
       "      <td>760507625.0</td>\n",
       "      <td>2.776345e+09</td>\n",
       "      <td>6</td>\n",
       "      <td>[28, 12, 14, 878]</td>\n",
       "      <td>19995</td>\n",
       "      <td>en</td>\n",
       "      <td>Avatar</td>\n",
       "      <td>26.526</td>\n",
       "      <td>2009-12-18</td>\n",
       "      <td>7.4</td>\n",
       "      <td>18676</td>\n",
       "      <td>2.351345e+09</td>\n",
       "    </tr>\n",
       "    <tr>\n",
       "      <th>1</th>\n",
       "      <td>2</td>\n",
       "      <td>May 20, 2011</td>\n",
       "      <td>Pirates of the Caribbean: On Stranger Tides</td>\n",
       "      <td>410600000.0</td>\n",
       "      <td>241063875.0</td>\n",
       "      <td>1.045664e+09</td>\n",
       "      <td>2470</td>\n",
       "      <td>[12, 28, 14]</td>\n",
       "      <td>1865</td>\n",
       "      <td>en</td>\n",
       "      <td>Pirates of the Caribbean: On Stranger Tides</td>\n",
       "      <td>30.579</td>\n",
       "      <td>2011-05-20</td>\n",
       "      <td>6.4</td>\n",
       "      <td>8571</td>\n",
       "      <td>6.350639e+08</td>\n",
       "    </tr>\n",
       "    <tr>\n",
       "      <th>2</th>\n",
       "      <td>4</td>\n",
       "      <td>May 1, 2015</td>\n",
       "      <td>Avengers: Age of Ultron</td>\n",
       "      <td>330600000.0</td>\n",
       "      <td>459005868.0</td>\n",
       "      <td>1.403014e+09</td>\n",
       "      <td>14169</td>\n",
       "      <td>[28, 12, 878]</td>\n",
       "      <td>99861</td>\n",
       "      <td>en</td>\n",
       "      <td>Avengers: Age of Ultron</td>\n",
       "      <td>44.383</td>\n",
       "      <td>2015-05-01</td>\n",
       "      <td>7.3</td>\n",
       "      <td>13457</td>\n",
       "      <td>1.072414e+09</td>\n",
       "    </tr>\n",
       "    <tr>\n",
       "      <th>3</th>\n",
       "      <td>7</td>\n",
       "      <td>Apr 27, 2018</td>\n",
       "      <td>Avengers: Infinity War</td>\n",
       "      <td>300000000.0</td>\n",
       "      <td>678815482.0</td>\n",
       "      <td>2.048134e+09</td>\n",
       "      <td>23811</td>\n",
       "      <td>[12, 28, 14]</td>\n",
       "      <td>299536</td>\n",
       "      <td>en</td>\n",
       "      <td>Avengers: Infinity War</td>\n",
       "      <td>80.773</td>\n",
       "      <td>2018-04-27</td>\n",
       "      <td>8.3</td>\n",
       "      <td>13948</td>\n",
       "      <td>1.748134e+09</td>\n",
       "    </tr>\n",
       "    <tr>\n",
       "      <th>4</th>\n",
       "      <td>9</td>\n",
       "      <td>Nov 17, 2017</td>\n",
       "      <td>Justice League</td>\n",
       "      <td>300000000.0</td>\n",
       "      <td>229024295.0</td>\n",
       "      <td>6.559452e+08</td>\n",
       "      <td>20623</td>\n",
       "      <td>[28, 12, 14, 878]</td>\n",
       "      <td>141052</td>\n",
       "      <td>en</td>\n",
       "      <td>Justice League</td>\n",
       "      <td>34.953</td>\n",
       "      <td>2017-11-17</td>\n",
       "      <td>6.2</td>\n",
       "      <td>7510</td>\n",
       "      <td>3.559452e+08</td>\n",
       "    </tr>\n",
       "    <tr>\n",
       "      <th>...</th>\n",
       "      <td>...</td>\n",
       "      <td>...</td>\n",
       "      <td>...</td>\n",
       "      <td>...</td>\n",
       "      <td>...</td>\n",
       "      <td>...</td>\n",
       "      <td>...</td>\n",
       "      <td>...</td>\n",
       "      <td>...</td>\n",
       "      <td>...</td>\n",
       "      <td>...</td>\n",
       "      <td>...</td>\n",
       "      <td>...</td>\n",
       "      <td>...</td>\n",
       "      <td>...</td>\n",
       "      <td>...</td>\n",
       "    </tr>\n",
       "    <tr>\n",
       "      <th>1918</th>\n",
       "      <td>49</td>\n",
       "      <td>Sep 1, 2015</td>\n",
       "      <td>Exeter</td>\n",
       "      <td>25000.0</td>\n",
       "      <td>0.0</td>\n",
       "      <td>4.897920e+05</td>\n",
       "      <td>14678</td>\n",
       "      <td>[53, 27]</td>\n",
       "      <td>226458</td>\n",
       "      <td>en</td>\n",
       "      <td>Exeter</td>\n",
       "      <td>5.934</td>\n",
       "      <td>2015-03-26</td>\n",
       "      <td>4.7</td>\n",
       "      <td>121</td>\n",
       "      <td>4.647920e+05</td>\n",
       "    </tr>\n",
       "    <tr>\n",
       "      <th>1919</th>\n",
       "      <td>51</td>\n",
       "      <td>Apr 21, 2015</td>\n",
       "      <td>Ten</td>\n",
       "      <td>25000.0</td>\n",
       "      <td>0.0</td>\n",
       "      <td>0.000000e+00</td>\n",
       "      <td>12326</td>\n",
       "      <td>[12, 27, 9648, 53]</td>\n",
       "      <td>279516</td>\n",
       "      <td>en</td>\n",
       "      <td>Ten</td>\n",
       "      <td>1.575</td>\n",
       "      <td>2014-03-28</td>\n",
       "      <td>5.4</td>\n",
       "      <td>5</td>\n",
       "      <td>-2.500000e+04</td>\n",
       "    </tr>\n",
       "    <tr>\n",
       "      <th>1920</th>\n",
       "      <td>54</td>\n",
       "      <td>Dec 31, 2014</td>\n",
       "      <td>Dry Spell</td>\n",
       "      <td>22000.0</td>\n",
       "      <td>0.0</td>\n",
       "      <td>0.000000e+00</td>\n",
       "      <td>10470</td>\n",
       "      <td>[35, 10749]</td>\n",
       "      <td>255266</td>\n",
       "      <td>en</td>\n",
       "      <td>Dry Spell</td>\n",
       "      <td>0.600</td>\n",
       "      <td>2013-02-14</td>\n",
       "      <td>6.0</td>\n",
       "      <td>1</td>\n",
       "      <td>-2.200000e+04</td>\n",
       "    </tr>\n",
       "    <tr>\n",
       "      <th>1921</th>\n",
       "      <td>56</td>\n",
       "      <td>Jan 4, 2013</td>\n",
       "      <td>All Superheroes Must Die</td>\n",
       "      <td>20000.0</td>\n",
       "      <td>0.0</td>\n",
       "      <td>0.000000e+00</td>\n",
       "      <td>8893</td>\n",
       "      <td>[878, 53]</td>\n",
       "      <td>86304</td>\n",
       "      <td>en</td>\n",
       "      <td>All Superheroes Must Die</td>\n",
       "      <td>2.078</td>\n",
       "      <td>2013-01-04</td>\n",
       "      <td>3.9</td>\n",
       "      <td>19</td>\n",
       "      <td>-2.000000e+04</td>\n",
       "    </tr>\n",
       "    <tr>\n",
       "      <th>1922</th>\n",
       "      <td>73</td>\n",
       "      <td>Jan 13, 2012</td>\n",
       "      <td>Newlyweds</td>\n",
       "      <td>9000.0</td>\n",
       "      <td>4584.0</td>\n",
       "      <td>4.584000e+03</td>\n",
       "      <td>3468</td>\n",
       "      <td>[35, 10749]</td>\n",
       "      <td>72766</td>\n",
       "      <td>en</td>\n",
       "      <td>Newlyweds</td>\n",
       "      <td>1.973</td>\n",
       "      <td>2011-12-26</td>\n",
       "      <td>5.4</td>\n",
       "      <td>7</td>\n",
       "      <td>-4.416000e+03</td>\n",
       "    </tr>\n",
       "  </tbody>\n",
       "</table>\n",
       "<p>1923 rows × 16 columns</p>\n",
       "</div>"
      ],
      "text/plain": [
       "      id_x release_date_x                                primary_title  \\\n",
       "0        1   Dec 18, 2009                                       Avatar   \n",
       "1        2   May 20, 2011  Pirates of the Caribbean: On Stranger Tides   \n",
       "2        4    May 1, 2015                      Avengers: Age of Ultron   \n",
       "3        7   Apr 27, 2018                       Avengers: Infinity War   \n",
       "4        9   Nov 17, 2017                               Justice League   \n",
       "...    ...            ...                                          ...   \n",
       "1918    49    Sep 1, 2015                                       Exeter   \n",
       "1919    51   Apr 21, 2015                                          Ten   \n",
       "1920    54   Dec 31, 2014                                    Dry Spell   \n",
       "1921    56    Jan 4, 2013                     All Superheroes Must Die   \n",
       "1922    73   Jan 13, 2012                                    Newlyweds   \n",
       "\n",
       "      production_budget  domestic_gross  worldwide_gross  Unnamed: 0  \\\n",
       "0           425000000.0     760507625.0     2.776345e+09           6   \n",
       "1           410600000.0     241063875.0     1.045664e+09        2470   \n",
       "2           330600000.0     459005868.0     1.403014e+09       14169   \n",
       "3           300000000.0     678815482.0     2.048134e+09       23811   \n",
       "4           300000000.0     229024295.0     6.559452e+08       20623   \n",
       "...                 ...             ...              ...         ...   \n",
       "1918            25000.0             0.0     4.897920e+05       14678   \n",
       "1919            25000.0             0.0     0.000000e+00       12326   \n",
       "1920            22000.0             0.0     0.000000e+00       10470   \n",
       "1921            20000.0             0.0     0.000000e+00        8893   \n",
       "1922             9000.0          4584.0     4.584000e+03        3468   \n",
       "\n",
       "               genre_ids    id_y original_language  \\\n",
       "0      [28, 12, 14, 878]   19995                en   \n",
       "1           [12, 28, 14]    1865                en   \n",
       "2          [28, 12, 878]   99861                en   \n",
       "3           [12, 28, 14]  299536                en   \n",
       "4      [28, 12, 14, 878]  141052                en   \n",
       "...                  ...     ...               ...   \n",
       "1918            [53, 27]  226458                en   \n",
       "1919  [12, 27, 9648, 53]  279516                en   \n",
       "1920         [35, 10749]  255266                en   \n",
       "1921           [878, 53]   86304                en   \n",
       "1922         [35, 10749]   72766                en   \n",
       "\n",
       "                                   original_title  popularity release_date_y  \\\n",
       "0                                          Avatar      26.526     2009-12-18   \n",
       "1     Pirates of the Caribbean: On Stranger Tides      30.579     2011-05-20   \n",
       "2                         Avengers: Age of Ultron      44.383     2015-05-01   \n",
       "3                          Avengers: Infinity War      80.773     2018-04-27   \n",
       "4                                  Justice League      34.953     2017-11-17   \n",
       "...                                           ...         ...            ...   \n",
       "1918                                       Exeter       5.934     2015-03-26   \n",
       "1919                                          Ten       1.575     2014-03-28   \n",
       "1920                                    Dry Spell       0.600     2013-02-14   \n",
       "1921                     All Superheroes Must Die       2.078     2013-01-04   \n",
       "1922                                    Newlyweds       1.973     2011-12-26   \n",
       "\n",
       "      vote_average  vote_count        profit  \n",
       "0              7.4       18676  2.351345e+09  \n",
       "1              6.4        8571  6.350639e+08  \n",
       "2              7.3       13457  1.072414e+09  \n",
       "3              8.3       13948  1.748134e+09  \n",
       "4              6.2        7510  3.559452e+08  \n",
       "...            ...         ...           ...  \n",
       "1918           4.7         121  4.647920e+05  \n",
       "1919           5.4           5 -2.500000e+04  \n",
       "1920           6.0           1 -2.200000e+04  \n",
       "1921           3.9          19 -2.000000e+04  \n",
       "1922           5.4           7 -4.416000e+03  \n",
       "\n",
       "[1923 rows x 16 columns]"
      ]
     },
     "execution_count": 299,
     "metadata": {},
     "output_type": "execute_result"
    }
   ],
   "source": [
    "pop_prof"
   ]
  },
  {
   "cell_type": "code",
   "execution_count": 284,
   "metadata": {},
   "outputs": [],
   "source": [
    "import matplotlib\n",
    "import matplotlib.pyplot as plt"
   ]
  },
  {
   "cell_type": "code",
   "execution_count": 289,
   "metadata": {
    "scrolled": true
   },
   "outputs": [
    {
     "data": {
      "image/png": "[encoded data removed]",
      "text/plain": [
       "<Figure size 720x432 with 1 Axes>"
      ]
     },
     "metadata": {
      "needs_background": "light"
     },
     "output_type": "display_data"
    }
   ],
   "source": [
    "scatter_plot_title = 'Popularity vs Net Profit'\n",
    "profit_title = 'Net Profit Made per Movie'\n",
    "popularity_label = 'Popularity for Each Movie'\n",
    "\n",
    "tackle_figure, ax = plt.subplots(figsize=(10, 6))\n",
    "\n",
    "# Your code here\n",
    "ax.scatter(x=pop_prof['popularity'], y=pop_prof['profit'])\n",
    "ax.set_title(scatter_plot_title)\n",
    "ax.set_xlabel(popularity_label)\n",
    "ax.set_ylabel(profit_title);"
   ]
  },
  {
   "cell_type": "code",
   "execution_count": 301,
   "metadata": {},
   "outputs": [
    {
     "data": {
      "image/png": "[encoded data removed]",
      "text/plain": [
       "<Figure size 720x432 with 1 Axes>"
      ]
     },
     "metadata": {
      "needs_background": "light"
     },
     "output_type": "display_data"
    }
   ],
   "source": [
    "bar_chart_title = 'Popularity vs Net Profit'\n",
    "profit_title = 'Net Profit Made per Movie'\n",
    "popularity_label = 'Popularity for Each Movie'\n",
    "\n",
    "\n",
    "profit_popularity, ax = plt.subplots(figsize=(10, 6))\n",
    "\n",
    "\n",
    "x = pop_prof['popularity'].sort_index()\n",
    "height = pop_prof['profit'].sort_index()\n",
    "\n",
    "ax.bar(x, height)\n",
    "\n",
    "plt.title(bar_chart_title)\n",
    "ax.set_xlabel(popularity_label)\n",
    "ax.set_ylabel(profit_title);"
   ]
  },
  {
   "cell_type": "markdown",
   "metadata": {},
   "source": [
    "# EXTRA CREDIT STUFF (ORDERING BY CAST)"
   ]
  },
  {
   "cell_type": "code",
   "execution_count": 51,
   "metadata": {
    "scrolled": true
   },
   "outputs": [],
   "source": [
    "#movie_akas_imdb.loc[movie_akas_imdb['ordering'] == 1]"
   ]
  },
  {
   "cell_type": "code",
   "execution_count": 10,
   "metadata": {},
   "outputs": [],
   "source": [
    "ordering_df = movie_akas_imdb.loc[movie_akas_imdb['ordering'] == 1]"
   ]
  },
  {
   "cell_type": "code",
   "execution_count": 52,
   "metadata": {
    "scrolled": true
   },
   "outputs": [],
   "source": [
    "#ordering_df.info()"
   ]
  },
  {
   "cell_type": "code",
   "execution_count": 53,
   "metadata": {
    "scrolled": false
   },
   "outputs": [],
   "source": [
    "#principals_imdb['category']"
   ]
  },
  {
   "cell_type": "code",
   "execution_count": null,
   "metadata": {},
   "outputs": [],
   "source": [
    "principals_imdb = pd.read_sql(''' SELECT * FROM principals ''', conn) principals_imdb.loc[principals_imdb['movie_id'] == 'tt0323808']"
   ]
  },
  {
   "cell_type": "code",
   "execution_count": null,
   "metadata": {},
   "outputs": [],
   "source": [
    "# Ordering = IMDB Top Cast order"
   ]
  },
  {
   "cell_type": "markdown",
   "metadata": {},
   "source": [
    "I figured it out! It's the order that the 'top cast' shows up on the IMDB page. \n",
    "\n",
    "I'm going to stash this for after I make a visualization for Genre. \n",
    "Going to see if the 'top cast' \n",
    "\n",
    "search google for id = 'tt0323808'\n",
    "\n",
    "https://www.imdb.com/title/tt0323808/fullcredits?ref_=tt_cl_sm\n",
    "    \n",
    "principals_imdb = pd.read_sql('''\n",
    "SELECT *\n",
    "FROM principals\n",
    "''', conn)\n",
    "principals_imdb.loc[principals_imdb['movie_id'] == 'tt0323808']"
   ]
  },
  {
   "cell_type": "code",
   "execution_count": 44,
   "metadata": {},
   "outputs": [
    {
     "data": {
      "text/html": [
       "<div>\n",
       "<style scoped>\n",
       "    .dataframe tbody tr th:only-of-type {\n",
       "        vertical-align: middle;\n",
       "    }\n",
       "\n",
       "    .dataframe tbody tr th {\n",
       "        vertical-align: top;\n",
       "    }\n",
       "\n",
       "    .dataframe thead th {\n",
       "        text-align: right;\n",
       "    }\n",
       "</style>\n",
       "<table border=\"1\" class=\"dataframe\">\n",
       "  <thead>\n",
       "    <tr style=\"text-align: right;\">\n",
       "      <th></th>\n",
       "      <th>movie_id</th>\n",
       "      <th>ordering</th>\n",
       "      <th>person_id</th>\n",
       "      <th>category</th>\n",
       "      <th>job</th>\n",
       "      <th>characters</th>\n",
       "      <th>sum(ordering)</th>\n",
       "    </tr>\n",
       "  </thead>\n",
       "  <tbody>\n",
       "    <tr>\n",
       "      <th>0</th>\n",
       "      <td>tt9916754</td>\n",
       "      <td>10</td>\n",
       "      <td>nm9275317</td>\n",
       "      <td>cinematographer</td>\n",
       "      <td>None</td>\n",
       "      <td>None</td>\n",
       "      <td>55</td>\n",
       "    </tr>\n",
       "    <tr>\n",
       "      <th>1</th>\n",
       "      <td>tt9916706</td>\n",
       "      <td>10</td>\n",
       "      <td>nm1432957</td>\n",
       "      <td>actor</td>\n",
       "      <td>None</td>\n",
       "      <td>None</td>\n",
       "      <td>55</td>\n",
       "    </tr>\n",
       "    <tr>\n",
       "      <th>2</th>\n",
       "      <td>tt9916622</td>\n",
       "      <td>10</td>\n",
       "      <td>nm9272492</td>\n",
       "      <td>cinematographer</td>\n",
       "      <td>None</td>\n",
       "      <td>None</td>\n",
       "      <td>55</td>\n",
       "    </tr>\n",
       "    <tr>\n",
       "      <th>3</th>\n",
       "      <td>tt9916538</td>\n",
       "      <td>10</td>\n",
       "      <td>nm4700236</td>\n",
       "      <td>composer</td>\n",
       "      <td>music director</td>\n",
       "      <td>None</td>\n",
       "      <td>55</td>\n",
       "    </tr>\n",
       "    <tr>\n",
       "      <th>4</th>\n",
       "      <td>tt9914828</td>\n",
       "      <td>10</td>\n",
       "      <td>nm10537598</td>\n",
       "      <td>writer</td>\n",
       "      <td>english adaptation</td>\n",
       "      <td>None</td>\n",
       "      <td>55</td>\n",
       "    </tr>\n",
       "    <tr>\n",
       "      <th>...</th>\n",
       "      <td>...</td>\n",
       "      <td>...</td>\n",
       "      <td>...</td>\n",
       "      <td>...</td>\n",
       "      <td>...</td>\n",
       "      <td>...</td>\n",
       "      <td>...</td>\n",
       "    </tr>\n",
       "    <tr>\n",
       "      <th>143449</th>\n",
       "      <td>tt10007268</td>\n",
       "      <td>1</td>\n",
       "      <td>nm10541649</td>\n",
       "      <td>director</td>\n",
       "      <td>None</td>\n",
       "      <td>None</td>\n",
       "      <td>1</td>\n",
       "    </tr>\n",
       "    <tr>\n",
       "      <th>143450</th>\n",
       "      <td>tt10006874</td>\n",
       "      <td>1</td>\n",
       "      <td>nm10211155</td>\n",
       "      <td>director</td>\n",
       "      <td>None</td>\n",
       "      <td>None</td>\n",
       "      <td>1</td>\n",
       "    </tr>\n",
       "    <tr>\n",
       "      <th>143451</th>\n",
       "      <td>tt10003990</td>\n",
       "      <td>1</td>\n",
       "      <td>nm9033305</td>\n",
       "      <td>director</td>\n",
       "      <td>None</td>\n",
       "      <td>None</td>\n",
       "      <td>1</td>\n",
       "    </tr>\n",
       "    <tr>\n",
       "      <th>143452</th>\n",
       "      <td>tt0187902</td>\n",
       "      <td>1</td>\n",
       "      <td>nm0156955</td>\n",
       "      <td>actor</td>\n",
       "      <td>None</td>\n",
       "      <td>[\"Wong Fei Hung\"]</td>\n",
       "      <td>1</td>\n",
       "    </tr>\n",
       "    <tr>\n",
       "      <th>143453</th>\n",
       "      <td>tt0170651</td>\n",
       "      <td>1</td>\n",
       "      <td>nm0161615</td>\n",
       "      <td>director</td>\n",
       "      <td>None</td>\n",
       "      <td>None</td>\n",
       "      <td>1</td>\n",
       "    </tr>\n",
       "  </tbody>\n",
       "</table>\n",
       "<p>143454 rows × 7 columns</p>\n",
       "</div>"
      ],
      "text/plain": [
       "          movie_id  ordering   person_id         category                 job  \\\n",
       "0        tt9916754        10   nm9275317  cinematographer                None   \n",
       "1        tt9916706        10   nm1432957            actor                None   \n",
       "2        tt9916622        10   nm9272492  cinematographer                None   \n",
       "3        tt9916538        10   nm4700236         composer      music director   \n",
       "4        tt9914828        10  nm10537598           writer  english adaptation   \n",
       "...            ...       ...         ...              ...                 ...   \n",
       "143449  tt10007268         1  nm10541649         director                None   \n",
       "143450  tt10006874         1  nm10211155         director                None   \n",
       "143451  tt10003990         1   nm9033305         director                None   \n",
       "143452   tt0187902         1   nm0156955            actor                None   \n",
       "143453   tt0170651         1   nm0161615         director                None   \n",
       "\n",
       "               characters  sum(ordering)  \n",
       "0                    None             55  \n",
       "1                    None             55  \n",
       "2                    None             55  \n",
       "3                    None             55  \n",
       "4                    None             55  \n",
       "...                   ...            ...  \n",
       "143449               None              1  \n",
       "143450               None              1  \n",
       "143451               None              1  \n",
       "143452  [\"Wong Fei Hung\"]              1  \n",
       "143453               None              1  \n",
       "\n",
       "[143454 rows x 7 columns]"
      ]
     },
     "execution_count": 44,
     "metadata": {},
     "output_type": "execute_result"
    }
   ],
   "source": [
    "imdb_order =pd.read_sql('''\n",
    "SELECT *, sum(ordering)\n",
    "FROM principals\n",
    "WHERE ordering <= \n",
    "GROUP BY movie_id\n",
    "ORDER BY sum(ordering) desc\n",
    "''', conn)\n",
    "imdb_order"
   ]
  },
  {
   "cell_type": "code",
   "execution_count": 54,
   "metadata": {
    "scrolled": true
   },
   "outputs": [],
   "source": [
    "#principals_imdb.loc[principals_imdb['ordering'] == 10]"
   ]
  },
  {
   "cell_type": "code",
   "execution_count": 55,
   "metadata": {},
   "outputs": [],
   "source": [
    "#principals_imdb.loc[principals_imdb['movie_id'] == 'tt0323808']"
   ]
  },
  {
   "cell_type": "code",
   "execution_count": 56,
   "metadata": {
    "scrolled": false
   },
   "outputs": [],
   "source": [
    "#principals_imdb['movie_id'].value_counts()"
   ]
  }
 ],
 "metadata": {
  "kernelspec": {
   "display_name": "Python (learn-env)",
   "language": "python",
   "name": "learn-env"
  },
  "language_info": {
   "codemirror_mode": {
    "name": "ipython",
    "version": 3
   },
   "file_extension": ".py",
   "mimetype": "text/x-python",
   "name": "python",
   "nbconvert_exporter": "python",
   "pygments_lexer": "ipython3",
   "version": "3.8.5"
  }
 },
 "nbformat": 4,
 "nbformat_minor": 4
}
