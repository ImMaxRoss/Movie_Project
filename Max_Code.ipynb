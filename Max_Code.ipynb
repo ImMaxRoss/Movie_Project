{
 "cells": [
  {
   "cell_type": "markdown",
   "metadata": {},
   "source": [
    "# 1. Loading im.db as pd.df"
   ]
  },
  {
   "cell_type": "code",
   "execution_count": 1,
   "metadata": {},
   "outputs": [],
   "source": [
    "import pandas as pd\n",
    "import sqlite3"
   ]
  },
  {
   "cell_type": "code",
   "execution_count": 2,
   "metadata": {},
   "outputs": [],
   "source": [
    "import numpy as np\n",
    "from scipy.stats import linregress"
   ]
  },
  {
   "cell_type": "code",
   "execution_count": 3,
   "metadata": {},
   "outputs": [],
   "source": [
    "conn = sqlite3.connect('data/im.db')\n",
    "cursor = conn.cursor()"
   ]
  },
  {
   "cell_type": "code",
   "execution_count": 4,
   "metadata": {},
   "outputs": [],
   "source": [
    "imdb_basics = pd.read_sql('''\n",
    "SELECT *\n",
    "FROM movie_basics\n",
    "''', conn)\n",
    "\n",
    "imdb_akas = pd.read_sql('''\n",
    "SELECT *\n",
    "FROM movie_akas\n",
    "''', conn)\n",
    "\n",
    "imdb_ratings = pd.read_sql('''\n",
    "SELECT *\n",
    "FROM movie_ratings\n",
    "''', conn)\n",
    "\n",
    "imdb_principals = pd.read_sql('''\n",
    "SELECT *\n",
    "FROM principals\n",
    "''', conn)\n",
    "\n",
    "known_known_for = pd.read_sql('''\n",
    "SELECT *\n",
    "FROM known_for\n",
    "''', conn)\n",
    "\n",
    "imdb_directors = pd.read_sql('''\n",
    "SELECT *\n",
    "FROM directors\n",
    "''', conn)\n",
    "\n",
    "imdb_writers = pd.read_sql('''\n",
    "SELECT *\n",
    "FROM writers\n",
    "''', conn)\n",
    "\n",
    "imdb_persons = pd.read_sql('''\n",
    "SELECT *\n",
    "FROM persons\n",
    "''', conn)"
   ]
  },
  {
   "cell_type": "markdown",
   "metadata": {},
   "source": [
    "# 2. Name of df Variables:\n",
    "\n",
    "### imdb Variables (each variable is an individual table):\n",
    "- imdb_basics\n",
    "- imdb_akas\n",
    "- imdb_ratings\n",
    "- imdb_principals\n",
    "- known_known_for\n",
    "- imdb_directors\n",
    "- imdb_writers\n",
    "- imdb_persons"
   ]
  },
  {
   "cell_type": "markdown",
   "metadata": {},
   "source": [
    "# 3. Exploring IMDB df's:"
   ]
  },
  {
   "cell_type": "markdown",
   "metadata": {},
   "source": [
    "### 3a. Exploring: movie_akas_imdb"
   ]
  },
  {
   "cell_type": "code",
   "execution_count": null,
   "metadata": {
    "scrolled": true
   },
   "outputs": [],
   "source": [
    "#movie_akas_imdb.info()"
   ]
  },
  {
   "cell_type": "markdown",
   "metadata": {},
   "source": [
    "#### ordering = 1 has the same length as indivitual movie_id's be the same length as unique movie_id"
   ]
  },
  {
   "cell_type": "code",
   "execution_count": 5,
   "metadata": {
    "scrolled": true
   },
   "outputs": [
    {
     "name": "stdout",
     "output_type": "stream",
     "text": [
      "<class 'pandas.core.frame.DataFrame'>\n",
      "RangeIndex: 47433 entries, 0 to 47432\n",
      "Data columns (total 8 columns):\n",
      " #   Column             Non-Null Count  Dtype  \n",
      "---  ------             --------------  -----  \n",
      " 0   movie_id           47433 non-null  object \n",
      " 1   ordering           47433 non-null  int64  \n",
      " 2   title              47433 non-null  object \n",
      " 3   region             47433 non-null  object \n",
      " 4   language           325 non-null    object \n",
      " 5   types              4977 non-null   object \n",
      " 6   attributes         1652 non-null   object \n",
      " 7   is_original_title  47428 non-null  float64\n",
      "dtypes: float64(1), int64(1), object(6)\n",
      "memory usage: 2.9+ MB\n"
     ]
    }
   ],
   "source": [
    "imdb_akas = pd.read_sql('''\n",
    "SELECT *\n",
    "FROM movie_akas\n",
    "WHERE region = 'US'\n",
    "GROUP BY movie_id\n",
    "''', conn)\n",
    "imdb_akas.info()"
   ]
  },
  {
   "cell_type": "code",
   "execution_count": null,
   "metadata": {
    "scrolled": true
   },
   "outputs": [],
   "source": [
    "#imdb_akas['movie_id'].value_counts()"
   ]
  },
  {
   "cell_type": "code",
   "execution_count": null,
   "metadata": {},
   "outputs": [],
   "source": [
    "len(imdb_akas['movie_id'].unique())"
   ]
  },
  {
   "cell_type": "code",
   "execution_count": null,
   "metadata": {
    "scrolled": true
   },
   "outputs": [],
   "source": [
    "#imdb_akas.loc[m_akas_us['movie_id'] == 'tt2488496']"
   ]
  },
  {
   "cell_type": "markdown",
   "metadata": {},
   "source": [
    "### 3b. Exploring: movie_akas_imdb"
   ]
  },
  {
   "cell_type": "code",
   "execution_count": null,
   "metadata": {
    "scrolled": true
   },
   "outputs": [],
   "source": [
    "#movie_basics_imdb.info()"
   ]
  },
  {
   "cell_type": "code",
   "execution_count": null,
   "metadata": {
    "scrolled": false
   },
   "outputs": [],
   "source": [
    "#movie_basics_imdb['movie_id'].value_counts()"
   ]
  },
  {
   "cell_type": "code",
   "execution_count": null,
   "metadata": {
    "scrolled": false
   },
   "outputs": [],
   "source": [
    "akas_basics_merge = imdb_akas.merge(imdb_basics, on='movie_id',\n",
    "                                        how='inner')\n",
    "imdb_basics.info()"
   ]
  },
  {
   "cell_type": "code",
   "execution_count": null,
   "metadata": {
    "scrolled": true
   },
   "outputs": [],
   "source": [
    "akas_basics_merge['movie_id'].value_counts()"
   ]
  },
  {
   "cell_type": "markdown",
   "metadata": {},
   "source": [
    "### 3c. Explored: movie_rat_imdb"
   ]
  },
  {
   "cell_type": "code",
   "execution_count": null,
   "metadata": {
    "scrolled": true
   },
   "outputs": [],
   "source": [
    "#movie_rat_imdb.info()"
   ]
  },
  {
   "cell_type": "markdown",
   "metadata": {},
   "source": [
    " # 3d. Combining IMDB database"
   ]
  },
  {
   "cell_type": "code",
   "execution_count": null,
   "metadata": {
    "scrolled": false
   },
   "outputs": [],
   "source": [
    "imdb_merged = akas_basics_merge.merge(imdb_ratings, on='movie_id',\n",
    "                                       how='left')\n",
    "imdb_merged"
   ]
  },
  {
   "cell_type": "code",
   "execution_count": null,
   "metadata": {
    "scrolled": true
   },
   "outputs": [],
   "source": [
    "#imdb_merged.info()"
   ]
  },
  {
   "cell_type": "code",
   "execution_count": null,
   "metadata": {
    "scrolled": true
   },
   "outputs": [],
   "source": [
    "#imdb_merged.drop(['language', 'attributes', 'types'], axis=1, inplace=True)"
   ]
  },
  {
   "cell_type": "code",
   "execution_count": null,
   "metadata": {
    "scrolled": true
   },
   "outputs": [],
   "source": [
    "imdb_merged.info()"
   ]
  },
  {
   "cell_type": "markdown",
   "metadata": {},
   "source": [
    "# 4. Loading tn.movie_budgets as pd.df"
   ]
  },
  {
   "cell_type": "code",
   "execution_count": null,
   "metadata": {},
   "outputs": [],
   "source": [
    "tn_budgets = pd.read_csv('data/tn.movie_budgets.csv.gz')"
   ]
  },
  {
   "cell_type": "markdown",
   "metadata": {},
   "source": [
    "# 5. Exploring tn_budgets"
   ]
  },
  {
   "cell_type": "code",
   "execution_count": null,
   "metadata": {},
   "outputs": [],
   "source": [
    "tn_budgets.drop_duplicates(subset = ['movie'], inplace=True)"
   ]
  },
  {
   "cell_type": "code",
   "execution_count": null,
   "metadata": {},
   "outputs": [],
   "source": [
    "tn_budgets.rename(columns = {'movie':'primary_title'}, inplace=True)"
   ]
  },
  {
   "cell_type": "code",
   "execution_count": null,
   "metadata": {
    "scrolled": true
   },
   "outputs": [],
   "source": [
    "tn_budgets.info()"
   ]
  },
  {
   "cell_type": "code",
   "execution_count": null,
   "metadata": {},
   "outputs": [],
   "source": [
    "#Creating new coumn called year that is date.time\n",
    "tn_budgets['Release_Date_Time'] = pd.to_datetime(tn_budgets['release_date'])\n",
    "tn_budgets['start_year'] = tn_budgets['Release_Date_Time'].dt.year"
   ]
  },
  {
   "cell_type": "markdown",
   "metadata": {},
   "source": [
    "# 6: MERGE Merging Budgets to IMDB"
   ]
  },
  {
   "cell_type": "markdown",
   "metadata": {},
   "source": [
    "#### follow link: https://www.geeksforgeeks.org/how-to-convert-pandas-dataframe-into-sql-in-python/"
   ]
  },
  {
   "cell_type": "code",
   "execution_count": null,
   "metadata": {},
   "outputs": [],
   "source": [
    "imdb_db = imdb_merged.merge(tn_budgets, on= ['primary_title','start_year'], how= 'inner')"
   ]
  },
  {
   "cell_type": "code",
   "execution_count": null,
   "metadata": {},
   "outputs": [],
   "source": [
    "imdb_db['worldwide_gross'] = imdb_db['worldwide_gross'].str.replace('$','').str.replace(',','').astype(float)\n",
    "imdb_db['production_budget'] = imdb_db['production_budget'].str.replace('$','').str.replace(',','').astype(float)\n",
    "imdb_db['domestic_gross'] = imdb_db['domestic_gross'].str.replace('$','').str.replace(',','').astype(float)"
   ]
  },
  {
   "cell_type": "markdown",
   "metadata": {},
   "source": [
    "# Dropping Tables\n",
    "- get rid of start_year or release_date\n",
    "-"
   ]
  },
  {
   "cell_type": "markdown",
   "metadata": {},
   "source": [
    "# Analysis:\n",
    "# Sorted by Genre"
   ]
  },
  {
   "cell_type": "code",
   "execution_count": null,
   "metadata": {},
   "outputs": [],
   "source": [
    "import pandas as pd\n",
    "import numpy as np\n",
    "\n",
    "import matplotlib.pyplot as plt\n",
    "# same as \n",
    "# from matplotlib import pyplot as plt\n",
    "\n",
    "import seaborn as sns\n",
    "\n",
    "from scipy import stats\n",
    "from sklearn.datasets import load_iris"
   ]
  },
  {
   "cell_type": "code",
   "execution_count": null,
   "metadata": {
    "scrolled": true
   },
   "outputs": [],
   "source": [
    "imdb_db['genres'].dropna(inplace=True)"
   ]
  },
  {
   "cell_type": "code",
   "execution_count": null,
   "metadata": {},
   "outputs": [],
   "source": [
    "imdb_db['worldwide_gross'].dropna(inplace=True)"
   ]
  },
  {
   "cell_type": "code",
   "execution_count": null,
   "metadata": {},
   "outputs": [],
   "source": [
    "genre_profit = imdb_db.loc[:,['genres','worldwide_gross']]"
   ]
  },
  {
   "cell_type": "code",
   "execution_count": null,
   "metadata": {},
   "outputs": [],
   "source": [
    "genre_profit.dropna(axis = 0, inplace=True)"
   ]
  },
  {
   "cell_type": "code",
   "execution_count": null,
   "metadata": {},
   "outputs": [],
   "source": [
    "gen_pro = genre_profit.sort_values('worldwide_gross', ascending=False)"
   ]
  },
  {
   "cell_type": "code",
   "execution_count": null,
   "metadata": {},
   "outputs": [],
   "source": [
    "#gen_pro"
   ]
  },
  {
   "cell_type": "code",
   "execution_count": null,
   "metadata": {},
   "outputs": [],
   "source": [
    "imdb_db.info()"
   ]
  },
  {
   "cell_type": "code",
   "execution_count": null,
   "metadata": {
    "scrolled": false
   },
   "outputs": [],
   "source": [
    "gen_pro.plot(kind = 'bar',\n",
    "        x = 'genres',\n",
    "        y = 'profit',\n",
    "        color = 'blue')\n",
    "  \n",
    "# set the title\n",
    "plt.title('Top Performing Genres')\n",
    "  \n",
    "# show the plot\n",
    "plt.show()"
   ]
  },
  {
   "cell_type": "code",
   "execution_count": null,
   "metadata": {
    "scrolled": false
   },
   "outputs": [],
   "source": [
    "gen_pro.plot(kind = 'scatter',\n",
    "        x = 'genres',\n",
    "        y = 'worldwide_gross',\n",
    "        color = 'blue')\n",
    "  \n",
    "# set the title\n",
    "plt.title('Top Performing Genres')\n",
    "  \n",
    "# show the plot\n",
    "plt.show()"
   ]
  },
  {
   "cell_type": "code",
   "execution_count": null,
   "metadata": {
    "scrolled": true
   },
   "outputs": [],
   "source": [
    "gen_pro.plot(kind = 'hist',\n",
    "        x = 'genres',\n",
    "        y = 'worldwide_gross',\n",
    "        color = 'blue')\n",
    "  \n",
    "# set the title\n",
    "plt.title('Top Performing Genres')\n",
    "  \n",
    "# show the plot\n",
    "plt.show()"
   ]
  },
  {
   "cell_type": "code",
   "execution_count": null,
   "metadata": {
    "scrolled": true
   },
   "outputs": [],
   "source": [
    "correlation_matrix = imdb_db.corr()\n",
    "print(correlation_matrix)"
   ]
  },
  {
   "cell_type": "markdown",
   "metadata": {},
   "source": [
    "# EXTRA CREDIT STUFF (ORDERING BY CAST)"
   ]
  },
  {
   "cell_type": "code",
   "execution_count": null,
   "metadata": {
    "scrolled": true
   },
   "outputs": [],
   "source": [
    "#movie_akas_imdb.loc[movie_akas_imdb['ordering'] == 1]"
   ]
  },
  {
   "cell_type": "code",
   "execution_count": null,
   "metadata": {},
   "outputs": [],
   "source": [
    "ordering_df = movie_akas_imdb.loc[movie_akas_imdb['ordering'] == 1]"
   ]
  },
  {
   "cell_type": "code",
   "execution_count": null,
   "metadata": {
    "scrolled": true
   },
   "outputs": [],
   "source": [
    "#ordering_df.info()"
   ]
  },
  {
   "cell_type": "code",
   "execution_count": null,
   "metadata": {
    "scrolled": false
   },
   "outputs": [],
   "source": [
    "#principals_imdb['category']"
   ]
  },
  {
   "cell_type": "code",
   "execution_count": null,
   "metadata": {},
   "outputs": [],
   "source": [
    "principals_imdb = pd.read_sql(''' SELECT * FROM principals ''', conn) principals_imdb.loc[principals_imdb['movie_id'] == 'tt0323808']"
   ]
  },
  {
   "cell_type": "code",
   "execution_count": null,
   "metadata": {},
   "outputs": [],
   "source": [
    "# Ordering = IMDB Top Cast order"
   ]
  },
  {
   "cell_type": "markdown",
   "metadata": {},
   "source": [
    "I figured it out! It's the order that the 'top cast' shows up on the IMDB page. \n",
    "\n",
    "I'm going to stash this for after I make a visualization for Genre. \n",
    "Going to see if the 'top cast' \n",
    "\n",
    "search google for id = 'tt0323808'\n",
    "\n",
    "https://www.imdb.com/title/tt0323808/fullcredits?ref_=tt_cl_sm\n",
    "    \n",
    "principals_imdb = pd.read_sql('''\n",
    "SELECT *\n",
    "FROM principals\n",
    "''', conn)\n",
    "principals_imdb.loc[principals_imdb['movie_id'] == 'tt0323808']"
   ]
  },
  {
   "cell_type": "code",
   "execution_count": null,
   "metadata": {},
   "outputs": [],
   "source": [
    "imdb_order =pd.read_sql('''\n",
    "SELECT *, sum(ordering)\n",
    "FROM principals\n",
    "WHERE ordering <= \n",
    "GROUP BY movie_id\n",
    "ORDER BY sum(ordering) desc\n",
    "''', conn)\n",
    "imdb_order"
   ]
  },
  {
   "cell_type": "code",
   "execution_count": null,
   "metadata": {
    "scrolled": true
   },
   "outputs": [],
   "source": [
    "#principals_imdb.loc[principals_imdb['ordering'] == 10]"
   ]
  },
  {
   "cell_type": "code",
   "execution_count": null,
   "metadata": {},
   "outputs": [],
   "source": [
    "#principals_imdb.loc[principals_imdb['movie_id'] == 'tt0323808']"
   ]
  },
  {
   "cell_type": "code",
   "execution_count": null,
   "metadata": {
    "scrolled": false
   },
   "outputs": [],
   "source": [
    "#principals_imdb['movie_id'].value_counts()"
   ]
  }
 ],
 "metadata": {
  "kernelspec": {
   "display_name": "Python (learn-env)",
   "language": "python",
   "name": "learn-env"
  },
  "language_info": {
   "codemirror_mode": {
    "name": "ipython",
    "version": 3
   },
   "file_extension": ".py",
   "mimetype": "text/x-python",
   "name": "python",
   "nbconvert_exporter": "python",
   "pygments_lexer": "ipython3",
   "version": "3.8.5"
  }
 },
 "nbformat": 4,
 "nbformat_minor": 4
}
