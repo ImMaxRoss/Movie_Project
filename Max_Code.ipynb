{
 "cells": [
  {
   "cell_type": "markdown",
   "metadata": {},
   "source": [
    "# 1. Loading im.db as pd.df"
   ]
  },
  {
   "cell_type": "code",
   "execution_count": 4,
   "metadata": {},
   "outputs": [],
   "source": [
    "import pandas as pd\n",
    "import sqlite3\n",
    "\n",
    "import matplotlib.pyplot as plt\n",
    "import matplotlib.ticker as mtick\n",
    "from matplotlib.ticker import StrMethodFormatter\n",
    "%matplotlib inline\n"
   ]
  },
  {
   "cell_type": "code",
   "execution_count": 5,
   "metadata": {},
   "outputs": [],
   "source": [
    "conn = sqlite3.connect('data/im.db')\n",
    "cursor = conn.cursor()"
   ]
  },
  {
   "cell_type": "code",
   "execution_count": 6,
   "metadata": {},
   "outputs": [],
   "source": [
    "imdb_basics = pd.read_sql('''\n",
    "SELECT *\n",
    "FROM movie_basics\n",
    "''', conn)\n",
    "\n",
    "imdb_akas = pd.read_sql('''\n",
    "SELECT *\n",
    "FROM movie_akas\n",
    "WHERE region = 'US'\n",
    "GROUP BY movie_id\n",
    "''', conn)\n",
    "\n",
    "imdb_ratings = pd.read_sql('''\n",
    "SELECT *\n",
    "FROM movie_ratings\n",
    "''', conn)"
   ]
  },
  {
   "cell_type": "markdown",
   "metadata": {},
   "source": [
    "# 2. Name of df Variables:\n",
    "\n",
    "### imdb Variables (each variable is an individual table):\n",
    "- imdb_basics\n",
    "- imdb_akas\n",
    "- imdb_ratings"
   ]
  },
  {
   "cell_type": "markdown",
   "metadata": {},
   "source": [
    "# 3. Merging IMDB"
   ]
  },
  {
   "cell_type": "code",
   "execution_count": 7,
   "metadata": {
    "scrolled": false
   },
   "outputs": [
    {
     "name": "stdout",
     "output_type": "stream",
     "text": [
      "<class 'pandas.core.frame.DataFrame'>\n",
      "RangeIndex: 146144 entries, 0 to 146143\n",
      "Data columns (total 6 columns):\n",
      " #   Column           Non-Null Count   Dtype  \n",
      "---  ------           --------------   -----  \n",
      " 0   movie_id         146144 non-null  object \n",
      " 1   primary_title    146144 non-null  object \n",
      " 2   original_title   146123 non-null  object \n",
      " 3   start_year       146144 non-null  int64  \n",
      " 4   runtime_minutes  114405 non-null  float64\n",
      " 5   genres           140736 non-null  object \n",
      "dtypes: float64(1), int64(1), object(4)\n",
      "memory usage: 6.7+ MB\n"
     ]
    }
   ],
   "source": [
    "akas_basics_merge = imdb_akas.merge(imdb_basics, on='movie_id',\n",
    "                                        how='inner')\n",
    "imdb_basics.info()"
   ]
  },
  {
   "cell_type": "code",
   "execution_count": 8,
   "metadata": {
    "scrolled": true
   },
   "outputs": [
    {
     "name": "stdout",
     "output_type": "stream",
     "text": [
      "<class 'pandas.core.frame.DataFrame'>\n",
      "Int64Index: 47433 entries, 0 to 47432\n",
      "Data columns (total 15 columns):\n",
      " #   Column             Non-Null Count  Dtype  \n",
      "---  ------             --------------  -----  \n",
      " 0   movie_id           47433 non-null  object \n",
      " 1   ordering           47433 non-null  int64  \n",
      " 2   title              47433 non-null  object \n",
      " 3   region             47433 non-null  object \n",
      " 4   language           325 non-null    object \n",
      " 5   types              4977 non-null   object \n",
      " 6   attributes         1652 non-null   object \n",
      " 7   is_original_title  47428 non-null  float64\n",
      " 8   primary_title      47433 non-null  object \n",
      " 9   original_title     47432 non-null  object \n",
      " 10  start_year         47433 non-null  int64  \n",
      " 11  runtime_minutes    39673 non-null  float64\n",
      " 12  genres             46840 non-null  object \n",
      " 13  averagerating      26654 non-null  float64\n",
      " 14  numvotes           26654 non-null  float64\n",
      "dtypes: float64(4), int64(2), object(9)\n",
      "memory usage: 5.8+ MB\n"
     ]
    }
   ],
   "source": [
    "imdb_merged = akas_basics_merge.merge(imdb_ratings, on='movie_id',\n",
    "                                       how='left')\n",
    "imdb_merged.info()"
   ]
  },
  {
   "cell_type": "markdown",
   "metadata": {},
   "source": [
    "# 4. Cleaning tn.movie_budgets for merge"
   ]
  },
  {
   "cell_type": "code",
   "execution_count": 9,
   "metadata": {},
   "outputs": [],
   "source": [
    "tn_budgets = pd.read_csv('data/tn.movie_budgets.csv.gz')"
   ]
  },
  {
   "cell_type": "code",
   "execution_count": 10,
   "metadata": {},
   "outputs": [],
   "source": [
    "tn_budgets.drop_duplicates(subset = ['movie'], inplace=True)"
   ]
  },
  {
   "cell_type": "code",
   "execution_count": 11,
   "metadata": {},
   "outputs": [],
   "source": [
    "tn_budgets.rename(columns = {'movie':'primary_title'}, inplace=True)"
   ]
  },
  {
   "cell_type": "code",
   "execution_count": 12,
   "metadata": {},
   "outputs": [],
   "source": [
    "#Creating new coumn called year that is date.time\n",
    "tn_budgets['Release_Date_Time'] = pd.to_datetime(tn_budgets['release_date'])\n",
    "tn_budgets['start_year'] = tn_budgets['Release_Date_Time'].dt.year"
   ]
  },
  {
   "cell_type": "markdown",
   "metadata": {},
   "source": [
    "# 5: MERGE Merging Budgets to IMDB\n",
    "\n",
    "#### Also changing columns to match Anat and Keanan"
   ]
  },
  {
   "cell_type": "code",
   "execution_count": 13,
   "metadata": {},
   "outputs": [],
   "source": [
    "full_movies_df = imdb_merged.merge(tn_budgets, on= ['primary_title','start_year'], how= 'inner')"
   ]
  },
  {
   "cell_type": "code",
   "execution_count": 14,
   "metadata": {},
   "outputs": [],
   "source": [
    "full_movies_df['Release_Date_Time'] = pd.to_datetime(full_movies_df['release_date'])\n",
    "full_movies_df['month'] = full_movies_df['Release_Date_Time'].dt.month"
   ]
  },
  {
   "cell_type": "code",
   "execution_count": 15,
   "metadata": {},
   "outputs": [],
   "source": [
    "full_movies_df['worldwide_gross'] = full_movies_df['worldwide_gross'].str.replace('$','').str.replace(',','').astype(float)\n",
    "full_movies_df['production_budget'] = full_movies_df['production_budget'].str.replace('$','').str.replace(',','').astype(float)\n",
    "full_movies_df['domestic_gross'] = full_movies_df['domestic_gross'].str.replace('$','').str.replace(',','').astype(float)"
   ]
  },
  {
   "cell_type": "markdown",
   "metadata": {},
   "source": [
    "# Analysis:\n",
    "# Trends in Genre"
   ]
  },
  {
   "cell_type": "code",
   "execution_count": 16,
   "metadata": {},
   "outputs": [],
   "source": [
    "#converting dataset to SQL to filter/drop columns easily\n",
    "full_movies_sql = full_movies_df.to_sql('genres', conn, if_exists='replace', index = False)"
   ]
  },
  {
   "cell_type": "code",
   "execution_count": 17,
   "metadata": {},
   "outputs": [],
   "source": [
    "#Using tables that are unique and useful\n",
    "full_movies = pd.read_sql('''\n",
    "SELECT movie_id, primary_title, genres, start_year, runtime_minutes,\n",
    "        averagerating, numvotes, production_budget, worldwide_gross\n",
    "FROM genres \n",
    "''', conn)"
   ]
  },
  {
   "cell_type": "code",
   "execution_count": 18,
   "metadata": {
    "scrolled": false
   },
   "outputs": [
    {
     "data": {
      "image/png": "[encoded data removed]",
      "text/plain": [
       "<Figure size 432x288 with 1 Axes>"
      ]
     },
     "metadata": {
      "needs_background": "light"
     },
     "output_type": "display_data"
    }
   ],
   "source": [
    "#boxplot of 'worldwide_gross' to find the best measure of central tendency\n",
    "full_movies[\"worldwide_gross\"].plot(kind=\"box\", title=\"Box plot of Gross\")\n",
    "plt.show()"
   ]
  },
  {
   "cell_type": "code",
   "execution_count": 26,
   "metadata": {
    "scrolled": true
   },
   "outputs": [
    {
     "data": {
      "text/plain": [
       "Adventure,Animation,Comedy    65\n",
       "Action,Adventure,Sci-Fi       52\n",
       "Comedy                        51\n",
       "Comedy,Drama,Romance          49\n",
       "Drama                         49\n",
       "                              ..\n",
       "Romance,Sci-Fi,Thriller        1\n",
       "Action,Fantasy,Western         1\n",
       "Comedy,Drama,Horror            1\n",
       "Adventure,Comedy,Romance       1\n",
       "Fantasy,Musical                1\n",
       "Name: genres, Length: 217, dtype: int64"
      ]
     },
     "execution_count": 26,
     "metadata": {},
     "output_type": "execute_result"
    }
   ],
   "source": [
    "full_movies['genres'].value_counts()"
   ]
  },
  {
   "cell_type": "markdown",
   "metadata": {},
   "source": [
    "# Splitting genres column to isolate individual genres\n",
    "\n",
    "In order to get a better picture of how genre effects worldwide gross I needed to isolate individual genres so that I could apply a central tendancy to the 'worldwide_gross' of\n",
    "each genre and plot the results to show the average best performing genres.\n",
    "\n",
    "The plot shows that Animation, Adventure, and Sci-FI are, on average, the highest performing\n",
    "genres and will typically generate the highest revenue. This does not show the whole picture for genres. To understand the actual highest performing genres we have to look at the genres that\n",
    "have combinations of these three genres.\n",
    "\n",
    "So knowing what the top 3 performing genres are I filtered our data set to show the, full genres\n",
    "(movies use multiple genres to define they're move). Doing this I found that the top 3 full\n",
    "genres for worldwide gross revenue is \n",
    "\n"
   ]
  },
  {
   "cell_type": "code",
   "execution_count": null,
   "metadata": {},
   "outputs": [],
   "source": []
  },
  {
   "cell_type": "code",
   "execution_count": 29,
   "metadata": {},
   "outputs": [],
   "source": [
    "# spliting the genres column up so that each movie has an entry for each genre listed\n",
    "\n",
    "genres = (full_movies.genres.str.split(',', expand=True)\n",
    "            .stack()\n",
    "            .to_frame(name='genres'))\n",
    "\n",
    "genres.index = genres.index.droplevel(1)\n"
   ]
  },
  {
   "cell_type": "code",
   "execution_count": 31,
   "metadata": {
    "scrolled": true
   },
   "outputs": [],
   "source": [
    "# creating a new df by merging new columns back on the data set grouped by the median based off of box plot\n",
    "genre_gross = (genres.join(full_movies.loc[:,['worldwide_gross']]).groupby('genres').median().sort_values('worldwide_gross', ascending=False))"
   ]
  },
  {
   "cell_type": "code",
   "execution_count": 32,
   "metadata": {},
   "outputs": [],
   "source": [
    "#adding an index to new df because I don't know how to graph using the index as the x-axis\n",
    "genre_gross_df = genre_gross.reset_index()"
   ]
  },
  {
   "cell_type": "code",
   "execution_count": 33,
   "metadata": {
    "scrolled": true
   },
   "outputs": [
    {
     "data": {
      "image/png": "[encoded data removed]",
      "text/plain": [
       "<Figure size 1152x576 with 1 Axes>"
      ]
     },
     "metadata": {
      "needs_background": "light"
     },
     "output_type": "display_data"
    }
   ],
   "source": [
    "\n",
    "\n",
    "plt.rcParams['font.family'] = 'monospace'\n",
    "\n",
    "x = genre_gross_df['genres'].head(10)\n",
    "height= genre_gross_df['worldwide_gross'].head(10)\n",
    "fig, ax = plt.subplots(figsize=(16,8))\n",
    "\n",
    "\n",
    "color=['blue', 'blue', 'blue', 'orange', 'orange', 'orange', 'orange', 'orange', 'orange', 'orange']\n",
    "ax.bar(x=x, height=height, color=color)\n",
    "\n",
    "\n",
    "plt.title(\"Top Performing Genres\", fontsize=20, loc='center', weight='bold')\n",
    "ax.set_xlabel('Top Grossing Genres', fontsize=16, weight='bold')\n",
    "\n",
    "ax.set_ylabel('Average Revenue', fontsize=15, rotation=360, weight='bold', loc='center')\n",
    "ax.ticklabel_format(style='plain', axis='y')\n",
    "\n",
    "ax.tick_params(axis='y', which='major', labelsize=16)\n",
    "ax.tick_params(axis='x', labelsize=13)\n",
    "\n",
    "ax.yaxis.set_label_coords(-0.1, 0.5)\n",
    "ax.yaxis.set_major_formatter(StrMethodFormatter('${x:,}'))\n",
    "\n",
    "plt.tight_layout(pad = 2.0)\n",
    "plt.savefig('top_genres.jpg', dpi=400)"
   ]
  },
  {
   "cell_type": "code",
   "execution_count": 52,
   "metadata": {
    "scrolled": true
   },
   "outputs": [
    {
     "data": {
      "text/plain": [
       "genres                    \n",
       "Adventure,Animation,Comedy    65\n",
       "Action,Adventure,Sci-Fi       52\n",
       "Action,Adventure,Fantasy      30\n",
       "Action,Adventure,Drama        25\n",
       "Action,Adventure,Comedy       20\n",
       "                              ..\n",
       "Adventure,Drama,History        1\n",
       "Romance,Sci-Fi,Thriller        1\n",
       "Adventure,Comedy,Sci-Fi        1\n",
       "Adventure,Comedy,Romance       1\n",
       "Action,Adventure               1\n",
       "Length: 67, dtype: int64"
      ]
     },
     "execution_count": 52,
     "metadata": {},
     "output_type": "execute_result"
    }
   ],
   "source": [
    "top_genres = pd.read_sql('''\n",
    "SELECT title, movie_id, production_budget, worldwide_gross, month, genres\n",
    "FROM genres\n",
    "WHERE genres LIKE '%Animation%' OR genres LIKE '%Adventure%' OR genres LIKE '%Sci-FI%'\n",
    "ORDER BY worldwide_gross desc\n",
    "''', conn)\n",
    "top_genres.loc[:,['genres']].value_counts()"
   ]
  },
  {
   "cell_type": "code",
   "execution_count": 67,
   "metadata": {},
   "outputs": [
    {
     "data": {
      "text/html": [
       "<div>\n",
       "<style scoped>\n",
       "    .dataframe tbody tr th:only-of-type {\n",
       "        vertical-align: middle;\n",
       "    }\n",
       "\n",
       "    .dataframe tbody tr th {\n",
       "        vertical-align: top;\n",
       "    }\n",
       "\n",
       "    .dataframe thead th {\n",
       "        text-align: right;\n",
       "    }\n",
       "</style>\n",
       "<table border=\"1\" class=\"dataframe\">\n",
       "  <thead>\n",
       "    <tr style=\"text-align: right;\">\n",
       "      <th></th>\n",
       "      <th>genres</th>\n",
       "    </tr>\n",
       "  </thead>\n",
       "  <tbody>\n",
       "    <tr>\n",
       "      <th>0</th>\n",
       "      <td>Action,Adventure,Sci-Fi</td>\n",
       "    </tr>\n",
       "    <tr>\n",
       "      <th>1</th>\n",
       "      <td>Action,Adventure,Sci-Fi</td>\n",
       "    </tr>\n",
       "    <tr>\n",
       "      <th>2</th>\n",
       "      <td>Action,Adventure,Sci-Fi</td>\n",
       "    </tr>\n",
       "    <tr>\n",
       "      <th>3</th>\n",
       "      <td>Action,Adventure,Sci-Fi</td>\n",
       "    </tr>\n",
       "    <tr>\n",
       "      <th>4</th>\n",
       "      <td>Action,Adventure,Sci-Fi</td>\n",
       "    </tr>\n",
       "    <tr>\n",
       "      <th>5</th>\n",
       "      <td>Action,Adventure,Sci-Fi</td>\n",
       "    </tr>\n",
       "    <tr>\n",
       "      <th>6</th>\n",
       "      <td>Adventure,Animation,Comedy</td>\n",
       "    </tr>\n",
       "    <tr>\n",
       "      <th>7</th>\n",
       "      <td>Action,Adventure,Animation</td>\n",
       "    </tr>\n",
       "    <tr>\n",
       "      <th>8</th>\n",
       "      <td>Action,Adventure,Sci-Fi</td>\n",
       "    </tr>\n",
       "    <tr>\n",
       "      <th>9</th>\n",
       "      <td>Adventure,Animation,Comedy</td>\n",
       "    </tr>\n",
       "  </tbody>\n",
       "</table>\n",
       "</div>"
      ],
      "text/plain": [
       "                       genres\n",
       "0     Action,Adventure,Sci-Fi\n",
       "1     Action,Adventure,Sci-Fi\n",
       "2     Action,Adventure,Sci-Fi\n",
       "3     Action,Adventure,Sci-Fi\n",
       "4     Action,Adventure,Sci-Fi\n",
       "5     Action,Adventure,Sci-Fi\n",
       "6  Adventure,Animation,Comedy\n",
       "7  Action,Adventure,Animation\n",
       "8     Action,Adventure,Sci-Fi\n",
       "9  Adventure,Animation,Comedy"
      ]
     },
     "execution_count": 67,
     "metadata": {},
     "output_type": "execute_result"
    }
   ],
   "source": [
    "top_genres.loc[:,['genres']].head(10)"
   ]
  },
  {
   "cell_type": "code",
   "execution_count": 53,
   "metadata": {
    "scrolled": true
   },
   "outputs": [
    {
     "data": {
      "image/png": "[encoded data removed]",
      "text/plain": [
       "<Figure size 1152x576 with 1 Axes>"
      ]
     },
     "metadata": {
      "needs_background": "light"
     },
     "output_type": "display_data"
    }
   ],
   "source": [
    "plt.rcParams['font.family'] = 'monospace'\n",
    "\n",
    "x = top_genres['genres'].head(10)\n",
    "height= top_genres['worldwide_gross'].head(10)\n",
    "fig, ax = plt.subplots(figsize=(16,8))\n",
    "\n",
    "\n",
    "color=['blue', 'blue', 'blue', 'orange', 'orange', 'orange', 'orange', 'orange', 'orange', 'orange']\n",
    "ax.bar(x=x, height=height, color=color)\n",
    "\n",
    "\n",
    "plt.title(\"Top Performing Genres\", fontsize=20, loc='center', weight='bold')\n",
    "ax.set_xlabel('Top Grossing Genres', fontsize=16, weight='bold')\n",
    "\n",
    "ax.set_ylabel('Average Revenue', fontsize=15, rotation=360, weight='bold', loc='center')\n",
    "ax.ticklabel_format(style='plain', axis='y')\n",
    "\n",
    "ax.tick_params(axis='y', which='major', labelsize=16)\n",
    "ax.tick_params(axis='x', labelsize=13)\n",
    "\n",
    "ax.yaxis.set_label_coords(-0.1, 0.5)\n",
    "ax.yaxis.set_major_formatter(StrMethodFormatter('${x:,}'))\n",
    "\n",
    "plt.tight_layout(pad = 2.0)\n",
    "plt.savefig('top_genres.jpg', dpi=400)"
   ]
  },
  {
   "cell_type": "code",
   "execution_count": 55,
   "metadata": {},
   "outputs": [
    {
     "data": {
      "text/html": [
       "<div>\n",
       "<style scoped>\n",
       "    .dataframe tbody tr th:only-of-type {\n",
       "        vertical-align: middle;\n",
       "    }\n",
       "\n",
       "    .dataframe tbody tr th {\n",
       "        vertical-align: top;\n",
       "    }\n",
       "\n",
       "    .dataframe thead th {\n",
       "        text-align: right;\n",
       "    }\n",
       "</style>\n",
       "<table border=\"1\" class=\"dataframe\">\n",
       "  <thead>\n",
       "    <tr style=\"text-align: right;\">\n",
       "      <th></th>\n",
       "      <th>title</th>\n",
       "      <th>movie_id</th>\n",
       "      <th>production_budget</th>\n",
       "      <th>worldwide_gross</th>\n",
       "      <th>month</th>\n",
       "      <th>genres</th>\n",
       "    </tr>\n",
       "  </thead>\n",
       "  <tbody>\n",
       "    <tr>\n",
       "      <th>0</th>\n",
       "      <td>Avengers: Infinity War</td>\n",
       "      <td>tt4154756</td>\n",
       "      <td>300000000.0</td>\n",
       "      <td>2.048134e+09</td>\n",
       "      <td>4</td>\n",
       "      <td>Action,Adventure,Sci-Fi</td>\n",
       "    </tr>\n",
       "    <tr>\n",
       "      <th>1</th>\n",
       "      <td>Jurassic World 3D</td>\n",
       "      <td>tt0369610</td>\n",
       "      <td>215000000.0</td>\n",
       "      <td>1.648855e+09</td>\n",
       "      <td>6</td>\n",
       "      <td>Action,Adventure,Sci-Fi</td>\n",
       "    </tr>\n",
       "    <tr>\n",
       "      <th>2</th>\n",
       "      <td>Group Hug</td>\n",
       "      <td>tt0848228</td>\n",
       "      <td>225000000.0</td>\n",
       "      <td>1.517936e+09</td>\n",
       "      <td>5</td>\n",
       "      <td>Action,Adventure,Sci-Fi</td>\n",
       "    </tr>\n",
       "    <tr>\n",
       "      <th>3</th>\n",
       "      <td>Marvel Avengers: Age of Ultron</td>\n",
       "      <td>tt2395427</td>\n",
       "      <td>330600000.0</td>\n",
       "      <td>1.403014e+09</td>\n",
       "      <td>5</td>\n",
       "      <td>Action,Adventure,Sci-Fi</td>\n",
       "    </tr>\n",
       "    <tr>\n",
       "      <th>4</th>\n",
       "      <td>Black Panther</td>\n",
       "      <td>tt1825683</td>\n",
       "      <td>200000000.0</td>\n",
       "      <td>1.348258e+09</td>\n",
       "      <td>2</td>\n",
       "      <td>Action,Adventure,Sci-Fi</td>\n",
       "    </tr>\n",
       "  </tbody>\n",
       "</table>\n",
       "</div>"
      ],
      "text/plain": [
       "                            title   movie_id  production_budget  \\\n",
       "0          Avengers: Infinity War  tt4154756        300000000.0   \n",
       "1               Jurassic World 3D  tt0369610        215000000.0   \n",
       "2                       Group Hug  tt0848228        225000000.0   \n",
       "3  Marvel Avengers: Age of Ultron  tt2395427        330600000.0   \n",
       "4                   Black Panther  tt1825683        200000000.0   \n",
       "\n",
       "   worldwide_gross  month                   genres  \n",
       "0     2.048134e+09      4  Action,Adventure,Sci-Fi  \n",
       "1     1.648855e+09      6  Action,Adventure,Sci-Fi  \n",
       "2     1.517936e+09      5  Action,Adventure,Sci-Fi  \n",
       "3     1.403014e+09      5  Action,Adventure,Sci-Fi  \n",
       "4     1.348258e+09      2  Action,Adventure,Sci-Fi  "
      ]
     },
     "execution_count": 55,
     "metadata": {},
     "output_type": "execute_result"
    }
   ],
   "source": [
    "top_genres.head()"
   ]
  },
  {
   "cell_type": "markdown",
   "metadata": {},
   "source": [
    "\n",
    "\n",
    "\n",
    "\n",
    "\n",
    "\n",
    "\n",
    "\n",
    "\n",
    "\n",
    "\n",
    "\n",
    "\n",
    "# Reccomendation Based on Our Combined Insights"
   ]
  },
  {
   "cell_type": "code",
   "execution_count": null,
   "metadata": {},
   "outputs": [],
   "source": [
    "full_movies_sql = full_movies_df.to_sql('genres', conn, if_exists='replace', index = False)"
   ]
  },
  {
   "cell_type": "code",
   "execution_count": null,
   "metadata": {},
   "outputs": [],
   "source": [
    "#### I can't get the month column to work correctly in the query. Not sure why"
   ]
  },
  {
   "cell_type": "code",
   "execution_count": 136,
   "metadata": {},
   "outputs": [],
   "source": [
    "recomendation = pd.read_sql('''\n",
    "SELECT title, movie_id, production_budget, worldwide_gross, month, genres\n",
    "FROM genres\n",
    "WHERE production_budget >= 65000000\n",
    "                AND genres LIKE '%Adventure,Animation%'\n",
    "ORDER BY worldwide_gross desc\n",
    "''', conn)"
   ]
  },
  {
   "cell_type": "code",
   "execution_count": 148,
   "metadata": {
    "scrolled": true
   },
   "outputs": [
    {
     "data": {
      "image/png": "[encoded data removed]",
      "text/plain": [
       "<Figure size 1152x576 with 1 Axes>"
      ]
     },
     "metadata": {
      "needs_background": "light"
     },
     "output_type": "display_data"
    }
   ],
   "source": [
    "plt.rcParams['font.family'] = 'monospace'\n",
    "\n",
    "x = recomendation['title'].head(10)\n",
    "height= recomendation['worldwide_gross'].head(10)\n",
    "fig, ax = plt.subplots(figsize=(16,8))\n",
    "\n",
    "\n",
    "\n",
    "ax.bar(x=x, height=height, color= 'blue')\n",
    "\n",
    "\n",
    "plt.title(\"Example Movies\", fontsize=20, loc='center', weight='bold')\n",
    "ax.set_xlabel('Top Grossing Movies', fontsize=16, weight='bold')\n",
    "\n",
    "ax.set_ylabel('Average Revenue', fontsize=15, rotation=360, weight='bold', loc='center')\n",
    "ax.ticklabel_format(style='plain', axis='y')\n",
    "\n",
    "ax.tick_params(axis='y', which='major', labelsize=16)\n",
    "ax.tick_params(axis='x', labelsize=13, rotation = 90)\n",
    "\n",
    "ax.yaxis.set_label_coords(-0.1, 0.5)\n",
    "ax.yaxis.set_major_formatter(StrMethodFormatter('${x:,}'))\n",
    "\n",
    "plt.tight_layout()\n",
    "plt.savefig('example_reccomendations.jpg', dpi=400)"
   ]
  },
  {
   "cell_type": "code",
   "execution_count": 153,
   "metadata": {},
   "outputs": [
    {
     "data": {
      "text/html": [
       "<div>\n",
       "<style scoped>\n",
       "    .dataframe tbody tr th:only-of-type {\n",
       "        vertical-align: middle;\n",
       "    }\n",
       "\n",
       "    .dataframe tbody tr th {\n",
       "        vertical-align: top;\n",
       "    }\n",
       "\n",
       "    .dataframe thead th {\n",
       "        text-align: right;\n",
       "    }\n",
       "</style>\n",
       "<table border=\"1\" class=\"dataframe\">\n",
       "  <thead>\n",
       "    <tr style=\"text-align: right;\">\n",
       "      <th></th>\n",
       "      <th>title</th>\n",
       "      <th>movie_id</th>\n",
       "      <th>production_budget</th>\n",
       "      <th>worldwide_gross</th>\n",
       "      <th>month</th>\n",
       "      <th>genres</th>\n",
       "    </tr>\n",
       "  </thead>\n",
       "  <tbody>\n",
       "    <tr>\n",
       "      <th>0</th>\n",
       "      <td>Frozen</td>\n",
       "      <td>tt2294629</td>\n",
       "      <td>150000000.0</td>\n",
       "      <td>1.272470e+09</td>\n",
       "      <td>11</td>\n",
       "      <td>Adventure,Animation,Comedy</td>\n",
       "    </tr>\n",
       "    <tr>\n",
       "      <th>1</th>\n",
       "      <td>Incredibles 2</td>\n",
       "      <td>tt3606756</td>\n",
       "      <td>200000000.0</td>\n",
       "      <td>1.242521e+09</td>\n",
       "      <td>6</td>\n",
       "      <td>Action,Adventure,Animation</td>\n",
       "    </tr>\n",
       "    <tr>\n",
       "      <th>2</th>\n",
       "      <td>Minions</td>\n",
       "      <td>tt2293640</td>\n",
       "      <td>74000000.0</td>\n",
       "      <td>1.160336e+09</td>\n",
       "      <td>7</td>\n",
       "      <td>Adventure,Animation,Comedy</td>\n",
       "    </tr>\n",
       "    <tr>\n",
       "      <th>3</th>\n",
       "      <td>3</td>\n",
       "      <td>tt0435761</td>\n",
       "      <td>200000000.0</td>\n",
       "      <td>1.068880e+09</td>\n",
       "      <td>6</td>\n",
       "      <td>Adventure,Animation,Comedy</td>\n",
       "    </tr>\n",
       "    <tr>\n",
       "      <th>4</th>\n",
       "      <td>Despicable Me 3</td>\n",
       "      <td>tt3469046</td>\n",
       "      <td>75000000.0</td>\n",
       "      <td>1.034728e+09</td>\n",
       "      <td>6</td>\n",
       "      <td>Adventure,Animation,Comedy</td>\n",
       "    </tr>\n",
       "    <tr>\n",
       "      <th>5</th>\n",
       "      <td>Finding Nemo 2</td>\n",
       "      <td>tt2277860</td>\n",
       "      <td>200000000.0</td>\n",
       "      <td>1.021215e+09</td>\n",
       "      <td>6</td>\n",
       "      <td>Adventure,Animation,Comedy</td>\n",
       "    </tr>\n",
       "    <tr>\n",
       "      <th>6</th>\n",
       "      <td>Zootopia</td>\n",
       "      <td>tt2948356</td>\n",
       "      <td>150000000.0</td>\n",
       "      <td>1.019430e+09</td>\n",
       "      <td>3</td>\n",
       "      <td>Adventure,Animation,Comedy</td>\n",
       "    </tr>\n",
       "    <tr>\n",
       "      <th>7</th>\n",
       "      <td>Despicable Me 2</td>\n",
       "      <td>tt1690953</td>\n",
       "      <td>76000000.0</td>\n",
       "      <td>9.752168e+08</td>\n",
       "      <td>7</td>\n",
       "      <td>Adventure,Animation,Comedy</td>\n",
       "    </tr>\n",
       "    <tr>\n",
       "      <th>8</th>\n",
       "      <td>Untitled Pets Movie</td>\n",
       "      <td>tt2709768</td>\n",
       "      <td>75000000.0</td>\n",
       "      <td>8.867505e+08</td>\n",
       "      <td>7</td>\n",
       "      <td>Adventure,Animation,Comedy</td>\n",
       "    </tr>\n",
       "    <tr>\n",
       "      <th>9</th>\n",
       "      <td>Ice Age 4</td>\n",
       "      <td>tt1667889</td>\n",
       "      <td>95000000.0</td>\n",
       "      <td>8.797651e+08</td>\n",
       "      <td>7</td>\n",
       "      <td>Adventure,Animation,Comedy</td>\n",
       "    </tr>\n",
       "  </tbody>\n",
       "</table>\n",
       "</div>"
      ],
      "text/plain": [
       "                 title   movie_id  production_budget  worldwide_gross  month  \\\n",
       "0               Frozen  tt2294629        150000000.0     1.272470e+09     11   \n",
       "1        Incredibles 2  tt3606756        200000000.0     1.242521e+09      6   \n",
       "2              Minions  tt2293640         74000000.0     1.160336e+09      7   \n",
       "3                    3  tt0435761        200000000.0     1.068880e+09      6   \n",
       "4      Despicable Me 3  tt3469046         75000000.0     1.034728e+09      6   \n",
       "5       Finding Nemo 2  tt2277860        200000000.0     1.021215e+09      6   \n",
       "6             Zootopia  tt2948356        150000000.0     1.019430e+09      3   \n",
       "7      Despicable Me 2  tt1690953         76000000.0     9.752168e+08      7   \n",
       "8  Untitled Pets Movie  tt2709768         75000000.0     8.867505e+08      7   \n",
       "9            Ice Age 4  tt1667889         95000000.0     8.797651e+08      7   \n",
       "\n",
       "                       genres  \n",
       "0  Adventure,Animation,Comedy  \n",
       "1  Action,Adventure,Animation  \n",
       "2  Adventure,Animation,Comedy  \n",
       "3  Adventure,Animation,Comedy  \n",
       "4  Adventure,Animation,Comedy  \n",
       "5  Adventure,Animation,Comedy  \n",
       "6  Adventure,Animation,Comedy  \n",
       "7  Adventure,Animation,Comedy  \n",
       "8  Adventure,Animation,Comedy  \n",
       "9  Adventure,Animation,Comedy  "
      ]
     },
     "execution_count": 153,
     "metadata": {},
     "output_type": "execute_result"
    }
   ],
   "source": [
    "recomendation.head(10)"
   ]
  }
 ],
 "metadata": {
  "kernelspec": {
   "display_name": "Python (learn-env)",
   "language": "python",
   "name": "learn-env"
  },
  "language_info": {
   "codemirror_mode": {
    "name": "ipython",
    "version": 3
   },
   "file_extension": ".py",
   "mimetype": "text/x-python",
   "name": "python",
   "nbconvert_exporter": "python",
   "pygments_lexer": "ipython3",
   "version": "3.8.5"
  }
 },
 "nbformat": 4,
 "nbformat_minor": 4
}
