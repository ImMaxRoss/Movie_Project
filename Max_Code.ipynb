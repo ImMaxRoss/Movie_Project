{
 "cells": [
  {
   "cell_type": "markdown",
   "metadata": {},
   "source": [
    "# 1. Loading im.db as pd.df"
   ]
  },
  {
   "cell_type": "code",
   "execution_count": 27,
   "metadata": {},
   "outputs": [],
   "source": [
    "import pandas as pd\n",
    "import sqlite3\n",
    "\n",
    "import matplotlib.pyplot as plt\n",
    "import matplotlib.ticker as mtick\n",
    "from matplotlib.ticker import StrMethodFormatter\n",
    "%matplotlib inline\n"
   ]
  },
  {
   "cell_type": "code",
   "execution_count": 28,
   "metadata": {},
   "outputs": [],
   "source": [
    "conn = sqlite3.connect('data/im.db')\n",
    "cursor = conn.cursor()"
   ]
  },
  {
   "cell_type": "code",
   "execution_count": 29,
   "metadata": {},
   "outputs": [],
   "source": [
    "imdb_basics = pd.read_sql('''\n",
    "SELECT *\n",
    "FROM movie_basics\n",
    "''', conn)\n",
    "\n",
    "imdb_akas = pd.read_sql('''\n",
    "SELECT *\n",
    "FROM movie_akas\n",
    "WHERE region = 'US'\n",
    "GROUP BY movie_id\n",
    "''', conn)\n",
    "\n",
    "imdb_ratings = pd.read_sql('''\n",
    "SELECT *\n",
    "FROM movie_ratings\n",
    "''', conn)"
   ]
  },
  {
   "cell_type": "markdown",
   "metadata": {},
   "source": [
    "# 2. Name of df Variables:\n",
    "\n",
    "### imdb Variables (each variable is an individual table):\n",
    "- imdb_basics\n",
    "- imdb_akas\n",
    "- imdb_ratings"
   ]
  },
  {
   "cell_type": "markdown",
   "metadata": {},
   "source": [
    "# 3. Merging IMDB"
   ]
  },
  {
   "cell_type": "code",
   "execution_count": 30,
   "metadata": {
    "scrolled": false
   },
   "outputs": [
    {
     "name": "stdout",
     "output_type": "stream",
     "text": [
      "<class 'pandas.core.frame.DataFrame'>\n",
      "RangeIndex: 146144 entries, 0 to 146143\n",
      "Data columns (total 6 columns):\n",
      " #   Column           Non-Null Count   Dtype  \n",
      "---  ------           --------------   -----  \n",
      " 0   movie_id         146144 non-null  object \n",
      " 1   primary_title    146144 non-null  object \n",
      " 2   original_title   146123 non-null  object \n",
      " 3   start_year       146144 non-null  int64  \n",
      " 4   runtime_minutes  114405 non-null  float64\n",
      " 5   genres           140736 non-null  object \n",
      "dtypes: float64(1), int64(1), object(4)\n",
      "memory usage: 6.7+ MB\n"
     ]
    }
   ],
   "source": [
    "akas_basics_merge = imdb_akas.merge(imdb_basics, on='movie_id',\n",
    "                                        how='inner')\n",
    "imdb_basics.info()"
   ]
  },
  {
   "cell_type": "code",
   "execution_count": 31,
   "metadata": {
    "scrolled": true
   },
   "outputs": [
    {
     "name": "stdout",
     "output_type": "stream",
     "text": [
      "<class 'pandas.core.frame.DataFrame'>\n",
      "Int64Index: 47433 entries, 0 to 47432\n",
      "Data columns (total 15 columns):\n",
      " #   Column             Non-Null Count  Dtype  \n",
      "---  ------             --------------  -----  \n",
      " 0   movie_id           47433 non-null  object \n",
      " 1   ordering           47433 non-null  int64  \n",
      " 2   title              47433 non-null  object \n",
      " 3   region             47433 non-null  object \n",
      " 4   language           325 non-null    object \n",
      " 5   types              4977 non-null   object \n",
      " 6   attributes         1652 non-null   object \n",
      " 7   is_original_title  47428 non-null  float64\n",
      " 8   primary_title      47433 non-null  object \n",
      " 9   original_title     47432 non-null  object \n",
      " 10  start_year         47433 non-null  int64  \n",
      " 11  runtime_minutes    39673 non-null  float64\n",
      " 12  genres             46840 non-null  object \n",
      " 13  averagerating      26654 non-null  float64\n",
      " 14  numvotes           26654 non-null  float64\n",
      "dtypes: float64(4), int64(2), object(9)\n",
      "memory usage: 5.8+ MB\n"
     ]
    }
   ],
   "source": [
    "imdb_merged = akas_basics_merge.merge(imdb_ratings, on='movie_id',\n",
    "                                       how='left')\n",
    "imdb_merged.info()"
   ]
  },
  {
   "cell_type": "markdown",
   "metadata": {},
   "source": [
    "# 4. Cleaning tn.movie_budgets for merge"
   ]
  },
  {
   "cell_type": "code",
   "execution_count": 32,
   "metadata": {},
   "outputs": [],
   "source": [
    "tn_budgets = pd.read_csv('data/tn.movie_budgets.csv.gz')"
   ]
  },
  {
   "cell_type": "code",
   "execution_count": 33,
   "metadata": {},
   "outputs": [],
   "source": [
    "tn_budgets.drop_duplicates(subset = ['movie'], inplace=True)"
   ]
  },
  {
   "cell_type": "code",
   "execution_count": 34,
   "metadata": {},
   "outputs": [],
   "source": [
    "tn_budgets.rename(columns = {'movie':'primary_title'}, inplace=True)"
   ]
  },
  {
   "cell_type": "code",
   "execution_count": 35,
   "metadata": {},
   "outputs": [],
   "source": [
    "#Creating new coumn called year that is date.time\n",
    "tn_budgets['Release_Date_Time'] = pd.to_datetime(tn_budgets['release_date'])\n",
    "tn_budgets['start_year'] = tn_budgets['Release_Date_Time'].dt.year\n",
    "tn_budgets['month'] = tn_budgets['Release_Date_Time'].dt.month"
   ]
  },
  {
   "cell_type": "markdown",
   "metadata": {},
   "source": [
    "# 5: MERGE Merging Budgets to IMDB\n",
    "\n",
    "#### Also changing columns to match Anat and Keanan"
   ]
  },
  {
   "cell_type": "code",
   "execution_count": 36,
   "metadata": {},
   "outputs": [
    {
     "data": {
      "text/html": [
       "<div>\n",
       "<style scoped>\n",
       "    .dataframe tbody tr th:only-of-type {\n",
       "        vertical-align: middle;\n",
       "    }\n",
       "\n",
       "    .dataframe tbody tr th {\n",
       "        vertical-align: top;\n",
       "    }\n",
       "\n",
       "    .dataframe thead th {\n",
       "        text-align: right;\n",
       "    }\n",
       "</style>\n",
       "<table border=\"1\" class=\"dataframe\">\n",
       "  <thead>\n",
       "    <tr style=\"text-align: right;\">\n",
       "      <th></th>\n",
       "      <th>movie_id</th>\n",
       "      <th>ordering</th>\n",
       "      <th>title</th>\n",
       "      <th>region</th>\n",
       "      <th>language</th>\n",
       "      <th>types</th>\n",
       "      <th>attributes</th>\n",
       "      <th>is_original_title</th>\n",
       "      <th>primary_title</th>\n",
       "      <th>original_title</th>\n",
       "      <th>start_year</th>\n",
       "      <th>runtime_minutes</th>\n",
       "      <th>genres</th>\n",
       "      <th>averagerating</th>\n",
       "      <th>numvotes</th>\n",
       "    </tr>\n",
       "  </thead>\n",
       "  <tbody>\n",
       "    <tr>\n",
       "      <th>0</th>\n",
       "      <td>tt0069049</td>\n",
       "      <td>2</td>\n",
       "      <td>The Other Side of the Wind</td>\n",
       "      <td>US</td>\n",
       "      <td>None</td>\n",
       "      <td>imdbDisplay</td>\n",
       "      <td>None</td>\n",
       "      <td>0.0</td>\n",
       "      <td>The Other Side of the Wind</td>\n",
       "      <td>The Other Side of the Wind</td>\n",
       "      <td>2018</td>\n",
       "      <td>122.0</td>\n",
       "      <td>Drama</td>\n",
       "      <td>6.9</td>\n",
       "      <td>4517.0</td>\n",
       "    </tr>\n",
       "    <tr>\n",
       "      <th>1</th>\n",
       "      <td>tt0112502</td>\n",
       "      <td>1</td>\n",
       "      <td>Bigfoot</td>\n",
       "      <td>US</td>\n",
       "      <td>None</td>\n",
       "      <td>None</td>\n",
       "      <td>None</td>\n",
       "      <td>0.0</td>\n",
       "      <td>Bigfoot</td>\n",
       "      <td>Bigfoot</td>\n",
       "      <td>2017</td>\n",
       "      <td>NaN</td>\n",
       "      <td>Horror,Thriller</td>\n",
       "      <td>4.1</td>\n",
       "      <td>32.0</td>\n",
       "    </tr>\n",
       "    <tr>\n",
       "      <th>2</th>\n",
       "      <td>tt0159369</td>\n",
       "      <td>3</td>\n",
       "      <td>Cooper and Hemingway: The True Gen</td>\n",
       "      <td>US</td>\n",
       "      <td>None</td>\n",
       "      <td>None</td>\n",
       "      <td>None</td>\n",
       "      <td>0.0</td>\n",
       "      <td>Cooper and Hemingway: The True Gen</td>\n",
       "      <td>Cooper and Hemingway: The True Gen</td>\n",
       "      <td>2013</td>\n",
       "      <td>180.0</td>\n",
       "      <td>Documentary</td>\n",
       "      <td>7.6</td>\n",
       "      <td>53.0</td>\n",
       "    </tr>\n",
       "    <tr>\n",
       "      <th>3</th>\n",
       "      <td>tt0192528</td>\n",
       "      <td>1</td>\n",
       "      <td>Heaven &amp; Hell</td>\n",
       "      <td>US</td>\n",
       "      <td>None</td>\n",
       "      <td>imdbDisplay</td>\n",
       "      <td>None</td>\n",
       "      <td>0.0</td>\n",
       "      <td>Heaven &amp; Hell</td>\n",
       "      <td>Reverse Heaven</td>\n",
       "      <td>2018</td>\n",
       "      <td>104.0</td>\n",
       "      <td>Drama</td>\n",
       "      <td>4.0</td>\n",
       "      <td>72.0</td>\n",
       "    </tr>\n",
       "    <tr>\n",
       "      <th>4</th>\n",
       "      <td>tt0230212</td>\n",
       "      <td>1</td>\n",
       "      <td>The Final Journey</td>\n",
       "      <td>US</td>\n",
       "      <td>None</td>\n",
       "      <td>None</td>\n",
       "      <td>None</td>\n",
       "      <td>0.0</td>\n",
       "      <td>The Final Journey</td>\n",
       "      <td>The Final Journey</td>\n",
       "      <td>2010</td>\n",
       "      <td>120.0</td>\n",
       "      <td>Drama</td>\n",
       "      <td>8.8</td>\n",
       "      <td>8.0</td>\n",
       "    </tr>\n",
       "  </tbody>\n",
       "</table>\n",
       "</div>"
      ],
      "text/plain": [
       "    movie_id  ordering                               title region language  \\\n",
       "0  tt0069049         2          The Other Side of the Wind     US     None   \n",
       "1  tt0112502         1                             Bigfoot     US     None   \n",
       "2  tt0159369         3  Cooper and Hemingway: The True Gen     US     None   \n",
       "3  tt0192528         1                       Heaven & Hell     US     None   \n",
       "4  tt0230212         1                   The Final Journey     US     None   \n",
       "\n",
       "         types attributes  is_original_title  \\\n",
       "0  imdbDisplay       None                0.0   \n",
       "1         None       None                0.0   \n",
       "2         None       None                0.0   \n",
       "3  imdbDisplay       None                0.0   \n",
       "4         None       None                0.0   \n",
       "\n",
       "                        primary_title                      original_title  \\\n",
       "0          The Other Side of the Wind          The Other Side of the Wind   \n",
       "1                             Bigfoot                             Bigfoot   \n",
       "2  Cooper and Hemingway: The True Gen  Cooper and Hemingway: The True Gen   \n",
       "3                       Heaven & Hell                      Reverse Heaven   \n",
       "4                   The Final Journey                   The Final Journey   \n",
       "\n",
       "   start_year  runtime_minutes           genres  averagerating  numvotes  \n",
       "0        2018            122.0            Drama            6.9    4517.0  \n",
       "1        2017              NaN  Horror,Thriller            4.1      32.0  \n",
       "2        2013            180.0      Documentary            7.6      53.0  \n",
       "3        2018            104.0            Drama            4.0      72.0  \n",
       "4        2010            120.0            Drama            8.8       8.0  "
      ]
     },
     "execution_count": 36,
     "metadata": {},
     "output_type": "execute_result"
    }
   ],
   "source": [
    "imdb_merged.head()"
   ]
  },
  {
   "cell_type": "code",
   "execution_count": 37,
   "metadata": {},
   "outputs": [],
   "source": [
    "full_movies_df = imdb_merged.merge(tn_budgets, on= ['primary_title','start_year'], how= 'inner')"
   ]
  },
  {
   "cell_type": "code",
   "execution_count": 38,
   "metadata": {},
   "outputs": [],
   "source": [
    "full_movies_df['worldwide_gross'] = full_movies_df['worldwide_gross'].str.replace('$','').str.replace(',','').astype(float)\n",
    "full_movies_df['production_budget'] = full_movies_df['production_budget'].str.replace('$','').str.replace(',','').astype(float)\n",
    "full_movies_df['domestic_gross'] = full_movies_df['domestic_gross'].str.replace('$','').str.replace(',','').astype(float)"
   ]
  },
  {
   "cell_type": "markdown",
   "metadata": {},
   "source": [
    "# Analysis:\n",
    "# Trends in Genre"
   ]
  },
  {
   "cell_type": "code",
   "execution_count": 39,
   "metadata": {},
   "outputs": [],
   "source": [
    "#converting dataset to SQL to filter/drop columns easily\n",
    "full_movies_sql = full_movies_df.to_sql('genres', conn, if_exists='replace', index = False)"
   ]
  },
  {
   "cell_type": "code",
   "execution_count": 40,
   "metadata": {},
   "outputs": [],
   "source": [
    "#Using tables that are unique and useful\n",
    "full_movies = pd.read_sql('''\n",
    "SELECT movie_id, primary_title, genres, start_year, runtime_minutes,\n",
    "        averagerating, numvotes, production_budget, worldwide_gross\n",
    "FROM genres \n",
    "''', conn)"
   ]
  },
  {
   "cell_type": "code",
   "execution_count": 41,
   "metadata": {
    "scrolled": false
   },
   "outputs": [
    {
     "data": {
      "image/png": "[encoded data removed]",
      "text/plain": [
       "<Figure size 432x288 with 1 Axes>"
      ]
     },
     "metadata": {
      "needs_background": "light"
     },
     "output_type": "display_data"
    }
   ],
   "source": [
    "#boxplot of 'worldwide_gross' to find the best measure of central tendency\n",
    "full_movies[\"worldwide_gross\"].plot(kind=\"box\", title=\"Box plot of Gross\")\n",
    "plt.show()"
   ]
  },
  {
   "cell_type": "code",
   "execution_count": 42,
   "metadata": {
    "scrolled": true
   },
   "outputs": [
    {
     "data": {
      "text/plain": [
       "Adventure,Animation,Comedy    65\n",
       "Action,Adventure,Sci-Fi       52\n",
       "Comedy                        51\n",
       "Drama                         49\n",
       "Comedy,Drama,Romance          49\n",
       "                              ..\n",
       "Sci-Fi,Thriller                1\n",
       "Biography,Family,Sport         1\n",
       "Adventure,Horror,Mystery       1\n",
       "Drama,Thriller,Western         1\n",
       "Musical                        1\n",
       "Name: genres, Length: 217, dtype: int64"
      ]
     },
     "execution_count": 42,
     "metadata": {},
     "output_type": "execute_result"
    }
   ],
   "source": [
    "full_movies['genres'].value_counts()"
   ]
  },
  {
   "cell_type": "markdown",
   "metadata": {},
   "source": [
    "# Splitting genres column to isolate individual genres\n",
    "\n",
    "In order to get a better picture of how genre effects worldwide gross I needed to isolate individual genres so that I could apply a central tendancy to the 'worldwide_gross' of\n",
    "each genre and plot the results to show the average best performing genres.\n",
    "\n",
    "The plot shows that Animation, Adventure, and Sci-FI are, on average, the highest performing\n",
    "genres and will typically generate the highest revenue. This does not show the whole picture for genres. To understand the actual highest performing genres we have to look at the genres that\n",
    "have combinations of these three genres.\n",
    "\n",
    "So knowing what the top 3 performing genres are I filtered our data set to show the, full genres\n",
    "(movies use multiple genres to define they're move) to show the top performing genres.\n"
   ]
  },
  {
   "cell_type": "code",
   "execution_count": 43,
   "metadata": {},
   "outputs": [],
   "source": [
    "# spliting the genres column up so that each movie has an entry for each genre listed\n",
    "\n",
    "genres = (full_movies.genres.str.split(',', expand=True)\n",
    "            .stack()\n",
    "            .to_frame(name='genres'))\n",
    "\n",
    "genres.index = genres.index.droplevel(1)\n"
   ]
  },
  {
   "cell_type": "code",
   "execution_count": 44,
   "metadata": {
    "scrolled": true
   },
   "outputs": [],
   "source": [
    "# creating a new df by merging new columns back on the data set grouped by the median based off of box plot\n",
    "genre_gross = (genres.join(full_movies.loc[:,['worldwide_gross']]).groupby('genres').median().sort_values('worldwide_gross', ascending=False))"
   ]
  },
  {
   "cell_type": "code",
   "execution_count": 45,
   "metadata": {},
   "outputs": [],
   "source": [
    "#adding an index to new df because I don't know how to graph using the index as the x-axis\n",
    "genre_gross_df = genre_gross.reset_index()"
   ]
  },
  {
   "cell_type": "code",
   "execution_count": 46,
   "metadata": {
    "scrolled": true
   },
   "outputs": [
    {
     "data": {
      "image/png": "[encoded data removed]",
      "text/plain": [
       "<Figure size 1152x576 with 1 Axes>"
      ]
     },
     "metadata": {
      "needs_background": "light"
     },
     "output_type": "display_data"
    }
   ],
   "source": [
    "\n",
    "\n",
    "plt.rcParams['font.family'] = 'monospace'\n",
    "\n",
    "x = genre_gross_df['genres'].head(10)\n",
    "height= genre_gross_df['worldwide_gross'].head(10)\n",
    "fig, ax = plt.subplots(figsize=(16,8))\n",
    "\n",
    "\n",
    "color=['blue', 'blue', 'blue', 'orange', 'orange', 'orange', 'orange', 'orange', 'orange', 'orange']\n",
    "ax.bar(x=x, height=height, color=color)\n",
    "\n",
    "\n",
    "plt.title(\"Top Performing Genres\", fontsize=20, loc='center', weight='bold')\n",
    "ax.set_xlabel('Top Grossing Genres', fontsize=16, weight='bold')\n",
    "\n",
    "ax.set_ylabel('Average Revenue', fontsize=15, rotation=360, weight='bold', loc='center')\n",
    "ax.ticklabel_format(style='plain', axis='y')\n",
    "\n",
    "ax.tick_params(axis='y', which='major', labelsize=16)\n",
    "ax.tick_params(axis='x', labelsize=13)\n",
    "\n",
    "ax.yaxis.set_label_coords(-0.1, 0.5)\n",
    "ax.yaxis.set_major_formatter(StrMethodFormatter('${x:,}'))\n",
    "\n",
    "plt.tight_layout(pad = 2.0)\n",
    "plt.savefig('top_individual_genres.jpg', dpi=400)"
   ]
  },
  {
   "cell_type": "code",
   "execution_count": 47,
   "metadata": {
    "scrolled": false
   },
   "outputs": [],
   "source": [
    "top_genres = pd.read_sql('''\n",
    "SELECT title, movie_id, production_budget, worldwide_gross, month, genres\n",
    "FROM genres\n",
    "WHERE genres LIKE '%Animation%' OR genres LIKE '%Adventure%' OR genres LIKE '%Sci-FI%'\n",
    "ORDER BY worldwide_gross desc\n",
    "''', conn)"
   ]
  },
  {
   "cell_type": "code",
   "execution_count": 48,
   "metadata": {},
   "outputs": [],
   "source": [
    "top_10_full_genres = top_genres.groupby('genres')['worldwide_gross'].median().reset_index()\n",
    "top_10_full_genres.columns = ['genres', 'median_gross']\n",
    "top_10_full_genres.sort_values(by='median_gross', ascending=False, inplace=True)"
   ]
  },
  {
   "cell_type": "code",
   "execution_count": 49,
   "metadata": {},
   "outputs": [
    {
     "data": {
      "text/html": [
       "<div>\n",
       "<style scoped>\n",
       "    .dataframe tbody tr th:only-of-type {\n",
       "        vertical-align: middle;\n",
       "    }\n",
       "\n",
       "    .dataframe tbody tr th {\n",
       "        vertical-align: top;\n",
       "    }\n",
       "\n",
       "    .dataframe thead th {\n",
       "        text-align: right;\n",
       "    }\n",
       "</style>\n",
       "<table border=\"1\" class=\"dataframe\">\n",
       "  <thead>\n",
       "    <tr style=\"text-align: right;\">\n",
       "      <th></th>\n",
       "      <th>genres</th>\n",
       "      <th>median_gross</th>\n",
       "    </tr>\n",
       "  </thead>\n",
       "  <tbody>\n",
       "    <tr>\n",
       "      <th>45</th>\n",
       "      <td>Adventure,Fantasy</td>\n",
       "      <td>945577621.0</td>\n",
       "    </tr>\n",
       "    <tr>\n",
       "      <th>40</th>\n",
       "      <td>Adventure,Drama,Sci-Fi</td>\n",
       "      <td>660825409.0</td>\n",
       "    </tr>\n",
       "    <tr>\n",
       "      <th>10</th>\n",
       "      <td>Action,Adventure,Sci-Fi</td>\n",
       "      <td>560913841.0</td>\n",
       "    </tr>\n",
       "    <tr>\n",
       "      <th>1</th>\n",
       "      <td>Action,Adventure,Animation</td>\n",
       "      <td>507064637.5</td>\n",
       "    </tr>\n",
       "    <tr>\n",
       "      <th>50</th>\n",
       "      <td>Animation,Comedy,Family</td>\n",
       "      <td>469500298.0</td>\n",
       "    </tr>\n",
       "    <tr>\n",
       "      <th>47</th>\n",
       "      <td>Adventure,Mystery,Sci-Fi</td>\n",
       "      <td>402448265.0</td>\n",
       "    </tr>\n",
       "    <tr>\n",
       "      <th>3</th>\n",
       "      <td>Action,Adventure,Comedy</td>\n",
       "      <td>385851714.5</td>\n",
       "    </tr>\n",
       "    <tr>\n",
       "      <th>19</th>\n",
       "      <td>Action,Sci-Fi</td>\n",
       "      <td>370541256.0</td>\n",
       "    </tr>\n",
       "    <tr>\n",
       "      <th>7</th>\n",
       "      <td>Action,Adventure,Fantasy</td>\n",
       "      <td>349210715.0</td>\n",
       "    </tr>\n",
       "    <tr>\n",
       "      <th>18</th>\n",
       "      <td>Action,Mystery,Sci-Fi</td>\n",
       "      <td>348319861.0</td>\n",
       "    </tr>\n",
       "  </tbody>\n",
       "</table>\n",
       "</div>"
      ],
      "text/plain": [
       "                        genres  median_gross\n",
       "45           Adventure,Fantasy   945577621.0\n",
       "40      Adventure,Drama,Sci-Fi   660825409.0\n",
       "10     Action,Adventure,Sci-Fi   560913841.0\n",
       "1   Action,Adventure,Animation   507064637.5\n",
       "50     Animation,Comedy,Family   469500298.0\n",
       "47    Adventure,Mystery,Sci-Fi   402448265.0\n",
       "3      Action,Adventure,Comedy   385851714.5\n",
       "19               Action,Sci-Fi   370541256.0\n",
       "7     Action,Adventure,Fantasy   349210715.0\n",
       "18       Action,Mystery,Sci-Fi   348319861.0"
      ]
     },
     "execution_count": 49,
     "metadata": {},
     "output_type": "execute_result"
    }
   ],
   "source": [
    "top_10_full_genres.head(10)"
   ]
  },
  {
   "cell_type": "code",
   "execution_count": 50,
   "metadata": {
    "scrolled": true
   },
   "outputs": [
    {
     "data": {
      "image/png": "[encoded data removed]",
      "text/plain": [
       "<Figure size 1152x864 with 1 Axes>"
      ]
     },
     "metadata": {
      "needs_background": "light"
     },
     "output_type": "display_data"
    }
   ],
   "source": [
    "plt.rcParams['font.family'] = 'monospace'\n",
    "\n",
    "x = top_10_full_genres['genres'].head(10)\n",
    "height= top_10_full_genres['median_gross'].head(10)\n",
    "fig, ax = plt.subplots(figsize=(16,12))\n",
    "\n",
    "\n",
    "\n",
    "ax.bar(x=x, height=height, color='blue')\n",
    "\n",
    "\n",
    "plt.title(\"Top Performing Genres\", fontsize=20, loc='center', weight='bold')\n",
    "ax.set_xlabel('Top Grossing Genres', fontsize=16, weight='bold')\n",
    "\n",
    "ax.set_ylabel('Average Revenue', fontsize=15, rotation=360, weight='bold', loc='center')\n",
    "ax.ticklabel_format(style='plain', axis='y')\n",
    "\n",
    "ax.tick_params(axis='y', which='major', labelsize=16)\n",
    "ax.tick_params(axis='x', labelsize=12, rotation = 90)\n",
    "\n",
    "ax.yaxis.set_label_coords(-0.1, 0.5)\n",
    "ax.yaxis.set_major_formatter(StrMethodFormatter('${x:,}'))\n",
    "\n",
    "plt.tight_layout(pad = 2.0)\n",
    "plt.savefig('top_genres.jpg', dpi=400)"
   ]
  },
  {
   "cell_type": "markdown",
   "metadata": {},
   "source": [
    "\n",
    "\n",
    "\n",
    "\n",
    "\n",
    "\n",
    "\n",
    "\n",
    "\n",
    "\n",
    "\n",
    "\n",
    "\n",
    "# Reccomendation Based on Our Combined Insights"
   ]
  },
  {
   "cell_type": "code",
   "execution_count": 51,
   "metadata": {},
   "outputs": [],
   "source": [
    "full_movies_sql = full_movies_df.to_sql('genres', conn, if_exists='replace', index = False)"
   ]
  },
  {
   "cell_type": "code",
   "execution_count": 52,
   "metadata": {},
   "outputs": [],
   "source": [
    "#### I can't get the month column to work correctly in the query. Not sure why"
   ]
  },
  {
   "cell_type": "code",
   "execution_count": 53,
   "metadata": {},
   "outputs": [],
   "source": [
    "recomendation = pd.read_sql('''\n",
    "SELECT title, movie_id, production_budget, worldwide_gross, month, genres\n",
    "FROM genres\n",
    "WHERE production_budget >= 65000000\n",
    "                AND genres LIKE '%Adventure%' or genres LIKE '%Animation%' or genres LIKE '%Sci-FI%'\n",
    "GROUP BY month, genres\n",
    "ORDER BY worldwide_gross desc\n",
    "''', conn)"
   ]
  },
  {
   "cell_type": "code",
   "execution_count": 54,
   "metadata": {},
   "outputs": [
    {
     "data": {
      "text/html": [
       "<div>\n",
       "<style scoped>\n",
       "    .dataframe tbody tr th:only-of-type {\n",
       "        vertical-align: middle;\n",
       "    }\n",
       "\n",
       "    .dataframe tbody tr th {\n",
       "        vertical-align: top;\n",
       "    }\n",
       "\n",
       "    .dataframe thead th {\n",
       "        text-align: right;\n",
       "    }\n",
       "</style>\n",
       "<table border=\"1\" class=\"dataframe\">\n",
       "  <thead>\n",
       "    <tr style=\"text-align: right;\">\n",
       "      <th></th>\n",
       "      <th>title</th>\n",
       "      <th>movie_id</th>\n",
       "      <th>production_budget</th>\n",
       "      <th>worldwide_gross</th>\n",
       "      <th>month</th>\n",
       "      <th>genres</th>\n",
       "    </tr>\n",
       "  </thead>\n",
       "  <tbody>\n",
       "    <tr>\n",
       "      <th>0</th>\n",
       "      <td>Jurassic World 3D</td>\n",
       "      <td>tt0369610</td>\n",
       "      <td>215000000.0</td>\n",
       "      <td>1.648855e+09</td>\n",
       "      <td>6</td>\n",
       "      <td>Action,Adventure,Sci-Fi</td>\n",
       "    </tr>\n",
       "    <tr>\n",
       "      <th>1</th>\n",
       "      <td>Ahab</td>\n",
       "      <td>tt1477834</td>\n",
       "      <td>160000000.0</td>\n",
       "      <td>1.146895e+09</td>\n",
       "      <td>12</td>\n",
       "      <td>Action,Adventure,Fantasy</td>\n",
       "    </tr>\n",
       "    <tr>\n",
       "      <th>2</th>\n",
       "      <td>Skyfall</td>\n",
       "      <td>tt1074638</td>\n",
       "      <td>200000000.0</td>\n",
       "      <td>1.110527e+09</td>\n",
       "      <td>11</td>\n",
       "      <td>Action,Adventure,Thriller</td>\n",
       "    </tr>\n",
       "    <tr>\n",
       "      <th>3</th>\n",
       "      <td>3</td>\n",
       "      <td>tt0435761</td>\n",
       "      <td>200000000.0</td>\n",
       "      <td>1.068880e+09</td>\n",
       "      <td>6</td>\n",
       "      <td>Adventure,Animation,Comedy</td>\n",
       "    </tr>\n",
       "    <tr>\n",
       "      <th>4</th>\n",
       "      <td>Alice in Wonderland: An IMAX 3D Experience</td>\n",
       "      <td>tt1014759</td>\n",
       "      <td>200000000.0</td>\n",
       "      <td>1.025491e+09</td>\n",
       "      <td>3</td>\n",
       "      <td>Adventure,Family,Fantasy</td>\n",
       "    </tr>\n",
       "    <tr>\n",
       "      <th>...</th>\n",
       "      <td>...</td>\n",
       "      <td>...</td>\n",
       "      <td>...</td>\n",
       "      <td>...</td>\n",
       "      <td>...</td>\n",
       "      <td>...</td>\n",
       "    </tr>\n",
       "    <tr>\n",
       "      <th>164</th>\n",
       "      <td>Rotor DR1</td>\n",
       "      <td>tt4162992</td>\n",
       "      <td>350000.0</td>\n",
       "      <td>0.000000e+00</td>\n",
       "      <td>10</td>\n",
       "      <td>Family,Sci-Fi</td>\n",
       "    </tr>\n",
       "    <tr>\n",
       "      <th>165</th>\n",
       "      <td>Independence Day-Saster</td>\n",
       "      <td>tt2645670</td>\n",
       "      <td>1800000.0</td>\n",
       "      <td>0.000000e+00</td>\n",
       "      <td>12</td>\n",
       "      <td>Action,Adventure,Sci-Fi</td>\n",
       "    </tr>\n",
       "    <tr>\n",
       "      <th>166</th>\n",
       "      <td>The Dead Undead</td>\n",
       "      <td>tt0923653</td>\n",
       "      <td>1100000.0</td>\n",
       "      <td>0.000000e+00</td>\n",
       "      <td>12</td>\n",
       "      <td>Action,Horror,Sci-Fi</td>\n",
       "    </tr>\n",
       "    <tr>\n",
       "      <th>167</th>\n",
       "      <td>Bird Box</td>\n",
       "      <td>tt2737304</td>\n",
       "      <td>19800000.0</td>\n",
       "      <td>0.000000e+00</td>\n",
       "      <td>12</td>\n",
       "      <td>Drama,Horror,Sci-Fi</td>\n",
       "    </tr>\n",
       "    <tr>\n",
       "      <th>168</th>\n",
       "      <td>H.</td>\n",
       "      <td>tt3666210</td>\n",
       "      <td>200000.0</td>\n",
       "      <td>0.000000e+00</td>\n",
       "      <td>12</td>\n",
       "      <td>Drama,Sci-Fi,Thriller</td>\n",
       "    </tr>\n",
       "  </tbody>\n",
       "</table>\n",
       "<p>169 rows × 6 columns</p>\n",
       "</div>"
      ],
      "text/plain": [
       "                                          title   movie_id  production_budget  \\\n",
       "0                             Jurassic World 3D  tt0369610        215000000.0   \n",
       "1                                          Ahab  tt1477834        160000000.0   \n",
       "2                                       Skyfall  tt1074638        200000000.0   \n",
       "3                                             3  tt0435761        200000000.0   \n",
       "4    Alice in Wonderland: An IMAX 3D Experience  tt1014759        200000000.0   \n",
       "..                                          ...        ...                ...   \n",
       "164                                   Rotor DR1  tt4162992           350000.0   \n",
       "165                     Independence Day-Saster  tt2645670          1800000.0   \n",
       "166                             The Dead Undead  tt0923653          1100000.0   \n",
       "167                                    Bird Box  tt2737304         19800000.0   \n",
       "168                                          H.  tt3666210           200000.0   \n",
       "\n",
       "     worldwide_gross  month                      genres  \n",
       "0       1.648855e+09      6     Action,Adventure,Sci-Fi  \n",
       "1       1.146895e+09     12    Action,Adventure,Fantasy  \n",
       "2       1.110527e+09     11   Action,Adventure,Thriller  \n",
       "3       1.068880e+09      6  Adventure,Animation,Comedy  \n",
       "4       1.025491e+09      3    Adventure,Family,Fantasy  \n",
       "..               ...    ...                         ...  \n",
       "164     0.000000e+00     10               Family,Sci-Fi  \n",
       "165     0.000000e+00     12     Action,Adventure,Sci-Fi  \n",
       "166     0.000000e+00     12        Action,Horror,Sci-Fi  \n",
       "167     0.000000e+00     12         Drama,Horror,Sci-Fi  \n",
       "168     0.000000e+00     12       Drama,Sci-Fi,Thriller  \n",
       "\n",
       "[169 rows x 6 columns]"
      ]
     },
     "execution_count": 54,
     "metadata": {},
     "output_type": "execute_result"
    }
   ],
   "source": [
    "recomendation"
   ]
  },
  {
   "cell_type": "code",
   "execution_count": 55,
   "metadata": {
    "scrolled": true
   },
   "outputs": [
    {
     "data": {
      "image/png": "[encoded data removed]",
      "text/plain": [
       "<Figure size 1152x576 with 1 Axes>"
      ]
     },
     "metadata": {
      "needs_background": "light"
     },
     "output_type": "display_data"
    }
   ],
   "source": [
    "plt.rcParams['font.family'] = 'monospace'\n",
    "\n",
    "x = recomendation['title'].head(10)\n",
    "height= recomendation['worldwide_gross'].head(10)\n",
    "fig, ax = plt.subplots(figsize=(16,8))\n",
    "\n",
    "\n",
    "\n",
    "ax.bar(x=x, height=height, color= 'blue')\n",
    "\n",
    "\n",
    "plt.title(\"Example Movies\", fontsize=20, loc='center', weight='bold')\n",
    "ax.set_xlabel('Top Grossing Movies', fontsize=16, weight='bold')\n",
    "\n",
    "ax.set_ylabel('Average Revenue', fontsize=15, rotation=360, weight='bold', loc='center')\n",
    "ax.ticklabel_format(style='plain', axis='y')\n",
    "\n",
    "ax.tick_params(axis='y', which='major', labelsize=16)\n",
    "ax.tick_params(axis='x', labelsize=13, rotation = 90)\n",
    "\n",
    "ax.yaxis.set_label_coords(-0.1, 0.5)\n",
    "ax.yaxis.set_major_formatter(StrMethodFormatter('${x:,}'))\n",
    "\n",
    "plt.tight_layout()\n",
    "plt.savefig('example_reccomendations.jpg', dpi=400)"
   ]
  },
  {
   "cell_type": "code",
   "execution_count": 56,
   "metadata": {},
   "outputs": [
    {
     "data": {
      "text/html": [
       "<div>\n",
       "<style scoped>\n",
       "    .dataframe tbody tr th:only-of-type {\n",
       "        vertical-align: middle;\n",
       "    }\n",
       "\n",
       "    .dataframe tbody tr th {\n",
       "        vertical-align: top;\n",
       "    }\n",
       "\n",
       "    .dataframe thead th {\n",
       "        text-align: right;\n",
       "    }\n",
       "</style>\n",
       "<table border=\"1\" class=\"dataframe\">\n",
       "  <thead>\n",
       "    <tr style=\"text-align: right;\">\n",
       "      <th></th>\n",
       "      <th>title</th>\n",
       "      <th>movie_id</th>\n",
       "      <th>production_budget</th>\n",
       "      <th>worldwide_gross</th>\n",
       "      <th>month</th>\n",
       "      <th>genres</th>\n",
       "    </tr>\n",
       "  </thead>\n",
       "  <tbody>\n",
       "    <tr>\n",
       "      <th>0</th>\n",
       "      <td>Jurassic World 3D</td>\n",
       "      <td>tt0369610</td>\n",
       "      <td>215000000.0</td>\n",
       "      <td>1.648855e+09</td>\n",
       "      <td>6</td>\n",
       "      <td>Action,Adventure,Sci-Fi</td>\n",
       "    </tr>\n",
       "    <tr>\n",
       "      <th>1</th>\n",
       "      <td>Ahab</td>\n",
       "      <td>tt1477834</td>\n",
       "      <td>160000000.0</td>\n",
       "      <td>1.146895e+09</td>\n",
       "      <td>12</td>\n",
       "      <td>Action,Adventure,Fantasy</td>\n",
       "    </tr>\n",
       "    <tr>\n",
       "      <th>2</th>\n",
       "      <td>Skyfall</td>\n",
       "      <td>tt1074638</td>\n",
       "      <td>200000000.0</td>\n",
       "      <td>1.110527e+09</td>\n",
       "      <td>11</td>\n",
       "      <td>Action,Adventure,Thriller</td>\n",
       "    </tr>\n",
       "    <tr>\n",
       "      <th>3</th>\n",
       "      <td>3</td>\n",
       "      <td>tt0435761</td>\n",
       "      <td>200000000.0</td>\n",
       "      <td>1.068880e+09</td>\n",
       "      <td>6</td>\n",
       "      <td>Adventure,Animation,Comedy</td>\n",
       "    </tr>\n",
       "    <tr>\n",
       "      <th>4</th>\n",
       "      <td>Alice in Wonderland: An IMAX 3D Experience</td>\n",
       "      <td>tt1014759</td>\n",
       "      <td>200000000.0</td>\n",
       "      <td>1.025491e+09</td>\n",
       "      <td>3</td>\n",
       "      <td>Adventure,Family,Fantasy</td>\n",
       "    </tr>\n",
       "    <tr>\n",
       "      <th>5</th>\n",
       "      <td>The Hobbit: An Unexpected Journey</td>\n",
       "      <td>tt0903624</td>\n",
       "      <td>250000000.0</td>\n",
       "      <td>1.017004e+09</td>\n",
       "      <td>12</td>\n",
       "      <td>Adventure,Family,Fantasy</td>\n",
       "    </tr>\n",
       "    <tr>\n",
       "      <th>6</th>\n",
       "      <td>Jumanji: Welcome to the Jungle</td>\n",
       "      <td>tt2283362</td>\n",
       "      <td>90000000.0</td>\n",
       "      <td>9.644962e+08</td>\n",
       "      <td>12</td>\n",
       "      <td>Action,Adventure,Comedy</td>\n",
       "    </tr>\n",
       "    <tr>\n",
       "      <th>7</th>\n",
       "      <td>The Jungle Book</td>\n",
       "      <td>tt3040964</td>\n",
       "      <td>175000000.0</td>\n",
       "      <td>9.628545e+08</td>\n",
       "      <td>4</td>\n",
       "      <td>Adventure,Drama,Family</td>\n",
       "    </tr>\n",
       "    <tr>\n",
       "      <th>8</th>\n",
       "      <td>The Hobbit: The Desolation of Smaug</td>\n",
       "      <td>tt1170358</td>\n",
       "      <td>250000000.0</td>\n",
       "      <td>9.603669e+08</td>\n",
       "      <td>12</td>\n",
       "      <td>Adventure,Fantasy</td>\n",
       "    </tr>\n",
       "    <tr>\n",
       "      <th>9</th>\n",
       "      <td>The Idiom</td>\n",
       "      <td>tt1951264</td>\n",
       "      <td>130000000.0</td>\n",
       "      <td>8.648680e+08</td>\n",
       "      <td>11</td>\n",
       "      <td>Action,Adventure,Sci-Fi</td>\n",
       "    </tr>\n",
       "  </tbody>\n",
       "</table>\n",
       "</div>"
      ],
      "text/plain": [
       "                                        title   movie_id  production_budget  \\\n",
       "0                           Jurassic World 3D  tt0369610        215000000.0   \n",
       "1                                        Ahab  tt1477834        160000000.0   \n",
       "2                                     Skyfall  tt1074638        200000000.0   \n",
       "3                                           3  tt0435761        200000000.0   \n",
       "4  Alice in Wonderland: An IMAX 3D Experience  tt1014759        200000000.0   \n",
       "5           The Hobbit: An Unexpected Journey  tt0903624        250000000.0   \n",
       "6              Jumanji: Welcome to the Jungle  tt2283362         90000000.0   \n",
       "7                             The Jungle Book  tt3040964        175000000.0   \n",
       "8         The Hobbit: The Desolation of Smaug  tt1170358        250000000.0   \n",
       "9                                   The Idiom  tt1951264        130000000.0   \n",
       "\n",
       "   worldwide_gross  month                      genres  \n",
       "0     1.648855e+09      6     Action,Adventure,Sci-Fi  \n",
       "1     1.146895e+09     12    Action,Adventure,Fantasy  \n",
       "2     1.110527e+09     11   Action,Adventure,Thriller  \n",
       "3     1.068880e+09      6  Adventure,Animation,Comedy  \n",
       "4     1.025491e+09      3    Adventure,Family,Fantasy  \n",
       "5     1.017004e+09     12    Adventure,Family,Fantasy  \n",
       "6     9.644962e+08     12     Action,Adventure,Comedy  \n",
       "7     9.628545e+08      4      Adventure,Drama,Family  \n",
       "8     9.603669e+08     12           Adventure,Fantasy  \n",
       "9     8.648680e+08     11     Action,Adventure,Sci-Fi  "
      ]
     },
     "execution_count": 56,
     "metadata": {},
     "output_type": "execute_result"
    }
   ],
   "source": [
    "recomendation.head(10)"
   ]
  }
 ],
 "metadata": {
  "kernelspec": {
   "display_name": "Python (learn-env)",
   "language": "python",
   "name": "learn-env"
  },
  "language_info": {
   "codemirror_mode": {
    "name": "ipython",
    "version": 3
   },
   "file_extension": ".py",
   "mimetype": "text/x-python",
   "name": "python",
   "nbconvert_exporter": "python",
   "pygments_lexer": "ipython3",
   "version": "3.8.5"
  }
 },
 "nbformat": 4,
 "nbformat_minor": 4
}
