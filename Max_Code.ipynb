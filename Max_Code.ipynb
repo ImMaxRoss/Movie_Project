{
 "cells": [
  {
   "cell_type": "markdown",
   "metadata": {},
   "source": [
    "# 1. Loading im.db as pd.df"
   ]
  },
  {
   "cell_type": "code",
   "execution_count": 1,
   "metadata": {},
   "outputs": [],
   "source": [
    "import pandas as pd\n",
    "import sqlite3"
   ]
  },
  {
   "cell_type": "code",
   "execution_count": 60,
   "metadata": {},
   "outputs": [],
   "source": [
    "import numpy as np\n",
    "from scipy.stats import linregress"
   ]
  },
  {
   "cell_type": "code",
   "execution_count": 2,
   "metadata": {},
   "outputs": [],
   "source": [
    "conn = sqlite3.connect('data/im.db')\n",
    "cursor = conn.cursor()"
   ]
  },
  {
   "cell_type": "code",
   "execution_count": 3,
   "metadata": {},
   "outputs": [],
   "source": [
    "imdb_basics = pd.read_sql('''\n",
    "SELECT *\n",
    "FROM movie_basics\n",
    "''', conn)\n",
    "\n",
    "imdb_akas = pd.read_sql('''\n",
    "SELECT *\n",
    "FROM movie_akas\n",
    "''', conn)\n",
    "\n",
    "imdb_ratings = pd.read_sql('''\n",
    "SELECT *\n",
    "FROM movie_ratings\n",
    "''', conn)\n",
    "\n",
    "imdb_principals = pd.read_sql('''\n",
    "SELECT *\n",
    "FROM principals\n",
    "''', conn)\n",
    "\n",
    "known_known_for = pd.read_sql('''\n",
    "SELECT *\n",
    "FROM known_for\n",
    "''', conn)\n",
    "\n",
    "imdb_directors = pd.read_sql('''\n",
    "SELECT *\n",
    "FROM directors\n",
    "''', conn)\n",
    "\n",
    "imdb_writers = pd.read_sql('''\n",
    "SELECT *\n",
    "FROM writers\n",
    "''', conn)\n",
    "\n",
    "imdb_persons = pd.read_sql('''\n",
    "SELECT *\n",
    "FROM persons\n",
    "''', conn)"
   ]
  },
  {
   "cell_type": "markdown",
   "metadata": {},
   "source": [
    "# 2. Name of df Variables:\n",
    "\n",
    "### imdb Variables (each variable is an individual table):\n",
    "- imdb_basics\n",
    "- imdb_akas\n",
    "- imdb_ratings\n",
    "- imdb_principals\n",
    "- known_known_for\n",
    "- imdb_directors\n",
    "- imdb_writers\n",
    "- imdb_persons"
   ]
  },
  {
   "cell_type": "markdown",
   "metadata": {},
   "source": [
    "# 3. Exploring IMDB df's:"
   ]
  },
  {
   "cell_type": "markdown",
   "metadata": {},
   "source": [
    "### 3a. Exploring: movie_akas_imdb"
   ]
  },
  {
   "cell_type": "code",
   "execution_count": 29,
   "metadata": {
    "scrolled": true
   },
   "outputs": [],
   "source": [
    "#movie_akas_imdb.info()"
   ]
  },
  {
   "cell_type": "markdown",
   "metadata": {},
   "source": [
    "#### ordering = 1 has the same length as indivitual movie_id's be the same length as unique movie_id"
   ]
  },
  {
   "cell_type": "code",
   "execution_count": 4,
   "metadata": {
    "scrolled": true
   },
   "outputs": [
    {
     "name": "stdout",
     "output_type": "stream",
     "text": [
      "<class 'pandas.core.frame.DataFrame'>\n",
      "RangeIndex: 47433 entries, 0 to 47432\n",
      "Data columns (total 8 columns):\n",
      " #   Column             Non-Null Count  Dtype  \n",
      "---  ------             --------------  -----  \n",
      " 0   movie_id           47433 non-null  object \n",
      " 1   ordering           47433 non-null  int64  \n",
      " 2   title              47433 non-null  object \n",
      " 3   region             47433 non-null  object \n",
      " 4   language           325 non-null    object \n",
      " 5   types              4977 non-null   object \n",
      " 6   attributes         1652 non-null   object \n",
      " 7   is_original_title  47428 non-null  float64\n",
      "dtypes: float64(1), int64(1), object(6)\n",
      "memory usage: 2.9+ MB\n"
     ]
    }
   ],
   "source": [
    "imdb_akas = pd.read_sql('''\n",
    "SELECT *\n",
    "FROM movie_akas\n",
    "WHERE region = 'US'\n",
    "GROUP BY movie_id\n",
    "''', conn)\n",
    "imdb_akas.info()"
   ]
  },
  {
   "cell_type": "code",
   "execution_count": null,
   "metadata": {
    "scrolled": true
   },
   "outputs": [],
   "source": [
    "#imdb_akas['movie_id'].value_counts()"
   ]
  },
  {
   "cell_type": "code",
   "execution_count": null,
   "metadata": {},
   "outputs": [],
   "source": [
    "len(imdb_akas['movie_id'].unique())"
   ]
  },
  {
   "cell_type": "code",
   "execution_count": null,
   "metadata": {
    "scrolled": true
   },
   "outputs": [],
   "source": [
    "#imdb_akas.loc[m_akas_us['movie_id'] == 'tt2488496']"
   ]
  },
  {
   "cell_type": "markdown",
   "metadata": {},
   "source": [
    "### 3b. Exploring: movie_akas_imdb"
   ]
  },
  {
   "cell_type": "code",
   "execution_count": null,
   "metadata": {
    "scrolled": true
   },
   "outputs": [],
   "source": [
    "#movie_basics_imdb.info()"
   ]
  },
  {
   "cell_type": "code",
   "execution_count": null,
   "metadata": {
    "scrolled": false
   },
   "outputs": [],
   "source": [
    "#movie_basics_imdb['movie_id'].value_counts()"
   ]
  },
  {
   "cell_type": "code",
   "execution_count": 5,
   "metadata": {
    "scrolled": false
   },
   "outputs": [
    {
     "name": "stdout",
     "output_type": "stream",
     "text": [
      "<class 'pandas.core.frame.DataFrame'>\n",
      "RangeIndex: 146144 entries, 0 to 146143\n",
      "Data columns (total 6 columns):\n",
      " #   Column           Non-Null Count   Dtype  \n",
      "---  ------           --------------   -----  \n",
      " 0   movie_id         146144 non-null  object \n",
      " 1   primary_title    146144 non-null  object \n",
      " 2   original_title   146123 non-null  object \n",
      " 3   start_year       146144 non-null  int64  \n",
      " 4   runtime_minutes  114405 non-null  float64\n",
      " 5   genres           140736 non-null  object \n",
      "dtypes: float64(1), int64(1), object(4)\n",
      "memory usage: 6.7+ MB\n"
     ]
    }
   ],
   "source": [
    "akas_basics_merge = imdb_akas.merge(imdb_basics, on='movie_id',\n",
    "                                        how='inner')\n",
    "imdb_basics.info()"
   ]
  },
  {
   "cell_type": "code",
   "execution_count": null,
   "metadata": {
    "scrolled": true
   },
   "outputs": [],
   "source": [
    "akas_basics_merge['movie_id'].value_counts()"
   ]
  },
  {
   "cell_type": "markdown",
   "metadata": {},
   "source": [
    "### 3c. Explored: movie_rat_imdb"
   ]
  },
  {
   "cell_type": "code",
   "execution_count": 6,
   "metadata": {
    "scrolled": true
   },
   "outputs": [],
   "source": [
    "#movie_rat_imdb.info()"
   ]
  },
  {
   "cell_type": "markdown",
   "metadata": {},
   "source": [
    " # 3d. Combining IMDB database"
   ]
  },
  {
   "cell_type": "code",
   "execution_count": 6,
   "metadata": {
    "scrolled": false
   },
   "outputs": [
    {
     "data": {
      "text/html": [
       "<div>\n",
       "<style scoped>\n",
       "    .dataframe tbody tr th:only-of-type {\n",
       "        vertical-align: middle;\n",
       "    }\n",
       "\n",
       "    .dataframe tbody tr th {\n",
       "        vertical-align: top;\n",
       "    }\n",
       "\n",
       "    .dataframe thead th {\n",
       "        text-align: right;\n",
       "    }\n",
       "</style>\n",
       "<table border=\"1\" class=\"dataframe\">\n",
       "  <thead>\n",
       "    <tr style=\"text-align: right;\">\n",
       "      <th></th>\n",
       "      <th>movie_id</th>\n",
       "      <th>ordering</th>\n",
       "      <th>title</th>\n",
       "      <th>region</th>\n",
       "      <th>language</th>\n",
       "      <th>types</th>\n",
       "      <th>attributes</th>\n",
       "      <th>is_original_title</th>\n",
       "      <th>primary_title</th>\n",
       "      <th>original_title</th>\n",
       "      <th>start_year</th>\n",
       "      <th>runtime_minutes</th>\n",
       "      <th>genres</th>\n",
       "      <th>averagerating</th>\n",
       "      <th>numvotes</th>\n",
       "    </tr>\n",
       "  </thead>\n",
       "  <tbody>\n",
       "    <tr>\n",
       "      <th>0</th>\n",
       "      <td>tt0069049</td>\n",
       "      <td>2</td>\n",
       "      <td>The Other Side of the Wind</td>\n",
       "      <td>US</td>\n",
       "      <td>None</td>\n",
       "      <td>imdbDisplay</td>\n",
       "      <td>None</td>\n",
       "      <td>0.0</td>\n",
       "      <td>The Other Side of the Wind</td>\n",
       "      <td>The Other Side of the Wind</td>\n",
       "      <td>2018</td>\n",
       "      <td>122.0</td>\n",
       "      <td>Drama</td>\n",
       "      <td>6.9</td>\n",
       "      <td>4517.0</td>\n",
       "    </tr>\n",
       "    <tr>\n",
       "      <th>1</th>\n",
       "      <td>tt0112502</td>\n",
       "      <td>1</td>\n",
       "      <td>Bigfoot</td>\n",
       "      <td>US</td>\n",
       "      <td>None</td>\n",
       "      <td>None</td>\n",
       "      <td>None</td>\n",
       "      <td>0.0</td>\n",
       "      <td>Bigfoot</td>\n",
       "      <td>Bigfoot</td>\n",
       "      <td>2017</td>\n",
       "      <td>NaN</td>\n",
       "      <td>Horror,Thriller</td>\n",
       "      <td>4.1</td>\n",
       "      <td>32.0</td>\n",
       "    </tr>\n",
       "    <tr>\n",
       "      <th>2</th>\n",
       "      <td>tt0159369</td>\n",
       "      <td>3</td>\n",
       "      <td>Cooper and Hemingway: The True Gen</td>\n",
       "      <td>US</td>\n",
       "      <td>None</td>\n",
       "      <td>None</td>\n",
       "      <td>None</td>\n",
       "      <td>0.0</td>\n",
       "      <td>Cooper and Hemingway: The True Gen</td>\n",
       "      <td>Cooper and Hemingway: The True Gen</td>\n",
       "      <td>2013</td>\n",
       "      <td>180.0</td>\n",
       "      <td>Documentary</td>\n",
       "      <td>7.6</td>\n",
       "      <td>53.0</td>\n",
       "    </tr>\n",
       "    <tr>\n",
       "      <th>3</th>\n",
       "      <td>tt0192528</td>\n",
       "      <td>1</td>\n",
       "      <td>Heaven &amp; Hell</td>\n",
       "      <td>US</td>\n",
       "      <td>None</td>\n",
       "      <td>imdbDisplay</td>\n",
       "      <td>None</td>\n",
       "      <td>0.0</td>\n",
       "      <td>Heaven &amp; Hell</td>\n",
       "      <td>Reverse Heaven</td>\n",
       "      <td>2018</td>\n",
       "      <td>104.0</td>\n",
       "      <td>Drama</td>\n",
       "      <td>4.0</td>\n",
       "      <td>72.0</td>\n",
       "    </tr>\n",
       "    <tr>\n",
       "      <th>4</th>\n",
       "      <td>tt0230212</td>\n",
       "      <td>1</td>\n",
       "      <td>The Final Journey</td>\n",
       "      <td>US</td>\n",
       "      <td>None</td>\n",
       "      <td>None</td>\n",
       "      <td>None</td>\n",
       "      <td>0.0</td>\n",
       "      <td>The Final Journey</td>\n",
       "      <td>The Final Journey</td>\n",
       "      <td>2010</td>\n",
       "      <td>120.0</td>\n",
       "      <td>Drama</td>\n",
       "      <td>8.8</td>\n",
       "      <td>8.0</td>\n",
       "    </tr>\n",
       "    <tr>\n",
       "      <th>...</th>\n",
       "      <td>...</td>\n",
       "      <td>...</td>\n",
       "      <td>...</td>\n",
       "      <td>...</td>\n",
       "      <td>...</td>\n",
       "      <td>...</td>\n",
       "      <td>...</td>\n",
       "      <td>...</td>\n",
       "      <td>...</td>\n",
       "      <td>...</td>\n",
       "      <td>...</td>\n",
       "      <td>...</td>\n",
       "      <td>...</td>\n",
       "      <td>...</td>\n",
       "      <td>...</td>\n",
       "    </tr>\n",
       "    <tr>\n",
       "      <th>47428</th>\n",
       "      <td>tt9837530</td>\n",
       "      <td>2</td>\n",
       "      <td>Monkey King Reloaded</td>\n",
       "      <td>US</td>\n",
       "      <td>None</td>\n",
       "      <td>None</td>\n",
       "      <td>None</td>\n",
       "      <td>0.0</td>\n",
       "      <td>Monkey King Reloaded</td>\n",
       "      <td>Monkey King Reloaded</td>\n",
       "      <td>2017</td>\n",
       "      <td>77.0</td>\n",
       "      <td>Adventure</td>\n",
       "      <td>NaN</td>\n",
       "      <td>NaN</td>\n",
       "    </tr>\n",
       "    <tr>\n",
       "      <th>47429</th>\n",
       "      <td>tt9845398</td>\n",
       "      <td>2</td>\n",
       "      <td>End of the Century</td>\n",
       "      <td>US</td>\n",
       "      <td>None</td>\n",
       "      <td>imdbDisplay</td>\n",
       "      <td>None</td>\n",
       "      <td>0.0</td>\n",
       "      <td>End of the Century</td>\n",
       "      <td>Fin de siglo</td>\n",
       "      <td>2019</td>\n",
       "      <td>84.0</td>\n",
       "      <td>Drama</td>\n",
       "      <td>7.2</td>\n",
       "      <td>21.0</td>\n",
       "    </tr>\n",
       "    <tr>\n",
       "      <th>47430</th>\n",
       "      <td>tt9875852</td>\n",
       "      <td>2</td>\n",
       "      <td>The House Elf</td>\n",
       "      <td>US</td>\n",
       "      <td>None</td>\n",
       "      <td>imdbDisplay</td>\n",
       "      <td>None</td>\n",
       "      <td>0.0</td>\n",
       "      <td>The House Elf</td>\n",
       "      <td>Domovoy</td>\n",
       "      <td>2019</td>\n",
       "      <td>90.0</td>\n",
       "      <td>Comedy,Family,Fantasy</td>\n",
       "      <td>5.8</td>\n",
       "      <td>50.0</td>\n",
       "    </tr>\n",
       "    <tr>\n",
       "      <th>47431</th>\n",
       "      <td>tt9882084</td>\n",
       "      <td>3</td>\n",
       "      <td>Chasing Happiness</td>\n",
       "      <td>US</td>\n",
       "      <td>None</td>\n",
       "      <td>imdbDisplay</td>\n",
       "      <td>None</td>\n",
       "      <td>0.0</td>\n",
       "      <td>Chasing Happiness</td>\n",
       "      <td>Chasing Happiness</td>\n",
       "      <td>2019</td>\n",
       "      <td>96.0</td>\n",
       "      <td>Documentary</td>\n",
       "      <td>8.1</td>\n",
       "      <td>632.0</td>\n",
       "    </tr>\n",
       "    <tr>\n",
       "      <th>47432</th>\n",
       "      <td>tt9915436</td>\n",
       "      <td>1</td>\n",
       "      <td>Life in Movement</td>\n",
       "      <td>US</td>\n",
       "      <td>None</td>\n",
       "      <td>alternative</td>\n",
       "      <td>None</td>\n",
       "      <td>0.0</td>\n",
       "      <td>Vida em Movimento</td>\n",
       "      <td>Vida em Movimento</td>\n",
       "      <td>2019</td>\n",
       "      <td>70.0</td>\n",
       "      <td>Documentary</td>\n",
       "      <td>NaN</td>\n",
       "      <td>NaN</td>\n",
       "    </tr>\n",
       "  </tbody>\n",
       "</table>\n",
       "<p>47433 rows × 15 columns</p>\n",
       "</div>"
      ],
      "text/plain": [
       "        movie_id  ordering                               title region  \\\n",
       "0      tt0069049         2          The Other Side of the Wind     US   \n",
       "1      tt0112502         1                             Bigfoot     US   \n",
       "2      tt0159369         3  Cooper and Hemingway: The True Gen     US   \n",
       "3      tt0192528         1                       Heaven & Hell     US   \n",
       "4      tt0230212         1                   The Final Journey     US   \n",
       "...          ...       ...                                 ...    ...   \n",
       "47428  tt9837530         2                Monkey King Reloaded     US   \n",
       "47429  tt9845398         2                  End of the Century     US   \n",
       "47430  tt9875852         2                       The House Elf     US   \n",
       "47431  tt9882084         3                   Chasing Happiness     US   \n",
       "47432  tt9915436         1                    Life in Movement     US   \n",
       "\n",
       "      language        types attributes  is_original_title  \\\n",
       "0         None  imdbDisplay       None                0.0   \n",
       "1         None         None       None                0.0   \n",
       "2         None         None       None                0.0   \n",
       "3         None  imdbDisplay       None                0.0   \n",
       "4         None         None       None                0.0   \n",
       "...        ...          ...        ...                ...   \n",
       "47428     None         None       None                0.0   \n",
       "47429     None  imdbDisplay       None                0.0   \n",
       "47430     None  imdbDisplay       None                0.0   \n",
       "47431     None  imdbDisplay       None                0.0   \n",
       "47432     None  alternative       None                0.0   \n",
       "\n",
       "                            primary_title                      original_title  \\\n",
       "0              The Other Side of the Wind          The Other Side of the Wind   \n",
       "1                                 Bigfoot                             Bigfoot   \n",
       "2      Cooper and Hemingway: The True Gen  Cooper and Hemingway: The True Gen   \n",
       "3                           Heaven & Hell                      Reverse Heaven   \n",
       "4                       The Final Journey                   The Final Journey   \n",
       "...                                   ...                                 ...   \n",
       "47428                Monkey King Reloaded                Monkey King Reloaded   \n",
       "47429                  End of the Century                        Fin de siglo   \n",
       "47430                       The House Elf                             Domovoy   \n",
       "47431                   Chasing Happiness                   Chasing Happiness   \n",
       "47432                   Vida em Movimento                   Vida em Movimento   \n",
       "\n",
       "       start_year  runtime_minutes                 genres  averagerating  \\\n",
       "0            2018            122.0                  Drama            6.9   \n",
       "1            2017              NaN        Horror,Thriller            4.1   \n",
       "2            2013            180.0            Documentary            7.6   \n",
       "3            2018            104.0                  Drama            4.0   \n",
       "4            2010            120.0                  Drama            8.8   \n",
       "...           ...              ...                    ...            ...   \n",
       "47428        2017             77.0              Adventure            NaN   \n",
       "47429        2019             84.0                  Drama            7.2   \n",
       "47430        2019             90.0  Comedy,Family,Fantasy            5.8   \n",
       "47431        2019             96.0            Documentary            8.1   \n",
       "47432        2019             70.0            Documentary            NaN   \n",
       "\n",
       "       numvotes  \n",
       "0        4517.0  \n",
       "1          32.0  \n",
       "2          53.0  \n",
       "3          72.0  \n",
       "4           8.0  \n",
       "...         ...  \n",
       "47428       NaN  \n",
       "47429      21.0  \n",
       "47430      50.0  \n",
       "47431     632.0  \n",
       "47432       NaN  \n",
       "\n",
       "[47433 rows x 15 columns]"
      ]
     },
     "execution_count": 6,
     "metadata": {},
     "output_type": "execute_result"
    }
   ],
   "source": [
    "imdb_merged = akas_basics_merge.merge(imdb_ratings, on='movie_id',\n",
    "                                       how='left')\n",
    "imdb_merged"
   ]
  },
  {
   "cell_type": "code",
   "execution_count": 168,
   "metadata": {
    "scrolled": true
   },
   "outputs": [],
   "source": [
    "#imdb_merged.info()"
   ]
  },
  {
   "cell_type": "code",
   "execution_count": 169,
   "metadata": {
    "scrolled": true
   },
   "outputs": [],
   "source": [
    "#imdb_merged.drop(['language', 'attributes', 'types'], axis=1, inplace=True)"
   ]
  },
  {
   "cell_type": "code",
   "execution_count": 54,
   "metadata": {
    "scrolled": true
   },
   "outputs": [
    {
     "name": "stdout",
     "output_type": "stream",
     "text": [
      "<class 'pandas.core.frame.DataFrame'>\n",
      "Int64Index: 47433 entries, 0 to 47432\n",
      "Data columns (total 17 columns):\n",
      " #   Column               Non-Null Count  Dtype  \n",
      "---  ------               --------------  -----  \n",
      " 0   movie_id             47433 non-null  object \n",
      " 1   ordering_x           47433 non-null  int64  \n",
      " 2   title_x              47433 non-null  object \n",
      " 3   region_x             47433 non-null  object \n",
      " 4   language_x           325 non-null    object \n",
      " 5   types_x              4977 non-null   object \n",
      " 6   attributes_x         1652 non-null   object \n",
      " 7   is_original_title_x  47428 non-null  float64\n",
      " 8   ordering_y           47433 non-null  int64  \n",
      " 9   title_y              47433 non-null  object \n",
      " 10  region_y             47433 non-null  object \n",
      " 11  language_y           325 non-null    object \n",
      " 12  types_y              4977 non-null   object \n",
      " 13  attributes_y         1652 non-null   object \n",
      " 14  is_original_title_y  47428 non-null  float64\n",
      " 15  averagerating        26654 non-null  float64\n",
      " 16  numvotes             26654 non-null  float64\n",
      "dtypes: float64(4), int64(2), object(11)\n",
      "memory usage: 6.5+ MB\n"
     ]
    }
   ],
   "source": [
    "imdb_merged.info()"
   ]
  },
  {
   "cell_type": "markdown",
   "metadata": {},
   "source": [
    "# 4. Loading tn.movie_budgets as pd.df"
   ]
  },
  {
   "cell_type": "code",
   "execution_count": 7,
   "metadata": {},
   "outputs": [],
   "source": [
    "tn_budgets = pd.read_csv('data/tn.movie_budgets.csv.gz')"
   ]
  },
  {
   "cell_type": "markdown",
   "metadata": {},
   "source": [
    "# 5. Exploring tn_budgets"
   ]
  },
  {
   "cell_type": "code",
   "execution_count": 8,
   "metadata": {},
   "outputs": [],
   "source": [
    "tn_budgets.drop_duplicates(subset = ['movie'], inplace=True)"
   ]
  },
  {
   "cell_type": "code",
   "execution_count": 9,
   "metadata": {},
   "outputs": [],
   "source": [
    "tn_budgets.rename(columns = {'movie':'primary_title'}, inplace=True)"
   ]
  },
  {
   "cell_type": "code",
   "execution_count": 10,
   "metadata": {
    "scrolled": true
   },
   "outputs": [
    {
     "name": "stdout",
     "output_type": "stream",
     "text": [
      "<class 'pandas.core.frame.DataFrame'>\n",
      "Int64Index: 5698 entries, 0 to 5781\n",
      "Data columns (total 6 columns):\n",
      " #   Column             Non-Null Count  Dtype \n",
      "---  ------             --------------  ----- \n",
      " 0   id                 5698 non-null   int64 \n",
      " 1   release_date       5698 non-null   object\n",
      " 2   primary_title      5698 non-null   object\n",
      " 3   production_budget  5698 non-null   object\n",
      " 4   domestic_gross     5698 non-null   object\n",
      " 5   worldwide_gross    5698 non-null   object\n",
      "dtypes: int64(1), object(5)\n",
      "memory usage: 311.6+ KB\n"
     ]
    }
   ],
   "source": [
    "tn_budgets.info()"
   ]
  },
  {
   "cell_type": "code",
   "execution_count": 11,
   "metadata": {},
   "outputs": [],
   "source": [
    "#Creating new coumn called year that is date.time\n",
    "tn_budgets['Release_Date_Time'] = pd.to_datetime(tn_budgets['release_date'])\n",
    "tn_budgets['start_year'] = tn_budgets['Release_Date_Time'].dt.year"
   ]
  },
  {
   "cell_type": "markdown",
   "metadata": {},
   "source": [
    "# 6: MERGE Merging Budgets to IMDB"
   ]
  },
  {
   "cell_type": "markdown",
   "metadata": {},
   "source": [
    "#### follow link: https://www.geeksforgeeks.org/how-to-convert-pandas-dataframe-into-sql-in-python/"
   ]
  },
  {
   "cell_type": "code",
   "execution_count": 13,
   "metadata": {
    "scrolled": true
   },
   "outputs": [
    {
     "name": "stdout",
     "output_type": "stream",
     "text": [
      "<class 'pandas.core.frame.DataFrame'>\n",
      "Int64Index: 47433 entries, 0 to 47432\n",
      "Data columns (total 15 columns):\n",
      " #   Column             Non-Null Count  Dtype  \n",
      "---  ------             --------------  -----  \n",
      " 0   movie_id           47433 non-null  object \n",
      " 1   ordering           47433 non-null  int64  \n",
      " 2   title              47433 non-null  object \n",
      " 3   region             47433 non-null  object \n",
      " 4   language           325 non-null    object \n",
      " 5   types              4977 non-null   object \n",
      " 6   attributes         1652 non-null   object \n",
      " 7   is_original_title  47428 non-null  float64\n",
      " 8   primary_title      47433 non-null  object \n",
      " 9   original_title     47432 non-null  object \n",
      " 10  start_year         47433 non-null  int64  \n",
      " 11  runtime_minutes    39673 non-null  float64\n",
      " 12  genres             46840 non-null  object \n",
      " 13  averagerating      26654 non-null  float64\n",
      " 14  numvotes           26654 non-null  float64\n",
      "dtypes: float64(4), int64(2), object(9)\n",
      "memory usage: 5.8+ MB\n"
     ]
    }
   ],
   "source": [
    "imdb_df_copy.info()"
   ]
  },
  {
   "cell_type": "code",
   "execution_count": 14,
   "metadata": {},
   "outputs": [],
   "source": [
    "imdb_db = imdb_df_copy.merge(tn_budgets, on= ['primary_title','start_year'], how= 'inner')"
   ]
  },
  {
   "cell_type": "code",
   "execution_count": 15,
   "metadata": {},
   "outputs": [],
   "source": [
    "imdb_db['worldwide_gross'] = imdb_db['worldwide_gross'].str.replace('$','').str.replace(',','').astype(float)\n",
    "imdb_db['production_budget'] = imdb_db['production_budget'].str.replace('$','').str.replace(',','').astype(float)\n",
    "imdb_db['domestic_gross'] = imdb_db['domestic_gross'].str.replace('$','').str.replace(',','').astype(float)"
   ]
  },
  {
   "cell_type": "code",
   "execution_count": 142,
   "metadata": {
    "scrolled": false
   },
   "outputs": [
    {
     "name": "stdout",
     "output_type": "stream",
     "text": [
      "<class 'pandas.core.frame.DataFrame'>\n",
      "Int64Index: 2145 entries, 0 to 2144\n",
      "Data columns (total 22 columns):\n",
      " #   Column             Non-Null Count  Dtype         \n",
      "---  ------             --------------  -----         \n",
      " 0   movie_id           2145 non-null   object        \n",
      " 1   ordering           2145 non-null   int64         \n",
      " 2   title              2145 non-null   object        \n",
      " 3   region             2145 non-null   object        \n",
      " 4   language           37 non-null     object        \n",
      " 5   types              791 non-null    object        \n",
      " 6   attributes         137 non-null    object        \n",
      " 7   is_original_title  2145 non-null   float64       \n",
      " 8   primary_title      2145 non-null   object        \n",
      " 9   original_title     2145 non-null   object        \n",
      " 10  start_year         2145 non-null   int64         \n",
      " 11  runtime_minutes    2000 non-null   float64       \n",
      " 12  genres             2138 non-null   object        \n",
      " 13  averagerating      1857 non-null   float64       \n",
      " 14  numvotes           1857 non-null   float64       \n",
      " 15  id                 2145 non-null   int64         \n",
      " 16  release_date       2145 non-null   object        \n",
      " 17  production_budget  2145 non-null   float64       \n",
      " 18  domestic_gross     2145 non-null   float64       \n",
      " 19  worldwide_gross    2145 non-null   float64       \n",
      " 20  Release_Date_Time  2145 non-null   datetime64[ns]\n",
      " 21  Release_Year       2145 non-null   int64         \n",
      "dtypes: datetime64[ns](1), float64(7), int64(4), object(10)\n",
      "memory usage: 385.4+ KB\n"
     ]
    }
   ],
   "source": [
    "imdb_db.info()"
   ]
  },
  {
   "cell_type": "code",
   "execution_count": 16,
   "metadata": {
    "scrolled": true
   },
   "outputs": [
    {
     "name": "stdout",
     "output_type": "stream",
     "text": [
      "<class 'pandas.core.frame.DataFrame'>\n",
      "Int64Index: 1326 entries, 0 to 1325\n",
      "Data columns (total 21 columns):\n",
      " #   Column             Non-Null Count  Dtype         \n",
      "---  ------             --------------  -----         \n",
      " 0   movie_id           1326 non-null   object        \n",
      " 1   ordering           1326 non-null   int64         \n",
      " 2   title              1326 non-null   object        \n",
      " 3   region             1326 non-null   object        \n",
      " 4   language           23 non-null     object        \n",
      " 5   types              622 non-null    object        \n",
      " 6   attributes         117 non-null    object        \n",
      " 7   is_original_title  1326 non-null   float64       \n",
      " 8   primary_title      1326 non-null   object        \n",
      " 9   original_title     1326 non-null   object        \n",
      " 10  start_year         1326 non-null   int64         \n",
      " 11  runtime_minutes    1315 non-null   float64       \n",
      " 12  genres             1326 non-null   object        \n",
      " 13  averagerating      1305 non-null   float64       \n",
      " 14  numvotes           1305 non-null   float64       \n",
      " 15  id                 1326 non-null   int64         \n",
      " 16  release_date       1326 non-null   object        \n",
      " 17  production_budget  1326 non-null   float64       \n",
      " 18  domestic_gross     1326 non-null   float64       \n",
      " 19  worldwide_gross    1326 non-null   float64       \n",
      " 20  Release_Date_Time  1326 non-null   datetime64[ns]\n",
      "dtypes: datetime64[ns](1), float64(7), int64(3), object(10)\n",
      "memory usage: 227.9+ KB\n"
     ]
    }
   ],
   "source": [
    "imdb_db.info()"
   ]
  },
  {
   "cell_type": "markdown",
   "metadata": {},
   "source": [
    "# Dropping Tables\n",
    "- get rid of start_year or release_date\n",
    "-"
   ]
  },
  {
   "cell_type": "markdown",
   "metadata": {},
   "source": [
    "# Analysis:\n",
    "# Sorted by Genre"
   ]
  },
  {
   "cell_type": "code",
   "execution_count": 107,
   "metadata": {},
   "outputs": [],
   "source": [
    "import pandas as pd\n",
    "import numpy as np\n",
    "\n",
    "import matplotlib.pyplot as plt\n",
    "# same as \n",
    "# from matplotlib import pyplot as plt\n",
    "\n",
    "import seaborn as sns\n",
    "\n",
    "from scipy import stats\n",
    "from sklearn.datasets import load_iris"
   ]
  },
  {
   "cell_type": "code",
   "execution_count": 108,
   "metadata": {
    "scrolled": true
   },
   "outputs": [],
   "source": [
    "imdb_db['genres'].dropna(inplace=True)"
   ]
  },
  {
   "cell_type": "code",
   "execution_count": 109,
   "metadata": {},
   "outputs": [],
   "source": [
    "imdb_db['worldwide_gross'].dropna(inplace=True)"
   ]
  },
  {
   "cell_type": "code",
   "execution_count": 110,
   "metadata": {},
   "outputs": [],
   "source": [
    "genre_profit = imdb_db.loc[:,['genres','worldwide_gross']]"
   ]
  },
  {
   "cell_type": "code",
   "execution_count": 111,
   "metadata": {},
   "outputs": [],
   "source": [
    "genre_profit.dropna(axis = 0, inplace=True)"
   ]
  },
  {
   "cell_type": "code",
   "execution_count": 112,
   "metadata": {},
   "outputs": [],
   "source": [
    "gen_pro = genre_profit.sort_values('worldwide_gross', ascending=False).head(30)"
   ]
  },
  {
   "cell_type": "code",
   "execution_count": 113,
   "metadata": {},
   "outputs": [],
   "source": [
    "#gen_pro"
   ]
  },
  {
   "cell_type": "code",
   "execution_count": 114,
   "metadata": {
    "scrolled": false
   },
   "outputs": [
    {
     "data": {
      "image/png": "[encoded data removed]",
      "text/plain": [
       "<Figure size 432x288 with 1 Axes>"
      ]
     },
     "metadata": {
      "needs_background": "light"
     },
     "output_type": "display_data"
    }
   ],
   "source": [
    "gen_pro.plot(kind = 'bar',\n",
    "        x = 'genres',\n",
    "        y = 'worldwide_gross',\n",
    "        color = 'blue')\n",
    "  \n",
    "# set the title\n",
    "plt.title('Top Performing Genres')\n",
    "  \n",
    "# show the plot\n",
    "plt.show()"
   ]
  },
  {
   "cell_type": "code",
   "execution_count": 57,
   "metadata": {},
   "outputs": [
    {
     "data": {
      "text/html": [
       "<div>\n",
       "<style scoped>\n",
       "    .dataframe tbody tr th:only-of-type {\n",
       "        vertical-align: middle;\n",
       "    }\n",
       "\n",
       "    .dataframe tbody tr th {\n",
       "        vertical-align: top;\n",
       "    }\n",
       "\n",
       "    .dataframe thead th {\n",
       "        text-align: right;\n",
       "    }\n",
       "</style>\n",
       "<table border=\"1\" class=\"dataframe\">\n",
       "  <thead>\n",
       "    <tr style=\"text-align: right;\">\n",
       "      <th></th>\n",
       "      <th>movie_id</th>\n",
       "      <th>ordering</th>\n",
       "      <th>title</th>\n",
       "      <th>region</th>\n",
       "      <th>language</th>\n",
       "      <th>types</th>\n",
       "      <th>attributes</th>\n",
       "      <th>is_original_title</th>\n",
       "      <th>primary_title</th>\n",
       "      <th>original_title</th>\n",
       "      <th>...</th>\n",
       "      <th>runtime_minutes</th>\n",
       "      <th>genres</th>\n",
       "      <th>averagerating</th>\n",
       "      <th>numvotes</th>\n",
       "      <th>id</th>\n",
       "      <th>release_date</th>\n",
       "      <th>production_budget</th>\n",
       "      <th>domestic_gross</th>\n",
       "      <th>worldwide_gross</th>\n",
       "      <th>Release_Date_Time</th>\n",
       "    </tr>\n",
       "  </thead>\n",
       "  <tbody>\n",
       "    <tr>\n",
       "      <th>0</th>\n",
       "      <td>tt0249516</td>\n",
       "      <td>2</td>\n",
       "      <td>Foodfight!</td>\n",
       "      <td>US</td>\n",
       "      <td>None</td>\n",
       "      <td>None</td>\n",
       "      <td>None</td>\n",
       "      <td>0.0</td>\n",
       "      <td>Foodfight!</td>\n",
       "      <td>Foodfight!</td>\n",
       "      <td>...</td>\n",
       "      <td>91.0</td>\n",
       "      <td>Action,Animation,Comedy</td>\n",
       "      <td>1.9</td>\n",
       "      <td>8248.0</td>\n",
       "      <td>26</td>\n",
       "      <td>Dec 31, 2012</td>\n",
       "      <td>45000000.0</td>\n",
       "      <td>0.0</td>\n",
       "      <td>7.370600e+04</td>\n",
       "      <td>2012-12-31</td>\n",
       "    </tr>\n",
       "    <tr>\n",
       "      <th>1</th>\n",
       "      <td>tt0359950</td>\n",
       "      <td>25</td>\n",
       "      <td>The Secret Life of Walter Mitty</td>\n",
       "      <td>US</td>\n",
       "      <td>None</td>\n",
       "      <td>imdbDisplay</td>\n",
       "      <td>None</td>\n",
       "      <td>0.0</td>\n",
       "      <td>The Secret Life of Walter Mitty</td>\n",
       "      <td>The Secret Life of Walter Mitty</td>\n",
       "      <td>...</td>\n",
       "      <td>114.0</td>\n",
       "      <td>Adventure,Comedy,Drama</td>\n",
       "      <td>7.3</td>\n",
       "      <td>275300.0</td>\n",
       "      <td>37</td>\n",
       "      <td>Dec 25, 2013</td>\n",
       "      <td>91000000.0</td>\n",
       "      <td>58236838.0</td>\n",
       "      <td>1.878612e+08</td>\n",
       "      <td>2013-12-25</td>\n",
       "    </tr>\n",
       "    <tr>\n",
       "      <th>2</th>\n",
       "      <td>tt0365907</td>\n",
       "      <td>20</td>\n",
       "      <td>A Walk Among the Tombstones</td>\n",
       "      <td>US</td>\n",
       "      <td>None</td>\n",
       "      <td>None</td>\n",
       "      <td>None</td>\n",
       "      <td>0.0</td>\n",
       "      <td>A Walk Among the Tombstones</td>\n",
       "      <td>A Walk Among the Tombstones</td>\n",
       "      <td>...</td>\n",
       "      <td>114.0</td>\n",
       "      <td>Action,Crime,Drama</td>\n",
       "      <td>6.5</td>\n",
       "      <td>105116.0</td>\n",
       "      <td>67</td>\n",
       "      <td>Sep 19, 2014</td>\n",
       "      <td>28000000.0</td>\n",
       "      <td>26017685.0</td>\n",
       "      <td>6.210859e+07</td>\n",
       "      <td>2014-09-19</td>\n",
       "    </tr>\n",
       "    <tr>\n",
       "      <th>3</th>\n",
       "      <td>tt0369610</td>\n",
       "      <td>21</td>\n",
       "      <td>Jurassic World 3D</td>\n",
       "      <td>US</td>\n",
       "      <td>None</td>\n",
       "      <td>None</td>\n",
       "      <td>3-D version</td>\n",
       "      <td>0.0</td>\n",
       "      <td>Jurassic World</td>\n",
       "      <td>Jurassic World</td>\n",
       "      <td>...</td>\n",
       "      <td>124.0</td>\n",
       "      <td>Action,Adventure,Sci-Fi</td>\n",
       "      <td>7.0</td>\n",
       "      <td>539338.0</td>\n",
       "      <td>34</td>\n",
       "      <td>Jun 12, 2015</td>\n",
       "      <td>215000000.0</td>\n",
       "      <td>652270625.0</td>\n",
       "      <td>1.648855e+09</td>\n",
       "      <td>2015-06-12</td>\n",
       "    </tr>\n",
       "    <tr>\n",
       "      <th>4</th>\n",
       "      <td>tt0376136</td>\n",
       "      <td>16</td>\n",
       "      <td>Hunter S. Thompson's The Rum Diary</td>\n",
       "      <td>US</td>\n",
       "      <td>None</td>\n",
       "      <td>working</td>\n",
       "      <td>None</td>\n",
       "      <td>0.0</td>\n",
       "      <td>The Rum Diary</td>\n",
       "      <td>The Rum Diary</td>\n",
       "      <td>...</td>\n",
       "      <td>119.0</td>\n",
       "      <td>Comedy,Drama</td>\n",
       "      <td>6.2</td>\n",
       "      <td>94787.0</td>\n",
       "      <td>16</td>\n",
       "      <td>Oct 28, 2011</td>\n",
       "      <td>45000000.0</td>\n",
       "      <td>13109815.0</td>\n",
       "      <td>2.154473e+07</td>\n",
       "      <td>2011-10-28</td>\n",
       "    </tr>\n",
       "    <tr>\n",
       "      <th>...</th>\n",
       "      <td>...</td>\n",
       "      <td>...</td>\n",
       "      <td>...</td>\n",
       "      <td>...</td>\n",
       "      <td>...</td>\n",
       "      <td>...</td>\n",
       "      <td>...</td>\n",
       "      <td>...</td>\n",
       "      <td>...</td>\n",
       "      <td>...</td>\n",
       "      <td>...</td>\n",
       "      <td>...</td>\n",
       "      <td>...</td>\n",
       "      <td>...</td>\n",
       "      <td>...</td>\n",
       "      <td>...</td>\n",
       "      <td>...</td>\n",
       "      <td>...</td>\n",
       "      <td>...</td>\n",
       "      <td>...</td>\n",
       "      <td>...</td>\n",
       "    </tr>\n",
       "    <tr>\n",
       "      <th>1321</th>\n",
       "      <td>tt8155288</td>\n",
       "      <td>16</td>\n",
       "      <td>Happy Death Day 2U</td>\n",
       "      <td>US</td>\n",
       "      <td>None</td>\n",
       "      <td>imdbDisplay</td>\n",
       "      <td>None</td>\n",
       "      <td>0.0</td>\n",
       "      <td>Happy Death Day 2U</td>\n",
       "      <td>Happy Death Day 2U</td>\n",
       "      <td>...</td>\n",
       "      <td>100.0</td>\n",
       "      <td>Drama,Horror,Mystery</td>\n",
       "      <td>6.3</td>\n",
       "      <td>27462.0</td>\n",
       "      <td>78</td>\n",
       "      <td>Feb 13, 2019</td>\n",
       "      <td>9000000.0</td>\n",
       "      <td>28051045.0</td>\n",
       "      <td>6.417950e+07</td>\n",
       "      <td>2019-02-13</td>\n",
       "    </tr>\n",
       "    <tr>\n",
       "      <th>1322</th>\n",
       "      <td>tt8266310</td>\n",
       "      <td>1</td>\n",
       "      <td>Blinded by the Light</td>\n",
       "      <td>US</td>\n",
       "      <td>None</td>\n",
       "      <td>imdbDisplay</td>\n",
       "      <td>None</td>\n",
       "      <td>0.0</td>\n",
       "      <td>Blinded by the Light</td>\n",
       "      <td>Blinded by the Light</td>\n",
       "      <td>...</td>\n",
       "      <td>117.0</td>\n",
       "      <td>Biography,Comedy,Drama</td>\n",
       "      <td>6.2</td>\n",
       "      <td>173.0</td>\n",
       "      <td>64</td>\n",
       "      <td>Aug 14, 2019</td>\n",
       "      <td>15000000.0</td>\n",
       "      <td>0.0</td>\n",
       "      <td>0.000000e+00</td>\n",
       "      <td>2019-08-14</td>\n",
       "    </tr>\n",
       "    <tr>\n",
       "      <th>1323</th>\n",
       "      <td>tt8364368</td>\n",
       "      <td>5</td>\n",
       "      <td>Crawl</td>\n",
       "      <td>US</td>\n",
       "      <td>None</td>\n",
       "      <td>imdbDisplay</td>\n",
       "      <td>None</td>\n",
       "      <td>0.0</td>\n",
       "      <td>Crawl</td>\n",
       "      <td>Crawl</td>\n",
       "      <td>...</td>\n",
       "      <td>NaN</td>\n",
       "      <td>Action,Horror,Thriller</td>\n",
       "      <td>NaN</td>\n",
       "      <td>NaN</td>\n",
       "      <td>16</td>\n",
       "      <td>Jul 12, 2019</td>\n",
       "      <td>17000000.0</td>\n",
       "      <td>0.0</td>\n",
       "      <td>0.000000e+00</td>\n",
       "      <td>2019-07-12</td>\n",
       "    </tr>\n",
       "    <tr>\n",
       "      <th>1324</th>\n",
       "      <td>tt8632862</td>\n",
       "      <td>6</td>\n",
       "      <td>Fahrenheit 11/9</td>\n",
       "      <td>US</td>\n",
       "      <td>None</td>\n",
       "      <td>imdbDisplay</td>\n",
       "      <td>None</td>\n",
       "      <td>0.0</td>\n",
       "      <td>Fahrenheit 11/9</td>\n",
       "      <td>Fahrenheit 11/9</td>\n",
       "      <td>...</td>\n",
       "      <td>128.0</td>\n",
       "      <td>Documentary</td>\n",
       "      <td>6.7</td>\n",
       "      <td>11628.0</td>\n",
       "      <td>29</td>\n",
       "      <td>Sep 21, 2018</td>\n",
       "      <td>5000000.0</td>\n",
       "      <td>6352306.0</td>\n",
       "      <td>6.653715e+06</td>\n",
       "      <td>2018-09-21</td>\n",
       "    </tr>\n",
       "    <tr>\n",
       "      <th>1325</th>\n",
       "      <td>tt9024106</td>\n",
       "      <td>3</td>\n",
       "      <td>Unplanned</td>\n",
       "      <td>US</td>\n",
       "      <td>None</td>\n",
       "      <td>imdbDisplay</td>\n",
       "      <td>None</td>\n",
       "      <td>0.0</td>\n",
       "      <td>Unplanned</td>\n",
       "      <td>Unplanned</td>\n",
       "      <td>...</td>\n",
       "      <td>106.0</td>\n",
       "      <td>Biography,Drama</td>\n",
       "      <td>6.3</td>\n",
       "      <td>5945.0</td>\n",
       "      <td>33</td>\n",
       "      <td>Mar 29, 2019</td>\n",
       "      <td>6000000.0</td>\n",
       "      <td>18107621.0</td>\n",
       "      <td>1.810762e+07</td>\n",
       "      <td>2019-03-29</td>\n",
       "    </tr>\n",
       "  </tbody>\n",
       "</table>\n",
       "<p>1326 rows × 21 columns</p>\n",
       "</div>"
      ],
      "text/plain": [
       "       movie_id  ordering                               title region language  \\\n",
       "0     tt0249516         2                          Foodfight!     US     None   \n",
       "1     tt0359950        25     The Secret Life of Walter Mitty     US     None   \n",
       "2     tt0365907        20         A Walk Among the Tombstones     US     None   \n",
       "3     tt0369610        21                   Jurassic World 3D     US     None   \n",
       "4     tt0376136        16  Hunter S. Thompson's The Rum Diary     US     None   \n",
       "...         ...       ...                                 ...    ...      ...   \n",
       "1321  tt8155288        16                  Happy Death Day 2U     US     None   \n",
       "1322  tt8266310         1                Blinded by the Light     US     None   \n",
       "1323  tt8364368         5                               Crawl     US     None   \n",
       "1324  tt8632862         6                     Fahrenheit 11/9     US     None   \n",
       "1325  tt9024106         3                           Unplanned     US     None   \n",
       "\n",
       "            types   attributes  is_original_title  \\\n",
       "0            None         None                0.0   \n",
       "1     imdbDisplay         None                0.0   \n",
       "2            None         None                0.0   \n",
       "3            None  3-D version                0.0   \n",
       "4         working         None                0.0   \n",
       "...           ...          ...                ...   \n",
       "1321  imdbDisplay         None                0.0   \n",
       "1322  imdbDisplay         None                0.0   \n",
       "1323  imdbDisplay         None                0.0   \n",
       "1324  imdbDisplay         None                0.0   \n",
       "1325  imdbDisplay         None                0.0   \n",
       "\n",
       "                        primary_title                   original_title  ...  \\\n",
       "0                          Foodfight!                       Foodfight!  ...   \n",
       "1     The Secret Life of Walter Mitty  The Secret Life of Walter Mitty  ...   \n",
       "2         A Walk Among the Tombstones      A Walk Among the Tombstones  ...   \n",
       "3                      Jurassic World                   Jurassic World  ...   \n",
       "4                       The Rum Diary                    The Rum Diary  ...   \n",
       "...                               ...                              ...  ...   \n",
       "1321               Happy Death Day 2U               Happy Death Day 2U  ...   \n",
       "1322             Blinded by the Light             Blinded by the Light  ...   \n",
       "1323                            Crawl                            Crawl  ...   \n",
       "1324                  Fahrenheit 11/9                  Fahrenheit 11/9  ...   \n",
       "1325                        Unplanned                        Unplanned  ...   \n",
       "\n",
       "      runtime_minutes                   genres averagerating  numvotes  id  \\\n",
       "0                91.0  Action,Animation,Comedy           1.9    8248.0  26   \n",
       "1               114.0   Adventure,Comedy,Drama           7.3  275300.0  37   \n",
       "2               114.0       Action,Crime,Drama           6.5  105116.0  67   \n",
       "3               124.0  Action,Adventure,Sci-Fi           7.0  539338.0  34   \n",
       "4               119.0             Comedy,Drama           6.2   94787.0  16   \n",
       "...               ...                      ...           ...       ...  ..   \n",
       "1321            100.0     Drama,Horror,Mystery           6.3   27462.0  78   \n",
       "1322            117.0   Biography,Comedy,Drama           6.2     173.0  64   \n",
       "1323              NaN   Action,Horror,Thriller           NaN       NaN  16   \n",
       "1324            128.0              Documentary           6.7   11628.0  29   \n",
       "1325            106.0          Biography,Drama           6.3    5945.0  33   \n",
       "\n",
       "      release_date production_budget  domestic_gross  worldwide_gross  \\\n",
       "0     Dec 31, 2012        45000000.0             0.0     7.370600e+04   \n",
       "1     Dec 25, 2013        91000000.0      58236838.0     1.878612e+08   \n",
       "2     Sep 19, 2014        28000000.0      26017685.0     6.210859e+07   \n",
       "3     Jun 12, 2015       215000000.0     652270625.0     1.648855e+09   \n",
       "4     Oct 28, 2011        45000000.0      13109815.0     2.154473e+07   \n",
       "...            ...               ...             ...              ...   \n",
       "1321  Feb 13, 2019         9000000.0      28051045.0     6.417950e+07   \n",
       "1322  Aug 14, 2019        15000000.0             0.0     0.000000e+00   \n",
       "1323  Jul 12, 2019        17000000.0             0.0     0.000000e+00   \n",
       "1324  Sep 21, 2018         5000000.0       6352306.0     6.653715e+06   \n",
       "1325  Mar 29, 2019         6000000.0      18107621.0     1.810762e+07   \n",
       "\n",
       "      Release_Date_Time  \n",
       "0            2012-12-31  \n",
       "1            2013-12-25  \n",
       "2            2014-09-19  \n",
       "3            2015-06-12  \n",
       "4            2011-10-28  \n",
       "...                 ...  \n",
       "1321         2019-02-13  \n",
       "1322         2019-08-14  \n",
       "1323         2019-07-12  \n",
       "1324         2018-09-21  \n",
       "1325         2019-03-29  \n",
       "\n",
       "[1326 rows x 21 columns]"
      ]
     },
     "execution_count": 57,
     "metadata": {},
     "output_type": "execute_result"
    }
   ],
   "source": [
    "imdb_db"
   ]
  },
  {
   "cell_type": "code",
   "execution_count": 56,
   "metadata": {
    "scrolled": true
   },
   "outputs": [
    {
     "name": "stdout",
     "output_type": "stream",
     "text": [
      "                   ordering  is_original_title  start_year  runtime_minutes  \\\n",
      "ordering           1.000000                NaN   -0.005914         0.201813   \n",
      "is_original_title       NaN                NaN         NaN              NaN   \n",
      "start_year        -0.005914                NaN    1.000000         0.112996   \n",
      "runtime_minutes    0.201813                NaN    0.112996         1.000000   \n",
      "averagerating      0.246503                NaN    0.040333         0.425843   \n",
      "numvotes           0.306191                NaN   -0.111726         0.467795   \n",
      "id                -0.016517                NaN    0.027218        -0.003407   \n",
      "production_budget  0.289593                NaN    0.048864         0.399628   \n",
      "domestic_gross     0.307968                NaN    0.067613         0.343531   \n",
      "worldwide_gross    0.296024                NaN    0.075570         0.352332   \n",
      "\n",
      "                   averagerating  numvotes        id  production_budget  \\\n",
      "ordering                0.246503  0.306191 -0.016517           0.289593   \n",
      "is_original_title            NaN       NaN       NaN                NaN   \n",
      "start_year              0.040333 -0.111726  0.027218           0.048864   \n",
      "runtime_minutes         0.425843  0.467795 -0.003407           0.399628   \n",
      "averagerating           1.000000  0.517900  0.029922           0.241902   \n",
      "numvotes                0.517900  1.000000 -0.028819           0.538671   \n",
      "id                      0.029922 -0.028819  1.000000          -0.075857   \n",
      "production_budget       0.241902  0.538671 -0.075857           1.000000   \n",
      "domestic_gross          0.345844  0.656822 -0.034512           0.708298   \n",
      "worldwide_gross         0.324040  0.644513 -0.048416           0.782785   \n",
      "\n",
      "                   domestic_gross  worldwide_gross  \n",
      "ordering                 0.307968         0.296024  \n",
      "is_original_title             NaN              NaN  \n",
      "start_year               0.067613         0.075570  \n",
      "runtime_minutes          0.343531         0.352332  \n",
      "averagerating            0.345844         0.324040  \n",
      "numvotes                 0.656822         0.644513  \n",
      "id                      -0.034512        -0.048416  \n",
      "production_budget        0.708298         0.782785  \n",
      "domestic_gross           1.000000         0.945595  \n",
      "worldwide_gross          0.945595         1.000000  \n"
     ]
    }
   ],
   "source": [
    "correlation_matrix = imdb_db.corr()\n",
    "print(correlation_matrix)"
   ]
  },
  {
   "cell_type": "markdown",
   "metadata": {},
   "source": [
    "# EXTRA CREDIT STUFF (ORDERING BY CAST)"
   ]
  },
  {
   "cell_type": "code",
   "execution_count": 51,
   "metadata": {
    "scrolled": true
   },
   "outputs": [],
   "source": [
    "#movie_akas_imdb.loc[movie_akas_imdb['ordering'] == 1]"
   ]
  },
  {
   "cell_type": "code",
   "execution_count": 10,
   "metadata": {},
   "outputs": [],
   "source": [
    "ordering_df = movie_akas_imdb.loc[movie_akas_imdb['ordering'] == 1]"
   ]
  },
  {
   "cell_type": "code",
   "execution_count": 52,
   "metadata": {
    "scrolled": true
   },
   "outputs": [],
   "source": [
    "#ordering_df.info()"
   ]
  },
  {
   "cell_type": "code",
   "execution_count": 53,
   "metadata": {
    "scrolled": false
   },
   "outputs": [],
   "source": [
    "#principals_imdb['category']"
   ]
  },
  {
   "cell_type": "code",
   "execution_count": null,
   "metadata": {},
   "outputs": [],
   "source": [
    "principals_imdb = pd.read_sql(''' SELECT * FROM principals ''', conn) principals_imdb.loc[principals_imdb['movie_id'] == 'tt0323808']"
   ]
  },
  {
   "cell_type": "code",
   "execution_count": null,
   "metadata": {},
   "outputs": [],
   "source": [
    "# Ordering = IMDB Top Cast order"
   ]
  },
  {
   "cell_type": "markdown",
   "metadata": {},
   "source": [
    "I figured it out! It's the order that the 'top cast' shows up on the IMDB page. \n",
    "\n",
    "I'm going to stash this for after I make a visualization for Genre. \n",
    "Going to see if the 'top cast' \n",
    "\n",
    "search google for id = 'tt0323808'\n",
    "\n",
    "https://www.imdb.com/title/tt0323808/fullcredits?ref_=tt_cl_sm\n",
    "    \n",
    "principals_imdb = pd.read_sql('''\n",
    "SELECT *\n",
    "FROM principals\n",
    "''', conn)\n",
    "principals_imdb.loc[principals_imdb['movie_id'] == 'tt0323808']"
   ]
  },
  {
   "cell_type": "code",
   "execution_count": 44,
   "metadata": {},
   "outputs": [
    {
     "data": {
      "text/html": [
       "<div>\n",
       "<style scoped>\n",
       "    .dataframe tbody tr th:only-of-type {\n",
       "        vertical-align: middle;\n",
       "    }\n",
       "\n",
       "    .dataframe tbody tr th {\n",
       "        vertical-align: top;\n",
       "    }\n",
       "\n",
       "    .dataframe thead th {\n",
       "        text-align: right;\n",
       "    }\n",
       "</style>\n",
       "<table border=\"1\" class=\"dataframe\">\n",
       "  <thead>\n",
       "    <tr style=\"text-align: right;\">\n",
       "      <th></th>\n",
       "      <th>movie_id</th>\n",
       "      <th>ordering</th>\n",
       "      <th>person_id</th>\n",
       "      <th>category</th>\n",
       "      <th>job</th>\n",
       "      <th>characters</th>\n",
       "      <th>sum(ordering)</th>\n",
       "    </tr>\n",
       "  </thead>\n",
       "  <tbody>\n",
       "    <tr>\n",
       "      <th>0</th>\n",
       "      <td>tt9916754</td>\n",
       "      <td>10</td>\n",
       "      <td>nm9275317</td>\n",
       "      <td>cinematographer</td>\n",
       "      <td>None</td>\n",
       "      <td>None</td>\n",
       "      <td>55</td>\n",
       "    </tr>\n",
       "    <tr>\n",
       "      <th>1</th>\n",
       "      <td>tt9916706</td>\n",
       "      <td>10</td>\n",
       "      <td>nm1432957</td>\n",
       "      <td>actor</td>\n",
       "      <td>None</td>\n",
       "      <td>None</td>\n",
       "      <td>55</td>\n",
       "    </tr>\n",
       "    <tr>\n",
       "      <th>2</th>\n",
       "      <td>tt9916622</td>\n",
       "      <td>10</td>\n",
       "      <td>nm9272492</td>\n",
       "      <td>cinematographer</td>\n",
       "      <td>None</td>\n",
       "      <td>None</td>\n",
       "      <td>55</td>\n",
       "    </tr>\n",
       "    <tr>\n",
       "      <th>3</th>\n",
       "      <td>tt9916538</td>\n",
       "      <td>10</td>\n",
       "      <td>nm4700236</td>\n",
       "      <td>composer</td>\n",
       "      <td>music director</td>\n",
       "      <td>None</td>\n",
       "      <td>55</td>\n",
       "    </tr>\n",
       "    <tr>\n",
       "      <th>4</th>\n",
       "      <td>tt9914828</td>\n",
       "      <td>10</td>\n",
       "      <td>nm10537598</td>\n",
       "      <td>writer</td>\n",
       "      <td>english adaptation</td>\n",
       "      <td>None</td>\n",
       "      <td>55</td>\n",
       "    </tr>\n",
       "    <tr>\n",
       "      <th>...</th>\n",
       "      <td>...</td>\n",
       "      <td>...</td>\n",
       "      <td>...</td>\n",
       "      <td>...</td>\n",
       "      <td>...</td>\n",
       "      <td>...</td>\n",
       "      <td>...</td>\n",
       "    </tr>\n",
       "    <tr>\n",
       "      <th>143449</th>\n",
       "      <td>tt10007268</td>\n",
       "      <td>1</td>\n",
       "      <td>nm10541649</td>\n",
       "      <td>director</td>\n",
       "      <td>None</td>\n",
       "      <td>None</td>\n",
       "      <td>1</td>\n",
       "    </tr>\n",
       "    <tr>\n",
       "      <th>143450</th>\n",
       "      <td>tt10006874</td>\n",
       "      <td>1</td>\n",
       "      <td>nm10211155</td>\n",
       "      <td>director</td>\n",
       "      <td>None</td>\n",
       "      <td>None</td>\n",
       "      <td>1</td>\n",
       "    </tr>\n",
       "    <tr>\n",
       "      <th>143451</th>\n",
       "      <td>tt10003990</td>\n",
       "      <td>1</td>\n",
       "      <td>nm9033305</td>\n",
       "      <td>director</td>\n",
       "      <td>None</td>\n",
       "      <td>None</td>\n",
       "      <td>1</td>\n",
       "    </tr>\n",
       "    <tr>\n",
       "      <th>143452</th>\n",
       "      <td>tt0187902</td>\n",
       "      <td>1</td>\n",
       "      <td>nm0156955</td>\n",
       "      <td>actor</td>\n",
       "      <td>None</td>\n",
       "      <td>[\"Wong Fei Hung\"]</td>\n",
       "      <td>1</td>\n",
       "    </tr>\n",
       "    <tr>\n",
       "      <th>143453</th>\n",
       "      <td>tt0170651</td>\n",
       "      <td>1</td>\n",
       "      <td>nm0161615</td>\n",
       "      <td>director</td>\n",
       "      <td>None</td>\n",
       "      <td>None</td>\n",
       "      <td>1</td>\n",
       "    </tr>\n",
       "  </tbody>\n",
       "</table>\n",
       "<p>143454 rows × 7 columns</p>\n",
       "</div>"
      ],
      "text/plain": [
       "          movie_id  ordering   person_id         category                 job  \\\n",
       "0        tt9916754        10   nm9275317  cinematographer                None   \n",
       "1        tt9916706        10   nm1432957            actor                None   \n",
       "2        tt9916622        10   nm9272492  cinematographer                None   \n",
       "3        tt9916538        10   nm4700236         composer      music director   \n",
       "4        tt9914828        10  nm10537598           writer  english adaptation   \n",
       "...            ...       ...         ...              ...                 ...   \n",
       "143449  tt10007268         1  nm10541649         director                None   \n",
       "143450  tt10006874         1  nm10211155         director                None   \n",
       "143451  tt10003990         1   nm9033305         director                None   \n",
       "143452   tt0187902         1   nm0156955            actor                None   \n",
       "143453   tt0170651         1   nm0161615         director                None   \n",
       "\n",
       "               characters  sum(ordering)  \n",
       "0                    None             55  \n",
       "1                    None             55  \n",
       "2                    None             55  \n",
       "3                    None             55  \n",
       "4                    None             55  \n",
       "...                   ...            ...  \n",
       "143449               None              1  \n",
       "143450               None              1  \n",
       "143451               None              1  \n",
       "143452  [\"Wong Fei Hung\"]              1  \n",
       "143453               None              1  \n",
       "\n",
       "[143454 rows x 7 columns]"
      ]
     },
     "execution_count": 44,
     "metadata": {},
     "output_type": "execute_result"
    }
   ],
   "source": [
    "imdb_order =pd.read_sql('''\n",
    "SELECT *, sum(ordering)\n",
    "FROM principals\n",
    "WHERE ordering <= \n",
    "GROUP BY movie_id\n",
    "ORDER BY sum(ordering) desc\n",
    "''', conn)\n",
    "imdb_order"
   ]
  },
  {
   "cell_type": "code",
   "execution_count": 54,
   "metadata": {
    "scrolled": true
   },
   "outputs": [],
   "source": [
    "#principals_imdb.loc[principals_imdb['ordering'] == 10]"
   ]
  },
  {
   "cell_type": "code",
   "execution_count": 55,
   "metadata": {},
   "outputs": [],
   "source": [
    "#principals_imdb.loc[principals_imdb['movie_id'] == 'tt0323808']"
   ]
  },
  {
   "cell_type": "code",
   "execution_count": 56,
   "metadata": {
    "scrolled": false
   },
   "outputs": [],
   "source": [
    "#principals_imdb['movie_id'].value_counts()"
   ]
  }
 ],
 "metadata": {
  "kernelspec": {
   "display_name": "Python (learn-env)",
   "language": "python",
   "name": "learn-env"
  },
  "language_info": {
   "codemirror_mode": {
    "name": "ipython",
    "version": 3
   },
   "file_extension": ".py",
   "mimetype": "text/x-python",
   "name": "python",
   "nbconvert_exporter": "python",
   "pygments_lexer": "ipython3",
   "version": "3.8.5"
  }
 },
 "nbformat": 4,
 "nbformat_minor": 4
}
