{
 "cells": [
  {
   "cell_type": "markdown",
   "metadata": {},
   "source": [
    "# <center> Phase 1 Project: Microsoft Move Studio <center>\n",
    "   <center>  By: Anat Jacobson, Keanan Ginell and Max Ross"
   ]
  },
  {
   "cell_type": "markdown",
   "metadata": {},
   "source": [
    "# <font color='red'> Introduction and Business Case:\n",
    "Microsoft’s is starting a new film studio and they need 3 actionable insights to ensure this new studio is a success. The stakeholders of this project include: Microsoft has a global customer base and the market competitors are US based studios.  To increase the profitability of Microsoft Studio, we identified 3 key insights that can improve the odds of producing profitable movies. The analysis you will see below is based on various datasets where we define profitability of as having higher worldwide gross revenue. \n",
    "    \n",
    "Our conclusions after the below analysis include identifying: \n",
    "1. What is the best month to release films\n",
    "2. What are the top performing genres\n",
    "3. What is the best production budget size\n",
    "\n",
    "    \n",
    "    \n",
    "    \n",
    "    "
   ]
  },
  {
   "cell_type": "markdown",
   "metadata": {},
   "source": [
    "# <font color='red'> Data Exploration and Analysis:"
   ]
  },
  {
   "cell_type": "markdown",
   "metadata": {},
   "source": [
    "##  <font color='blue'> 1. Import All Packages Needed"
   ]
  },
  {
   "cell_type": "code",
   "execution_count": 101,
   "metadata": {},
   "outputs": [],
   "source": [
    "#We are importing all the necessary packages here for our code to all run successfully\n",
    "import pandas as pd\n",
    "import numpy as np\n",
    "import sqlite3\n",
    "import matplotlib.pyplot as plt\n",
    "%matplotlib inline\n",
    "import seaborn as sns\n",
    "from scipy.stats import linregress\n",
    "from sklearn.datasets import load_iris\n",
    "from matplotlib.ticker import StrMethodFormatter, FuncFormatter\n",
    "import statistics as stat\n"
   ]
  },
  {
   "cell_type": "markdown",
   "metadata": {},
   "source": [
    "## <font color='blue'> 2. Import CSVs, SQL Database, Clean and Merge all\n",
    "- Datasets from IMDB and the Numbers\n",
    "     - IMDB provides: For the purposes of this project, the tables we use within this database that is provided contains all information regarding movie production, title, realease information, ratings, runtime and genre. \n",
    "     - The numbers: This dataset includes production budget and gross revenue information.\n",
    "- All data has been given from Flatiron School"
   ]
  },
  {
   "cell_type": "markdown",
   "metadata": {},
   "source": [
    "## 2.1 Movie budgets"
   ]
  },
  {
   "cell_type": "code",
   "execution_count": 168,
   "metadata": {
    "scrolled": true
   },
   "outputs": [
    {
     "data": {
      "text/html": [
       "<div>\n",
       "<style scoped>\n",
       "    .dataframe tbody tr th:only-of-type {\n",
       "        vertical-align: middle;\n",
       "    }\n",
       "\n",
       "    .dataframe tbody tr th {\n",
       "        vertical-align: top;\n",
       "    }\n",
       "\n",
       "    .dataframe thead th {\n",
       "        text-align: right;\n",
       "    }\n",
       "</style>\n",
       "<table border=\"1\" class=\"dataframe\">\n",
       "  <thead>\n",
       "    <tr style=\"text-align: right;\">\n",
       "      <th></th>\n",
       "      <th>id</th>\n",
       "      <th>release_date</th>\n",
       "      <th>movie</th>\n",
       "      <th>production_budget</th>\n",
       "      <th>domestic_gross</th>\n",
       "      <th>worldwide_gross</th>\n",
       "    </tr>\n",
       "  </thead>\n",
       "  <tbody>\n",
       "    <tr>\n",
       "      <th>0</th>\n",
       "      <td>1</td>\n",
       "      <td>Dec 18, 2009</td>\n",
       "      <td>Avatar</td>\n",
       "      <td>$425,000,000</td>\n",
       "      <td>$760,507,625</td>\n",
       "      <td>$2,776,345,279</td>\n",
       "    </tr>\n",
       "    <tr>\n",
       "      <th>1</th>\n",
       "      <td>2</td>\n",
       "      <td>May 20, 2011</td>\n",
       "      <td>Pirates of the Caribbean: On Stranger Tides</td>\n",
       "      <td>$410,600,000</td>\n",
       "      <td>$241,063,875</td>\n",
       "      <td>$1,045,663,875</td>\n",
       "    </tr>\n",
       "    <tr>\n",
       "      <th>2</th>\n",
       "      <td>3</td>\n",
       "      <td>Jun 7, 2019</td>\n",
       "      <td>Dark Phoenix</td>\n",
       "      <td>$350,000,000</td>\n",
       "      <td>$42,762,350</td>\n",
       "      <td>$149,762,350</td>\n",
       "    </tr>\n",
       "    <tr>\n",
       "      <th>3</th>\n",
       "      <td>4</td>\n",
       "      <td>May 1, 2015</td>\n",
       "      <td>Avengers: Age of Ultron</td>\n",
       "      <td>$330,600,000</td>\n",
       "      <td>$459,005,868</td>\n",
       "      <td>$1,403,013,963</td>\n",
       "    </tr>\n",
       "    <tr>\n",
       "      <th>4</th>\n",
       "      <td>5</td>\n",
       "      <td>Dec 15, 2017</td>\n",
       "      <td>Star Wars Ep. VIII: The Last Jedi</td>\n",
       "      <td>$317,000,000</td>\n",
       "      <td>$620,181,382</td>\n",
       "      <td>$1,316,721,747</td>\n",
       "    </tr>\n",
       "  </tbody>\n",
       "</table>\n",
       "</div>"
      ],
      "text/plain": [
       "   id  release_date                                        movie  \\\n",
       "0   1  Dec 18, 2009                                       Avatar   \n",
       "1   2  May 20, 2011  Pirates of the Caribbean: On Stranger Tides   \n",
       "2   3   Jun 7, 2019                                 Dark Phoenix   \n",
       "3   4   May 1, 2015                      Avengers: Age of Ultron   \n",
       "4   5  Dec 15, 2017            Star Wars Ep. VIII: The Last Jedi   \n",
       "\n",
       "  production_budget domestic_gross worldwide_gross  \n",
       "0      $425,000,000   $760,507,625  $2,776,345,279  \n",
       "1      $410,600,000   $241,063,875  $1,045,663,875  \n",
       "2      $350,000,000    $42,762,350    $149,762,350  \n",
       "3      $330,600,000   $459,005,868  $1,403,013,963  \n",
       "4      $317,000,000   $620,181,382  $1,316,721,747  "
      ]
     },
     "execution_count": 168,
     "metadata": {},
     "output_type": "execute_result"
    }
   ],
   "source": [
    "#importing movie budges csv\n",
    "movie_budgets= pd.read_csv('Data/tn.movie_budgets.csv')\n",
    "movie_budgets.head()"
   ]
  },
  {
   "cell_type": "code",
   "execution_count": 169,
   "metadata": {},
   "outputs": [
    {
     "data": {
      "text/plain": [
       "(5782, 6)"
      ]
     },
     "execution_count": 169,
     "metadata": {},
     "output_type": "execute_result"
    }
   ],
   "source": [
    "#checking the shape of this CSV\n",
    "movie_budgets.shape"
   ]
  },
  {
   "cell_type": "code",
   "execution_count": 173,
   "metadata": {},
   "outputs": [
    {
     "data": {
      "text/plain": [
       "5698"
      ]
     },
     "execution_count": 173,
     "metadata": {},
     "output_type": "execute_result"
    }
   ],
   "source": [
    "#checking number of unique titles in dataframe\n",
    "movie_budgets['movie'].nunique() "
   ]
  },
  {
   "cell_type": "markdown",
   "metadata": {},
   "source": [
    "## 2.2 Merging SQL"
   ]
  },
  {
   "cell_type": "code",
   "execution_count": 105,
   "metadata": {},
   "outputs": [],
   "source": [
    "#create connection\n",
    "con = sqlite3.connect('Data/im.db')"
   ]
  },
  {
   "cell_type": "code",
   "execution_count": 106,
   "metadata": {},
   "outputs": [
    {
     "data": {
      "text/html": [
       "<div>\n",
       "<style scoped>\n",
       "    .dataframe tbody tr th:only-of-type {\n",
       "        vertical-align: middle;\n",
       "    }\n",
       "\n",
       "    .dataframe tbody tr th {\n",
       "        vertical-align: top;\n",
       "    }\n",
       "\n",
       "    .dataframe thead th {\n",
       "        text-align: right;\n",
       "    }\n",
       "</style>\n",
       "<table border=\"1\" class=\"dataframe\">\n",
       "  <thead>\n",
       "    <tr style=\"text-align: right;\">\n",
       "      <th></th>\n",
       "      <th>movie_id</th>\n",
       "      <th>averagerating</th>\n",
       "      <th>numvotes</th>\n",
       "    </tr>\n",
       "  </thead>\n",
       "  <tbody>\n",
       "    <tr>\n",
       "      <th>0</th>\n",
       "      <td>tt10356526</td>\n",
       "      <td>8.3</td>\n",
       "      <td>31</td>\n",
       "    </tr>\n",
       "    <tr>\n",
       "      <th>1</th>\n",
       "      <td>tt10384606</td>\n",
       "      <td>8.9</td>\n",
       "      <td>559</td>\n",
       "    </tr>\n",
       "    <tr>\n",
       "      <th>2</th>\n",
       "      <td>tt1042974</td>\n",
       "      <td>6.4</td>\n",
       "      <td>20</td>\n",
       "    </tr>\n",
       "    <tr>\n",
       "      <th>3</th>\n",
       "      <td>tt1043726</td>\n",
       "      <td>4.2</td>\n",
       "      <td>50352</td>\n",
       "    </tr>\n",
       "    <tr>\n",
       "      <th>4</th>\n",
       "      <td>tt1060240</td>\n",
       "      <td>6.5</td>\n",
       "      <td>21</td>\n",
       "    </tr>\n",
       "    <tr>\n",
       "      <th>5</th>\n",
       "      <td>tt1069246</td>\n",
       "      <td>6.2</td>\n",
       "      <td>326</td>\n",
       "    </tr>\n",
       "    <tr>\n",
       "      <th>6</th>\n",
       "      <td>tt1094666</td>\n",
       "      <td>7.0</td>\n",
       "      <td>1613</td>\n",
       "    </tr>\n",
       "    <tr>\n",
       "      <th>7</th>\n",
       "      <td>tt1130982</td>\n",
       "      <td>6.4</td>\n",
       "      <td>571</td>\n",
       "    </tr>\n",
       "    <tr>\n",
       "      <th>8</th>\n",
       "      <td>tt1156528</td>\n",
       "      <td>7.2</td>\n",
       "      <td>265</td>\n",
       "    </tr>\n",
       "    <tr>\n",
       "      <th>9</th>\n",
       "      <td>tt1161457</td>\n",
       "      <td>4.2</td>\n",
       "      <td>148</td>\n",
       "    </tr>\n",
       "    <tr>\n",
       "      <th>10</th>\n",
       "      <td>tt1171222</td>\n",
       "      <td>5.1</td>\n",
       "      <td>8296</td>\n",
       "    </tr>\n",
       "    <tr>\n",
       "      <th>11</th>\n",
       "      <td>tt1174693</td>\n",
       "      <td>5.8</td>\n",
       "      <td>2381</td>\n",
       "    </tr>\n",
       "    <tr>\n",
       "      <th>12</th>\n",
       "      <td>tt1181840</td>\n",
       "      <td>7.0</td>\n",
       "      <td>5494</td>\n",
       "    </tr>\n",
       "    <tr>\n",
       "      <th>13</th>\n",
       "      <td>tt1193623</td>\n",
       "      <td>8.0</td>\n",
       "      <td>5</td>\n",
       "    </tr>\n",
       "    <tr>\n",
       "      <th>14</th>\n",
       "      <td>tt1199588</td>\n",
       "      <td>5.5</td>\n",
       "      <td>74</td>\n",
       "    </tr>\n",
       "  </tbody>\n",
       "</table>\n",
       "</div>"
      ],
      "text/plain": [
       "      movie_id  averagerating  numvotes\n",
       "0   tt10356526            8.3        31\n",
       "1   tt10384606            8.9       559\n",
       "2    tt1042974            6.4        20\n",
       "3    tt1043726            4.2     50352\n",
       "4    tt1060240            6.5        21\n",
       "5    tt1069246            6.2       326\n",
       "6    tt1094666            7.0      1613\n",
       "7    tt1130982            6.4       571\n",
       "8    tt1156528            7.2       265\n",
       "9    tt1161457            4.2       148\n",
       "10   tt1171222            5.1      8296\n",
       "11   tt1174693            5.8      2381\n",
       "12   tt1181840            7.0      5494\n",
       "13   tt1193623            8.0         5\n",
       "14   tt1199588            5.5        74"
      ]
     },
     "execution_count": 106,
     "metadata": {},
     "output_type": "execute_result"
    }
   ],
   "source": [
    "#creating dataframe movie_ratings from movie ratings table in database\n",
    "movie_ratings = pd.read_sql(\"\"\"\n",
    "SELECT *\n",
    "FROM movie_ratings\n",
    "\n",
    "\"\"\", con)\n",
    "\n",
    "movie_ratings.head(15) "
   ]
  },
  {
   "cell_type": "code",
   "execution_count": 107,
   "metadata": {},
   "outputs": [
    {
     "data": {
      "text/html": [
       "<div>\n",
       "<style scoped>\n",
       "    .dataframe tbody tr th:only-of-type {\n",
       "        vertical-align: middle;\n",
       "    }\n",
       "\n",
       "    .dataframe tbody tr th {\n",
       "        vertical-align: top;\n",
       "    }\n",
       "\n",
       "    .dataframe thead th {\n",
       "        text-align: right;\n",
       "    }\n",
       "</style>\n",
       "<table border=\"1\" class=\"dataframe\">\n",
       "  <thead>\n",
       "    <tr style=\"text-align: right;\">\n",
       "      <th></th>\n",
       "      <th>movie_id</th>\n",
       "      <th>primary_title</th>\n",
       "      <th>original_title</th>\n",
       "      <th>start_year</th>\n",
       "      <th>runtime_minutes</th>\n",
       "      <th>genres</th>\n",
       "    </tr>\n",
       "  </thead>\n",
       "  <tbody>\n",
       "    <tr>\n",
       "      <th>0</th>\n",
       "      <td>tt0063540</td>\n",
       "      <td>Sunghursh</td>\n",
       "      <td>Sunghursh</td>\n",
       "      <td>2013</td>\n",
       "      <td>175.0</td>\n",
       "      <td>Action,Crime,Drama</td>\n",
       "    </tr>\n",
       "    <tr>\n",
       "      <th>1</th>\n",
       "      <td>tt0066787</td>\n",
       "      <td>One Day Before the Rainy Season</td>\n",
       "      <td>Ashad Ka Ek Din</td>\n",
       "      <td>2019</td>\n",
       "      <td>114.0</td>\n",
       "      <td>Biography,Drama</td>\n",
       "    </tr>\n",
       "    <tr>\n",
       "      <th>2</th>\n",
       "      <td>tt0069049</td>\n",
       "      <td>The Other Side of the Wind</td>\n",
       "      <td>The Other Side of the Wind</td>\n",
       "      <td>2018</td>\n",
       "      <td>122.0</td>\n",
       "      <td>Drama</td>\n",
       "    </tr>\n",
       "    <tr>\n",
       "      <th>3</th>\n",
       "      <td>tt0069204</td>\n",
       "      <td>Sabse Bada Sukh</td>\n",
       "      <td>Sabse Bada Sukh</td>\n",
       "      <td>2018</td>\n",
       "      <td>NaN</td>\n",
       "      <td>Comedy,Drama</td>\n",
       "    </tr>\n",
       "    <tr>\n",
       "      <th>4</th>\n",
       "      <td>tt0100275</td>\n",
       "      <td>The Wandering Soap Opera</td>\n",
       "      <td>La Telenovela Errante</td>\n",
       "      <td>2017</td>\n",
       "      <td>80.0</td>\n",
       "      <td>Comedy,Drama,Fantasy</td>\n",
       "    </tr>\n",
       "    <tr>\n",
       "      <th>...</th>\n",
       "      <td>...</td>\n",
       "      <td>...</td>\n",
       "      <td>...</td>\n",
       "      <td>...</td>\n",
       "      <td>...</td>\n",
       "      <td>...</td>\n",
       "    </tr>\n",
       "    <tr>\n",
       "      <th>146139</th>\n",
       "      <td>tt9916538</td>\n",
       "      <td>Kuambil Lagi Hatiku</td>\n",
       "      <td>Kuambil Lagi Hatiku</td>\n",
       "      <td>2019</td>\n",
       "      <td>123.0</td>\n",
       "      <td>Drama</td>\n",
       "    </tr>\n",
       "    <tr>\n",
       "      <th>146140</th>\n",
       "      <td>tt9916622</td>\n",
       "      <td>Rodolpho Teóphilo - O Legado de um Pioneiro</td>\n",
       "      <td>Rodolpho Teóphilo - O Legado de um Pioneiro</td>\n",
       "      <td>2015</td>\n",
       "      <td>NaN</td>\n",
       "      <td>Documentary</td>\n",
       "    </tr>\n",
       "    <tr>\n",
       "      <th>146141</th>\n",
       "      <td>tt9916706</td>\n",
       "      <td>Dankyavar Danka</td>\n",
       "      <td>Dankyavar Danka</td>\n",
       "      <td>2013</td>\n",
       "      <td>NaN</td>\n",
       "      <td>Comedy</td>\n",
       "    </tr>\n",
       "    <tr>\n",
       "      <th>146142</th>\n",
       "      <td>tt9916730</td>\n",
       "      <td>6 Gunn</td>\n",
       "      <td>6 Gunn</td>\n",
       "      <td>2017</td>\n",
       "      <td>116.0</td>\n",
       "      <td>None</td>\n",
       "    </tr>\n",
       "    <tr>\n",
       "      <th>146143</th>\n",
       "      <td>tt9916754</td>\n",
       "      <td>Chico Albuquerque - Revelações</td>\n",
       "      <td>Chico Albuquerque - Revelações</td>\n",
       "      <td>2013</td>\n",
       "      <td>NaN</td>\n",
       "      <td>Documentary</td>\n",
       "    </tr>\n",
       "  </tbody>\n",
       "</table>\n",
       "<p>146144 rows × 6 columns</p>\n",
       "</div>"
      ],
      "text/plain": [
       "         movie_id                                primary_title  \\\n",
       "0       tt0063540                                    Sunghursh   \n",
       "1       tt0066787              One Day Before the Rainy Season   \n",
       "2       tt0069049                   The Other Side of the Wind   \n",
       "3       tt0069204                              Sabse Bada Sukh   \n",
       "4       tt0100275                     The Wandering Soap Opera   \n",
       "...           ...                                          ...   \n",
       "146139  tt9916538                          Kuambil Lagi Hatiku   \n",
       "146140  tt9916622  Rodolpho Teóphilo - O Legado de um Pioneiro   \n",
       "146141  tt9916706                              Dankyavar Danka   \n",
       "146142  tt9916730                                       6 Gunn   \n",
       "146143  tt9916754               Chico Albuquerque - Revelações   \n",
       "\n",
       "                                     original_title  start_year  \\\n",
       "0                                         Sunghursh        2013   \n",
       "1                                   Ashad Ka Ek Din        2019   \n",
       "2                        The Other Side of the Wind        2018   \n",
       "3                                   Sabse Bada Sukh        2018   \n",
       "4                             La Telenovela Errante        2017   \n",
       "...                                             ...         ...   \n",
       "146139                          Kuambil Lagi Hatiku        2019   \n",
       "146140  Rodolpho Teóphilo - O Legado de um Pioneiro        2015   \n",
       "146141                              Dankyavar Danka        2013   \n",
       "146142                                       6 Gunn        2017   \n",
       "146143               Chico Albuquerque - Revelações        2013   \n",
       "\n",
       "        runtime_minutes                genres  \n",
       "0                 175.0    Action,Crime,Drama  \n",
       "1                 114.0       Biography,Drama  \n",
       "2                 122.0                 Drama  \n",
       "3                   NaN          Comedy,Drama  \n",
       "4                  80.0  Comedy,Drama,Fantasy  \n",
       "...                 ...                   ...  \n",
       "146139            123.0                 Drama  \n",
       "146140              NaN           Documentary  \n",
       "146141              NaN                Comedy  \n",
       "146142            116.0                  None  \n",
       "146143              NaN           Documentary  \n",
       "\n",
       "[146144 rows x 6 columns]"
      ]
     },
     "execution_count": 107,
     "metadata": {},
     "output_type": "execute_result"
    }
   ],
   "source": [
    "#creating dataframe movie_basics from movie_basics table in database\n",
    "movie_basics = pd.read_sql(\"\"\"\n",
    "SELECT *\n",
    "FROM movie_basics\n",
    "\n",
    "\"\"\", con)\n",
    "\n",
    "movie_basics"
   ]
  },
  {
   "cell_type": "code",
   "execution_count": 108,
   "metadata": {},
   "outputs": [],
   "source": [
    "#creating dataframe movie_akas from movie_akas table in database\n",
    "movie_akas = pd.read_sql(\"\"\"\n",
    "SELECT movie_id, title\n",
    "FROM movie_akas\n",
    "WHERE region = 'US'\n",
    "Group by movie_id\n",
    "\"\"\", con)\n"
   ]
  },
  {
   "cell_type": "markdown",
   "metadata": {},
   "source": [
    "### Now we have data frames: movie_akas and movie_basics  and will be merging the 2 dataframes to one merged dataset imdb_merged"
   ]
  },
  {
   "cell_type": "code",
   "execution_count": 109,
   "metadata": {},
   "outputs": [],
   "source": [
    "#Merging the akas dtafroma with movie_basics on an inner join on the unique identier \"movie_id\"\n",
    "akas_basics_merge = movie_akas.merge(movie_basics, on='movie_id',\n",
    "                                        how='inner')"
   ]
  },
  {
   "cell_type": "code",
   "execution_count": 110,
   "metadata": {},
   "outputs": [
    {
     "data": {
      "text/html": [
       "<div>\n",
       "<style scoped>\n",
       "    .dataframe tbody tr th:only-of-type {\n",
       "        vertical-align: middle;\n",
       "    }\n",
       "\n",
       "    .dataframe tbody tr th {\n",
       "        vertical-align: top;\n",
       "    }\n",
       "\n",
       "    .dataframe thead th {\n",
       "        text-align: right;\n",
       "    }\n",
       "</style>\n",
       "<table border=\"1\" class=\"dataframe\">\n",
       "  <thead>\n",
       "    <tr style=\"text-align: right;\">\n",
       "      <th></th>\n",
       "      <th>movie_id</th>\n",
       "      <th>title</th>\n",
       "      <th>primary_title</th>\n",
       "      <th>original_title</th>\n",
       "      <th>start_year</th>\n",
       "      <th>runtime_minutes</th>\n",
       "      <th>genres</th>\n",
       "    </tr>\n",
       "  </thead>\n",
       "  <tbody>\n",
       "    <tr>\n",
       "      <th>0</th>\n",
       "      <td>tt0069049</td>\n",
       "      <td>The Other Side of the Wind</td>\n",
       "      <td>The Other Side of the Wind</td>\n",
       "      <td>The Other Side of the Wind</td>\n",
       "      <td>2018</td>\n",
       "      <td>122.0</td>\n",
       "      <td>Drama</td>\n",
       "    </tr>\n",
       "    <tr>\n",
       "      <th>1</th>\n",
       "      <td>tt0112502</td>\n",
       "      <td>Bigfoot</td>\n",
       "      <td>Bigfoot</td>\n",
       "      <td>Bigfoot</td>\n",
       "      <td>2017</td>\n",
       "      <td>NaN</td>\n",
       "      <td>Horror,Thriller</td>\n",
       "    </tr>\n",
       "    <tr>\n",
       "      <th>2</th>\n",
       "      <td>tt0159369</td>\n",
       "      <td>Cooper and Hemingway: The True Gen</td>\n",
       "      <td>Cooper and Hemingway: The True Gen</td>\n",
       "      <td>Cooper and Hemingway: The True Gen</td>\n",
       "      <td>2013</td>\n",
       "      <td>180.0</td>\n",
       "      <td>Documentary</td>\n",
       "    </tr>\n",
       "    <tr>\n",
       "      <th>3</th>\n",
       "      <td>tt0192528</td>\n",
       "      <td>Heaven &amp; Hell</td>\n",
       "      <td>Heaven &amp; Hell</td>\n",
       "      <td>Reverse Heaven</td>\n",
       "      <td>2018</td>\n",
       "      <td>104.0</td>\n",
       "      <td>Drama</td>\n",
       "    </tr>\n",
       "    <tr>\n",
       "      <th>4</th>\n",
       "      <td>tt0230212</td>\n",
       "      <td>The Final Journey</td>\n",
       "      <td>The Final Journey</td>\n",
       "      <td>The Final Journey</td>\n",
       "      <td>2010</td>\n",
       "      <td>120.0</td>\n",
       "      <td>Drama</td>\n",
       "    </tr>\n",
       "    <tr>\n",
       "      <th>...</th>\n",
       "      <td>...</td>\n",
       "      <td>...</td>\n",
       "      <td>...</td>\n",
       "      <td>...</td>\n",
       "      <td>...</td>\n",
       "      <td>...</td>\n",
       "      <td>...</td>\n",
       "    </tr>\n",
       "    <tr>\n",
       "      <th>47428</th>\n",
       "      <td>tt9837530</td>\n",
       "      <td>Monkey King Reloaded</td>\n",
       "      <td>Monkey King Reloaded</td>\n",
       "      <td>Monkey King Reloaded</td>\n",
       "      <td>2017</td>\n",
       "      <td>77.0</td>\n",
       "      <td>Adventure</td>\n",
       "    </tr>\n",
       "    <tr>\n",
       "      <th>47429</th>\n",
       "      <td>tt9845398</td>\n",
       "      <td>End of the Century</td>\n",
       "      <td>End of the Century</td>\n",
       "      <td>Fin de siglo</td>\n",
       "      <td>2019</td>\n",
       "      <td>84.0</td>\n",
       "      <td>Drama</td>\n",
       "    </tr>\n",
       "    <tr>\n",
       "      <th>47430</th>\n",
       "      <td>tt9875852</td>\n",
       "      <td>The House Elf</td>\n",
       "      <td>The House Elf</td>\n",
       "      <td>Domovoy</td>\n",
       "      <td>2019</td>\n",
       "      <td>90.0</td>\n",
       "      <td>Comedy,Family,Fantasy</td>\n",
       "    </tr>\n",
       "    <tr>\n",
       "      <th>47431</th>\n",
       "      <td>tt9882084</td>\n",
       "      <td>Chasing Happiness</td>\n",
       "      <td>Chasing Happiness</td>\n",
       "      <td>Chasing Happiness</td>\n",
       "      <td>2019</td>\n",
       "      <td>96.0</td>\n",
       "      <td>Documentary</td>\n",
       "    </tr>\n",
       "    <tr>\n",
       "      <th>47432</th>\n",
       "      <td>tt9915436</td>\n",
       "      <td>Life in Movement</td>\n",
       "      <td>Vida em Movimento</td>\n",
       "      <td>Vida em Movimento</td>\n",
       "      <td>2019</td>\n",
       "      <td>70.0</td>\n",
       "      <td>Documentary</td>\n",
       "    </tr>\n",
       "  </tbody>\n",
       "</table>\n",
       "<p>47433 rows × 7 columns</p>\n",
       "</div>"
      ],
      "text/plain": [
       "        movie_id                               title  \\\n",
       "0      tt0069049          The Other Side of the Wind   \n",
       "1      tt0112502                             Bigfoot   \n",
       "2      tt0159369  Cooper and Hemingway: The True Gen   \n",
       "3      tt0192528                       Heaven & Hell   \n",
       "4      tt0230212                   The Final Journey   \n",
       "...          ...                                 ...   \n",
       "47428  tt9837530                Monkey King Reloaded   \n",
       "47429  tt9845398                  End of the Century   \n",
       "47430  tt9875852                       The House Elf   \n",
       "47431  tt9882084                   Chasing Happiness   \n",
       "47432  tt9915436                    Life in Movement   \n",
       "\n",
       "                            primary_title                      original_title  \\\n",
       "0              The Other Side of the Wind          The Other Side of the Wind   \n",
       "1                                 Bigfoot                             Bigfoot   \n",
       "2      Cooper and Hemingway: The True Gen  Cooper and Hemingway: The True Gen   \n",
       "3                           Heaven & Hell                      Reverse Heaven   \n",
       "4                       The Final Journey                   The Final Journey   \n",
       "...                                   ...                                 ...   \n",
       "47428                Monkey King Reloaded                Monkey King Reloaded   \n",
       "47429                  End of the Century                        Fin de siglo   \n",
       "47430                       The House Elf                             Domovoy   \n",
       "47431                   Chasing Happiness                   Chasing Happiness   \n",
       "47432                   Vida em Movimento                   Vida em Movimento   \n",
       "\n",
       "       start_year  runtime_minutes                 genres  \n",
       "0            2018            122.0                  Drama  \n",
       "1            2017              NaN        Horror,Thriller  \n",
       "2            2013            180.0            Documentary  \n",
       "3            2018            104.0                  Drama  \n",
       "4            2010            120.0                  Drama  \n",
       "...           ...              ...                    ...  \n",
       "47428        2017             77.0              Adventure  \n",
       "47429        2019             84.0                  Drama  \n",
       "47430        2019             90.0  Comedy,Family,Fantasy  \n",
       "47431        2019             96.0            Documentary  \n",
       "47432        2019             70.0            Documentary  \n",
       "\n",
       "[47433 rows x 7 columns]"
      ]
     },
     "execution_count": 110,
     "metadata": {},
     "output_type": "execute_result"
    }
   ],
   "source": [
    "akas_basics_merge"
   ]
  },
  {
   "cell_type": "code",
   "execution_count": 111,
   "metadata": {},
   "outputs": [],
   "source": [
    "#creating a merged full dataset from the SQL imdb databse. \n",
    "imdb_merged = akas_basics_merge.merge(movie_ratings, on='movie_id',\n",
    "                                       how='left')"
   ]
  },
  {
   "cell_type": "code",
   "execution_count": 112,
   "metadata": {},
   "outputs": [
    {
     "data": {
      "text/plain": [
       "(47433, 9)"
      ]
     },
     "execution_count": 112,
     "metadata": {},
     "output_type": "execute_result"
    }
   ],
   "source": [
    "imdb_merged.shape #Checking the shape"
   ]
  },
  {
   "cell_type": "markdown",
   "metadata": {},
   "source": [
    "##  2.3 Creating Joined Data Table for All</font>"
   ]
  },
  {
   "cell_type": "markdown",
   "metadata": {},
   "source": [
    "### Cleaning up data frames to properly join!\n",
    "- Cleaning up date columns for proper joins later on\n",
    "- Removing duplicates we come across\n",
    "- Making sure we only have relevant columns to work with"
   ]
  },
  {
   "cell_type": "markdown",
   "metadata": {},
   "source": [
    "<font color='blue'> Movie Budgets Table Cleanup </font>"
   ]
  },
  {
   "cell_type": "code",
   "execution_count": 113,
   "metadata": {},
   "outputs": [],
   "source": [
    "#renaming movie title for ease of joining\n",
    "\n",
    "movie_budgets.rename(columns = {'movie': 'title'}, inplace = True) "
   ]
  },
  {
   "cell_type": "code",
   "execution_count": 114,
   "metadata": {},
   "outputs": [
    {
     "data": {
      "text/html": [
       "<div>\n",
       "<style scoped>\n",
       "    .dataframe tbody tr th:only-of-type {\n",
       "        vertical-align: middle;\n",
       "    }\n",
       "\n",
       "    .dataframe tbody tr th {\n",
       "        vertical-align: top;\n",
       "    }\n",
       "\n",
       "    .dataframe thead th {\n",
       "        text-align: right;\n",
       "    }\n",
       "</style>\n",
       "<table border=\"1\" class=\"dataframe\">\n",
       "  <thead>\n",
       "    <tr style=\"text-align: right;\">\n",
       "      <th></th>\n",
       "      <th>id</th>\n",
       "      <th>release_date</th>\n",
       "      <th>title</th>\n",
       "      <th>production_budget</th>\n",
       "      <th>domestic_gross</th>\n",
       "      <th>worldwide_gross</th>\n",
       "    </tr>\n",
       "  </thead>\n",
       "  <tbody>\n",
       "    <tr>\n",
       "      <th>80</th>\n",
       "      <td>81</td>\n",
       "      <td>May 24, 2019</td>\n",
       "      <td>Aladdin</td>\n",
       "      <td>$182,000,000</td>\n",
       "      <td>$246,734,314</td>\n",
       "      <td>$619,234,314</td>\n",
       "    </tr>\n",
       "    <tr>\n",
       "      <th>2032</th>\n",
       "      <td>33</td>\n",
       "      <td>Nov 11, 1992</td>\n",
       "      <td>Aladdin</td>\n",
       "      <td>$28,000,000</td>\n",
       "      <td>$217,350,219</td>\n",
       "      <td>$504,050,219</td>\n",
       "    </tr>\n",
       "  </tbody>\n",
       "</table>\n",
       "</div>"
      ],
      "text/plain": [
       "      id  release_date    title production_budget domestic_gross  \\\n",
       "80    81  May 24, 2019  Aladdin      $182,000,000   $246,734,314   \n",
       "2032  33  Nov 11, 1992  Aladdin       $28,000,000   $217,350,219   \n",
       "\n",
       "     worldwide_gross  \n",
       "80      $619,234,314  \n",
       "2032    $504,050,219  "
      ]
     },
     "execution_count": 114,
     "metadata": {},
     "output_type": "execute_result"
    }
   ],
   "source": [
    "movie_budgets.loc[movie_budgets['title'] == 'Aladdin'] \n",
    "#see here that there are 2 aladdins but they are from 2 seperate years\n",
    "#this will be an issue for when we merge if we dont merge by year + title match"
   ]
  },
  {
   "cell_type": "markdown",
   "metadata": {},
   "source": [
    "We need to merge on 2 columns i.e. start year and title column because duplicate movies across multiple years"
   ]
  },
  {
   "cell_type": "code",
   "execution_count": 116,
   "metadata": {},
   "outputs": [],
   "source": [
    "#Creating new coumn called year that is date.time\n",
    "movie_budgets['Release_Date_Time'] = pd.to_datetime(movie_budgets['release_date'])\n",
    "movie_budgets['Year'] = movie_budgets['Release_Date_Time'].dt.year"
   ]
  },
  {
   "cell_type": "code",
   "execution_count": 117,
   "metadata": {},
   "outputs": [],
   "source": [
    "movie_budgets['month'] = movie_budgets['Release_Date_Time'].dt.month"
   ]
  },
  {
   "cell_type": "code",
   "execution_count": 118,
   "metadata": {
    "scrolled": true
   },
   "outputs": [
    {
     "name": "stdout",
     "output_type": "stream",
     "text": [
      "<class 'pandas.core.frame.DataFrame'>\n",
      "RangeIndex: 5782 entries, 0 to 5781\n",
      "Data columns (total 9 columns):\n",
      " #   Column             Non-Null Count  Dtype         \n",
      "---  ------             --------------  -----         \n",
      " 0   id                 5782 non-null   int64         \n",
      " 1   release_date       5782 non-null   object        \n",
      " 2   title              5782 non-null   object        \n",
      " 3   production_budget  5782 non-null   object        \n",
      " 4   domestic_gross     5782 non-null   object        \n",
      " 5   worldwide_gross    5782 non-null   object        \n",
      " 6   Release_Date_Time  5782 non-null   datetime64[ns]\n",
      " 7   Year               5782 non-null   int64         \n",
      " 8   month              5782 non-null   int64         \n",
      "dtypes: datetime64[ns](1), int64(3), object(5)\n",
      "memory usage: 406.7+ KB\n"
     ]
    }
   ],
   "source": [
    "movie_budgets.info() #checking new column and type"
   ]
  },
  {
   "cell_type": "code",
   "execution_count": 119,
   "metadata": {
    "scrolled": true
   },
   "outputs": [],
   "source": [
    "##taking sql_df_US, movie_budgets, movies and creating one table\n",
    "\n",
    "full_movies_df = imdb_merged.merge(movie_budgets, left_on= ['primary_title', 'start_year'],right_on= ['title', 'Year'], how= 'inner')\n"
   ]
  },
  {
   "cell_type": "code",
   "execution_count": 120,
   "metadata": {},
   "outputs": [
    {
     "data": {
      "text/plain": [
       "(1340, 18)"
      ]
     },
     "execution_count": 120,
     "metadata": {},
     "output_type": "execute_result"
    }
   ],
   "source": [
    "full_movies_df.shape"
   ]
  },
  {
   "cell_type": "code",
   "execution_count": 121,
   "metadata": {
    "scrolled": true
   },
   "outputs": [
    {
     "data": {
      "text/html": [
       "<div>\n",
       "<style scoped>\n",
       "    .dataframe tbody tr th:only-of-type {\n",
       "        vertical-align: middle;\n",
       "    }\n",
       "\n",
       "    .dataframe tbody tr th {\n",
       "        vertical-align: top;\n",
       "    }\n",
       "\n",
       "    .dataframe thead th {\n",
       "        text-align: right;\n",
       "    }\n",
       "</style>\n",
       "<table border=\"1\" class=\"dataframe\">\n",
       "  <thead>\n",
       "    <tr style=\"text-align: right;\">\n",
       "      <th></th>\n",
       "      <th>movie_id</th>\n",
       "      <th>title_x</th>\n",
       "      <th>primary_title</th>\n",
       "      <th>original_title</th>\n",
       "      <th>start_year</th>\n",
       "      <th>runtime_minutes</th>\n",
       "      <th>genres</th>\n",
       "      <th>averagerating</th>\n",
       "      <th>numvotes</th>\n",
       "      <th>id</th>\n",
       "      <th>release_date</th>\n",
       "      <th>title_y</th>\n",
       "      <th>production_budget</th>\n",
       "      <th>domestic_gross</th>\n",
       "      <th>worldwide_gross</th>\n",
       "      <th>Release_Date_Time</th>\n",
       "      <th>Year</th>\n",
       "      <th>month</th>\n",
       "    </tr>\n",
       "  </thead>\n",
       "  <tbody>\n",
       "    <tr>\n",
       "      <th>0</th>\n",
       "      <td>tt0249516</td>\n",
       "      <td>Foodfight!</td>\n",
       "      <td>Foodfight!</td>\n",
       "      <td>Foodfight!</td>\n",
       "      <td>2012</td>\n",
       "      <td>91.0</td>\n",
       "      <td>Action,Animation,Comedy</td>\n",
       "      <td>1.9</td>\n",
       "      <td>8248.0</td>\n",
       "      <td>26</td>\n",
       "      <td>Dec 31, 2012</td>\n",
       "      <td>Foodfight!</td>\n",
       "      <td>$45,000,000</td>\n",
       "      <td>$0</td>\n",
       "      <td>$73,706</td>\n",
       "      <td>2012-12-31</td>\n",
       "      <td>2012</td>\n",
       "      <td>12</td>\n",
       "    </tr>\n",
       "    <tr>\n",
       "      <th>1</th>\n",
       "      <td>tt0359950</td>\n",
       "      <td>The Secret Life of Walter Mitty</td>\n",
       "      <td>The Secret Life of Walter Mitty</td>\n",
       "      <td>The Secret Life of Walter Mitty</td>\n",
       "      <td>2013</td>\n",
       "      <td>114.0</td>\n",
       "      <td>Adventure,Comedy,Drama</td>\n",
       "      <td>7.3</td>\n",
       "      <td>275300.0</td>\n",
       "      <td>37</td>\n",
       "      <td>Dec 25, 2013</td>\n",
       "      <td>The Secret Life of Walter Mitty</td>\n",
       "      <td>$91,000,000</td>\n",
       "      <td>$58,236,838</td>\n",
       "      <td>$187,861,183</td>\n",
       "      <td>2013-12-25</td>\n",
       "      <td>2013</td>\n",
       "      <td>12</td>\n",
       "    </tr>\n",
       "    <tr>\n",
       "      <th>2</th>\n",
       "      <td>tt0365907</td>\n",
       "      <td>A Walk Among the Tombstones</td>\n",
       "      <td>A Walk Among the Tombstones</td>\n",
       "      <td>A Walk Among the Tombstones</td>\n",
       "      <td>2014</td>\n",
       "      <td>114.0</td>\n",
       "      <td>Action,Crime,Drama</td>\n",
       "      <td>6.5</td>\n",
       "      <td>105116.0</td>\n",
       "      <td>67</td>\n",
       "      <td>Sep 19, 2014</td>\n",
       "      <td>A Walk Among the Tombstones</td>\n",
       "      <td>$28,000,000</td>\n",
       "      <td>$26,017,685</td>\n",
       "      <td>$62,108,587</td>\n",
       "      <td>2014-09-19</td>\n",
       "      <td>2014</td>\n",
       "      <td>9</td>\n",
       "    </tr>\n",
       "    <tr>\n",
       "      <th>3</th>\n",
       "      <td>tt0369610</td>\n",
       "      <td>Jurassic World 3D</td>\n",
       "      <td>Jurassic World</td>\n",
       "      <td>Jurassic World</td>\n",
       "      <td>2015</td>\n",
       "      <td>124.0</td>\n",
       "      <td>Action,Adventure,Sci-Fi</td>\n",
       "      <td>7.0</td>\n",
       "      <td>539338.0</td>\n",
       "      <td>34</td>\n",
       "      <td>Jun 12, 2015</td>\n",
       "      <td>Jurassic World</td>\n",
       "      <td>$215,000,000</td>\n",
       "      <td>$652,270,625</td>\n",
       "      <td>$1,648,854,864</td>\n",
       "      <td>2015-06-12</td>\n",
       "      <td>2015</td>\n",
       "      <td>6</td>\n",
       "    </tr>\n",
       "    <tr>\n",
       "      <th>4</th>\n",
       "      <td>tt0376136</td>\n",
       "      <td>Hunter S. Thompson's The Rum Diary</td>\n",
       "      <td>The Rum Diary</td>\n",
       "      <td>The Rum Diary</td>\n",
       "      <td>2011</td>\n",
       "      <td>119.0</td>\n",
       "      <td>Comedy,Drama</td>\n",
       "      <td>6.2</td>\n",
       "      <td>94787.0</td>\n",
       "      <td>16</td>\n",
       "      <td>Oct 28, 2011</td>\n",
       "      <td>The Rum Diary</td>\n",
       "      <td>$45,000,000</td>\n",
       "      <td>$13,109,815</td>\n",
       "      <td>$21,544,732</td>\n",
       "      <td>2011-10-28</td>\n",
       "      <td>2011</td>\n",
       "      <td>10</td>\n",
       "    </tr>\n",
       "    <tr>\n",
       "      <th>...</th>\n",
       "      <td>...</td>\n",
       "      <td>...</td>\n",
       "      <td>...</td>\n",
       "      <td>...</td>\n",
       "      <td>...</td>\n",
       "      <td>...</td>\n",
       "      <td>...</td>\n",
       "      <td>...</td>\n",
       "      <td>...</td>\n",
       "      <td>...</td>\n",
       "      <td>...</td>\n",
       "      <td>...</td>\n",
       "      <td>...</td>\n",
       "      <td>...</td>\n",
       "      <td>...</td>\n",
       "      <td>...</td>\n",
       "      <td>...</td>\n",
       "      <td>...</td>\n",
       "    </tr>\n",
       "    <tr>\n",
       "      <th>1335</th>\n",
       "      <td>tt8155288</td>\n",
       "      <td>Happy Death Day 2U</td>\n",
       "      <td>Happy Death Day 2U</td>\n",
       "      <td>Happy Death Day 2U</td>\n",
       "      <td>2019</td>\n",
       "      <td>100.0</td>\n",
       "      <td>Drama,Horror,Mystery</td>\n",
       "      <td>6.3</td>\n",
       "      <td>27462.0</td>\n",
       "      <td>78</td>\n",
       "      <td>Feb 13, 2019</td>\n",
       "      <td>Happy Death Day 2U</td>\n",
       "      <td>$9,000,000</td>\n",
       "      <td>$28,051,045</td>\n",
       "      <td>$64,179,495</td>\n",
       "      <td>2019-02-13</td>\n",
       "      <td>2019</td>\n",
       "      <td>2</td>\n",
       "    </tr>\n",
       "    <tr>\n",
       "      <th>1336</th>\n",
       "      <td>tt8266310</td>\n",
       "      <td>Blinded by the Light</td>\n",
       "      <td>Blinded by the Light</td>\n",
       "      <td>Blinded by the Light</td>\n",
       "      <td>2019</td>\n",
       "      <td>117.0</td>\n",
       "      <td>Biography,Comedy,Drama</td>\n",
       "      <td>6.2</td>\n",
       "      <td>173.0</td>\n",
       "      <td>64</td>\n",
       "      <td>Aug 14, 2019</td>\n",
       "      <td>Blinded by the Light</td>\n",
       "      <td>$15,000,000</td>\n",
       "      <td>$0</td>\n",
       "      <td>$0</td>\n",
       "      <td>2019-08-14</td>\n",
       "      <td>2019</td>\n",
       "      <td>8</td>\n",
       "    </tr>\n",
       "    <tr>\n",
       "      <th>1337</th>\n",
       "      <td>tt8364368</td>\n",
       "      <td>Crawl</td>\n",
       "      <td>Crawl</td>\n",
       "      <td>Crawl</td>\n",
       "      <td>2019</td>\n",
       "      <td>NaN</td>\n",
       "      <td>Action,Horror,Thriller</td>\n",
       "      <td>NaN</td>\n",
       "      <td>NaN</td>\n",
       "      <td>16</td>\n",
       "      <td>Jul 12, 2019</td>\n",
       "      <td>Crawl</td>\n",
       "      <td>$17,000,000</td>\n",
       "      <td>$0</td>\n",
       "      <td>$0</td>\n",
       "      <td>2019-07-12</td>\n",
       "      <td>2019</td>\n",
       "      <td>7</td>\n",
       "    </tr>\n",
       "    <tr>\n",
       "      <th>1338</th>\n",
       "      <td>tt8632862</td>\n",
       "      <td>Fahrenheit 11/9</td>\n",
       "      <td>Fahrenheit 11/9</td>\n",
       "      <td>Fahrenheit 11/9</td>\n",
       "      <td>2018</td>\n",
       "      <td>128.0</td>\n",
       "      <td>Documentary</td>\n",
       "      <td>6.7</td>\n",
       "      <td>11628.0</td>\n",
       "      <td>29</td>\n",
       "      <td>Sep 21, 2018</td>\n",
       "      <td>Fahrenheit 11/9</td>\n",
       "      <td>$5,000,000</td>\n",
       "      <td>$6,352,306</td>\n",
       "      <td>$6,653,715</td>\n",
       "      <td>2018-09-21</td>\n",
       "      <td>2018</td>\n",
       "      <td>9</td>\n",
       "    </tr>\n",
       "    <tr>\n",
       "      <th>1339</th>\n",
       "      <td>tt9024106</td>\n",
       "      <td>Unplanned</td>\n",
       "      <td>Unplanned</td>\n",
       "      <td>Unplanned</td>\n",
       "      <td>2019</td>\n",
       "      <td>106.0</td>\n",
       "      <td>Biography,Drama</td>\n",
       "      <td>6.3</td>\n",
       "      <td>5945.0</td>\n",
       "      <td>33</td>\n",
       "      <td>Mar 29, 2019</td>\n",
       "      <td>Unplanned</td>\n",
       "      <td>$6,000,000</td>\n",
       "      <td>$18,107,621</td>\n",
       "      <td>$18,107,621</td>\n",
       "      <td>2019-03-29</td>\n",
       "      <td>2019</td>\n",
       "      <td>3</td>\n",
       "    </tr>\n",
       "  </tbody>\n",
       "</table>\n",
       "<p>1340 rows × 18 columns</p>\n",
       "</div>"
      ],
      "text/plain": [
       "       movie_id                             title_x  \\\n",
       "0     tt0249516                          Foodfight!   \n",
       "1     tt0359950     The Secret Life of Walter Mitty   \n",
       "2     tt0365907         A Walk Among the Tombstones   \n",
       "3     tt0369610                   Jurassic World 3D   \n",
       "4     tt0376136  Hunter S. Thompson's The Rum Diary   \n",
       "...         ...                                 ...   \n",
       "1335  tt8155288                  Happy Death Day 2U   \n",
       "1336  tt8266310                Blinded by the Light   \n",
       "1337  tt8364368                               Crawl   \n",
       "1338  tt8632862                     Fahrenheit 11/9   \n",
       "1339  tt9024106                           Unplanned   \n",
       "\n",
       "                        primary_title                   original_title  \\\n",
       "0                          Foodfight!                       Foodfight!   \n",
       "1     The Secret Life of Walter Mitty  The Secret Life of Walter Mitty   \n",
       "2         A Walk Among the Tombstones      A Walk Among the Tombstones   \n",
       "3                      Jurassic World                   Jurassic World   \n",
       "4                       The Rum Diary                    The Rum Diary   \n",
       "...                               ...                              ...   \n",
       "1335               Happy Death Day 2U               Happy Death Day 2U   \n",
       "1336             Blinded by the Light             Blinded by the Light   \n",
       "1337                            Crawl                            Crawl   \n",
       "1338                  Fahrenheit 11/9                  Fahrenheit 11/9   \n",
       "1339                        Unplanned                        Unplanned   \n",
       "\n",
       "      start_year  runtime_minutes                   genres  averagerating  \\\n",
       "0           2012             91.0  Action,Animation,Comedy            1.9   \n",
       "1           2013            114.0   Adventure,Comedy,Drama            7.3   \n",
       "2           2014            114.0       Action,Crime,Drama            6.5   \n",
       "3           2015            124.0  Action,Adventure,Sci-Fi            7.0   \n",
       "4           2011            119.0             Comedy,Drama            6.2   \n",
       "...          ...              ...                      ...            ...   \n",
       "1335        2019            100.0     Drama,Horror,Mystery            6.3   \n",
       "1336        2019            117.0   Biography,Comedy,Drama            6.2   \n",
       "1337        2019              NaN   Action,Horror,Thriller            NaN   \n",
       "1338        2018            128.0              Documentary            6.7   \n",
       "1339        2019            106.0          Biography,Drama            6.3   \n",
       "\n",
       "      numvotes  id  release_date                          title_y  \\\n",
       "0       8248.0  26  Dec 31, 2012                       Foodfight!   \n",
       "1     275300.0  37  Dec 25, 2013  The Secret Life of Walter Mitty   \n",
       "2     105116.0  67  Sep 19, 2014      A Walk Among the Tombstones   \n",
       "3     539338.0  34  Jun 12, 2015                   Jurassic World   \n",
       "4      94787.0  16  Oct 28, 2011                    The Rum Diary   \n",
       "...        ...  ..           ...                              ...   \n",
       "1335   27462.0  78  Feb 13, 2019               Happy Death Day 2U   \n",
       "1336     173.0  64  Aug 14, 2019             Blinded by the Light   \n",
       "1337       NaN  16  Jul 12, 2019                            Crawl   \n",
       "1338   11628.0  29  Sep 21, 2018                  Fahrenheit 11/9   \n",
       "1339    5945.0  33  Mar 29, 2019                        Unplanned   \n",
       "\n",
       "     production_budget domestic_gross worldwide_gross Release_Date_Time  Year  \\\n",
       "0          $45,000,000             $0         $73,706        2012-12-31  2012   \n",
       "1          $91,000,000    $58,236,838    $187,861,183        2013-12-25  2013   \n",
       "2          $28,000,000    $26,017,685     $62,108,587        2014-09-19  2014   \n",
       "3         $215,000,000   $652,270,625  $1,648,854,864        2015-06-12  2015   \n",
       "4          $45,000,000    $13,109,815     $21,544,732        2011-10-28  2011   \n",
       "...                ...            ...             ...               ...   ...   \n",
       "1335        $9,000,000    $28,051,045     $64,179,495        2019-02-13  2019   \n",
       "1336       $15,000,000             $0              $0        2019-08-14  2019   \n",
       "1337       $17,000,000             $0              $0        2019-07-12  2019   \n",
       "1338        $5,000,000     $6,352,306      $6,653,715        2018-09-21  2018   \n",
       "1339        $6,000,000    $18,107,621     $18,107,621        2019-03-29  2019   \n",
       "\n",
       "      month  \n",
       "0        12  \n",
       "1        12  \n",
       "2         9  \n",
       "3         6  \n",
       "4        10  \n",
       "...     ...  \n",
       "1335      2  \n",
       "1336      8  \n",
       "1337      7  \n",
       "1338      9  \n",
       "1339      3  \n",
       "\n",
       "[1340 rows x 18 columns]"
      ]
     },
     "execution_count": 121,
     "metadata": {},
     "output_type": "execute_result"
    }
   ],
   "source": [
    "full_movies_df"
   ]
  },
  {
   "cell_type": "markdown",
   "metadata": {},
   "source": [
    "---"
   ]
  },
  {
   "cell_type": "markdown",
   "metadata": {},
   "source": [
    "# <font color='blue'> 3. Individual Analyses\n",
    " Now that we have cleaned our data and gotten to one joined dataset, we began analyzing this dataframe and preformed three unique analyses as seen below. \n",
    "    The analysis shown will be:\n",
    "    \n",
    "    1. Month Release (3.1)\n",
    "    2. Genre (3.2) \n",
    "    3. Production Budget (3.3)"
   ]
  },
  {
   "cell_type": "markdown",
   "metadata": {},
   "source": [
    "# 3.1 Month Release\n",
    "- Below we began looking into the affect the release month has on the profit for each movie. This analysis was done by taking the average worldwide_gross of each movie per month and understanding if there were any key insights to gleam from this"
   ]
  },
  {
   "cell_type": "code",
   "execution_count": 122,
   "metadata": {},
   "outputs": [],
   "source": [
    "#renaming the full movies dataframe to not conflict with the other hypethsis data frames\n",
    "movies = full_movies_df "
   ]
  },
  {
   "cell_type": "code",
   "execution_count": 123,
   "metadata": {},
   "outputs": [],
   "source": [
    "#cleaning up 3 columns: worldwide_gross, production budget, domestic gross\n",
    "movies['worldwide_gross'] = movies['worldwide_gross'].str.replace('$','').str.replace(',','').astype(float)\n",
    "movies['production_budget'] = movies['production_budget'].str.replace('$','').str.replace(',','').astype(float)\n",
    "movies['domestic_gross'] = movies['domestic_gross'].str.replace('$','').str.replace(',','').astype(float)"
   ]
  },
  {
   "cell_type": "code",
   "execution_count": 124,
   "metadata": {},
   "outputs": [],
   "source": [
    "movies.drop('title_y', axis = 1, inplace = True)\n",
    "movies.drop('Year', axis = 1, inplace = True)\n",
    "movies.drop('release_date', axis = 1, inplace = True)\n",
    "movies.drop('id', axis = 1, inplace = True)"
   ]
  },
  {
   "cell_type": "code",
   "execution_count": 125,
   "metadata": {},
   "outputs": [
    {
     "data": {
      "text/html": [
       "<div>\n",
       "<style scoped>\n",
       "    .dataframe tbody tr th:only-of-type {\n",
       "        vertical-align: middle;\n",
       "    }\n",
       "\n",
       "    .dataframe tbody tr th {\n",
       "        vertical-align: top;\n",
       "    }\n",
       "\n",
       "    .dataframe thead th {\n",
       "        text-align: right;\n",
       "    }\n",
       "</style>\n",
       "<table border=\"1\" class=\"dataframe\">\n",
       "  <thead>\n",
       "    <tr style=\"text-align: right;\">\n",
       "      <th></th>\n",
       "      <th>movie_id</th>\n",
       "      <th>title_x</th>\n",
       "      <th>primary_title</th>\n",
       "      <th>original_title</th>\n",
       "      <th>start_year</th>\n",
       "      <th>runtime_minutes</th>\n",
       "      <th>genres</th>\n",
       "      <th>averagerating</th>\n",
       "      <th>numvotes</th>\n",
       "      <th>production_budget</th>\n",
       "      <th>domestic_gross</th>\n",
       "      <th>worldwide_gross</th>\n",
       "      <th>Release_Date_Time</th>\n",
       "      <th>month</th>\n",
       "      <th>gross_formatted</th>\n",
       "    </tr>\n",
       "  </thead>\n",
       "  <tbody>\n",
       "    <tr>\n",
       "      <th>0</th>\n",
       "      <td>tt0249516</td>\n",
       "      <td>Foodfight!</td>\n",
       "      <td>Foodfight!</td>\n",
       "      <td>Foodfight!</td>\n",
       "      <td>2012</td>\n",
       "      <td>91.0</td>\n",
       "      <td>Action,Animation,Comedy</td>\n",
       "      <td>1.9</td>\n",
       "      <td>8248.0</td>\n",
       "      <td>45000000.0</td>\n",
       "      <td>0.0</td>\n",
       "      <td>7.370600e+04</td>\n",
       "      <td>2012-12-31</td>\n",
       "      <td>12</td>\n",
       "      <td>$73,706</td>\n",
       "    </tr>\n",
       "    <tr>\n",
       "      <th>1</th>\n",
       "      <td>tt0359950</td>\n",
       "      <td>The Secret Life of Walter Mitty</td>\n",
       "      <td>The Secret Life of Walter Mitty</td>\n",
       "      <td>The Secret Life of Walter Mitty</td>\n",
       "      <td>2013</td>\n",
       "      <td>114.0</td>\n",
       "      <td>Adventure,Comedy,Drama</td>\n",
       "      <td>7.3</td>\n",
       "      <td>275300.0</td>\n",
       "      <td>91000000.0</td>\n",
       "      <td>58236838.0</td>\n",
       "      <td>1.878612e+08</td>\n",
       "      <td>2013-12-25</td>\n",
       "      <td>12</td>\n",
       "      <td>$187,861,183</td>\n",
       "    </tr>\n",
       "    <tr>\n",
       "      <th>2</th>\n",
       "      <td>tt0365907</td>\n",
       "      <td>A Walk Among the Tombstones</td>\n",
       "      <td>A Walk Among the Tombstones</td>\n",
       "      <td>A Walk Among the Tombstones</td>\n",
       "      <td>2014</td>\n",
       "      <td>114.0</td>\n",
       "      <td>Action,Crime,Drama</td>\n",
       "      <td>6.5</td>\n",
       "      <td>105116.0</td>\n",
       "      <td>28000000.0</td>\n",
       "      <td>26017685.0</td>\n",
       "      <td>6.210859e+07</td>\n",
       "      <td>2014-09-19</td>\n",
       "      <td>9</td>\n",
       "      <td>$62,108,587</td>\n",
       "    </tr>\n",
       "    <tr>\n",
       "      <th>3</th>\n",
       "      <td>tt0369610</td>\n",
       "      <td>Jurassic World 3D</td>\n",
       "      <td>Jurassic World</td>\n",
       "      <td>Jurassic World</td>\n",
       "      <td>2015</td>\n",
       "      <td>124.0</td>\n",
       "      <td>Action,Adventure,Sci-Fi</td>\n",
       "      <td>7.0</td>\n",
       "      <td>539338.0</td>\n",
       "      <td>215000000.0</td>\n",
       "      <td>652270625.0</td>\n",
       "      <td>1.648855e+09</td>\n",
       "      <td>2015-06-12</td>\n",
       "      <td>6</td>\n",
       "      <td>$1,648,854,864</td>\n",
       "    </tr>\n",
       "    <tr>\n",
       "      <th>4</th>\n",
       "      <td>tt0376136</td>\n",
       "      <td>Hunter S. Thompson's The Rum Diary</td>\n",
       "      <td>The Rum Diary</td>\n",
       "      <td>The Rum Diary</td>\n",
       "      <td>2011</td>\n",
       "      <td>119.0</td>\n",
       "      <td>Comedy,Drama</td>\n",
       "      <td>6.2</td>\n",
       "      <td>94787.0</td>\n",
       "      <td>45000000.0</td>\n",
       "      <td>13109815.0</td>\n",
       "      <td>2.154473e+07</td>\n",
       "      <td>2011-10-28</td>\n",
       "      <td>10</td>\n",
       "      <td>$21,544,732</td>\n",
       "    </tr>\n",
       "    <tr>\n",
       "      <th>...</th>\n",
       "      <td>...</td>\n",
       "      <td>...</td>\n",
       "      <td>...</td>\n",
       "      <td>...</td>\n",
       "      <td>...</td>\n",
       "      <td>...</td>\n",
       "      <td>...</td>\n",
       "      <td>...</td>\n",
       "      <td>...</td>\n",
       "      <td>...</td>\n",
       "      <td>...</td>\n",
       "      <td>...</td>\n",
       "      <td>...</td>\n",
       "      <td>...</td>\n",
       "      <td>...</td>\n",
       "    </tr>\n",
       "    <tr>\n",
       "      <th>1335</th>\n",
       "      <td>tt8155288</td>\n",
       "      <td>Happy Death Day 2U</td>\n",
       "      <td>Happy Death Day 2U</td>\n",
       "      <td>Happy Death Day 2U</td>\n",
       "      <td>2019</td>\n",
       "      <td>100.0</td>\n",
       "      <td>Drama,Horror,Mystery</td>\n",
       "      <td>6.3</td>\n",
       "      <td>27462.0</td>\n",
       "      <td>9000000.0</td>\n",
       "      <td>28051045.0</td>\n",
       "      <td>6.417950e+07</td>\n",
       "      <td>2019-02-13</td>\n",
       "      <td>2</td>\n",
       "      <td>$64,179,495</td>\n",
       "    </tr>\n",
       "    <tr>\n",
       "      <th>1336</th>\n",
       "      <td>tt8266310</td>\n",
       "      <td>Blinded by the Light</td>\n",
       "      <td>Blinded by the Light</td>\n",
       "      <td>Blinded by the Light</td>\n",
       "      <td>2019</td>\n",
       "      <td>117.0</td>\n",
       "      <td>Biography,Comedy,Drama</td>\n",
       "      <td>6.2</td>\n",
       "      <td>173.0</td>\n",
       "      <td>15000000.0</td>\n",
       "      <td>0.0</td>\n",
       "      <td>0.000000e+00</td>\n",
       "      <td>2019-08-14</td>\n",
       "      <td>8</td>\n",
       "      <td>$0</td>\n",
       "    </tr>\n",
       "    <tr>\n",
       "      <th>1337</th>\n",
       "      <td>tt8364368</td>\n",
       "      <td>Crawl</td>\n",
       "      <td>Crawl</td>\n",
       "      <td>Crawl</td>\n",
       "      <td>2019</td>\n",
       "      <td>NaN</td>\n",
       "      <td>Action,Horror,Thriller</td>\n",
       "      <td>NaN</td>\n",
       "      <td>NaN</td>\n",
       "      <td>17000000.0</td>\n",
       "      <td>0.0</td>\n",
       "      <td>0.000000e+00</td>\n",
       "      <td>2019-07-12</td>\n",
       "      <td>7</td>\n",
       "      <td>$0</td>\n",
       "    </tr>\n",
       "    <tr>\n",
       "      <th>1338</th>\n",
       "      <td>tt8632862</td>\n",
       "      <td>Fahrenheit 11/9</td>\n",
       "      <td>Fahrenheit 11/9</td>\n",
       "      <td>Fahrenheit 11/9</td>\n",
       "      <td>2018</td>\n",
       "      <td>128.0</td>\n",
       "      <td>Documentary</td>\n",
       "      <td>6.7</td>\n",
       "      <td>11628.0</td>\n",
       "      <td>5000000.0</td>\n",
       "      <td>6352306.0</td>\n",
       "      <td>6.653715e+06</td>\n",
       "      <td>2018-09-21</td>\n",
       "      <td>9</td>\n",
       "      <td>$6,653,715</td>\n",
       "    </tr>\n",
       "    <tr>\n",
       "      <th>1339</th>\n",
       "      <td>tt9024106</td>\n",
       "      <td>Unplanned</td>\n",
       "      <td>Unplanned</td>\n",
       "      <td>Unplanned</td>\n",
       "      <td>2019</td>\n",
       "      <td>106.0</td>\n",
       "      <td>Biography,Drama</td>\n",
       "      <td>6.3</td>\n",
       "      <td>5945.0</td>\n",
       "      <td>6000000.0</td>\n",
       "      <td>18107621.0</td>\n",
       "      <td>1.810762e+07</td>\n",
       "      <td>2019-03-29</td>\n",
       "      <td>3</td>\n",
       "      <td>$18,107,621</td>\n",
       "    </tr>\n",
       "  </tbody>\n",
       "</table>\n",
       "<p>1340 rows × 15 columns</p>\n",
       "</div>"
      ],
      "text/plain": [
       "       movie_id                             title_x  \\\n",
       "0     tt0249516                          Foodfight!   \n",
       "1     tt0359950     The Secret Life of Walter Mitty   \n",
       "2     tt0365907         A Walk Among the Tombstones   \n",
       "3     tt0369610                   Jurassic World 3D   \n",
       "4     tt0376136  Hunter S. Thompson's The Rum Diary   \n",
       "...         ...                                 ...   \n",
       "1335  tt8155288                  Happy Death Day 2U   \n",
       "1336  tt8266310                Blinded by the Light   \n",
       "1337  tt8364368                               Crawl   \n",
       "1338  tt8632862                     Fahrenheit 11/9   \n",
       "1339  tt9024106                           Unplanned   \n",
       "\n",
       "                        primary_title                   original_title  \\\n",
       "0                          Foodfight!                       Foodfight!   \n",
       "1     The Secret Life of Walter Mitty  The Secret Life of Walter Mitty   \n",
       "2         A Walk Among the Tombstones      A Walk Among the Tombstones   \n",
       "3                      Jurassic World                   Jurassic World   \n",
       "4                       The Rum Diary                    The Rum Diary   \n",
       "...                               ...                              ...   \n",
       "1335               Happy Death Day 2U               Happy Death Day 2U   \n",
       "1336             Blinded by the Light             Blinded by the Light   \n",
       "1337                            Crawl                            Crawl   \n",
       "1338                  Fahrenheit 11/9                  Fahrenheit 11/9   \n",
       "1339                        Unplanned                        Unplanned   \n",
       "\n",
       "      start_year  runtime_minutes                   genres  averagerating  \\\n",
       "0           2012             91.0  Action,Animation,Comedy            1.9   \n",
       "1           2013            114.0   Adventure,Comedy,Drama            7.3   \n",
       "2           2014            114.0       Action,Crime,Drama            6.5   \n",
       "3           2015            124.0  Action,Adventure,Sci-Fi            7.0   \n",
       "4           2011            119.0             Comedy,Drama            6.2   \n",
       "...          ...              ...                      ...            ...   \n",
       "1335        2019            100.0     Drama,Horror,Mystery            6.3   \n",
       "1336        2019            117.0   Biography,Comedy,Drama            6.2   \n",
       "1337        2019              NaN   Action,Horror,Thriller            NaN   \n",
       "1338        2018            128.0              Documentary            6.7   \n",
       "1339        2019            106.0          Biography,Drama            6.3   \n",
       "\n",
       "      numvotes  production_budget  domestic_gross  worldwide_gross  \\\n",
       "0       8248.0         45000000.0             0.0     7.370600e+04   \n",
       "1     275300.0         91000000.0      58236838.0     1.878612e+08   \n",
       "2     105116.0         28000000.0      26017685.0     6.210859e+07   \n",
       "3     539338.0        215000000.0     652270625.0     1.648855e+09   \n",
       "4      94787.0         45000000.0      13109815.0     2.154473e+07   \n",
       "...        ...                ...             ...              ...   \n",
       "1335   27462.0          9000000.0      28051045.0     6.417950e+07   \n",
       "1336     173.0         15000000.0             0.0     0.000000e+00   \n",
       "1337       NaN         17000000.0             0.0     0.000000e+00   \n",
       "1338   11628.0          5000000.0       6352306.0     6.653715e+06   \n",
       "1339    5945.0          6000000.0      18107621.0     1.810762e+07   \n",
       "\n",
       "     Release_Date_Time  month gross_formatted  \n",
       "0           2012-12-31     12         $73,706  \n",
       "1           2013-12-25     12    $187,861,183  \n",
       "2           2014-09-19      9     $62,108,587  \n",
       "3           2015-06-12      6  $1,648,854,864  \n",
       "4           2011-10-28     10     $21,544,732  \n",
       "...                ...    ...             ...  \n",
       "1335        2019-02-13      2     $64,179,495  \n",
       "1336        2019-08-14      8              $0  \n",
       "1337        2019-07-12      7              $0  \n",
       "1338        2018-09-21      9      $6,653,715  \n",
       "1339        2019-03-29      3     $18,107,621  \n",
       "\n",
       "[1340 rows x 15 columns]"
      ]
     },
     "execution_count": 125,
     "metadata": {},
     "output_type": "execute_result"
    }
   ],
   "source": [
    "#movies_profit['profit'].map(\"{:,.0f}\".format)\n",
    "movies['gross_formatted']= '$'+ movies['worldwide_gross'].map('{:,.0f}'.format)\n",
    "movies"
   ]
  },
  {
   "cell_type": "markdown",
   "metadata": {},
   "source": [
    "##  Plotting Gross Per Movie Per Month "
   ]
  },
  {
   "cell_type": "code",
   "execution_count": 126,
   "metadata": {},
   "outputs": [
    {
     "data": {
      "image/png": "[encoded data removed]",
      "text/plain": [
       "<Figure size 576x360 with 1 Axes>"
      ]
     },
     "metadata": {
      "needs_background": "light"
     },
     "output_type": "display_data"
    }
   ],
   "source": [
    "\n",
    "month_gross = movies.groupby(movies.month)['worldwide_gross'].mean()\n",
    "y = month_gross.values.tolist()\n",
    "x = month_gross.index.tolist()\n",
    "# Now, let's plot two variables from the iris dataset\n",
    "bar_chart_title = 'Average Gross Per Movie Per Month'\n",
    "bar_chart_y_label = 'Average Gross'\n",
    "bar_chart_x_label = 'Month'\n",
    "\n",
    "fig, ax = plt.subplots(figsize=(8, 5))\n",
    "\n",
    "\n",
    "ax.bar(x=x, height= y, width=0.75, \n",
    "       color= ('orange', 'orange', 'orange', 'orange', 'blue', \n",
    "               'blue', 'blue', 'orange', 'orange', 'orange','blue'), \n",
    "       tick_label=(\"Jan\", \"Feb\", \"Mar\", \"Apr\", \"May\", \"Jun\", \"Jul\",\n",
    "                 \"Aug\", \"Sep\", \"Oct\", \"Nov\", \"Dec\"))\n",
    "       \n",
    "\n",
    "plt.title(bar_chart_title)\n",
    "ax.set_xlabel(bar_chart_x_label)\n",
    "ax.set_ylabel(bar_chart_y_label);\n",
    "ax.ticklabel_format(axis = 'y', style= 'plain' )\n",
    "ax.yaxis.set_major_formatter(StrMethodFormatter('${x:,.0f}'));\n",
    "\n"
   ]
  },
  {
   "cell_type": "markdown",
   "metadata": {},
   "source": [
    "### Key takeaways:\n",
    "- Highest average gross is in the summer months (May - July) and November\n",
    "- School is off in the summer which means more downtime and people need to get out and do something (i.e. like seeing a movie)\n",
    "- Presumably reason for dip in August is due to most people going on vacation during the august month. Additionally, in more western parts of the US school begins again as early as august which would lead to a drop.\n",
    "- November sees a high gross as well since this is when Award show season is coming to a close and often the movies looking to receive awards release at the end of the season so that they are at the top of peoples minds\n",
    "    - This also correlates with why January is such a low Worldwide Gross because the great movies do not want to   be released in the beginning of the year and then be forgotten about by the time people are casting their votes\n"
   ]
  },
  {
   "cell_type": "markdown",
   "metadata": {},
   "source": [
    "### Diving in a bit deeper\n",
    "- Digging into analysis of average gross per movie per month per year in order to see if there can be takeaways from here as well\n",
    "- The graph below shows average gross per movie per year"
   ]
  },
  {
   "cell_type": "code",
   "execution_count": 127,
   "metadata": {},
   "outputs": [
    {
     "data": {
      "image/png": "[encoded data removed]",
      "text/plain": [
       "<Figure size 576x360 with 1 Axes>"
      ]
     },
     "metadata": {
      "needs_background": "light"
     },
     "output_type": "display_data"
    }
   ],
   "source": [
    "#graph below showing average gross per movie per year\n",
    "year_gross = movies.groupby(movies.start_year)['worldwide_gross'].mean()\n",
    "\n",
    "y = year_gross.values.tolist()\n",
    "x = year_gross.index.tolist()\n",
    "# Now, let's plotting the two variables \n",
    "bar_chart_title = 'Average Gross Per Movie Per Year'\n",
    "bar_chart_y_label = 'Gross'\n",
    "bar_chart_x_label = 'Year'\n",
    "\n",
    "fig, ax = plt.subplots(figsize=(8, 5))\n",
    "\n",
    "ax.bar(x=x, height= y, width=0.75)\n",
    "       \n",
    "\n",
    "plt.title(bar_chart_title)\n",
    "ax.set_xlabel(bar_chart_x_label)\n",
    "ax.set_ylabel(bar_chart_y_label);\n",
    "\n",
    "#formatting the ticks\n",
    "ax.ticklabel_format(axis = 'y', style= 'plain', )\n",
    "ax.yaxis.set_major_formatter(StrMethodFormatter('${x:,.0f}'))\n"
   ]
  },
  {
   "cell_type": "code",
   "execution_count": 128,
   "metadata": {
    "scrolled": false
   },
   "outputs": [
    {
     "data": {
      "text/html": [
       "<div>\n",
       "<style scoped>\n",
       "    .dataframe tbody tr th:only-of-type {\n",
       "        vertical-align: middle;\n",
       "    }\n",
       "\n",
       "    .dataframe tbody tr th {\n",
       "        vertical-align: top;\n",
       "    }\n",
       "\n",
       "    .dataframe thead th {\n",
       "        text-align: right;\n",
       "    }\n",
       "</style>\n",
       "<table border=\"1\" class=\"dataframe\">\n",
       "  <thead>\n",
       "    <tr style=\"text-align: right;\">\n",
       "      <th></th>\n",
       "      <th></th>\n",
       "      <th>worldwide_gross</th>\n",
       "    </tr>\n",
       "    <tr>\n",
       "      <th>month</th>\n",
       "      <th>start_year</th>\n",
       "      <th></th>\n",
       "    </tr>\n",
       "  </thead>\n",
       "  <tbody>\n",
       "    <tr>\n",
       "      <th rowspan=\"5\" valign=\"top\">1</th>\n",
       "      <th>2010</th>\n",
       "      <td>7.386000e+07</td>\n",
       "    </tr>\n",
       "    <tr>\n",
       "      <th>2011</th>\n",
       "      <td>1.189247e+08</td>\n",
       "    </tr>\n",
       "    <tr>\n",
       "      <th>2012</th>\n",
       "      <td>6.125140e+07</td>\n",
       "    </tr>\n",
       "    <tr>\n",
       "      <th>2013</th>\n",
       "      <td>6.089032e+07</td>\n",
       "    </tr>\n",
       "    <tr>\n",
       "      <th>2014</th>\n",
       "      <td>8.553710e+07</td>\n",
       "    </tr>\n",
       "    <tr>\n",
       "      <th>...</th>\n",
       "      <th>...</th>\n",
       "      <td>...</td>\n",
       "    </tr>\n",
       "    <tr>\n",
       "      <th rowspan=\"5\" valign=\"top\">12</th>\n",
       "      <th>2015</th>\n",
       "      <td>7.391002e+07</td>\n",
       "    </tr>\n",
       "    <tr>\n",
       "      <th>2016</th>\n",
       "      <td>1.888847e+08</td>\n",
       "    </tr>\n",
       "    <tr>\n",
       "      <th>2017</th>\n",
       "      <td>1.820814e+08</td>\n",
       "    </tr>\n",
       "    <tr>\n",
       "      <th>2018</th>\n",
       "      <td>1.790776e+08</td>\n",
       "    </tr>\n",
       "    <tr>\n",
       "      <th>2019</th>\n",
       "      <td>0.000000e+00</td>\n",
       "    </tr>\n",
       "  </tbody>\n",
       "</table>\n",
       "<p>120 rows × 1 columns</p>\n",
       "</div>"
      ],
      "text/plain": [
       "                  worldwide_gross\n",
       "month start_year                 \n",
       "1     2010           7.386000e+07\n",
       "      2011           1.189247e+08\n",
       "      2012           6.125140e+07\n",
       "      2013           6.089032e+07\n",
       "      2014           8.553710e+07\n",
       "...                           ...\n",
       "12    2015           7.391002e+07\n",
       "      2016           1.888847e+08\n",
       "      2017           1.820814e+08\n",
       "      2018           1.790776e+08\n",
       "      2019           0.000000e+00\n",
       "\n",
       "[120 rows x 1 columns]"
      ]
     },
     "execution_count": 128,
     "metadata": {},
     "output_type": "execute_result"
    }
   ],
   "source": [
    "#creating a new data table specifically for the analysis of looking at average gross per movie per month per year \n",
    "\n",
    "grouped_df = movies.groupby(['month','start_year']).agg({'worldwide_gross': 'mean'})\n",
    "grouped_df\n"
   ]
  },
  {
   "cell_type": "code",
   "execution_count": 129,
   "metadata": {},
   "outputs": [],
   "source": [
    "#resetting the index in order to create the month column and be able to create a unique agregate column\n",
    "#in the next cell block \n",
    "\n",
    "grouped_df.reset_index(inplace = True) "
   ]
  },
  {
   "cell_type": "code",
   "execution_count": 130,
   "metadata": {},
   "outputs": [],
   "source": [
    "grouped_df['year_month'] = grouped_df['start_year'].astype(str) + \"-\" + grouped_df['month'].astype(str)"
   ]
  },
  {
   "cell_type": "code",
   "execution_count": 131,
   "metadata": {},
   "outputs": [
    {
     "data": {
      "text/html": [
       "<div>\n",
       "<style scoped>\n",
       "    .dataframe tbody tr th:only-of-type {\n",
       "        vertical-align: middle;\n",
       "    }\n",
       "\n",
       "    .dataframe tbody tr th {\n",
       "        vertical-align: top;\n",
       "    }\n",
       "\n",
       "    .dataframe thead th {\n",
       "        text-align: right;\n",
       "    }\n",
       "</style>\n",
       "<table border=\"1\" class=\"dataframe\">\n",
       "  <thead>\n",
       "    <tr style=\"text-align: right;\">\n",
       "      <th></th>\n",
       "      <th>month</th>\n",
       "      <th>start_year</th>\n",
       "      <th>worldwide_gross</th>\n",
       "      <th>year_month</th>\n",
       "    </tr>\n",
       "  </thead>\n",
       "  <tbody>\n",
       "    <tr>\n",
       "      <th>0</th>\n",
       "      <td>1</td>\n",
       "      <td>2010</td>\n",
       "      <td>7.386000e+07</td>\n",
       "      <td>2010-1</td>\n",
       "    </tr>\n",
       "    <tr>\n",
       "      <th>1</th>\n",
       "      <td>1</td>\n",
       "      <td>2011</td>\n",
       "      <td>1.189247e+08</td>\n",
       "      <td>2011-1</td>\n",
       "    </tr>\n",
       "    <tr>\n",
       "      <th>2</th>\n",
       "      <td>1</td>\n",
       "      <td>2012</td>\n",
       "      <td>6.125140e+07</td>\n",
       "      <td>2012-1</td>\n",
       "    </tr>\n",
       "    <tr>\n",
       "      <th>3</th>\n",
       "      <td>1</td>\n",
       "      <td>2013</td>\n",
       "      <td>6.089032e+07</td>\n",
       "      <td>2013-1</td>\n",
       "    </tr>\n",
       "    <tr>\n",
       "      <th>4</th>\n",
       "      <td>1</td>\n",
       "      <td>2014</td>\n",
       "      <td>8.553710e+07</td>\n",
       "      <td>2014-1</td>\n",
       "    </tr>\n",
       "    <tr>\n",
       "      <th>...</th>\n",
       "      <td>...</td>\n",
       "      <td>...</td>\n",
       "      <td>...</td>\n",
       "      <td>...</td>\n",
       "    </tr>\n",
       "    <tr>\n",
       "      <th>115</th>\n",
       "      <td>12</td>\n",
       "      <td>2015</td>\n",
       "      <td>7.391002e+07</td>\n",
       "      <td>2015-12</td>\n",
       "    </tr>\n",
       "    <tr>\n",
       "      <th>116</th>\n",
       "      <td>12</td>\n",
       "      <td>2016</td>\n",
       "      <td>1.888847e+08</td>\n",
       "      <td>2016-12</td>\n",
       "    </tr>\n",
       "    <tr>\n",
       "      <th>117</th>\n",
       "      <td>12</td>\n",
       "      <td>2017</td>\n",
       "      <td>1.820814e+08</td>\n",
       "      <td>2017-12</td>\n",
       "    </tr>\n",
       "    <tr>\n",
       "      <th>118</th>\n",
       "      <td>12</td>\n",
       "      <td>2018</td>\n",
       "      <td>1.790776e+08</td>\n",
       "      <td>2018-12</td>\n",
       "    </tr>\n",
       "    <tr>\n",
       "      <th>119</th>\n",
       "      <td>12</td>\n",
       "      <td>2019</td>\n",
       "      <td>0.000000e+00</td>\n",
       "      <td>2019-12</td>\n",
       "    </tr>\n",
       "  </tbody>\n",
       "</table>\n",
       "<p>120 rows × 4 columns</p>\n",
       "</div>"
      ],
      "text/plain": [
       "     month  start_year  worldwide_gross year_month\n",
       "0        1        2010     7.386000e+07     2010-1\n",
       "1        1        2011     1.189247e+08     2011-1\n",
       "2        1        2012     6.125140e+07     2012-1\n",
       "3        1        2013     6.089032e+07     2013-1\n",
       "4        1        2014     8.553710e+07     2014-1\n",
       "..     ...         ...              ...        ...\n",
       "115     12        2015     7.391002e+07    2015-12\n",
       "116     12        2016     1.888847e+08    2016-12\n",
       "117     12        2017     1.820814e+08    2017-12\n",
       "118     12        2018     1.790776e+08    2018-12\n",
       "119     12        2019     0.000000e+00    2019-12\n",
       "\n",
       "[120 rows x 4 columns]"
      ]
     },
     "execution_count": 131,
     "metadata": {},
     "output_type": "execute_result"
    }
   ],
   "source": [
    "grouped_df #showing what is in dataset grouped d_f"
   ]
  },
  {
   "cell_type": "code",
   "execution_count": 132,
   "metadata": {},
   "outputs": [],
   "source": [
    "#creating indvidual variables in order to create line chart for better visualization\n",
    "y2010 = grouped_df.loc[grouped_df['start_year'] == 2010]\n",
    "y2011 = grouped_df.loc[grouped_df['start_year'] == 2011]\n",
    "y2012 = grouped_df.loc[grouped_df['start_year'] == 2012]\n",
    "y2013 = grouped_df.loc[grouped_df['start_year'] == 2013]\n",
    "y2014 = grouped_df.loc[grouped_df['start_year'] == 2014]\n",
    "y2015 = grouped_df.loc[grouped_df['start_year'] == 2015]\n",
    "y2016 = grouped_df.loc[grouped_df['start_year'] == 2016]\n",
    "y2017 = grouped_df.loc[grouped_df['start_year'] == 2017]\n",
    "y2018 = grouped_df.loc[grouped_df['start_year'] == 2018]\n",
    "y2019 = grouped_df.loc[grouped_df['start_year'] == 2019]\n"
   ]
  },
  {
   "cell_type": "code",
   "execution_count": 133,
   "metadata": {},
   "outputs": [
    {
     "data": {
      "image/png": "[encoded data removed]",
      "text/plain": [
       "<Figure size 576x360 with 1 Axes>"
      ]
     },
     "metadata": {
      "needs_background": "light"
     },
     "output_type": "display_data"
    }
   ],
   "source": [
    "#creating line chart\n",
    "fig,ax = plt.subplots(figsize=(8, 5))\n",
    "ax.plot(y2010['month'], y2010['worldwide_gross'])\n",
    "ax.plot(y2011['month'], y2011['worldwide_gross'])\n",
    "ax.plot(y2012['month'], y2012['worldwide_gross'])\n",
    "ax.plot(y2013['month'], y2013['worldwide_gross'])\n",
    "ax.plot(y2014['month'], y2014['worldwide_gross'])\n",
    "ax.plot(y2015['month'], y2015['worldwide_gross'])\n",
    "ax.plot(y2016['month'], y2016['worldwide_gross'])\n",
    "ax.plot(y2017['month'], y2017['worldwide_gross'])\n",
    "ax.plot(y2018['month'], y2018['worldwide_gross'])\n",
    "#ax.plot(y2019['month'], y2019['worldwide_gross']) \n",
    "\n",
    "#formatting tick labels\n",
    "ax.ticklabel_format(axis = 'y', style= 'plain' )\n",
    "#plt.xticks([\"Jan\", \"Feb\", \"Mar\", \"Apr\", \"May\", \"Jun\", \"Jul\",\n",
    "                 #\"Aug\", \"Sep\", \"Oct\", \"Nov\", \"Dec\"])\n",
    "plt.title(\"Average Worldwide Gross Movie Per Year Per Month\")\n",
    "ax.set_xlabel(\"Month\")\n",
    "ax.set_ylabel(\"Worldwide Gross\");\n",
    "\n",
    "ax.yaxis.set_major_formatter(StrMethodFormatter('${x:,.0f}'))\n",
    "\n",
    "\n",
    "#adding in index\n",
    "ax.legend([\"2010\",\"2011\",\"2012\", \"2013\", \"2014\", \"2015\", \"2016\", \"2017\", \"2018\", \"2019\"]);"
   ]
  },
  {
   "cell_type": "markdown",
   "metadata": {},
   "source": [
    "### Another way to visualize each individual year per month movie average:\n",
    "- This way is very clunky and therefore deemed it unusable"
   ]
  },
  {
   "cell_type": "code",
   "execution_count": 134,
   "metadata": {
    "scrolled": true
   },
   "outputs": [],
   "source": [
    "x= grouped_df['year_month']"
   ]
  },
  {
   "cell_type": "code",
   "execution_count": 135,
   "metadata": {
    "scrolled": false
   },
   "outputs": [
    {
     "data": {
      "text/plain": [
       "<BarContainer object of 120 artists>"
      ]
     },
     "execution_count": 135,
     "metadata": {},
     "output_type": "execute_result"
    },
    {
     "data": {
      "image/png": "[encoded data removed]",
      "text/plain": [
       "<Figure size 576x360 with 1 Axes>"
      ]
     },
     "metadata": {
      "needs_background": "light"
     },
     "output_type": "display_data"
    }
   ],
   "source": [
    "fig, ax = plt.subplots(figsize=(8, 5))\n",
    "\n",
    "ax.bar(x= x, height = grouped_df['worldwide_gross'])"
   ]
  },
  {
   "cell_type": "markdown",
   "metadata": {},
   "source": [
    "After analyzing the above graphs, it is clear that the optimal time to release movies is summer months or November. We next looked at Genre trends to see if there is a best category to produce, once realeasing in the given timeframe. "
   ]
  },
  {
   "cell_type": "markdown",
   "metadata": {},
   "source": [
    "---"
   ]
  },
  {
   "cell_type": "markdown",
   "metadata": {},
   "source": [
    "# 3.2 Genre Trends\n",
    "- Looking into whether seperate genre's see higher profitability"
   ]
  },
  {
   "cell_type": "code",
   "execution_count": 136,
   "metadata": {},
   "outputs": [],
   "source": [
    "#converting dataset to SQL to filter/drop columns easily\n",
    "full_movies_Max = full_movies_df.to_sql('genres', con, if_exists='replace', index = False)"
   ]
  },
  {
   "cell_type": "code",
   "execution_count": 137,
   "metadata": {},
   "outputs": [],
   "source": [
    "#Using tables that are unique and useful\n",
    "full_movies = pd.read_sql('''\n",
    "SELECT movie_id, primary_title, genres, start_year, runtime_minutes,\n",
    "        averagerating, numvotes, production_budget, worldwide_gross\n",
    "FROM genres \n",
    "''', con)"
   ]
  },
  {
   "cell_type": "code",
   "execution_count": 138,
   "metadata": {},
   "outputs": [
    {
     "data": {
      "image/png": "[encoded data removed]",
      "text/plain": [
       "<Figure size 432x288 with 1 Axes>"
      ]
     },
     "metadata": {
      "needs_background": "light"
     },
     "output_type": "display_data"
    }
   ],
   "source": [
    "#boxplot of 'worldwide_gross' to find the best measure of central tendency\n",
    "full_movies[\"worldwide_gross\"].plot(kind=\"box\", title=\"Box plot of Gross\")\n",
    "plt.show()"
   ]
  },
  {
   "cell_type": "code",
   "execution_count": 139,
   "metadata": {},
   "outputs": [
    {
     "data": {
      "text/plain": [
       "Adventure,Animation,Comedy    65\n",
       "Action,Adventure,Sci-Fi       52\n",
       "Comedy                        51\n",
       "Drama                         49\n",
       "Comedy,Drama,Romance          49\n",
       "                              ..\n",
       "Comedy,Mystery,Thriller        1\n",
       "Comedy,Sport                   1\n",
       "Action,Biography,Comedy        1\n",
       "Comedy,Sci-Fi                  1\n",
       "Drama,Mystery                  1\n",
       "Name: genres, Length: 217, dtype: int64"
      ]
     },
     "execution_count": 139,
     "metadata": {},
     "output_type": "execute_result"
    }
   ],
   "source": [
    "full_movies['genres'].value_counts()"
   ]
  },
  {
   "cell_type": "code",
   "execution_count": 140,
   "metadata": {},
   "outputs": [],
   "source": [
    "# spliting the genres column up so that each movie has an entry for each genre listed\n",
    "\n",
    "genres = (full_movies.genres.str.split(',', expand=True)\n",
    "            .stack()\n",
    "            .to_frame(name='genres'))\n",
    "\n",
    "genres.index = genres.index.droplevel(1)\n"
   ]
  },
  {
   "cell_type": "code",
   "execution_count": 141,
   "metadata": {
    "scrolled": true
   },
   "outputs": [],
   "source": [
    "# creating a new df by merging new columns back on the data set grouped by the median based off of box plot\n",
    "genre_gross = (genres.join(full_movies.loc[:,['worldwide_gross']]).groupby('genres').median().sort_values('worldwide_gross', ascending=False))"
   ]
  },
  {
   "cell_type": "code",
   "execution_count": 142,
   "metadata": {},
   "outputs": [],
   "source": [
    "#adding an index to new df because I don't know how to graph using the index as the x-axis\n",
    "genre_gross_df = genre_gross.reset_index()"
   ]
  },
  {
   "cell_type": "code",
   "execution_count": 143,
   "metadata": {
    "scrolled": true
   },
   "outputs": [
    {
     "data": {
      "image/png": "[encoded data removed]",
      "text/plain": [
       "<Figure size 1152x576 with 1 Axes>"
      ]
     },
     "metadata": {
      "needs_background": "light"
     },
     "output_type": "display_data"
    }
   ],
   "source": [
    "plt.rcParams['font.family'] = 'monospace'\n",
    "\n",
    "x = genre_gross_df['genres'].head(10)\n",
    "height= genre_gross_df['worldwide_gross'].head(10)\n",
    "fig, ax = plt.subplots(figsize=(16,8))\n",
    "\n",
    "\n",
    "color=['blue', 'blue', 'blue', 'orange', 'orange', 'orange', 'orange', 'orange', 'orange', 'orange']\n",
    "ax.bar(x=x, height=height, color=color)\n",
    "\n",
    "\n",
    "plt.title(\"Top Performing Genres\", fontsize=20, loc='center', weight='bold')\n",
    "ax.set_xlabel('Top Grossing Genres', fontsize=16, weight='bold')\n",
    "\n",
    "ax.set_ylabel('Average Revenue', fontsize=15, rotation=360, weight='bold', loc='center')\n",
    "ax.ticklabel_format(style='plain', axis='y')\n",
    "\n",
    "ax.tick_params(axis='y', which='major', labelsize=16)\n",
    "ax.tick_params(axis='x', labelsize=13)\n",
    "\n",
    "ax.yaxis.set_label_coords(-0.1, 0.5)\n",
    "ax.yaxis.set_major_formatter(StrMethodFormatter('${x:,}'))\n",
    "\n",
    "plt.tight_layout(pad = 2.0)\n",
    "plt.savefig('top_genres.jpg', dpi=400)"
   ]
  },
  {
   "cell_type": "code",
   "execution_count": 174,
   "metadata": {
    "scrolled": true
   },
   "outputs": [],
   "source": [
    "top_genres = pd.read_sql('''\n",
    "SELECT primary_title, movie_id, production_budget, worldwide_gross, month, genres\n",
    "FROM genres\n",
    "WHERE genres LIKE '%Adventure%Animation%' or genres LIKE '%Adventure%Sci-FI%'or genres LIKE '%Animation%Sci-FI%' or genres LIKE '%Adventure%Animation%Sci-FI%' \n",
    "or genres like '%Adventure%' or genres LIKE '%Animation%' or genres LIKE '%Sci-FI%'\n",
    "ORDER BY worldwide_gross desc\n",
    "''', con)"
   ]
  },
  {
   "cell_type": "code",
   "execution_count": 175,
   "metadata": {},
   "outputs": [],
   "source": [
    "top_10_full_genres = top_genres.groupby('genres')['worldwide_gross'].median().reset_index()\n",
    "top_10_full_genres.columns = ['genres', 'median_gross']\n",
    "top_10_full_genres.sort_values(by='median_gross', ascending=False, inplace=True)"
   ]
  },
  {
   "cell_type": "code",
   "execution_count": 176,
   "metadata": {},
   "outputs": [
    {
     "data": {
      "text/html": [
       "<div>\n",
       "<style scoped>\n",
       "    .dataframe tbody tr th:only-of-type {\n",
       "        vertical-align: middle;\n",
       "    }\n",
       "\n",
       "    .dataframe tbody tr th {\n",
       "        vertical-align: top;\n",
       "    }\n",
       "\n",
       "    .dataframe thead th {\n",
       "        text-align: right;\n",
       "    }\n",
       "</style>\n",
       "<table border=\"1\" class=\"dataframe\">\n",
       "  <thead>\n",
       "    <tr style=\"text-align: right;\">\n",
       "      <th></th>\n",
       "      <th>genres</th>\n",
       "      <th>median_gross</th>\n",
       "    </tr>\n",
       "  </thead>\n",
       "  <tbody>\n",
       "    <tr>\n",
       "      <th>45</th>\n",
       "      <td>Adventure,Fantasy</td>\n",
       "      <td>945577621.0</td>\n",
       "    </tr>\n",
       "    <tr>\n",
       "      <th>40</th>\n",
       "      <td>Adventure,Drama,Sci-Fi</td>\n",
       "      <td>660825409.0</td>\n",
       "    </tr>\n",
       "    <tr>\n",
       "      <th>10</th>\n",
       "      <td>Action,Adventure,Sci-Fi</td>\n",
       "      <td>560913841.0</td>\n",
       "    </tr>\n",
       "    <tr>\n",
       "      <th>1</th>\n",
       "      <td>Action,Adventure,Animation</td>\n",
       "      <td>507064637.5</td>\n",
       "    </tr>\n",
       "    <tr>\n",
       "      <th>50</th>\n",
       "      <td>Animation,Comedy,Family</td>\n",
       "      <td>469500298.0</td>\n",
       "    </tr>\n",
       "    <tr>\n",
       "      <th>47</th>\n",
       "      <td>Adventure,Mystery,Sci-Fi</td>\n",
       "      <td>402448265.0</td>\n",
       "    </tr>\n",
       "    <tr>\n",
       "      <th>3</th>\n",
       "      <td>Action,Adventure,Comedy</td>\n",
       "      <td>385851714.5</td>\n",
       "    </tr>\n",
       "    <tr>\n",
       "      <th>19</th>\n",
       "      <td>Action,Sci-Fi</td>\n",
       "      <td>370541256.0</td>\n",
       "    </tr>\n",
       "    <tr>\n",
       "      <th>18</th>\n",
       "      <td>Action,Mystery,Sci-Fi</td>\n",
       "      <td>348319861.0</td>\n",
       "    </tr>\n",
       "    <tr>\n",
       "      <th>43</th>\n",
       "      <td>Adventure,Family,Fantasy</td>\n",
       "      <td>345004422.0</td>\n",
       "    </tr>\n",
       "  </tbody>\n",
       "</table>\n",
       "</div>"
      ],
      "text/plain": [
       "                        genres  median_gross\n",
       "45           Adventure,Fantasy   945577621.0\n",
       "40      Adventure,Drama,Sci-Fi   660825409.0\n",
       "10     Action,Adventure,Sci-Fi   560913841.0\n",
       "1   Action,Adventure,Animation   507064637.5\n",
       "50     Animation,Comedy,Family   469500298.0\n",
       "47    Adventure,Mystery,Sci-Fi   402448265.0\n",
       "3      Action,Adventure,Comedy   385851714.5\n",
       "19               Action,Sci-Fi   370541256.0\n",
       "18       Action,Mystery,Sci-Fi   348319861.0\n",
       "43    Adventure,Family,Fantasy   345004422.0"
      ]
     },
     "execution_count": 176,
     "metadata": {},
     "output_type": "execute_result"
    }
   ],
   "source": [
    "top_10_full_genres.head(10)"
   ]
  },
  {
   "cell_type": "code",
   "execution_count": 177,
   "metadata": {
    "scrolled": true
   },
   "outputs": [
    {
     "data": {
      "image/png": "[encoded data removed]",
      "text/plain": [
       "<Figure size 1152x864 with 1 Axes>"
      ]
     },
     "metadata": {
      "needs_background": "light"
     },
     "output_type": "display_data"
    }
   ],
   "source": [
    "#Plotting the ACTUAL top genres\n",
    "\n",
    "plt.rcParams['font.family'] = 'monospace'\n",
    "\n",
    "x = top_10_full_genres['genres'].head(10)\n",
    "height= top_10_full_genres['median_gross'].head(10)\n",
    "fig, ax = plt.subplots(figsize=(16,12))\n",
    "\n",
    "\n",
    "\n",
    "ax.bar(x=x, height=height, color='blue')\n",
    "\n",
    "\n",
    "plt.title(\"Top Performing Genres\", fontsize=20, loc='center', weight='bold')\n",
    "ax.set_xlabel('Top Grossing Genres', fontsize=16, weight='bold')\n",
    "\n",
    "ax.set_ylabel('Average Revenue', fontsize=15, rotation=360, weight='bold', loc='center')\n",
    "ax.ticklabel_format(style='plain', axis='y')\n",
    "\n",
    "ax.tick_params(axis='y', which='major', labelsize=16)\n",
    "ax.tick_params(axis='x', labelsize=12, rotation = 90)\n",
    "\n",
    "ax.yaxis.set_label_coords(-0.1, 0.5)\n",
    "ax.yaxis.set_major_formatter(StrMethodFormatter('${x:,}'))\n",
    "\n",
    "plt.tight_layout(pad = 2.0)\n",
    "plt.savefig('top_genres.jpg', dpi=400)"
   ]
  },
  {
   "cell_type": "code",
   "execution_count": 178,
   "metadata": {
    "scrolled": true
   },
   "outputs": [
    {
     "data": {
      "text/html": [
       "<div>\n",
       "<style scoped>\n",
       "    .dataframe tbody tr th:only-of-type {\n",
       "        vertical-align: middle;\n",
       "    }\n",
       "\n",
       "    .dataframe tbody tr th {\n",
       "        vertical-align: top;\n",
       "    }\n",
       "\n",
       "    .dataframe thead th {\n",
       "        text-align: right;\n",
       "    }\n",
       "</style>\n",
       "<table border=\"1\" class=\"dataframe\">\n",
       "  <thead>\n",
       "    <tr style=\"text-align: right;\">\n",
       "      <th></th>\n",
       "      <th>primary_title</th>\n",
       "      <th>movie_id</th>\n",
       "      <th>production_budget</th>\n",
       "      <th>worldwide_gross</th>\n",
       "      <th>month</th>\n",
       "      <th>genres</th>\n",
       "    </tr>\n",
       "  </thead>\n",
       "  <tbody>\n",
       "    <tr>\n",
       "      <th>0</th>\n",
       "      <td>Avengers: Infinity War</td>\n",
       "      <td>tt4154756</td>\n",
       "      <td>300000000.0</td>\n",
       "      <td>2.048134e+09</td>\n",
       "      <td>4</td>\n",
       "      <td>Action,Adventure,Sci-Fi</td>\n",
       "    </tr>\n",
       "    <tr>\n",
       "      <th>1</th>\n",
       "      <td>Jurassic World</td>\n",
       "      <td>tt0369610</td>\n",
       "      <td>215000000.0</td>\n",
       "      <td>1.648855e+09</td>\n",
       "      <td>6</td>\n",
       "      <td>Action,Adventure,Sci-Fi</td>\n",
       "    </tr>\n",
       "    <tr>\n",
       "      <th>2</th>\n",
       "      <td>The Avengers</td>\n",
       "      <td>tt0848228</td>\n",
       "      <td>225000000.0</td>\n",
       "      <td>1.517936e+09</td>\n",
       "      <td>5</td>\n",
       "      <td>Action,Adventure,Sci-Fi</td>\n",
       "    </tr>\n",
       "    <tr>\n",
       "      <th>3</th>\n",
       "      <td>Avengers: Age of Ultron</td>\n",
       "      <td>tt2395427</td>\n",
       "      <td>330600000.0</td>\n",
       "      <td>1.403014e+09</td>\n",
       "      <td>5</td>\n",
       "      <td>Action,Adventure,Sci-Fi</td>\n",
       "    </tr>\n",
       "    <tr>\n",
       "      <th>4</th>\n",
       "      <td>Black Panther</td>\n",
       "      <td>tt1825683</td>\n",
       "      <td>200000000.0</td>\n",
       "      <td>1.348258e+09</td>\n",
       "      <td>2</td>\n",
       "      <td>Action,Adventure,Sci-Fi</td>\n",
       "    </tr>\n",
       "  </tbody>\n",
       "</table>\n",
       "</div>"
      ],
      "text/plain": [
       "             primary_title   movie_id  production_budget  worldwide_gross  \\\n",
       "0   Avengers: Infinity War  tt4154756        300000000.0     2.048134e+09   \n",
       "1           Jurassic World  tt0369610        215000000.0     1.648855e+09   \n",
       "2             The Avengers  tt0848228        225000000.0     1.517936e+09   \n",
       "3  Avengers: Age of Ultron  tt2395427        330600000.0     1.403014e+09   \n",
       "4            Black Panther  tt1825683        200000000.0     1.348258e+09   \n",
       "\n",
       "   month                   genres  \n",
       "0      4  Action,Adventure,Sci-Fi  \n",
       "1      6  Action,Adventure,Sci-Fi  \n",
       "2      5  Action,Adventure,Sci-Fi  \n",
       "3      5  Action,Adventure,Sci-Fi  \n",
       "4      2  Action,Adventure,Sci-Fi  "
      ]
     },
     "execution_count": 178,
     "metadata": {},
     "output_type": "execute_result"
    }
   ],
   "source": [
    "top_genres.head()"
   ]
  },
  {
   "cell_type": "markdown",
   "metadata": {},
   "source": [
    "### Key Takeaways:\n",
    "\n",
    "In order to get a better picture of how genre effects worldwide gross I needed to isolate individual genres so that I could apply a central tendancy to the 'worldwide_gross' of each genre and plot the results to show the average best performing genres.\n",
    "\n",
    "The plot shows that Animation, Adventure, and Sci-FI are, on average, the highest performing genres and will typically generate the highest revenue. This does not show the whole picture for genres. To understand the actual highest performing genres we have to look at the genres that have combinations of these three genres.\n",
    "\n",
    "So knowing what the top 3 performing genres are I filtered our data set to show the, full genres (movies use multiple genres to define they're move). Doing this I found that the top 3 full genres for worldwide gross revenue is\n",
    "\n",
    "We next looked at Productions trends to see if there is a best budget to give to produce, once realeasing in the given timeframe and Genre"
   ]
  },
  {
   "cell_type": "markdown",
   "metadata": {},
   "source": [
    "---"
   ]
  },
  {
   "cell_type": "markdown",
   "metadata": {},
   "source": [
    "# 3.3 Production Budget"
   ]
  },
  {
   "cell_type": "markdown",
   "metadata": {},
   "source": [
    "## Droping excess columns\n",
    "- All movies are already in US region and for that reason we are dropping region\n",
    "- We are removing extra title columns\n",
    "- Release date and start year not needed for this analysis"
   ]
  },
  {
   "cell_type": "code",
   "execution_count": 148,
   "metadata": {},
   "outputs": [],
   "source": [
    "full_movies_K = full_movies_df.drop(labels =['start_year','Release_Date_Time'] , axis = 1)"
   ]
  },
  {
   "cell_type": "code",
   "execution_count": 149,
   "metadata": {},
   "outputs": [
    {
     "data": {
      "text/plain": [
       "dtype('float64')"
      ]
     },
     "execution_count": 149,
     "metadata": {},
     "output_type": "execute_result"
    }
   ],
   "source": [
    "# Check columns dtype\n",
    "full_movies_K['worldwide_gross'].dtype"
   ]
  },
  {
   "cell_type": "markdown",
   "metadata": {},
   "source": [
    "<font color='red'>Make new Df where gross and budget has no zeroes"
   ]
  },
  {
   "cell_type": "code",
   "execution_count": 150,
   "metadata": {},
   "outputs": [
    {
     "data": {
      "text/html": [
       "<div>\n",
       "<style scoped>\n",
       "    .dataframe tbody tr th:only-of-type {\n",
       "        vertical-align: middle;\n",
       "    }\n",
       "\n",
       "    .dataframe tbody tr th {\n",
       "        vertical-align: top;\n",
       "    }\n",
       "\n",
       "    .dataframe thead th {\n",
       "        text-align: right;\n",
       "    }\n",
       "</style>\n",
       "<table border=\"1\" class=\"dataframe\">\n",
       "  <thead>\n",
       "    <tr style=\"text-align: right;\">\n",
       "      <th></th>\n",
       "      <th>movie_id</th>\n",
       "      <th>title_x</th>\n",
       "      <th>primary_title</th>\n",
       "      <th>original_title</th>\n",
       "      <th>runtime_minutes</th>\n",
       "      <th>genres</th>\n",
       "      <th>averagerating</th>\n",
       "      <th>numvotes</th>\n",
       "      <th>production_budget</th>\n",
       "      <th>domestic_gross</th>\n",
       "      <th>worldwide_gross</th>\n",
       "      <th>month</th>\n",
       "      <th>gross_formatted</th>\n",
       "    </tr>\n",
       "  </thead>\n",
       "  <tbody>\n",
       "    <tr>\n",
       "      <th>0</th>\n",
       "      <td>tt0249516</td>\n",
       "      <td>Foodfight!</td>\n",
       "      <td>Foodfight!</td>\n",
       "      <td>Foodfight!</td>\n",
       "      <td>91.0</td>\n",
       "      <td>Action,Animation,Comedy</td>\n",
       "      <td>1.9</td>\n",
       "      <td>8248.0</td>\n",
       "      <td>45000000.0</td>\n",
       "      <td>0.0</td>\n",
       "      <td>7.370600e+04</td>\n",
       "      <td>12</td>\n",
       "      <td>$73,706</td>\n",
       "    </tr>\n",
       "    <tr>\n",
       "      <th>1</th>\n",
       "      <td>tt0359950</td>\n",
       "      <td>The Secret Life of Walter Mitty</td>\n",
       "      <td>The Secret Life of Walter Mitty</td>\n",
       "      <td>The Secret Life of Walter Mitty</td>\n",
       "      <td>114.0</td>\n",
       "      <td>Adventure,Comedy,Drama</td>\n",
       "      <td>7.3</td>\n",
       "      <td>275300.0</td>\n",
       "      <td>91000000.0</td>\n",
       "      <td>58236838.0</td>\n",
       "      <td>1.878612e+08</td>\n",
       "      <td>12</td>\n",
       "      <td>$187,861,183</td>\n",
       "    </tr>\n",
       "    <tr>\n",
       "      <th>2</th>\n",
       "      <td>tt0365907</td>\n",
       "      <td>A Walk Among the Tombstones</td>\n",
       "      <td>A Walk Among the Tombstones</td>\n",
       "      <td>A Walk Among the Tombstones</td>\n",
       "      <td>114.0</td>\n",
       "      <td>Action,Crime,Drama</td>\n",
       "      <td>6.5</td>\n",
       "      <td>105116.0</td>\n",
       "      <td>28000000.0</td>\n",
       "      <td>26017685.0</td>\n",
       "      <td>6.210859e+07</td>\n",
       "      <td>9</td>\n",
       "      <td>$62,108,587</td>\n",
       "    </tr>\n",
       "    <tr>\n",
       "      <th>3</th>\n",
       "      <td>tt0369610</td>\n",
       "      <td>Jurassic World 3D</td>\n",
       "      <td>Jurassic World</td>\n",
       "      <td>Jurassic World</td>\n",
       "      <td>124.0</td>\n",
       "      <td>Action,Adventure,Sci-Fi</td>\n",
       "      <td>7.0</td>\n",
       "      <td>539338.0</td>\n",
       "      <td>215000000.0</td>\n",
       "      <td>652270625.0</td>\n",
       "      <td>1.648855e+09</td>\n",
       "      <td>6</td>\n",
       "      <td>$1,648,854,864</td>\n",
       "    </tr>\n",
       "    <tr>\n",
       "      <th>4</th>\n",
       "      <td>tt0376136</td>\n",
       "      <td>Hunter S. Thompson's The Rum Diary</td>\n",
       "      <td>The Rum Diary</td>\n",
       "      <td>The Rum Diary</td>\n",
       "      <td>119.0</td>\n",
       "      <td>Comedy,Drama</td>\n",
       "      <td>6.2</td>\n",
       "      <td>94787.0</td>\n",
       "      <td>45000000.0</td>\n",
       "      <td>13109815.0</td>\n",
       "      <td>2.154473e+07</td>\n",
       "      <td>10</td>\n",
       "      <td>$21,544,732</td>\n",
       "    </tr>\n",
       "    <tr>\n",
       "      <th>...</th>\n",
       "      <td>...</td>\n",
       "      <td>...</td>\n",
       "      <td>...</td>\n",
       "      <td>...</td>\n",
       "      <td>...</td>\n",
       "      <td>...</td>\n",
       "      <td>...</td>\n",
       "      <td>...</td>\n",
       "      <td>...</td>\n",
       "      <td>...</td>\n",
       "      <td>...</td>\n",
       "      <td>...</td>\n",
       "      <td>...</td>\n",
       "    </tr>\n",
       "    <tr>\n",
       "      <th>1333</th>\n",
       "      <td>tt7784604</td>\n",
       "      <td>Hereditary</td>\n",
       "      <td>Hereditary</td>\n",
       "      <td>Hereditary</td>\n",
       "      <td>127.0</td>\n",
       "      <td>Drama,Horror,Mystery</td>\n",
       "      <td>7.3</td>\n",
       "      <td>151571.0</td>\n",
       "      <td>10000000.0</td>\n",
       "      <td>44069456.0</td>\n",
       "      <td>7.013390e+07</td>\n",
       "      <td>6</td>\n",
       "      <td>$70,133,905</td>\n",
       "    </tr>\n",
       "    <tr>\n",
       "      <th>1334</th>\n",
       "      <td>tt7959026</td>\n",
       "      <td>The Mule</td>\n",
       "      <td>The Mule</td>\n",
       "      <td>The Mule</td>\n",
       "      <td>116.0</td>\n",
       "      <td>Crime,Drama,Thriller</td>\n",
       "      <td>7.1</td>\n",
       "      <td>58955.0</td>\n",
       "      <td>50000000.0</td>\n",
       "      <td>103804407.0</td>\n",
       "      <td>1.708577e+08</td>\n",
       "      <td>12</td>\n",
       "      <td>$170,857,676</td>\n",
       "    </tr>\n",
       "    <tr>\n",
       "      <th>1335</th>\n",
       "      <td>tt8155288</td>\n",
       "      <td>Happy Death Day 2U</td>\n",
       "      <td>Happy Death Day 2U</td>\n",
       "      <td>Happy Death Day 2U</td>\n",
       "      <td>100.0</td>\n",
       "      <td>Drama,Horror,Mystery</td>\n",
       "      <td>6.3</td>\n",
       "      <td>27462.0</td>\n",
       "      <td>9000000.0</td>\n",
       "      <td>28051045.0</td>\n",
       "      <td>6.417950e+07</td>\n",
       "      <td>2</td>\n",
       "      <td>$64,179,495</td>\n",
       "    </tr>\n",
       "    <tr>\n",
       "      <th>1338</th>\n",
       "      <td>tt8632862</td>\n",
       "      <td>Fahrenheit 11/9</td>\n",
       "      <td>Fahrenheit 11/9</td>\n",
       "      <td>Fahrenheit 11/9</td>\n",
       "      <td>128.0</td>\n",
       "      <td>Documentary</td>\n",
       "      <td>6.7</td>\n",
       "      <td>11628.0</td>\n",
       "      <td>5000000.0</td>\n",
       "      <td>6352306.0</td>\n",
       "      <td>6.653715e+06</td>\n",
       "      <td>9</td>\n",
       "      <td>$6,653,715</td>\n",
       "    </tr>\n",
       "    <tr>\n",
       "      <th>1339</th>\n",
       "      <td>tt9024106</td>\n",
       "      <td>Unplanned</td>\n",
       "      <td>Unplanned</td>\n",
       "      <td>Unplanned</td>\n",
       "      <td>106.0</td>\n",
       "      <td>Biography,Drama</td>\n",
       "      <td>6.3</td>\n",
       "      <td>5945.0</td>\n",
       "      <td>6000000.0</td>\n",
       "      <td>18107621.0</td>\n",
       "      <td>1.810762e+07</td>\n",
       "      <td>3</td>\n",
       "      <td>$18,107,621</td>\n",
       "    </tr>\n",
       "  </tbody>\n",
       "</table>\n",
       "<p>1239 rows × 13 columns</p>\n",
       "</div>"
      ],
      "text/plain": [
       "       movie_id                             title_x  \\\n",
       "0     tt0249516                          Foodfight!   \n",
       "1     tt0359950     The Secret Life of Walter Mitty   \n",
       "2     tt0365907         A Walk Among the Tombstones   \n",
       "3     tt0369610                   Jurassic World 3D   \n",
       "4     tt0376136  Hunter S. Thompson's The Rum Diary   \n",
       "...         ...                                 ...   \n",
       "1333  tt7784604                          Hereditary   \n",
       "1334  tt7959026                            The Mule   \n",
       "1335  tt8155288                  Happy Death Day 2U   \n",
       "1338  tt8632862                     Fahrenheit 11/9   \n",
       "1339  tt9024106                           Unplanned   \n",
       "\n",
       "                        primary_title                   original_title  \\\n",
       "0                          Foodfight!                       Foodfight!   \n",
       "1     The Secret Life of Walter Mitty  The Secret Life of Walter Mitty   \n",
       "2         A Walk Among the Tombstones      A Walk Among the Tombstones   \n",
       "3                      Jurassic World                   Jurassic World   \n",
       "4                       The Rum Diary                    The Rum Diary   \n",
       "...                               ...                              ...   \n",
       "1333                       Hereditary                       Hereditary   \n",
       "1334                         The Mule                         The Mule   \n",
       "1335               Happy Death Day 2U               Happy Death Day 2U   \n",
       "1338                  Fahrenheit 11/9                  Fahrenheit 11/9   \n",
       "1339                        Unplanned                        Unplanned   \n",
       "\n",
       "      runtime_minutes                   genres  averagerating  numvotes  \\\n",
       "0                91.0  Action,Animation,Comedy            1.9    8248.0   \n",
       "1               114.0   Adventure,Comedy,Drama            7.3  275300.0   \n",
       "2               114.0       Action,Crime,Drama            6.5  105116.0   \n",
       "3               124.0  Action,Adventure,Sci-Fi            7.0  539338.0   \n",
       "4               119.0             Comedy,Drama            6.2   94787.0   \n",
       "...               ...                      ...            ...       ...   \n",
       "1333            127.0     Drama,Horror,Mystery            7.3  151571.0   \n",
       "1334            116.0     Crime,Drama,Thriller            7.1   58955.0   \n",
       "1335            100.0     Drama,Horror,Mystery            6.3   27462.0   \n",
       "1338            128.0              Documentary            6.7   11628.0   \n",
       "1339            106.0          Biography,Drama            6.3    5945.0   \n",
       "\n",
       "      production_budget  domestic_gross  worldwide_gross  month  \\\n",
       "0            45000000.0             0.0     7.370600e+04     12   \n",
       "1            91000000.0      58236838.0     1.878612e+08     12   \n",
       "2            28000000.0      26017685.0     6.210859e+07      9   \n",
       "3           215000000.0     652270625.0     1.648855e+09      6   \n",
       "4            45000000.0      13109815.0     2.154473e+07     10   \n",
       "...                 ...             ...              ...    ...   \n",
       "1333         10000000.0      44069456.0     7.013390e+07      6   \n",
       "1334         50000000.0     103804407.0     1.708577e+08     12   \n",
       "1335          9000000.0      28051045.0     6.417950e+07      2   \n",
       "1338          5000000.0       6352306.0     6.653715e+06      9   \n",
       "1339          6000000.0      18107621.0     1.810762e+07      3   \n",
       "\n",
       "     gross_formatted  \n",
       "0            $73,706  \n",
       "1       $187,861,183  \n",
       "2        $62,108,587  \n",
       "3     $1,648,854,864  \n",
       "4        $21,544,732  \n",
       "...              ...  \n",
       "1333     $70,133,905  \n",
       "1334    $170,857,676  \n",
       "1335     $64,179,495  \n",
       "1338      $6,653,715  \n",
       "1339     $18,107,621  \n",
       "\n",
       "[1239 rows x 13 columns]"
      ]
     },
     "execution_count": 150,
     "metadata": {},
     "output_type": "execute_result"
    }
   ],
   "source": [
    "full_movies_profit_df = full_movies_K.loc[full_movies_K['production_budget']!= 0].loc[full_movies_K['worldwide_gross']!=0]\n",
    "full_movies_profit_df"
   ]
  },
  {
   "cell_type": "markdown",
   "metadata": {},
   "source": [
    "<font color='red'>Create profit column"
   ]
  },
  {
   "cell_type": "code",
   "execution_count": 151,
   "metadata": {},
   "outputs": [],
   "source": [
    "full_movies_profit_df['profit'] = full_movies_profit_df['worldwide_gross'] - full_movies_profit_df['production_budget']\n"
   ]
  },
  {
   "cell_type": "markdown",
   "metadata": {},
   "source": [
    "<font color='red'>Create profit_margin column"
   ]
  },
  {
   "cell_type": "code",
   "execution_count": 152,
   "metadata": {},
   "outputs": [],
   "source": [
    "full_movies_profit_df['profit_margin'] = (full_movies_profit_df['profit'] / full_movies_profit_df['worldwide_gross']) * 100\n"
   ]
  },
  {
   "cell_type": "code",
   "execution_count": 153,
   "metadata": {},
   "outputs": [
    {
     "data": {
      "text/plain": [
       "(1239, 15)"
      ]
     },
     "execution_count": 153,
     "metadata": {},
     "output_type": "execute_result"
    }
   ],
   "source": [
    "full_movies_profit_df.shape"
   ]
  },
  {
   "cell_type": "code",
   "execution_count": 154,
   "metadata": {},
   "outputs": [
    {
     "name": "stdout",
     "output_type": "stream",
     "text": [
      "<class 'pandas.core.frame.DataFrame'>\n",
      "Int64Index: 1239 entries, 0 to 1339\n",
      "Data columns (total 15 columns):\n",
      " #   Column             Non-Null Count  Dtype  \n",
      "---  ------             --------------  -----  \n",
      " 0   movie_id           1239 non-null   object \n",
      " 1   title_x            1239 non-null   object \n",
      " 2   primary_title      1239 non-null   object \n",
      " 3   original_title     1239 non-null   object \n",
      " 4   runtime_minutes    1236 non-null   float64\n",
      " 5   genres             1239 non-null   object \n",
      " 6   averagerating      1228 non-null   float64\n",
      " 7   numvotes           1228 non-null   float64\n",
      " 8   production_budget  1239 non-null   float64\n",
      " 9   domestic_gross     1239 non-null   float64\n",
      " 10  worldwide_gross    1239 non-null   float64\n",
      " 11  month              1239 non-null   int64  \n",
      " 12  gross_formatted    1239 non-null   object \n",
      " 13  profit             1239 non-null   float64\n",
      " 14  profit_margin      1239 non-null   float64\n",
      "dtypes: float64(8), int64(1), object(6)\n",
      "memory usage: 154.9+ KB\n"
     ]
    }
   ],
   "source": [
    "full_movies_profit_df.info()"
   ]
  },
  {
   "cell_type": "markdown",
   "metadata": {},
   "source": [
    "## Note on Profit and Profit Margin \n",
    "Profit and profit margin were both calculated in this however it is in accurate and misleading. Production Budget represents the budget allocated for filming. This can be exceed and while this is rare the greater issue is that production budget does not include additional expenses. These can be costs to show movie in theaters, marketing, promotion. The Numbers has estimated these expenses to be in the hundreds of millions for large budget films like Frozen. All charts and plots using profit and profit margin were removed if used in a misleading context."
   ]
  },
  {
   "cell_type": "markdown",
   "metadata": {},
   "source": [
    "## <font color='blue'> Ploting production budget to worldwide gross revenue\n",
    "This plot shows a scatter plot between production budget and worldwide gross revenue."
   ]
  },
  {
   "cell_type": "code",
   "execution_count": 155,
   "metadata": {},
   "outputs": [
    {
     "name": "stdout",
     "output_type": "stream",
     "text": [
      "Slope: 0.18367026494941158\n",
      "Intercept: 20705038.327014334\n",
      "Correlation: (r) 0.7764641907664722\n"
     ]
    },
    {
     "data": {
      "image/png": "[encoded data removed]",
      "text/plain": [
       "<Figure size 1080x576 with 1 Axes>"
      ]
     },
     "metadata": {
      "needs_background": "light"
     },
     "output_type": "display_data"
    }
   ],
   "source": [
    "y = full_movies_profit_df['production_budget']\n",
    "x = full_movies_profit_df['worldwide_gross']\n",
    "fig, ax = plt.subplots(figsize=(15,8))\n",
    "\n",
    "\n",
    "ax.scatter(x,y,alpha=0.5)\n",
    "\n",
    "\n",
    "ax.set_xlabel(\"Worldwide Gross Revenue ($)\")\n",
    "ax.set_ylabel(\"Production Budget ($)\")\n",
    "ax.set_title(\"Production Budget vs. Worldwide Gross Revenue \");\n",
    "# Removing scientific notation\n",
    "ax.ticklabel_format(useOffset=False, style='plain')\n",
    "\n",
    "# Set the major formatter and use fstring notation to adjust the axes\n",
    "ax.xaxis.set_major_formatter(StrMethodFormatter('{x:,.0f}'))\n",
    "ax.yaxis.set_major_formatter(StrMethodFormatter('{x:,.0f}'))\n",
    "\n",
    "slope, intercept, r, p, se = linregress(x,y)\n",
    "lin_r = linregress(x, y)\n",
    "plt.plot(x, lin_r.intercept + lin_r.slope*x, 'r')\n",
    "\n",
    "print('Slope:', slope)\n",
    "print('Intercept:', intercept)\n",
    "print('Correlation: (r)', r)\n",
    "plt.savefig('./Keanan_plots/budget_wwgross_scatter.png', dpi=100)"
   ]
  },
  {
   "cell_type": "markdown",
   "metadata": {},
   "source": [
    "## Creating bins and finding mean of each bin\n",
    "\n",
    "I created 5 bins that represent the 25th to 75th quintile. The 6th bin are outliers and includes the majority of the movies and doesn't skew the data. The reason for using 5 bins is due to the impact of outliers on a bin if bin size was reduced and number of bins increased. Each bin represents a budget range. The plot shows that mean production budget increases at a relativly linear rate. While mean worldwide gross revenue increases at more of a exponential rate. The relatinoship of this means that highe rbudgets ismorelikley to yield higher worldwide gross revenues. Based on this Microsoft should aim for a production budget greater then 65 million. "
   ]
  },
  {
   "cell_type": "code",
   "execution_count": 156,
   "metadata": {},
   "outputs": [
    {
     "name": "stderr",
     "output_type": "stream",
     "text": [
      "<ipython-input-156-a8fec1f0e306>:36: UserWarning: FixedFormatter should only be used together with FixedLocator\n",
      "  ax.set_xticklabels(['11M-21.8M',\n"
     ]
    },
    {
     "data": {
      "image/png": "[encoded data removed]",
      "text/plain": [
       "<Figure size 1080x576 with 1 Axes>"
      ]
     },
     "metadata": {
      "needs_background": "light"
     },
     "output_type": "display_data"
    }
   ],
   "source": [
    "q1 = np.percentile(full_movies_profit_df[\"production_budget\"],25)\n",
    "q3 = np.percentile(full_movies_profit_df[\"production_budget\"],75)\n",
    "iqr = q3 - q1\n",
    "\n",
    "bin_width = iqr / 5\n",
    "# make array of bin edges, start = q1, stop = q3 +1 , count by bin_width)\n",
    "bin_edge = np.arange(q1, q3+1, bin_width)\n",
    "\n",
    "# .cut to make bins\n",
    "full_movies_profit_df['budget_range'] = pd.cut(full_movies_profit_df['production_budget'], bins= bin_edge)\n",
    "\n",
    "# casting budget_range as str\n",
    "full_movies_profit_df['budget_range'] = full_movies_profit_df['budget_range'].astype(str)\n",
    "\n",
    "\n",
    "# Creating new DF using groupby and agg\n",
    "grouped_full_movies_profit_df = full_movies_profit_df.groupby('budget_range').agg(\n",
    "    {'worldwide_gross': 'mean', \n",
    "     'production_budget': 'mean'}).reset_index()\n",
    "\n",
    "# adjust fig size\n",
    "fig, ax = plt.subplots(figsize=(15,8))\n",
    "\n",
    "#creating stacked bar\n",
    "ax.bar(grouped_full_movies_profit_df['budget_range'],grouped_full_movies_profit_df['worldwide_gross'],\n",
    "       width=0.8,\n",
    "       label='Mean Worldwide Gross Revenue')\n",
    "ax.bar(grouped_full_movies_profit_df['budget_range'],grouped_full_movies_profit_df['production_budget'],\n",
    "       width=0.8,\n",
    "       label='Mean Production Budget')\n",
    "\n",
    "ax.ticklabel_format(style='plain', axis='y')\n",
    "ax.yaxis.set_major_formatter(FuncFormatter(lambda x, pos: f'{x/1e6:.0f}M'))\n",
    "\n",
    "\n",
    "ax.set_xticklabels(['11M-21.8M',\n",
    "                    '21.8M-32.6M',\n",
    "                    '32.6M-43.4M',\n",
    "                    '43.4M-54.2M',\n",
    "                    '54.2M-65M',\n",
    "                    '65M-410M'])\n",
    "\n",
    "for tick in ax.xaxis.get_major_ticks():\n",
    "    tick.label.set_fontsize(15)\n",
    "    \n",
    "for tick in ax.yaxis.get_major_ticks():\n",
    "    tick.label.set_fontsize(15)\n",
    "ax.set_xlabel(\"Production Budget Range ($M)\", fontsize=15)\n",
    "ax.set_ylabel(\"worldwide Gross Revenue ($)\",fontsize=15)\n",
    "ax.set_title(\"Mean Production Budget and Worldwide Gross Revenue\\n\",\n",
    "             fontsize=15,\n",
    "             fontweight='bold')\n",
    "ax.legend(fontsize=12);\n",
    "plt.savefig('./Keanan_plots/Budget_revenue.png', dpi=100)"
   ]
  },
  {
   "cell_type": "markdown",
   "metadata": {},
   "source": [
    "### Checking bin accuracy and information\n",
    "- bin edges\n",
    "- bin sizes\n",
    "- film counts in each bin\n",
    "- production budget in each range"
   ]
  },
  {
   "cell_type": "code",
   "execution_count": 157,
   "metadata": {},
   "outputs": [
    {
     "data": {
      "text/plain": [
       "array([11000000., 21800000., 32600000., 43400000., 54200000., 65000000.])"
      ]
     },
     "execution_count": 157,
     "metadata": {},
     "output_type": "execute_result"
    }
   ],
   "source": [
    "bin_edge"
   ]
  },
  {
   "cell_type": "code",
   "execution_count": 158,
   "metadata": {},
   "outputs": [
    {
     "data": {
      "text/plain": [
       "nan                         619\n",
       "(11000000.0, 21800000.0]    201\n",
       "(21800000.0, 32600000.0]    157\n",
       "(32600000.0, 43400000.0]    131\n",
       "(54200000.0, 65000000.0]     68\n",
       "(43400000.0, 54200000.0]     63\n",
       "Name: budget_range, dtype: int64"
      ]
     },
     "execution_count": 158,
     "metadata": {},
     "output_type": "execute_result"
    }
   ],
   "source": [
    "full_movies_profit_df['budget_range'].value_counts()"
   ]
  },
  {
   "cell_type": "code",
   "execution_count": 159,
   "metadata": {},
   "outputs": [
    {
     "data": {
      "text/plain": [
       "698         25000.0\n",
       "1175        27000.0\n",
       "586         40000.0\n",
       "457         50000.0\n",
       "1179        50000.0\n",
       "           ...     \n",
       "879     300000000.0\n",
       "109     300000000.0\n",
       "890     330600000.0\n",
       "1303    350000000.0\n",
       "277     410600000.0\n",
       "Name: production_budget, Length: 1239, dtype: float64"
      ]
     },
     "execution_count": 159,
     "metadata": {},
     "output_type": "execute_result"
    }
   ],
   "source": [
    "full_movies_profit_df['production_budget'].sort_values()"
   ]
  },
  {
   "cell_type": "code",
   "execution_count": 160,
   "metadata": {},
   "outputs": [
    {
     "data": {
      "text/html": [
       "<div>\n",
       "<style scoped>\n",
       "    .dataframe tbody tr th:only-of-type {\n",
       "        vertical-align: middle;\n",
       "    }\n",
       "\n",
       "    .dataframe tbody tr th {\n",
       "        vertical-align: top;\n",
       "    }\n",
       "\n",
       "    .dataframe thead th {\n",
       "        text-align: right;\n",
       "    }\n",
       "</style>\n",
       "<table border=\"1\" class=\"dataframe\">\n",
       "  <thead>\n",
       "    <tr style=\"text-align: right;\">\n",
       "      <th></th>\n",
       "      <th>budget_range</th>\n",
       "      <th>worldwide_gross</th>\n",
       "      <th>production_budget</th>\n",
       "    </tr>\n",
       "  </thead>\n",
       "  <tbody>\n",
       "    <tr>\n",
       "      <th>0</th>\n",
       "      <td>(11000000.0, 21800000.0]</td>\n",
       "      <td>6.457803e+07</td>\n",
       "      <td>1.659851e+07</td>\n",
       "    </tr>\n",
       "    <tr>\n",
       "      <th>1</th>\n",
       "      <td>(21800000.0, 32600000.0]</td>\n",
       "      <td>7.067657e+07</td>\n",
       "      <td>2.727389e+07</td>\n",
       "    </tr>\n",
       "    <tr>\n",
       "      <th>2</th>\n",
       "      <td>(32600000.0, 43400000.0]</td>\n",
       "      <td>1.008875e+08</td>\n",
       "      <td>3.768168e+07</td>\n",
       "    </tr>\n",
       "    <tr>\n",
       "      <th>3</th>\n",
       "      <td>(43400000.0, 54200000.0]</td>\n",
       "      <td>1.264816e+08</td>\n",
       "      <td>4.834444e+07</td>\n",
       "    </tr>\n",
       "    <tr>\n",
       "      <th>4</th>\n",
       "      <td>(54200000.0, 65000000.0]</td>\n",
       "      <td>1.835573e+08</td>\n",
       "      <td>5.982647e+07</td>\n",
       "    </tr>\n",
       "    <tr>\n",
       "      <th>5</th>\n",
       "      <td>nan</td>\n",
       "      <td>2.391777e+08</td>\n",
       "      <td>7.073225e+07</td>\n",
       "    </tr>\n",
       "  </tbody>\n",
       "</table>\n",
       "</div>"
      ],
      "text/plain": [
       "               budget_range  worldwide_gross  production_budget\n",
       "0  (11000000.0, 21800000.0]     6.457803e+07       1.659851e+07\n",
       "1  (21800000.0, 32600000.0]     7.067657e+07       2.727389e+07\n",
       "2  (32600000.0, 43400000.0]     1.008875e+08       3.768168e+07\n",
       "3  (43400000.0, 54200000.0]     1.264816e+08       4.834444e+07\n",
       "4  (54200000.0, 65000000.0]     1.835573e+08       5.982647e+07\n",
       "5                       nan     2.391777e+08       7.073225e+07"
      ]
     },
     "execution_count": 160,
     "metadata": {},
     "output_type": "execute_result"
    }
   ],
   "source": [
    "grouped_full_movies_profit_df"
   ]
  },
  {
   "cell_type": "markdown",
   "metadata": {},
   "source": [
    "## Plot showing best market\n",
    "\n",
    "This plot shows the international market produce signifcantly more revenue then Domestic. Therefore our focus is on a worldwide market"
   ]
  },
  {
   "cell_type": "code",
   "execution_count": 161,
   "metadata": {},
   "outputs": [
    {
     "data": {
      "image/png": "[encoded data removed]",
      "text/plain": [
       "<Figure size 432x288 with 1 Axes>"
      ]
     },
     "metadata": {
      "needs_background": "light"
     },
     "output_type": "display_data"
    }
   ],
   "source": [
    "fig, ax = plt.subplots(figsize=(6,4))\n",
    "\n",
    "ax.bar('Domestic',full_movies_profit_df['domestic_gross'].mean(),width=0.8)\n",
    "ax.bar('International',(full_movies_profit_df['worldwide_gross']- full_movies_profit_df['domestic_gross']).mean(),width=0.8)\n",
    "# ax.bar('Worldwide',(full_movies_profit_df['worldwide_gross']).mean(),width=0.8)\n",
    "\n",
    "ax.ticklabel_format(style='plain', axis='y')\n",
    "\n",
    "\n",
    "# ax.yaxis.set_major_formatter(StrMethodFormatter('{x:,.0f}M'))\n",
    "ax.yaxis.set_major_formatter(FuncFormatter(lambda x, pos: f'{x/1e6:.0f}M'))\n",
    "\n",
    "\n",
    "for tick in ax.xaxis.get_major_ticks():\n",
    "    tick.label.set_fontsize(15)\n",
    "    \n",
    "for tick in ax.yaxis.get_major_ticks():\n",
    "    tick.label.set_fontsize(15)\n",
    "ax.set_xlabel(\"Market\", fontsize=15)\n",
    "ax.set_ylabel(\"Mean Revenue ($)\",fontsize=15)\n",
    "ax.set_title(\"Mean Market Revenue Comparison\",fontsize=15,fontweight='bold');\n",
    "\n",
    "plt.savefig('./Keanan_plots/domestic_vs_Worldwide.png', dpi=100)"
   ]
  },
  {
   "cell_type": "markdown",
   "metadata": {},
   "source": [
    "## Further Analysis\n",
    "Below determines which key insight correlates highest with positive worldwide gross revenue\n",
    "worldwide gross will have the strongest correlation with itself and there must be ignored. Production budgets is the highest correlating variable to worldwide gross closley followed by genre."
   ]
  },
  {
   "cell_type": "code",
   "execution_count": 162,
   "metadata": {},
   "outputs": [
    {
     "name": "stderr",
     "output_type": "stream",
     "text": [
      "<ipython-input-162-8c1ac576cd7a>:18: UserWarning: FixedFormatter should only be used together with FixedLocator\n",
      "  ax.set_xticklabels(['Production Budget',\n"
     ]
    },
    {
     "data": {
      "image/png": "[encoded data removed]",
      "text/plain": [
       "<Figure size 432x288 with 2 Axes>"
      ]
     },
     "metadata": {
      "needs_background": "light"
     },
     "output_type": "display_data"
    },
    {
     "data": {
      "image/png": "[encoded data removed]",
      "text/plain": [
       "<Figure size 1080x432 with 1 Axes>"
      ]
     },
     "metadata": {
      "needs_background": "light"
     },
     "output_type": "display_data"
    }
   ],
   "source": [
    "#creating mean revenue per genre\n",
    "genre_mean_gross = full_movies_profit_df.groupby('genres')['worldwide_gross'].mean()\n",
    "full_movies_profit_df['genre_mean'] = full_movies_profit_df['genres'].map(genre_mean_gross)\n",
    "#creating mean revenue per month\n",
    "monthly_mean_gross = full_movies_profit_df.groupby('month').agg({'worldwide_gross': 'mean'}).reset_index()\n",
    "full_movies_profit_df['month_mean'] = full_movies_profit_df['month'].map(monthly_mean_gross.set_index('month')['worldwide_gross'])\n",
    "corr_cols =['runtime_minutes', 'averagerating', 'numvotes', 'production_budget', 'worldwide_gross','month_mean','genre_mean']\n",
    "corr_df = full_movies_profit_df[corr_cols]\n",
    "#Drop null values from corr_df (I checked before 11 null rows)\n",
    "corr_df_clean = corr_df.dropna()\n",
    "# create a correlation matrix\n",
    "corr_matrix = corr_df_clean.corr()\n",
    "# use seaborn to create heat map\n",
    "sns.heatmap(corr_matrix, annot=True);\n",
    "# create bar plot\n",
    "fig, ax = plt.subplots(figsize=(15,6))\n",
    "corr_matrix_sorted = corr_matrix['worldwide_gross'].sort_values(ascending=False)\n",
    "ax.set_xticklabels(['Production Budget',\n",
    "                    'Genre',\n",
    "                    'Number of Votes',\n",
    "                    'Run Time',\n",
    "                    'Average Rating',\n",
    "                   'Release Month'])\n",
    "ax.yaxis.set_major_formatter(StrMethodFormatter('{x:,.0f}'))\n",
    "ax.bar(corr_matrix_sorted.index[1:], corr_matrix_sorted.values[1:]*100)\n",
    "ax.set_xlabel('Movie Insights')\n",
    "ax.set_ylabel('Precent Correlation with Worldwide Gross (%)')\n",
    "ax.set_title('Correlation of Insights with Worldwide Gross');\n",
    "plt.savefig('./Keanan_plots/insight_corr.png', dpi=100)"
   ]
  },
  {
   "cell_type": "markdown",
   "metadata": {},
   "source": [
    "----"
   ]
  },
  {
   "cell_type": "markdown",
   "metadata": {},
   "source": [
    "#  <font color='blue'> 4. Conclusions and Recommendations\n",
    "This analysis lead to three reccommendations for considering the best movie production concepts that will result in a higher rate of success for Microsoft's new movie studio.\n",
    "\n",
    "\n",
    "#### Release movies during the months of May to July and the month of November:\n",
    "\n",
    "- Release movies during the months of May to July or in the Month of November. Based on our anaylsis of the average gross made from each movie per month, we reccommend Microsoft release movies either for summer viewing or at the end of the year for optimal award show winning potential.\n",
    "\n",
    "#### Create movies that are in the genre of 'Animated' 'Adventure' or 'Sci-Fi'\n",
    "\n",
    "- Based on an analysis of worldwide gross by genre, it was found that Animation, Adventure and Sci-Fi are the highest performing genres on average. However, it’s important to note that the top-performing movies often include a mix of different genres. So for the best results in terms of revenue generation, it is recommended to use a combination of at least two of these top three genres: Adventure, Animation and Sci-Fi.\n",
    "\n",
    "#### Set a budget for your movie of 65 million:\n",
    "\n",
    "- Based on our analysis, we suggest aiming for a production budget greater than $65 million to increase the likelihood of higher worldwide gross revenues. Additionally, our analysis shows that the international market produces significantly more revenue than domestic markets, so it may be beneficial to focus on a worldwide market. A higher production budget leads to a greater attention to the movie and greater opportunities. "
   ]
  },
  {
   "cell_type": "markdown",
   "metadata": {},
   "source": [
    "### Further analyses:\n",
    "We could yield additional insights to further improve operations at Microsoft Studios.\n",
    "\n",
    "- More insight into the effect of rating on movie success\n",
    "- More insight into the effect of cast and crew on movie success"
   ]
  },
  {
   "cell_type": "markdown",
   "metadata": {},
   "source": [
    "---"
   ]
  },
  {
   "cell_type": "markdown",
   "metadata": {},
   "source": [
    "# <font color='blue'> Some Additional Analysis: Adendum\n",
    "Reccommendation Based on Our Combined Insights\n",
    "- Testing out our combined recommendations"
   ]
  },
  {
   "cell_type": "code",
   "execution_count": 181,
   "metadata": {},
   "outputs": [],
   "source": [
    "full_movies_sql = full_movies_df.to_sql('genres', con, if_exists='replace', index = False)"
   ]
  },
  {
   "cell_type": "code",
   "execution_count": 182,
   "metadata": {},
   "outputs": [],
   "source": [
    "recomendation = pd.read_sql('''\n",
    "SELECT primary_title as title, movie_id, production_budget, worldwide_gross, month, genres\n",
    "FROM genres\n",
    "WHERE production_budget >= 65000000\n",
    "                AND (genres LIKE '%Adventure%Animation%' or genres LIKE '%Adventure%Sci-FI%'\n",
    "                or genres LIKE '%Animation%Sci-FI%' or genres LIKE '%Adventure%Animation%Sci-FI%')\n",
    "                AND month >= 5 \n",
    "                AND month <= 7\n",
    "                or month == 11\n",
    "ORDER BY worldwide_gross desc\n",
    "''', con)"
   ]
  },
  {
   "cell_type": "code",
   "execution_count": 183,
   "metadata": {
    "scrolled": true
   },
   "outputs": [
    {
     "data": {
      "image/png": "[encoded data removed]",
      "text/plain": [
       "<Figure size 1152x576 with 1 Axes>"
      ]
     },
     "metadata": {
      "needs_background": "light"
     },
     "output_type": "display_data"
    }
   ],
   "source": [
    "plt.rcParams['font.family'] = 'monospace'\n",
    "\n",
    "x = recomendation['title'].head(10)\n",
    "height= recomendation['worldwide_gross'].head(10)\n",
    "fig, ax = plt.subplots(figsize=(16,8))\n",
    "\n",
    "\n",
    "\n",
    "ax.bar(x=x, height=height, color= 'blue')\n",
    "\n",
    "\n",
    "plt.title(\"Example Movies\", fontsize=20, loc='center', weight='bold')\n",
    "ax.set_xlabel('Top Grossing Movies', fontsize=16, weight='bold')\n",
    "\n",
    "ax.set_ylabel('Average Revenue', fontsize=15, rotation=360, weight='bold', loc='center')\n",
    "ax.ticklabel_format(style='plain', axis='y')\n",
    "\n",
    "ax.tick_params(axis='y', which='major', labelsize=16)\n",
    "ax.tick_params(axis='x', labelsize=13, rotation = 90)\n",
    "\n",
    "ax.yaxis.set_label_coords(-0.1, 0.5)\n",
    "ax.yaxis.set_major_formatter(StrMethodFormatter('${x:,}'))\n",
    "\n",
    "plt.tight_layout()\n",
    "plt.savefig('example_reccomendations.jpg', dpi=400);"
   ]
  },
  {
   "cell_type": "code",
   "execution_count": 184,
   "metadata": {
    "scrolled": true
   },
   "outputs": [
    {
     "data": {
      "text/html": [
       "<div>\n",
       "<style scoped>\n",
       "    .dataframe tbody tr th:only-of-type {\n",
       "        vertical-align: middle;\n",
       "    }\n",
       "\n",
       "    .dataframe tbody tr th {\n",
       "        vertical-align: top;\n",
       "    }\n",
       "\n",
       "    .dataframe thead th {\n",
       "        text-align: right;\n",
       "    }\n",
       "</style>\n",
       "<table border=\"1\" class=\"dataframe\">\n",
       "  <thead>\n",
       "    <tr style=\"text-align: right;\">\n",
       "      <th></th>\n",
       "      <th>title</th>\n",
       "      <th>movie_id</th>\n",
       "      <th>production_budget</th>\n",
       "      <th>worldwide_gross</th>\n",
       "      <th>month</th>\n",
       "      <th>genres</th>\n",
       "    </tr>\n",
       "  </thead>\n",
       "  <tbody>\n",
       "    <tr>\n",
       "      <th>0</th>\n",
       "      <td>Jurassic World</td>\n",
       "      <td>tt0369610</td>\n",
       "      <td>215000000.0</td>\n",
       "      <td>1.648855e+09</td>\n",
       "      <td>6</td>\n",
       "      <td>Action,Adventure,Sci-Fi</td>\n",
       "    </tr>\n",
       "    <tr>\n",
       "      <th>1</th>\n",
       "      <td>The Avengers</td>\n",
       "      <td>tt0848228</td>\n",
       "      <td>225000000.0</td>\n",
       "      <td>1.517936e+09</td>\n",
       "      <td>5</td>\n",
       "      <td>Action,Adventure,Sci-Fi</td>\n",
       "    </tr>\n",
       "    <tr>\n",
       "      <th>2</th>\n",
       "      <td>Avengers: Age of Ultron</td>\n",
       "      <td>tt2395427</td>\n",
       "      <td>330600000.0</td>\n",
       "      <td>1.403014e+09</td>\n",
       "      <td>5</td>\n",
       "      <td>Action,Adventure,Sci-Fi</td>\n",
       "    </tr>\n",
       "    <tr>\n",
       "      <th>3</th>\n",
       "      <td>Jurassic World: Fallen Kingdom</td>\n",
       "      <td>tt4881806</td>\n",
       "      <td>170000000.0</td>\n",
       "      <td>1.305773e+09</td>\n",
       "      <td>6</td>\n",
       "      <td>Action,Adventure,Sci-Fi</td>\n",
       "    </tr>\n",
       "    <tr>\n",
       "      <th>4</th>\n",
       "      <td>Frozen</td>\n",
       "      <td>tt2294629</td>\n",
       "      <td>150000000.0</td>\n",
       "      <td>1.272470e+09</td>\n",
       "      <td>11</td>\n",
       "      <td>Adventure,Animation,Comedy</td>\n",
       "    </tr>\n",
       "    <tr>\n",
       "      <th>5</th>\n",
       "      <td>Incredibles 2</td>\n",
       "      <td>tt3606756</td>\n",
       "      <td>200000000.0</td>\n",
       "      <td>1.242521e+09</td>\n",
       "      <td>6</td>\n",
       "      <td>Action,Adventure,Animation</td>\n",
       "    </tr>\n",
       "    <tr>\n",
       "      <th>6</th>\n",
       "      <td>Iron Man 3</td>\n",
       "      <td>tt1300854</td>\n",
       "      <td>200000000.0</td>\n",
       "      <td>1.215392e+09</td>\n",
       "      <td>5</td>\n",
       "      <td>Action,Adventure,Sci-Fi</td>\n",
       "    </tr>\n",
       "    <tr>\n",
       "      <th>7</th>\n",
       "      <td>Minions</td>\n",
       "      <td>tt2293640</td>\n",
       "      <td>74000000.0</td>\n",
       "      <td>1.160336e+09</td>\n",
       "      <td>7</td>\n",
       "      <td>Adventure,Animation,Comedy</td>\n",
       "    </tr>\n",
       "    <tr>\n",
       "      <th>8</th>\n",
       "      <td>Captain America: Civil War</td>\n",
       "      <td>tt3498820</td>\n",
       "      <td>250000000.0</td>\n",
       "      <td>1.140069e+09</td>\n",
       "      <td>5</td>\n",
       "      <td>Action,Adventure,Sci-Fi</td>\n",
       "    </tr>\n",
       "    <tr>\n",
       "      <th>9</th>\n",
       "      <td>Transformers: Dark of the Moon</td>\n",
       "      <td>tt1399103</td>\n",
       "      <td>195000000.0</td>\n",
       "      <td>1.123791e+09</td>\n",
       "      <td>6</td>\n",
       "      <td>Action,Adventure,Sci-Fi</td>\n",
       "    </tr>\n",
       "  </tbody>\n",
       "</table>\n",
       "</div>"
      ],
      "text/plain": [
       "                            title   movie_id  production_budget  \\\n",
       "0                  Jurassic World  tt0369610        215000000.0   \n",
       "1                    The Avengers  tt0848228        225000000.0   \n",
       "2         Avengers: Age of Ultron  tt2395427        330600000.0   \n",
       "3  Jurassic World: Fallen Kingdom  tt4881806        170000000.0   \n",
       "4                          Frozen  tt2294629        150000000.0   \n",
       "5                   Incredibles 2  tt3606756        200000000.0   \n",
       "6                      Iron Man 3  tt1300854        200000000.0   \n",
       "7                         Minions  tt2293640         74000000.0   \n",
       "8      Captain America: Civil War  tt3498820        250000000.0   \n",
       "9  Transformers: Dark of the Moon  tt1399103        195000000.0   \n",
       "\n",
       "   worldwide_gross  month                      genres  \n",
       "0     1.648855e+09      6     Action,Adventure,Sci-Fi  \n",
       "1     1.517936e+09      5     Action,Adventure,Sci-Fi  \n",
       "2     1.403014e+09      5     Action,Adventure,Sci-Fi  \n",
       "3     1.305773e+09      6     Action,Adventure,Sci-Fi  \n",
       "4     1.272470e+09     11  Adventure,Animation,Comedy  \n",
       "5     1.242521e+09      6  Action,Adventure,Animation  \n",
       "6     1.215392e+09      5     Action,Adventure,Sci-Fi  \n",
       "7     1.160336e+09      7  Adventure,Animation,Comedy  \n",
       "8     1.140069e+09      5     Action,Adventure,Sci-Fi  \n",
       "9     1.123791e+09      6     Action,Adventure,Sci-Fi  "
      ]
     },
     "execution_count": 184,
     "metadata": {},
     "output_type": "execute_result"
    }
   ],
   "source": [
    "recomendation.head(10)"
   ]
  }
 ],
 "metadata": {
  "kernelspec": {
   "display_name": "Python (learn-env)",
   "language": "python",
   "name": "learn-env"
  },
  "language_info": {
   "codemirror_mode": {
    "name": "ipython",
    "version": 3
   },
   "file_extension": ".py",
   "mimetype": "text/x-python",
   "name": "python",
   "nbconvert_exporter": "python",
   "pygments_lexer": "ipython3",
   "version": "3.8.5"
  }
 },
 "nbformat": 4,
 "nbformat_minor": 4
}
